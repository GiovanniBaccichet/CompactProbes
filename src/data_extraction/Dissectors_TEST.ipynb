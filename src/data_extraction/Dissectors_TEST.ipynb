{
 "cells": [
  {
   "cell_type": "code",
   "execution_count": 63,
   "metadata": {},
   "outputs": [],
   "source": [
    "from scapy.all import rdpcap\n",
    "from scapy.layers.dot11 import Dot11Elt"
   ]
  },
  {
   "cell_type": "code",
   "execution_count": 64,
   "metadata": {},
   "outputs": [],
   "source": [
    "capture = rdpcap(\"../../data/raw/TEST/OppoFindX3Neo_A.pcap\")"
   ]
  },
  {
   "cell_type": "code",
   "execution_count": 65,
   "metadata": {},
   "outputs": [],
   "source": [
    "EXTENDED_CAP = {\n",
    "    0: \"20_40_BSS_Coexistence_Management_Support\",\n",
    "    1: \"Reserved_1\",\n",
    "    2: \"Extended_Channel_Switching\",\n",
    "    3: \"Reserved_2\",\n",
    "    4: \"PSMP_Capability\",\n",
    "    5: \"Reserved_3\",\n",
    "    6: \"SPSMP_Support\",\n",
    "    7: \"Event\",\n",
    "    8: \"Diagnostics\",\n",
    "    9: \"Multicast_Diagnostic\",\n",
    "    10: \"Location_Tracking\",\n",
    "    11: \"FMS\",\n",
    "    12: \"Proxy_Arp_Service\",\n",
    "    13: \"Collocated_Interference_Reporting\",\n",
    "    14: \"Civic_Location\",\n",
    "    15: \"Geospatial_Location\",\n",
    "    16: \"TFS\",\n",
    "    17: \"WNM_Sleep_Mode\",\n",
    "    18: \"TIM_Broadcast\",\n",
    "    19: \"BSS_Transition\",\n",
    "    20: \"QoS_Traffic_Capability\",\n",
    "    21: \"AC_Station_Count\",\n",
    "    22: \"Multiple_BSSID\",\n",
    "    23: \"Timing_Measurement\",\n",
    "    24: \"Channel_Usage\",\n",
    "    25: \"SSID_List\",\n",
    "    26: \"DMS\",\n",
    "    27: \"UTC_Timing\",\n",
    "    28: \"TPU_Buffer_STA_Support\",\n",
    "    29: \"TDLS_Peer_PSM\",\n",
    "    30: \"TDLS_Channel_Switching\",\n",
    "    31: \"Interworking\",\n",
    "    32: \"QoS_Map\",\n",
    "    33: \"EBR\",\n",
    "    34: \"SSPN_Interface\",\n",
    "    35: \"Reserved_4\",\n",
    "    36: \"MSGCF_Capability\",\n",
    "    37: \"TDLS_Support\",\n",
    "    38: \"TDLS_Prohibited\",\n",
    "    39: \"TDLS_Channel_Switching_Prohibited\",\n",
    "    40: \"Reject_Unadmitted_Frame\",\n",
    "    41: \"Service_Interval_Granularity\",\n",
    "    42: \"Service_Interval_Granularity\",\n",
    "    43: \"Service_Interval_Granularity\",\n",
    "    44: \"Identifier_Location\",\n",
    "    45: \"U_APSD_Coexistence\",\n",
    "    46: \"WNM_Notification\",\n",
    "    47: \"QAB_Capability\",\n",
    "    48: \"UTF_8_SSID\",\n",
    "    49: \"QMF_Activated\",\n",
    "    50: \"QMF_ReconfigurationActivated\",\n",
    "    51: \"Robust_AV_Streaming\",\n",
    "    52: \"Advanced_GCR\",\n",
    "    53: \"Mesh_GCR\",\n",
    "    54: \"SCS\",\n",
    "    55: \"QLoad_Report\",\n",
    "    56: \"Alternate_EDCA\",\n",
    "    57: \"Unprotected_TXOP\",\n",
    "    58: \"Protected_RXOP\",\n",
    "    59: \"Reserved_5\",\n",
    "    60: \"Protected_QLoad_Report\",\n",
    "    61: \"TDLS_Wide_Bandwidth\",\n",
    "    62: \"Operating_Mode_Notification\",\n",
    "    63: \"Max_Number_Of_MSDUs_In_A_MPDU\",\n",
    "    64: \"Max_Number_Of_MSDUs_In_A_MPDU\",\n",
    "    65: \"Channel_Schedule_Management\",\n",
    "    66: \"Geodatabase_Inband_Enabling_Signal\",\n",
    "    67: \"Network_Channel_Control\",\n",
    "    68: \"White_Space_Map\",\n",
    "    69: \"Channel_Availability_Query\",\n",
    "    70: \"FTM_Responder\",\n",
    "    71: \"FTM_Initiator\",\n",
    "    72: \"Reserved_6\",\n",
    "    73: \"ESM_Capability\",\n",
    "    74: \"Future_Channel_Guidance\",\n",
    "}"
   ]
  },
  {
   "cell_type": "code",
   "execution_count": 66,
   "metadata": {},
   "outputs": [
    {
     "data": {
      "text/plain": [
       "<RadioTap  version=0 pad=0 len=15 present=Flags+Rate+Channel+dBm_AntSignal Flags=FCS Rate=5.5 Mbps ChannelFrequency=2412 ChannelFlags=CCK+2GHz dBm_AntSignal=-50 dBm notdecoded='' |<Dot11FCS  subtype=Probe Request type=Management proto=0 FCfield= ID=0 addr1=ff:ff:ff:ff:ff:ff (RA=DA) addr2=22:e4:72:fb:91:70 (TA=SA) addr3=ff:ff:ff:ff:ff:ff (BSSID/STA) SC=32560 fcs=0x28ac8618 |<Dot11ProbeReq  |<Dot11Elt  ID=SSID len=0 info='' |<Dot11EltRates  ID=Supported Rates len=4 rates=[1.0 Mbps, 2.0 Mbps, 5.5 Mbps, 11.0 Mbps] |<Dot11EltRates  ID=Extended Supported Rates len=8 rates=[6.0 Mbps, 9.0 Mbps, 12.0 Mbps, 18.0 Mbps, 24.0 Mbps, 36.0 Mbps, 48.0 Mbps, 54.0 Mbps] |<Dot11EltDSSSet  ID=DSSS Set len=1 channel=1 |<Dot11EltHTCapabilities  ID=HT Capabilities len=26 L_SIG_TXOP_Protection=0 Forty_Mhz_Intolerant=0 PSMP=0 DSSS_CCK=0 Max_A_MSDU=3839 o Delayed_BlockAck=0 Rx_STBC=1 Tx_STBC=1 Short_GI_40Mhz=1 Short_GI_20Mhz=1 Green_Field=0 SM_Power_Save=disabled Supported_Channel_Width=20Mhz+40Mhz LDPC_Coding_Capability=1 res1=0 Min_MPDCU_Start_Spacing=4 Max_A_MPDU_Length_Exponent=3 res2=0 TX_Unequal_Modulation=0 TX_Max_Spatial_Streams=0 TX_RX_MCS_Set_Not_Equal=0 TX_MCS_Set_Defined=0 res3=0 RX_Highest_Supported_Data_Rate=0 res4=0 RX_MSC_Bitmask=65535 res5=0 RD_Responder=0 HTC_HT_Support=0 MCS_Feedback=0 res6=0 PCO_Transition_Time=0 PCO=0 res7=0 Channel_Estimation_Capability=0 CSI_max_n_Rows_Beamformer_Supported=0 Compressed_Steering_n_Beamformer_Antennas_Supported=2 Noncompressed_Steering_n_Beamformer_Antennas_Supported=0 CSI_n_Beamformer_Antennas_Supported=0 Minimal_Grouping=0 Explicit_Compressed_Beamforming_Feedback=0 Explicit_Noncompressed_Beamforming_Feedback=0 Explicit_Transmit_Beamforming_CSI_Feedback=0 Explicit_Compressed_Steering=0 Explicit_Noncompressed_Steering=0 Explicit_CSI_Transmit_Beamforming=0 Calibration=0 Implicit_Trasmit_Beamforming=0 Transmit_NDP=0 Receive_NDP=0 Transmit_Staggered_Sounding=0 Receive_Staggered_Sounding=0 Implicit_Transmit_Beamforming_Receiving=0 ASEL= |<Dot11Elt  ID=VHT Capabilities len=12 info='\\\\x92\\\\xf1\\\\x903\\\\xfa\\\\xffb\\x03\\\\xfa\\\\xffb\\x03' |<Dot11EltVendorSpecific  ID=Vendor Specific len=7 oui=00:50:f2 info='\\x08\\x00(\\x00' |<Dot11Elt  ID=Extendend Capabilities len=11 info='\\x00\\x00\\n\\\\x82\\x00@\\x00\\x00\\x00\\x01 ' |<Dot11Elt  ID=255 len=3 info='\\x02\\x00F' |<Dot11EltVendorSpecific  ID=Vendor Specific len=10 oui=50:6f:9a info='\\x16\\x03\\x01\\x01e\\x01\\x01' |<Dot11EltVendorSpecific  ID=Vendor Specific len=8 oui=8c:fd:f0 info='\\x01\\x01\\x02\\x01\\x00' |>>>>>>>>>>>>>>"
      ]
     },
     "execution_count": 66,
     "metadata": {},
     "output_type": "execute_result"
    }
   ],
   "source": [
    "capture[0]"
   ]
  },
  {
   "cell_type": "code",
   "execution_count": 67,
   "metadata": {},
   "outputs": [],
   "source": [
    "packet = capture[0].getlayer(Dot11Elt, ID=127).info.hex()"
   ]
  },
  {
   "cell_type": "code",
   "execution_count": 68,
   "metadata": {},
   "outputs": [
    {
     "data": {
      "text/plain": [
       "'00000a8200400000000120'"
      ]
     },
     "execution_count": 68,
     "metadata": {},
     "output_type": "execute_result"
    }
   ],
   "source": [
    "packet"
   ]
  },
  {
   "cell_type": "code",
   "execution_count": 69,
   "metadata": {},
   "outputs": [],
   "source": [
    "def hex_string_to_binary(hex_string):\n",
    "    # Initialize the resulting binary string\n",
    "    binary_string = \"\"\n",
    "\n",
    "    # Iterate every two characters in the hexadecimal string\n",
    "    for i in range(0, len(hex_string), 2):\n",
    "        # Extract the pair of characters\n",
    "        hex_pair = hex_string[i : i + 2]\n",
    "        # Convert the pair to a byte (decimal) in little endian format\n",
    "        byte = int(hex_pair, 16)\n",
    "        # Reverse the byte\n",
    "        byte = int(\"{:08b}\".format(byte)[::-1], 2)\n",
    "        # Convert the byte to a binary string of 8 bits and concatenate\n",
    "        binary_string += f\"{byte:08b}\"\n",
    "\n",
    "    return binary_string"
   ]
  },
  {
   "cell_type": "code",
   "execution_count": 70,
   "metadata": {},
   "outputs": [],
   "source": [
    "bin_packet = hex_string_to_binary(packet)"
   ]
  },
  {
   "cell_type": "code",
   "execution_count": 71,
   "metadata": {},
   "outputs": [
    {
     "data": {
      "text/plain": [
       "'0000000000000000010100000100000100000000000000100000000000000000000000001000000000000100'"
      ]
     },
     "execution_count": 71,
     "metadata": {},
     "output_type": "execute_result"
    }
   ],
   "source": [
    "bin_packet"
   ]
  },
  {
   "cell_type": "code",
   "execution_count": 72,
   "metadata": {},
   "outputs": [],
   "source": [
    "def extract_fields_from_binary(ie_dictionary, binary_string):\n",
    "    # Initialize a list to hold tuples of field names and their corresponding bits\n",
    "    extracted_fields = []\n",
    "\n",
    "    # Convert the binary string to a list for easier access by index, and reverse it\n",
    "    binary_list = list(binary_string)\n",
    "\n",
    "    # Initialize a set to keep track of fields already added\n",
    "    added_fields = set()\n",
    "\n",
    "    # Iterate through each bit index in the extended capabilities dictionary\n",
    "    for bit_index in range(len(binary_list)):\n",
    "        # Check if this bit index is in the dictionary (to handle binary strings longer than the dictionary)\n",
    "        if bit_index in ie_dictionary:\n",
    "            field_name = ie_dictionary[bit_index]\n",
    "            # If the field has not been added yet, proceed to extract its bits\n",
    "            if field_name not in added_fields:\n",
    "                # Find all bit indexes for this field\n",
    "                bit_indexes = [\n",
    "                    index for index, name in ie_dictionary.items() if name == field_name\n",
    "                ]\n",
    "                # Extract bits for the current field\n",
    "                field_bits = \"\".join(\n",
    "                    [\n",
    "                        binary_list[index] if index < len(binary_list) else \"0\"\n",
    "                        for index in bit_indexes\n",
    "                    ]\n",
    "                )\n",
    "                # Add the field and its bits to the list\n",
    "                extracted_fields.append((field_name, field_bits))\n",
    "                # Mark this field as added\n",
    "                added_fields.add(field_name)\n",
    "\n",
    "    return extracted_fields"
   ]
  },
  {
   "cell_type": "code",
   "execution_count": 73,
   "metadata": {},
   "outputs": [
    {
     "name": "stdout",
     "output_type": "stream",
     "text": [
      "20_40_BSS_Coexistence_Management_Support: 0\n",
      "Reserved_1: 0\n",
      "Extended_Channel_Switching: 0\n",
      "Reserved_2: 0\n",
      "PSMP_Capability: 0\n",
      "Reserved_3: 0\n",
      "SPSMP_Support: 0\n",
      "Event: 0\n",
      "Diagnostics: 0\n",
      "Multicast_Diagnostic: 0\n",
      "Location_Tracking: 0\n",
      "FMS: 0\n",
      "Proxy_Arp_Service: 0\n",
      "Collocated_Interference_Reporting: 0\n",
      "Civic_Location: 0\n",
      "Geospatial_Location: 0\n",
      "TFS: 0\n",
      "WNM_Sleep_Mode: 1\n",
      "TIM_Broadcast: 0\n",
      "BSS_Transition: 1\n",
      "QoS_Traffic_Capability: 0\n",
      "AC_Station_Count: 0\n",
      "Multiple_BSSID: 0\n",
      "Timing_Measurement: 0\n",
      "Channel_Usage: 0\n",
      "SSID_List: 1\n",
      "DMS: 0\n",
      "UTC_Timing: 0\n",
      "TPU_Buffer_STA_Support: 0\n",
      "TDLS_Peer_PSM: 0\n",
      "TDLS_Channel_Switching: 0\n",
      "Interworking: 1\n",
      "QoS_Map: 0\n",
      "EBR: 0\n",
      "SSPN_Interface: 0\n",
      "Reserved_4: 0\n",
      "MSGCF_Capability: 0\n",
      "TDLS_Support: 0\n",
      "TDLS_Prohibited: 0\n",
      "TDLS_Channel_Switching_Prohibited: 0\n",
      "Reject_Unadmitted_Frame: 0\n",
      "Service_Interval_Granularity: 000\n",
      "Identifier_Location: 0\n",
      "U_APSD_Coexistence: 0\n",
      "WNM_Notification: 1\n",
      "QAB_Capability: 0\n",
      "UTF_8_SSID: 0\n",
      "QMF_Activated: 0\n",
      "QMF_ReconfigurationActivated: 0\n",
      "Robust_AV_Streaming: 0\n",
      "Advanced_GCR: 0\n",
      "Mesh_GCR: 0\n",
      "SCS: 0\n",
      "QLoad_Report: 0\n",
      "Alternate_EDCA: 0\n",
      "Unprotected_TXOP: 0\n",
      "Protected_RXOP: 0\n",
      "Reserved_5: 0\n",
      "Protected_QLoad_Report: 0\n",
      "TDLS_Wide_Bandwidth: 0\n",
      "Operating_Mode_Notification: 0\n",
      "Max_Number_Of_MSDUs_In_A_MPDU: 00\n",
      "Channel_Schedule_Management: 0\n",
      "Geodatabase_Inband_Enabling_Signal: 0\n",
      "Network_Channel_Control: 0\n",
      "White_Space_Map: 0\n",
      "Channel_Availability_Query: 0\n",
      "FTM_Responder: 0\n",
      "FTM_Initiator: 0\n",
      "Reserved_6: 1\n",
      "ESM_Capability: 0\n",
      "Future_Channel_Guidance: 0\n"
     ]
    }
   ],
   "source": [
    "# Call the function and print the result\n",
    "extracted_fields = extract_fields_from_binary(EXTENDED_CAP, bin_packet)\n",
    "for field, bits in extracted_fields:\n",
    "    print(f\"{field}: {bits}\")"
   ]
  },
  {
   "cell_type": "code",
   "execution_count": 74,
   "metadata": {},
   "outputs": [],
   "source": [
    "vendor_packet = capture[0]"
   ]
  },
  {
   "cell_type": "code",
   "execution_count": 98,
   "metadata": {},
   "outputs": [
    {
     "name": "stdout",
     "output_type": "stream",
     "text": [
      "<class 'scapy.layers.dot11.RadioTap'>\n",
      "<class 'scapy.layers.dot11.Dot11FCS'>\n",
      "<class 'scapy.layers.dot11.Dot11ProbeReq'>\n",
      "<class 'scapy.layers.dot11.Dot11Elt'>\n",
      "<class 'scapy.layers.dot11.Dot11EltRates'>\n",
      "<class 'scapy.layers.dot11.Dot11EltRates'>\n",
      "<class 'scapy.layers.dot11.Dot11EltDSSSet'>\n",
      "<class 'scapy.layers.dot11.Dot11EltHTCapabilities'>\n",
      "<class 'scapy.layers.dot11.Dot11Elt'>\n",
      "<class 'scapy.layers.dot11.Dot11EltVendorSpecific'>\n",
      "check\n"
     ]
    },
    {
     "ename": "AttributeError",
     "evalue": "'OUIField' object has no attribute 'hex'",
     "output_type": "error",
     "traceback": [
      "\u001b[0;31m---------------------------------------------------------------------------\u001b[0m",
      "\u001b[0;31mAttributeError\u001b[0m                            Traceback (most recent call last)",
      "Cell \u001b[0;32mIn[98], line 21\u001b[0m\n\u001b[1;32m     17\u001b[0m     \u001b[38;5;28;01mreturn\u001b[39;00m vendor_specific_elements\n\u001b[1;32m     19\u001b[0m \u001b[38;5;66;03m# Example usage:\u001b[39;00m\n\u001b[1;32m     20\u001b[0m \u001b[38;5;66;03m# Assuming 'packet' is your packet captured using Scapy\u001b[39;00m\n\u001b[0;32m---> 21\u001b[0m vendor_specific_elements \u001b[38;5;241m=\u001b[39m \u001b[43mextract_vendor_specific_elements\u001b[49m\u001b[43m(\u001b[49m\u001b[43mvendor_packet\u001b[49m\u001b[43m)\u001b[49m\n",
      "Cell \u001b[0;32mIn[98], line 15\u001b[0m, in \u001b[0;36mextract_vendor_specific_elements\u001b[0;34m(packet)\u001b[0m\n\u001b[1;32m     13\u001b[0m         \u001b[38;5;28mprint\u001b[39m(\u001b[38;5;124m'\u001b[39m\u001b[38;5;124mcheck\u001b[39m\u001b[38;5;124m'\u001b[39m)\n\u001b[1;32m     14\u001b[0m         \u001b[38;5;66;03m# Add the element to the list\u001b[39;00m\n\u001b[0;32m---> 15\u001b[0m         vendor_specific_elements\u001b[38;5;241m.\u001b[39mappend(\u001b[43mlayer\u001b[49m\u001b[38;5;241;43m.\u001b[39;49m\u001b[43moui\u001b[49m\u001b[38;5;241;43m.\u001b[39;49m\u001b[43mhex\u001b[49m())\n\u001b[1;32m     17\u001b[0m \u001b[38;5;28;01mreturn\u001b[39;00m vendor_specific_elements\n",
      "\u001b[0;31mAttributeError\u001b[0m: 'OUIField' object has no attribute 'hex'"
     ]
    }
   ],
   "source": [
    "from scapy.all import *\n",
    "from scapy.layers.dot11 import Dot11EltVendorSpecific\n",
    "\n",
    "\n",
    "def extract_vendor_specific_elements(packet):\n",
    "    # List to store all Dot11EltVendorSpecific elements\n",
    "    vendor_specific_elements = []\n",
    "\n",
    "    # Iterate through the layers of the packet\n",
    "    for layer in packet.layers():\n",
    "        print(layer)\n",
    "        # Check if the layer is Dot11EltVendorSpecific\n",
    "        if str(layer) == \"<class 'scapy.layers.dot11.Dot11EltVendorSpecific'>\":\n",
    "            print(\"check\")\n",
    "            # Add the element to the list\n",
    "            vendor_specific_elements.append(layer.oui)\n",
    "\n",
    "    return vendor_specific_elements\n",
    "\n",
    "\n",
    "# Example usage:\n",
    "# Assuming 'packet' is your packet captured using Scapy\n",
    "vendor_specific_elements = extract_vendor_specific_elements(vendor_packet)"
   ]
  },
  {
   "cell_type": "code",
   "execution_count": 97,
   "metadata": {},
   "outputs": [
    {
     "name": "stdout",
     "output_type": "stream",
     "text": [
      "[<OUIField (Dot11EltVendorSpecific,Dot11EltMicrosoftWPA).oui>, <OUIField (Dot11EltVendorSpecific,Dot11EltMicrosoftWPA).oui>, <OUIField (Dot11EltVendorSpecific,Dot11EltMicrosoftWPA).oui>]\n"
     ]
    }
   ],
   "source": [
    "print(vendor_specific_elements)"
   ]
  },
  {
   "cell_type": "code",
   "execution_count": null,
   "metadata": {},
   "outputs": [],
   "source": [
    "from scapy.all import *\n",
    "from scapy.layers.dot11 import Dot11EltVendorSpecific\n",
    "\n",
    "\n",
    "def extract_vendor_specific_elements(packet):\n",
    "    # List to store all Dot11EltVendorSpecific elements\n",
    "    vendor_specific_elements = []\n",
    "\n",
    "    # Iterate through the layers of the packet\n",
    "    for layer in packet.layers():\n",
    "        # Check if the layer is Dot11EltVendorSpecific\n",
    "        if isinstance(layer, Dot11EltVendorSpecific):\n",
    "            # Add the element to the list\n",
    "            vendor_specific_elements.append(layer)\n",
    "\n",
    "    return vendor_specific_elements"
   ]
  }
 ],
 "metadata": {
  "kernelspec": {
   "display_name": ".venv",
   "language": "python",
   "name": "python3"
  },
  "language_info": {
   "codemirror_mode": {
    "name": "ipython",
    "version": 3
   },
   "file_extension": ".py",
   "mimetype": "text/x-python",
   "name": "python",
   "nbconvert_exporter": "python",
   "pygments_lexer": "ipython3",
   "version": "3.11.7"
  }
 },
 "nbformat": 4,
 "nbformat_minor": 2
}
