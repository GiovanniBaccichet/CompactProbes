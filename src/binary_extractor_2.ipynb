{
 "cells": [
  {
   "cell_type": "code",
   "execution_count": 1,
   "metadata": {},
   "outputs": [
    {
     "data": {
      "text/plain": [
       "<bound method InteractiveShell.excepthook of <ipykernel.zmqshell.ZMQInteractiveShell object at 0x7a5ec3f6e910>>"
      ]
     },
     "execution_count": 1,
     "metadata": {},
     "output_type": "execute_result"
    }
   ],
   "source": [
    "from rich.progress import Progress\n",
    "from rich import traceback\n",
    "\n",
    "traceback.install()"
   ]
  },
  {
   "cell_type": "code",
   "execution_count": 2,
   "metadata": {},
   "outputs": [],
   "source": [
    "from scapy.all import *"
   ]
  },
  {
   "cell_type": "code",
   "execution_count": 3,
   "metadata": {},
   "outputs": [],
   "source": [
    "from bitstring import BitArray"
   ]
  },
  {
   "cell_type": "code",
   "execution_count": 4,
   "metadata": {},
   "outputs": [],
   "source": [
    "pcap_file = \"../data/raw/Baccichet/OppoFindX3Neo_A.pcap\"\n",
    "# pcap_file = \"../data/raw/Baccichet/iPhone11_B.pcap\""
   ]
  },
  {
   "cell_type": "code",
   "execution_count": 5,
   "metadata": {},
   "outputs": [],
   "source": [
    "# Load pcap file\n",
    "packets = rdpcap(pcap_file)"
   ]
  },
  {
   "cell_type": "code",
   "execution_count": 6,
   "metadata": {},
   "outputs": [],
   "source": [
    "packet = packets[2]"
   ]
  },
  {
   "cell_type": "code",
   "execution_count": 7,
   "metadata": {},
   "outputs": [
    {
     "data": {
      "text/plain": [
       "<RadioTap  version=0 pad=0 len=15 present=Flags+Rate+Channel+dBm_AntSignal Flags=FCS Rate=5.5 Mbps ChannelFrequency=2412 ChannelFlags=CCK+2GHz dBm_AntSignal=-50 dBm notdecoded='' |<Dot11FCS  subtype=Probe Request type=Management proto=0 FCfield= ID=0 addr1=ff:ff:ff:ff:ff:ff (RA=DA) addr2=22:e4:72:fb:91:70 (TA=SA) addr3=ff:ff:ff:ff:ff:ff (BSSID/STA) SC=32592 fcs=0xa16bf2bd |<Dot11ProbeReq  |<Dot11Elt  ID=SSID len=12 info='Anto_HotSpot' |<Dot11EltRates  ID=Supported Rates len=4 rates=[1.0 Mbps, 2.0 Mbps, 5.5 Mbps, 11.0 Mbps] |<Dot11EltRates  ID=Extended Supported Rates len=8 rates=[6.0 Mbps, 9.0 Mbps, 12.0 Mbps, 18.0 Mbps, 24.0 Mbps, 36.0 Mbps, 48.0 Mbps, 54.0 Mbps] |<Dot11EltDSSSet  ID=DSSS Set len=1 channel=1 |<Dot11EltHTCapabilities  ID=HT Capabilities len=26 L_SIG_TXOP_Protection=0 Forty_Mhz_Intolerant=0 PSMP=0 DSSS_CCK=0 Max_A_MSDU=3839 o Delayed_BlockAck=0 Rx_STBC=1 Tx_STBC=1 Short_GI_40Mhz=1 Short_GI_20Mhz=1 Green_Field=0 SM_Power_Save=disabled Supported_Channel_Width=20Mhz+40Mhz LDPC_Coding_Capability=1 res1=0 Min_MPDCU_Start_Spacing=4 Max_A_MPDU_Length_Exponent=3 res2=0 TX_Unequal_Modulation=0 TX_Max_Spatial_Streams=0 TX_RX_MCS_Set_Not_Equal=0 TX_MCS_Set_Defined=0 res3=0 RX_Highest_Supported_Data_Rate=0 res4=0 RX_MSC_Bitmask=65535 res5=0 RD_Responder=0 HTC_HT_Support=0 MCS_Feedback=0 res6=0 PCO_Transition_Time=0 PCO=0 res7=0 Channel_Estimation_Capability=0 CSI_max_n_Rows_Beamformer_Supported=0 Compressed_Steering_n_Beamformer_Antennas_Supported=2 Noncompressed_Steering_n_Beamformer_Antennas_Supported=0 CSI_n_Beamformer_Antennas_Supported=0 Minimal_Grouping=0 Explicit_Compressed_Beamforming_Feedback=0 Explicit_Noncompressed_Beamforming_Feedback=0 Explicit_Transmit_Beamforming_CSI_Feedback=0 Explicit_Compressed_Steering=0 Explicit_Noncompressed_Steering=0 Explicit_CSI_Transmit_Beamforming=0 Calibration=0 Implicit_Trasmit_Beamforming=0 Transmit_NDP=0 Receive_NDP=0 Transmit_Staggered_Sounding=0 Receive_Staggered_Sounding=0 Implicit_Transmit_Beamforming_Receiving=0 ASEL= |<Dot11Elt  ID=VHT Capabilities len=12 info='\\\\x92\\\\xf1\\\\x903\\\\xfa\\\\xffb\\x03\\\\xfa\\\\xffb\\x03' |<Dot11EltVendorSpecific  ID=Vendor Specific len=7 oui=Microsoft Corp. (00:50:f2) info='\\x08\\x00(\\x00' |<Dot11Elt  ID=Extendend Capabilities len=11 info='\\x00\\x00\\n\\\\x82\\x00@\\x00\\x00\\x00\\x01 ' |<Dot11Elt  ID=255 len=3 info='\\x02\\x00E' |<Dot11EltVendorSpecific  ID=Vendor Specific len=10 oui=Wi-Fi Alliance (50:6f:9a) info='\\x16\\x03\\x01\\x01e\\x01\\x01' |<Dot11EltVendorSpecific  ID=Vendor Specific len=8 oui=Qualcomm Inc. (8c:fd:f0) info='\\x01\\x01\\x02\\x01\\x00' |>>>>>>>>>>>>>>"
      ]
     },
     "execution_count": 7,
     "metadata": {},
     "output_type": "execute_result"
    }
   ],
   "source": [
    "packet"
   ]
  },
  {
   "cell_type": "code",
   "execution_count": 8,
   "metadata": {},
   "outputs": [],
   "source": [
    "def getMACLayerBits(packet: scapy.layers.dot11.RadioTap) -> BitArray:\n",
    "    headerLength = packet.getlayer(RadioTap).len\n",
    "    headerBits = headerLength * 8\n",
    "\n",
    "    # bit_string = BitArray(bytes=packet_bytes)\n",
    "\n",
    "    # Convert the packet to bytes\n",
    "    packet_bytes = bytes(packet)\n",
    "\n",
    "    # Convert bytes to binary string\n",
    "    binary_string = \"\".join(format(byte, \"08b\") for byte in packet_bytes)\n",
    "\n",
    "    return binary_string[headerBits:]"
   ]
  },
  {
   "cell_type": "code",
   "execution_count": 9,
   "metadata": {},
   "outputs": [
    {
     "name": "stdout",
     "output_type": "stream",
     "text": [
      "0100000000000000000000000000000011111111111111111111111111111111111111111111111100100010111001000111001011111011100100010111000011111111111111111111111111111111111111111111111101010000011111110000000000001100010000010110111001110100011011110101111101001000011011110111010001010011011100000110111101110100000000010000010000000010000001000000101100010110001100100000100000001100000100100001100000100100001100000100100001100000011011000000001100000001000000010010110100011010111011110000000100010011111111111111111100000000000000000000000000000000000000000000000000000000000000000000000000000000000000000000000000000000000000000000000000000000000000000000000000000000000000010000000010111111000011001001001011110001100100000011001111111010111111110110001000000011111110101111111101100010000000111101110100000111000000000101000011110010000010000000000000101000000000000111111100001011000000000000000000001010100000100000000001000000000000000000000000000000000000010010000011111111000000110000001000000000010001011101110100001010010100000110111110011010000101100000001100000001000000010110010100000001000000011101110100001000100011001111110111110000000000010000000100000010000000010000000010111101111100100110101110100001\n"
     ]
    }
   ],
   "source": [
    "packet_bits = getMACLayerBits(packet)\n",
    "print(packet_bits)"
   ]
  },
  {
   "cell_type": "code",
   "execution_count": 10,
   "metadata": {},
   "outputs": [],
   "source": [
    "packet_IE = packet_bits[192:]"
   ]
  },
  {
   "cell_type": "code",
   "execution_count": 11,
   "metadata": {},
   "outputs": [],
   "source": [
    "def readElementID(packet: str) -> str:\n",
    "    return int(packet[0:8], 2)\n",
    "\n",
    "\n",
    "def readBinElementID(packet: str) -> str:\n",
    "    elementID = packet[0:8]\n",
    "    return elementID\n",
    "\n",
    "\n",
    "def readBinLength(packet: str) -> str:\n",
    "    length = packet[8:16]\n",
    "    return length\n",
    "\n",
    "\n",
    "def convertBinLength(packet: str) -> int:\n",
    "    bitLength = int(packet[8:16], 2) * 8\n",
    "    return int(bitLength)\n",
    "\n",
    "\n",
    "def readBinField(packet: str) -> str:\n",
    "    field = packet[16 : 16 + convertBinLength(packet)]\n",
    "    return field"
   ]
  },
  {
   "cell_type": "code",
   "execution_count": 12,
   "metadata": {},
   "outputs": [],
   "source": [
    "ELEMENT_IDs = {\n",
    "    0: \"ssid\",\n",
    "    1: \"supported rates\",\n",
    "    3: \"dsss parameters\",\n",
    "    45: \"ht capabilities\",\n",
    "    50: \"extended supported rates\",\n",
    "    127: \"extended capabilities\",\n",
    "    189: \"cgr group address\",\n",
    "    191: \"vht capabilities\",\n",
    "    221: \"vendor specific tags\",\n",
    "    255: \"extended tags\",\n",
    "}"
   ]
  },
  {
   "cell_type": "code",
   "execution_count": 13,
   "metadata": {},
   "outputs": [
    {
     "data": {
      "text/plain": [
       "[('ssid',\n",
       "  96,\n",
       "  '00000000',\n",
       "  '00001100',\n",
       "  '010000010110111001110100011011110101111101001000011011110111010001010011011100000110111101110100'),\n",
       " ('supported rates',\n",
       "  32,\n",
       "  '00000001',\n",
       "  '00000100',\n",
       "  '00000010000001000000101100010110'),\n",
       " ('extended supported rates',\n",
       "  64,\n",
       "  '00110010',\n",
       "  '00001000',\n",
       "  '0000110000010010000110000010010000110000010010000110000001101100'),\n",
       " ('dsss parameters', 8, '00000011', '00000001', '00000001'),\n",
       " ('ht capabilities',\n",
       "  208,\n",
       "  '00101101',\n",
       "  '00011010',\n",
       "  '1110111100000001000100111111111111111111000000000000000000000000000000000000000000000000000000000000000000000000000000000000000000000000000000000000000000000000000000000000000000000000000000000000000100000000'),\n",
       " ('vht capabilities',\n",
       "  96,\n",
       "  '10111111',\n",
       "  '00001100',\n",
       "  '100100101111000110010000001100111111101011111111011000100000001111111010111111110110001000000011'),\n",
       " ('vendor specific tags',\n",
       "  56,\n",
       "  '11011101',\n",
       "  '00000111',\n",
       "  '00000000010100001111001000001000000000000010100000000000'),\n",
       " ('extended capabilities',\n",
       "  88,\n",
       "  '01111111',\n",
       "  '00001011',\n",
       "  '0000000000000000000010101000001000000000010000000000000000000000000000000000000100100000'),\n",
       " ('extended tags', 24, '11111111', '00000011', '000000100000000001000101'),\n",
       " ('vendor specific tags',\n",
       "  80,\n",
       "  '11011101',\n",
       "  '00001010',\n",
       "  '01010000011011111001101000010110000000110000000100000001011001010000000100000001'),\n",
       " ('vendor specific tags',\n",
       "  64,\n",
       "  '11011101',\n",
       "  '00001000',\n",
       "  '1000110011111101111100000000000100000001000000100000000100000000')]"
      ]
     },
     "execution_count": 13,
     "metadata": {},
     "output_type": "execute_result"
    }
   ],
   "source": [
    "index = 0\n",
    "packetLength = len(packet_IE)\n",
    "elements = []\n",
    "\n",
    "while index < packetLength - 32:\n",
    "    packet_slice = packet_IE[index:]\n",
    "    elementID = readBinElementID(packet_slice)\n",
    "    convertedID = readElementID(packet_slice)\n",
    "    length = readBinLength(packet_slice)\n",
    "    field = readBinField(packet_slice)\n",
    "\n",
    "    elements.append(\n",
    "        (\n",
    "            ELEMENT_IDs[convertedID],\n",
    "            convertBinLength(packet_slice),\n",
    "            elementID,\n",
    "            length,\n",
    "            field,\n",
    "        )\n",
    "    )\n",
    "\n",
    "    index += 16 + convertBinLength(packet_slice)\n",
    "\n",
    "frame_check_seq = packet_IE[-32:]\n",
    "\n",
    "\n",
    "elements"
   ]
  },
  {
   "cell_type": "code",
   "execution_count": 14,
   "metadata": {},
   "outputs": [
    {
     "data": {
      "text/plain": [
       "'supported rates'"
      ]
     },
     "execution_count": 14,
     "metadata": {},
     "output_type": "execute_result"
    }
   ],
   "source": [
    "elements[1][0]"
   ]
  },
  {
   "cell_type": "code",
   "execution_count": null,
   "metadata": {},
   "outputs": [],
   "source": []
  }
 ],
 "metadata": {
  "kernelspec": {
   "display_name": ".venv",
   "language": "python",
   "name": "python3"
  },
  "language_info": {
   "codemirror_mode": {
    "name": "ipython",
    "version": 3
   },
   "file_extension": ".py",
   "mimetype": "text/x-python",
   "name": "python",
   "nbconvert_exporter": "python",
   "pygments_lexer": "ipython3",
   "version": "3.11.6"
  }
 },
 "nbformat": 4,
 "nbformat_minor": 2
}
