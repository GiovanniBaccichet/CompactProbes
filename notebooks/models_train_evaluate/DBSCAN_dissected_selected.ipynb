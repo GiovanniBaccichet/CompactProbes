{
 "cells": [
  {
   "cell_type": "markdown",
   "metadata": {},
   "source": [
    "# *Notebook Name*"
   ]
  },
  {
   "cell_type": "markdown",
   "metadata": {},
   "source": [
    "## Libraries and Configurations"
   ]
  },
  {
   "cell_type": "markdown",
   "metadata": {},
   "source": [
    "Import configuration files"
   ]
  },
  {
   "cell_type": "code",
   "execution_count": 2,
   "metadata": {},
   "outputs": [
    {
     "data": {
      "text/plain": [
       "['../config.ini']"
      ]
     },
     "execution_count": 2,
     "metadata": {},
     "output_type": "execute_result"
    }
   ],
   "source": [
    "from configparser import ConfigParser\n",
    "\n",
    "config = ConfigParser()\n",
    "config.read(\"../config.ini\")"
   ]
  },
  {
   "cell_type": "markdown",
   "metadata": {},
   "source": [
    "Import **data libraries**"
   ]
  },
  {
   "cell_type": "code",
   "execution_count": 3,
   "metadata": {},
   "outputs": [],
   "source": [
    "import pandas as pd"
   ]
  },
  {
   "cell_type": "markdown",
   "metadata": {},
   "source": [
    "Import **other libraries**"
   ]
  },
  {
   "cell_type": "code",
   "execution_count": 4,
   "metadata": {},
   "outputs": [
    {
     "data": {
      "text/plain": [
       "<bound method InteractiveShell.excepthook of <ipykernel.zmqshell.ZMQInteractiveShell object at 0x71f53e90fa90>>"
      ]
     },
     "execution_count": 4,
     "metadata": {},
     "output_type": "execute_result"
    }
   ],
   "source": [
    "from rich.progress import Progress\n",
    "from rich import traceback\n",
    "\n",
    "traceback.install()"
   ]
  },
  {
   "cell_type": "markdown",
   "metadata": {},
   "source": [
    "Custom helper scripts"
   ]
  },
  {
   "cell_type": "code",
   "execution_count": 5,
   "metadata": {},
   "outputs": [
    {
     "name": "stdout",
     "output_type": "stream",
     "text": [
      "/home/bacci/COMPACT/notebooks\n",
      "/home/bacci/COMPACT/notebooks/data_exploration_cleaning\n"
     ]
    }
   ],
   "source": [
    "%cd ..\n",
    "from scripts import plotHelper, encodingHelper\n",
    "%cd data_exploration_cleaning"
   ]
  },
  {
   "cell_type": "markdown",
   "metadata": {},
   "source": [
    "## Import Data"
   ]
  },
  {
   "cell_type": "code",
   "execution_count": 6,
   "metadata": {},
   "outputs": [],
   "source": [
    "# Combined dataframe\n",
    "selected_dissected_csv = (\n",
    "    config[\"DEFAULT\"][\"interim_path\"] + \"dissected/selected_dissected_df.csv\"\n",
    ")"
   ]
  },
  {
   "cell_type": "code",
   "execution_count": 7,
   "metadata": {},
   "outputs": [],
   "source": [
    "selected_df = pd.read_csv(selected_dissected_csv, index_col=0)"
   ]
  },
  {
   "cell_type": "code",
   "execution_count": 8,
   "metadata": {},
   "outputs": [
    {
     "data": {
      "text/html": [
       "<div>\n",
       "<style scoped>\n",
       "    .dataframe tbody tr th:only-of-type {\n",
       "        vertical-align: middle;\n",
       "    }\n",
       "\n",
       "    .dataframe tbody tr th {\n",
       "        vertical-align: top;\n",
       "    }\n",
       "\n",
       "    .dataframe thead th {\n",
       "        text-align: right;\n",
       "    }\n",
       "</style>\n",
       "<table border=\"1\" class=\"dataframe\">\n",
       "  <thead>\n",
       "    <tr style=\"text-align: right;\">\n",
       "      <th></th>\n",
       "      <th>Vendor Specific Tags</th>\n",
       "      <th>Length</th>\n",
       "      <th>DSSS_CCK</th>\n",
       "      <th>SM_Power_Save</th>\n",
       "      <th>Min_MPDCU_Start_Spacing</th>\n",
       "      <th>RX_Highest_Supported_Data_Rate</th>\n",
       "      <th>RX_MSC_Bitmask</th>\n",
       "      <th>Extended_Channel_Switching</th>\n",
       "      <th>WNM_Sleep_Mode</th>\n",
       "      <th>Interworking</th>\n",
       "      <th>QoS_Map</th>\n",
       "      <th>WNM_Notification</th>\n",
       "      <th>Operating_Mode_Notification</th>\n",
       "      <th>Label</th>\n",
       "    </tr>\n",
       "  </thead>\n",
       "  <tbody>\n",
       "    <tr>\n",
       "      <th>0</th>\n",
       "      <td>62</td>\n",
       "      <td>111</td>\n",
       "      <td>0.0</td>\n",
       "      <td>3.0</td>\n",
       "      <td>5.0</td>\n",
       "      <td>0.0</td>\n",
       "      <td>255.0</td>\n",
       "      <td>0.0</td>\n",
       "      <td>0.0</td>\n",
       "      <td>1.0</td>\n",
       "      <td>0.0</td>\n",
       "      <td>0.0</td>\n",
       "      <td>1.0</td>\n",
       "      <td>iPhone7_F</td>\n",
       "    </tr>\n",
       "    <tr>\n",
       "      <th>1</th>\n",
       "      <td>62</td>\n",
       "      <td>111</td>\n",
       "      <td>0.0</td>\n",
       "      <td>3.0</td>\n",
       "      <td>5.0</td>\n",
       "      <td>0.0</td>\n",
       "      <td>255.0</td>\n",
       "      <td>0.0</td>\n",
       "      <td>0.0</td>\n",
       "      <td>1.0</td>\n",
       "      <td>0.0</td>\n",
       "      <td>0.0</td>\n",
       "      <td>1.0</td>\n",
       "      <td>iPhone7_F</td>\n",
       "    </tr>\n",
       "    <tr>\n",
       "      <th>2</th>\n",
       "      <td>62</td>\n",
       "      <td>111</td>\n",
       "      <td>0.0</td>\n",
       "      <td>3.0</td>\n",
       "      <td>5.0</td>\n",
       "      <td>0.0</td>\n",
       "      <td>255.0</td>\n",
       "      <td>0.0</td>\n",
       "      <td>0.0</td>\n",
       "      <td>1.0</td>\n",
       "      <td>0.0</td>\n",
       "      <td>0.0</td>\n",
       "      <td>1.0</td>\n",
       "      <td>iPhone7_F</td>\n",
       "    </tr>\n",
       "    <tr>\n",
       "      <th>3</th>\n",
       "      <td>62</td>\n",
       "      <td>111</td>\n",
       "      <td>0.0</td>\n",
       "      <td>3.0</td>\n",
       "      <td>5.0</td>\n",
       "      <td>0.0</td>\n",
       "      <td>255.0</td>\n",
       "      <td>0.0</td>\n",
       "      <td>0.0</td>\n",
       "      <td>1.0</td>\n",
       "      <td>0.0</td>\n",
       "      <td>0.0</td>\n",
       "      <td>1.0</td>\n",
       "      <td>iPhone7_F</td>\n",
       "    </tr>\n",
       "    <tr>\n",
       "      <th>4</th>\n",
       "      <td>62</td>\n",
       "      <td>111</td>\n",
       "      <td>0.0</td>\n",
       "      <td>3.0</td>\n",
       "      <td>5.0</td>\n",
       "      <td>0.0</td>\n",
       "      <td>255.0</td>\n",
       "      <td>0.0</td>\n",
       "      <td>0.0</td>\n",
       "      <td>1.0</td>\n",
       "      <td>0.0</td>\n",
       "      <td>0.0</td>\n",
       "      <td>1.0</td>\n",
       "      <td>iPhone7_F</td>\n",
       "    </tr>\n",
       "    <tr>\n",
       "      <th>...</th>\n",
       "      <td>...</td>\n",
       "      <td>...</td>\n",
       "      <td>...</td>\n",
       "      <td>...</td>\n",
       "      <td>...</td>\n",
       "      <td>...</td>\n",
       "      <td>...</td>\n",
       "      <td>...</td>\n",
       "      <td>...</td>\n",
       "      <td>...</td>\n",
       "      <td>...</td>\n",
       "      <td>...</td>\n",
       "      <td>...</td>\n",
       "      <td>...</td>\n",
       "    </tr>\n",
       "    <tr>\n",
       "      <th>13939</th>\n",
       "      <td>25</td>\n",
       "      <td>182</td>\n",
       "      <td>0.0</td>\n",
       "      <td>3.0</td>\n",
       "      <td>4.0</td>\n",
       "      <td>0.0</td>\n",
       "      <td>255.0</td>\n",
       "      <td>1.0</td>\n",
       "      <td>1.0</td>\n",
       "      <td>0.0</td>\n",
       "      <td>0.0</td>\n",
       "      <td>1.0</td>\n",
       "      <td>1.0</td>\n",
       "      <td>XiaomiRedmiNote7_S</td>\n",
       "    </tr>\n",
       "    <tr>\n",
       "      <th>13940</th>\n",
       "      <td>25</td>\n",
       "      <td>182</td>\n",
       "      <td>0.0</td>\n",
       "      <td>3.0</td>\n",
       "      <td>4.0</td>\n",
       "      <td>0.0</td>\n",
       "      <td>255.0</td>\n",
       "      <td>1.0</td>\n",
       "      <td>1.0</td>\n",
       "      <td>0.0</td>\n",
       "      <td>0.0</td>\n",
       "      <td>1.0</td>\n",
       "      <td>1.0</td>\n",
       "      <td>XiaomiRedmiNote7_S</td>\n",
       "    </tr>\n",
       "    <tr>\n",
       "      <th>13941</th>\n",
       "      <td>25</td>\n",
       "      <td>143</td>\n",
       "      <td>0.0</td>\n",
       "      <td>3.0</td>\n",
       "      <td>4.0</td>\n",
       "      <td>0.0</td>\n",
       "      <td>255.0</td>\n",
       "      <td>1.0</td>\n",
       "      <td>1.0</td>\n",
       "      <td>0.0</td>\n",
       "      <td>0.0</td>\n",
       "      <td>1.0</td>\n",
       "      <td>1.0</td>\n",
       "      <td>XiaomiRedmiNote7_S</td>\n",
       "    </tr>\n",
       "    <tr>\n",
       "      <th>13942</th>\n",
       "      <td>25</td>\n",
       "      <td>182</td>\n",
       "      <td>0.0</td>\n",
       "      <td>3.0</td>\n",
       "      <td>4.0</td>\n",
       "      <td>0.0</td>\n",
       "      <td>255.0</td>\n",
       "      <td>1.0</td>\n",
       "      <td>1.0</td>\n",
       "      <td>0.0</td>\n",
       "      <td>0.0</td>\n",
       "      <td>1.0</td>\n",
       "      <td>1.0</td>\n",
       "      <td>XiaomiRedmiNote7_S</td>\n",
       "    </tr>\n",
       "    <tr>\n",
       "      <th>13943</th>\n",
       "      <td>25</td>\n",
       "      <td>182</td>\n",
       "      <td>0.0</td>\n",
       "      <td>3.0</td>\n",
       "      <td>4.0</td>\n",
       "      <td>0.0</td>\n",
       "      <td>255.0</td>\n",
       "      <td>1.0</td>\n",
       "      <td>1.0</td>\n",
       "      <td>0.0</td>\n",
       "      <td>0.0</td>\n",
       "      <td>1.0</td>\n",
       "      <td>1.0</td>\n",
       "      <td>XiaomiRedmiNote7_S</td>\n",
       "    </tr>\n",
       "  </tbody>\n",
       "</table>\n",
       "<p>36046 rows × 14 columns</p>\n",
       "</div>"
      ],
      "text/plain": [
       "       Vendor Specific Tags  Length  DSSS_CCK  SM_Power_Save  \\\n",
       "0                        62     111       0.0            3.0   \n",
       "1                        62     111       0.0            3.0   \n",
       "2                        62     111       0.0            3.0   \n",
       "3                        62     111       0.0            3.0   \n",
       "4                        62     111       0.0            3.0   \n",
       "...                     ...     ...       ...            ...   \n",
       "13939                    25     182       0.0            3.0   \n",
       "13940                    25     182       0.0            3.0   \n",
       "13941                    25     143       0.0            3.0   \n",
       "13942                    25     182       0.0            3.0   \n",
       "13943                    25     182       0.0            3.0   \n",
       "\n",
       "       Min_MPDCU_Start_Spacing  RX_Highest_Supported_Data_Rate  \\\n",
       "0                          5.0                             0.0   \n",
       "1                          5.0                             0.0   \n",
       "2                          5.0                             0.0   \n",
       "3                          5.0                             0.0   \n",
       "4                          5.0                             0.0   \n",
       "...                        ...                             ...   \n",
       "13939                      4.0                             0.0   \n",
       "13940                      4.0                             0.0   \n",
       "13941                      4.0                             0.0   \n",
       "13942                      4.0                             0.0   \n",
       "13943                      4.0                             0.0   \n",
       "\n",
       "       RX_MSC_Bitmask  Extended_Channel_Switching  WNM_Sleep_Mode  \\\n",
       "0               255.0                         0.0             0.0   \n",
       "1               255.0                         0.0             0.0   \n",
       "2               255.0                         0.0             0.0   \n",
       "3               255.0                         0.0             0.0   \n",
       "4               255.0                         0.0             0.0   \n",
       "...               ...                         ...             ...   \n",
       "13939           255.0                         1.0             1.0   \n",
       "13940           255.0                         1.0             1.0   \n",
       "13941           255.0                         1.0             1.0   \n",
       "13942           255.0                         1.0             1.0   \n",
       "13943           255.0                         1.0             1.0   \n",
       "\n",
       "       Interworking  QoS_Map  WNM_Notification  Operating_Mode_Notification  \\\n",
       "0               1.0      0.0               0.0                          1.0   \n",
       "1               1.0      0.0               0.0                          1.0   \n",
       "2               1.0      0.0               0.0                          1.0   \n",
       "3               1.0      0.0               0.0                          1.0   \n",
       "4               1.0      0.0               0.0                          1.0   \n",
       "...             ...      ...               ...                          ...   \n",
       "13939           0.0      0.0               1.0                          1.0   \n",
       "13940           0.0      0.0               1.0                          1.0   \n",
       "13941           0.0      0.0               1.0                          1.0   \n",
       "13942           0.0      0.0               1.0                          1.0   \n",
       "13943           0.0      0.0               1.0                          1.0   \n",
       "\n",
       "                    Label  \n",
       "0               iPhone7_F  \n",
       "1               iPhone7_F  \n",
       "2               iPhone7_F  \n",
       "3               iPhone7_F  \n",
       "4               iPhone7_F  \n",
       "...                   ...  \n",
       "13939  XiaomiRedmiNote7_S  \n",
       "13940  XiaomiRedmiNote7_S  \n",
       "13941  XiaomiRedmiNote7_S  \n",
       "13942  XiaomiRedmiNote7_S  \n",
       "13943  XiaomiRedmiNote7_S  \n",
       "\n",
       "[36046 rows x 14 columns]"
      ]
     },
     "execution_count": 8,
     "metadata": {},
     "output_type": "execute_result"
    }
   ],
   "source": [
    "selected_df"
   ]
  },
  {
   "cell_type": "code",
   "execution_count": null,
   "metadata": {},
   "outputs": [],
   "source": []
  }
 ],
 "metadata": {
  "kernelspec": {
   "display_name": ".venv",
   "language": "python",
   "name": "python3"
  },
  "language_info": {
   "codemirror_mode": {
    "name": "ipython",
    "version": 3
   },
   "file_extension": ".py",
   "mimetype": "text/x-python",
   "name": "python",
   "nbconvert_exporter": "python",
   "pygments_lexer": "ipython3",
   "version": "3.11.6"
  }
 },
 "nbformat": 4,
 "nbformat_minor": 2
}
