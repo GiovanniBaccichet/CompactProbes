{
 "cells": [
  {
   "cell_type": "markdown",
   "metadata": {},
   "source": [
    "# Dissected Feature Selection - Select K-Best"
   ]
  },
  {
   "cell_type": "markdown",
   "metadata": {},
   "source": [
    "## Libraries and Configurations"
   ]
  },
  {
   "cell_type": "markdown",
   "metadata": {},
   "source": [
    "Import configuration files"
   ]
  },
  {
   "cell_type": "code",
   "execution_count": 51,
   "metadata": {},
   "outputs": [
    {
     "data": {
      "text/plain": [
       "['../config.ini']"
      ]
     },
     "execution_count": 51,
     "metadata": {},
     "output_type": "execute_result"
    }
   ],
   "source": [
    "from configparser import ConfigParser\n",
    "\n",
    "config = ConfigParser()\n",
    "config.read(\"../config.ini\")"
   ]
  },
  {
   "cell_type": "markdown",
   "metadata": {},
   "source": [
    "Import **data libraries**"
   ]
  },
  {
   "cell_type": "code",
   "execution_count": 52,
   "metadata": {},
   "outputs": [],
   "source": [
    "import pandas as pd"
   ]
  },
  {
   "cell_type": "markdown",
   "metadata": {},
   "source": [
    "Import **other libraries**"
   ]
  },
  {
   "cell_type": "code",
   "execution_count": 53,
   "metadata": {},
   "outputs": [
    {
     "data": {
      "text/plain": [
       "<bound method InteractiveShell.excepthook of <ipykernel.zmqshell.ZMQInteractiveShell object at 0x75cac96db250>>"
      ]
     },
     "execution_count": 53,
     "metadata": {},
     "output_type": "execute_result"
    }
   ],
   "source": [
    "from rich.progress import Progress\n",
    "from rich import traceback\n",
    "\n",
    "traceback.install()"
   ]
  },
  {
   "cell_type": "markdown",
   "metadata": {},
   "source": [
    "Custom helper scripts"
   ]
  },
  {
   "cell_type": "code",
   "execution_count": 54,
   "metadata": {},
   "outputs": [
    {
     "name": "stdout",
     "output_type": "stream",
     "text": [
      "/home/bacci/COMPACT/notebooks\n",
      "/home/bacci/COMPACT/notebooks/data_exploration_cleaning\n"
     ]
    }
   ],
   "source": [
    "%cd ..\n",
    "from scripts import plotHelper, encodingHelper\n",
    "%cd data_exploration_cleaning"
   ]
  },
  {
   "cell_type": "markdown",
   "metadata": {},
   "source": [
    "## Dissected Data"
   ]
  },
  {
   "cell_type": "code",
   "execution_count": 55,
   "metadata": {},
   "outputs": [],
   "source": [
    "dissected_df_raw_csv = (\n",
    "    config[\"DEFAULT\"][\"interim_path\"] + \"dissected/std_dissected_df_raw.csv\"\n",
    ")"
   ]
  },
  {
   "cell_type": "code",
   "execution_count": 56,
   "metadata": {},
   "outputs": [],
   "source": [
    "df = pd.read_csv(dissected_df_raw_csv, index_col=0)"
   ]
  },
  {
   "cell_type": "code",
   "execution_count": 57,
   "metadata": {},
   "outputs": [
    {
     "data": {
      "text/html": [
       "<div>\n",
       "<style scoped>\n",
       "    .dataframe tbody tr th:only-of-type {\n",
       "        vertical-align: middle;\n",
       "    }\n",
       "\n",
       "    .dataframe tbody tr th {\n",
       "        vertical-align: top;\n",
       "    }\n",
       "\n",
       "    .dataframe thead th {\n",
       "        text-align: right;\n",
       "    }\n",
       "</style>\n",
       "<table border=\"1\" class=\"dataframe\">\n",
       "  <thead>\n",
       "    <tr style=\"text-align: right;\">\n",
       "      <th></th>\n",
       "      <th>MAC Address</th>\n",
       "      <th>Channel</th>\n",
       "      <th>DS Channel</th>\n",
       "      <th>Vendor Specific Tags</th>\n",
       "      <th>Length</th>\n",
       "      <th>Label</th>\n",
       "      <th>Supported Rates 1</th>\n",
       "      <th>Supported Rates 2</th>\n",
       "      <th>Supported Rates 3</th>\n",
       "      <th>Supported Rates 4</th>\n",
       "      <th>...</th>\n",
       "      <th>TIM_Broadcast</th>\n",
       "      <th>BSS_Transition</th>\n",
       "      <th>Multiple_BSSID</th>\n",
       "      <th>Timing_Measurement</th>\n",
       "      <th>SSID_List</th>\n",
       "      <th>DMS</th>\n",
       "      <th>Interworking</th>\n",
       "      <th>QoS_Map</th>\n",
       "      <th>WNM_Notification</th>\n",
       "      <th>Operating_Mode_Notification</th>\n",
       "    </tr>\n",
       "  </thead>\n",
       "  <tbody>\n",
       "    <tr>\n",
       "      <th>0</th>\n",
       "      <td>1a:e6:5a:fe:34:4c</td>\n",
       "      <td>1</td>\n",
       "      <td>1.0</td>\n",
       "      <td>NaN</td>\n",
       "      <td>111</td>\n",
       "      <td>iPhone7_F</td>\n",
       "      <td>1.0</td>\n",
       "      <td>2.0</td>\n",
       "      <td>5.5</td>\n",
       "      <td>11.0</td>\n",
       "      <td>...</td>\n",
       "      <td>0.0</td>\n",
       "      <td>1.0</td>\n",
       "      <td>0.0</td>\n",
       "      <td>0.0</td>\n",
       "      <td>0.0</td>\n",
       "      <td>1.0</td>\n",
       "      <td>1.0</td>\n",
       "      <td>0.0</td>\n",
       "      <td>0.0</td>\n",
       "      <td>1.0</td>\n",
       "    </tr>\n",
       "    <tr>\n",
       "      <th>1</th>\n",
       "      <td>1a:e6:5a:fe:34:4c</td>\n",
       "      <td>1</td>\n",
       "      <td>1.0</td>\n",
       "      <td>NaN</td>\n",
       "      <td>111</td>\n",
       "      <td>iPhone7_F</td>\n",
       "      <td>1.0</td>\n",
       "      <td>2.0</td>\n",
       "      <td>5.5</td>\n",
       "      <td>11.0</td>\n",
       "      <td>...</td>\n",
       "      <td>0.0</td>\n",
       "      <td>1.0</td>\n",
       "      <td>0.0</td>\n",
       "      <td>0.0</td>\n",
       "      <td>0.0</td>\n",
       "      <td>1.0</td>\n",
       "      <td>1.0</td>\n",
       "      <td>0.0</td>\n",
       "      <td>0.0</td>\n",
       "      <td>1.0</td>\n",
       "    </tr>\n",
       "    <tr>\n",
       "      <th>2</th>\n",
       "      <td>1a:e6:5a:fe:34:4c</td>\n",
       "      <td>11</td>\n",
       "      <td>1.0</td>\n",
       "      <td>NaN</td>\n",
       "      <td>111</td>\n",
       "      <td>iPhone7_F</td>\n",
       "      <td>1.0</td>\n",
       "      <td>2.0</td>\n",
       "      <td>5.5</td>\n",
       "      <td>11.0</td>\n",
       "      <td>...</td>\n",
       "      <td>0.0</td>\n",
       "      <td>1.0</td>\n",
       "      <td>0.0</td>\n",
       "      <td>0.0</td>\n",
       "      <td>0.0</td>\n",
       "      <td>1.0</td>\n",
       "      <td>1.0</td>\n",
       "      <td>0.0</td>\n",
       "      <td>0.0</td>\n",
       "      <td>1.0</td>\n",
       "    </tr>\n",
       "    <tr>\n",
       "      <th>3</th>\n",
       "      <td>1a:e6:5a:fe:34:4c</td>\n",
       "      <td>1</td>\n",
       "      <td>2.0</td>\n",
       "      <td>NaN</td>\n",
       "      <td>111</td>\n",
       "      <td>iPhone7_F</td>\n",
       "      <td>1.0</td>\n",
       "      <td>2.0</td>\n",
       "      <td>5.5</td>\n",
       "      <td>11.0</td>\n",
       "      <td>...</td>\n",
       "      <td>0.0</td>\n",
       "      <td>1.0</td>\n",
       "      <td>0.0</td>\n",
       "      <td>0.0</td>\n",
       "      <td>0.0</td>\n",
       "      <td>1.0</td>\n",
       "      <td>1.0</td>\n",
       "      <td>0.0</td>\n",
       "      <td>0.0</td>\n",
       "      <td>1.0</td>\n",
       "    </tr>\n",
       "    <tr>\n",
       "      <th>4</th>\n",
       "      <td>1a:e6:5a:fe:34:4c</td>\n",
       "      <td>11</td>\n",
       "      <td>2.0</td>\n",
       "      <td>NaN</td>\n",
       "      <td>111</td>\n",
       "      <td>iPhone7_F</td>\n",
       "      <td>1.0</td>\n",
       "      <td>2.0</td>\n",
       "      <td>5.5</td>\n",
       "      <td>11.0</td>\n",
       "      <td>...</td>\n",
       "      <td>0.0</td>\n",
       "      <td>1.0</td>\n",
       "      <td>0.0</td>\n",
       "      <td>0.0</td>\n",
       "      <td>0.0</td>\n",
       "      <td>1.0</td>\n",
       "      <td>1.0</td>\n",
       "      <td>0.0</td>\n",
       "      <td>0.0</td>\n",
       "      <td>1.0</td>\n",
       "    </tr>\n",
       "    <tr>\n",
       "      <th>...</th>\n",
       "      <td>...</td>\n",
       "      <td>...</td>\n",
       "      <td>...</td>\n",
       "      <td>...</td>\n",
       "      <td>...</td>\n",
       "      <td>...</td>\n",
       "      <td>...</td>\n",
       "      <td>...</td>\n",
       "      <td>...</td>\n",
       "      <td>...</td>\n",
       "      <td>...</td>\n",
       "      <td>...</td>\n",
       "      <td>...</td>\n",
       "      <td>...</td>\n",
       "      <td>...</td>\n",
       "      <td>...</td>\n",
       "      <td>...</td>\n",
       "      <td>...</td>\n",
       "      <td>...</td>\n",
       "      <td>...</td>\n",
       "      <td>...</td>\n",
       "    </tr>\n",
       "    <tr>\n",
       "      <th>13939</th>\n",
       "      <td>da:a1:19:00:17:f9</td>\n",
       "      <td>6</td>\n",
       "      <td>1.0</td>\n",
       "      <td>0050f208002400</td>\n",
       "      <td>182</td>\n",
       "      <td>XiaomiRedmiNote7_S</td>\n",
       "      <td>1.0</td>\n",
       "      <td>2.0</td>\n",
       "      <td>5.5</td>\n",
       "      <td>11.0</td>\n",
       "      <td>...</td>\n",
       "      <td>0.0</td>\n",
       "      <td>1.0</td>\n",
       "      <td>0.0</td>\n",
       "      <td>0.0</td>\n",
       "      <td>1.0</td>\n",
       "      <td>0.0</td>\n",
       "      <td>0.0</td>\n",
       "      <td>0.0</td>\n",
       "      <td>1.0</td>\n",
       "      <td>1.0</td>\n",
       "    </tr>\n",
       "    <tr>\n",
       "      <th>13940</th>\n",
       "      <td>da:a1:19:1a:cc:8f</td>\n",
       "      <td>6</td>\n",
       "      <td>8.0</td>\n",
       "      <td>0050f208002400</td>\n",
       "      <td>182</td>\n",
       "      <td>XiaomiRedmiNote7_S</td>\n",
       "      <td>1.0</td>\n",
       "      <td>2.0</td>\n",
       "      <td>5.5</td>\n",
       "      <td>11.0</td>\n",
       "      <td>...</td>\n",
       "      <td>0.0</td>\n",
       "      <td>1.0</td>\n",
       "      <td>0.0</td>\n",
       "      <td>0.0</td>\n",
       "      <td>1.0</td>\n",
       "      <td>0.0</td>\n",
       "      <td>0.0</td>\n",
       "      <td>0.0</td>\n",
       "      <td>1.0</td>\n",
       "      <td>1.0</td>\n",
       "    </tr>\n",
       "    <tr>\n",
       "      <th>13941</th>\n",
       "      <td>da:a1:19:41:c9:b1</td>\n",
       "      <td>11</td>\n",
       "      <td>5.0</td>\n",
       "      <td>0050f208002400</td>\n",
       "      <td>143</td>\n",
       "      <td>XiaomiRedmiNote7_S</td>\n",
       "      <td>1.0</td>\n",
       "      <td>2.0</td>\n",
       "      <td>5.5</td>\n",
       "      <td>11.0</td>\n",
       "      <td>...</td>\n",
       "      <td>0.0</td>\n",
       "      <td>1.0</td>\n",
       "      <td>0.0</td>\n",
       "      <td>0.0</td>\n",
       "      <td>1.0</td>\n",
       "      <td>0.0</td>\n",
       "      <td>0.0</td>\n",
       "      <td>0.0</td>\n",
       "      <td>1.0</td>\n",
       "      <td>1.0</td>\n",
       "    </tr>\n",
       "    <tr>\n",
       "      <th>13942</th>\n",
       "      <td>da:a1:19:c7:24:b1</td>\n",
       "      <td>1</td>\n",
       "      <td>3.0</td>\n",
       "      <td>0050f208002400</td>\n",
       "      <td>182</td>\n",
       "      <td>XiaomiRedmiNote7_S</td>\n",
       "      <td>1.0</td>\n",
       "      <td>2.0</td>\n",
       "      <td>5.5</td>\n",
       "      <td>11.0</td>\n",
       "      <td>...</td>\n",
       "      <td>0.0</td>\n",
       "      <td>1.0</td>\n",
       "      <td>0.0</td>\n",
       "      <td>0.0</td>\n",
       "      <td>1.0</td>\n",
       "      <td>0.0</td>\n",
       "      <td>0.0</td>\n",
       "      <td>0.0</td>\n",
       "      <td>1.0</td>\n",
       "      <td>1.0</td>\n",
       "    </tr>\n",
       "    <tr>\n",
       "      <th>13943</th>\n",
       "      <td>da:a1:19:05:11:80</td>\n",
       "      <td>1</td>\n",
       "      <td>5.0</td>\n",
       "      <td>0050f208002400</td>\n",
       "      <td>182</td>\n",
       "      <td>XiaomiRedmiNote7_S</td>\n",
       "      <td>1.0</td>\n",
       "      <td>2.0</td>\n",
       "      <td>5.5</td>\n",
       "      <td>11.0</td>\n",
       "      <td>...</td>\n",
       "      <td>0.0</td>\n",
       "      <td>1.0</td>\n",
       "      <td>0.0</td>\n",
       "      <td>0.0</td>\n",
       "      <td>1.0</td>\n",
       "      <td>0.0</td>\n",
       "      <td>0.0</td>\n",
       "      <td>0.0</td>\n",
       "      <td>1.0</td>\n",
       "      <td>1.0</td>\n",
       "    </tr>\n",
       "  </tbody>\n",
       "</table>\n",
       "<p>36046 rows × 46 columns</p>\n",
       "</div>"
      ],
      "text/plain": [
       "             MAC Address  Channel  DS Channel Vendor Specific Tags  Length  \\\n",
       "0      1a:e6:5a:fe:34:4c        1         1.0                  NaN     111   \n",
       "1      1a:e6:5a:fe:34:4c        1         1.0                  NaN     111   \n",
       "2      1a:e6:5a:fe:34:4c       11         1.0                  NaN     111   \n",
       "3      1a:e6:5a:fe:34:4c        1         2.0                  NaN     111   \n",
       "4      1a:e6:5a:fe:34:4c       11         2.0                  NaN     111   \n",
       "...                  ...      ...         ...                  ...     ...   \n",
       "13939  da:a1:19:00:17:f9        6         1.0       0050f208002400     182   \n",
       "13940  da:a1:19:1a:cc:8f        6         8.0       0050f208002400     182   \n",
       "13941  da:a1:19:41:c9:b1       11         5.0       0050f208002400     143   \n",
       "13942  da:a1:19:c7:24:b1        1         3.0       0050f208002400     182   \n",
       "13943  da:a1:19:05:11:80        1         5.0       0050f208002400     182   \n",
       "\n",
       "                    Label  Supported Rates 1  Supported Rates 2  \\\n",
       "0               iPhone7_F                1.0                2.0   \n",
       "1               iPhone7_F                1.0                2.0   \n",
       "2               iPhone7_F                1.0                2.0   \n",
       "3               iPhone7_F                1.0                2.0   \n",
       "4               iPhone7_F                1.0                2.0   \n",
       "...                   ...                ...                ...   \n",
       "13939  XiaomiRedmiNote7_S                1.0                2.0   \n",
       "13940  XiaomiRedmiNote7_S                1.0                2.0   \n",
       "13941  XiaomiRedmiNote7_S                1.0                2.0   \n",
       "13942  XiaomiRedmiNote7_S                1.0                2.0   \n",
       "13943  XiaomiRedmiNote7_S                1.0                2.0   \n",
       "\n",
       "       Supported Rates 3  Supported Rates 4  ...  TIM_Broadcast  \\\n",
       "0                    5.5               11.0  ...            0.0   \n",
       "1                    5.5               11.0  ...            0.0   \n",
       "2                    5.5               11.0  ...            0.0   \n",
       "3                    5.5               11.0  ...            0.0   \n",
       "4                    5.5               11.0  ...            0.0   \n",
       "...                  ...                ...  ...            ...   \n",
       "13939                5.5               11.0  ...            0.0   \n",
       "13940                5.5               11.0  ...            0.0   \n",
       "13941                5.5               11.0  ...            0.0   \n",
       "13942                5.5               11.0  ...            0.0   \n",
       "13943                5.5               11.0  ...            0.0   \n",
       "\n",
       "       BSS_Transition  Multiple_BSSID  Timing_Measurement  SSID_List  DMS  \\\n",
       "0                 1.0             0.0                 0.0        0.0  1.0   \n",
       "1                 1.0             0.0                 0.0        0.0  1.0   \n",
       "2                 1.0             0.0                 0.0        0.0  1.0   \n",
       "3                 1.0             0.0                 0.0        0.0  1.0   \n",
       "4                 1.0             0.0                 0.0        0.0  1.0   \n",
       "...               ...             ...                 ...        ...  ...   \n",
       "13939             1.0             0.0                 0.0        1.0  0.0   \n",
       "13940             1.0             0.0                 0.0        1.0  0.0   \n",
       "13941             1.0             0.0                 0.0        1.0  0.0   \n",
       "13942             1.0             0.0                 0.0        1.0  0.0   \n",
       "13943             1.0             0.0                 0.0        1.0  0.0   \n",
       "\n",
       "       Interworking  QoS_Map  WNM_Notification  Operating_Mode_Notification  \n",
       "0               1.0      0.0               0.0                          1.0  \n",
       "1               1.0      0.0               0.0                          1.0  \n",
       "2               1.0      0.0               0.0                          1.0  \n",
       "3               1.0      0.0               0.0                          1.0  \n",
       "4               1.0      0.0               0.0                          1.0  \n",
       "...             ...      ...               ...                          ...  \n",
       "13939           0.0      0.0               1.0                          1.0  \n",
       "13940           0.0      0.0               1.0                          1.0  \n",
       "13941           0.0      0.0               1.0                          1.0  \n",
       "13942           0.0      0.0               1.0                          1.0  \n",
       "13943           0.0      0.0               1.0                          1.0  \n",
       "\n",
       "[36046 rows x 46 columns]"
      ]
     },
     "execution_count": 57,
     "metadata": {},
     "output_type": "execute_result"
    }
   ],
   "source": [
    "df"
   ]
  },
  {
   "cell_type": "code",
   "execution_count": 58,
   "metadata": {},
   "outputs": [],
   "source": [
    "to_drop = [\"MAC Address\"]\n",
    "\n",
    "# Backing up the dataframe\n",
    "df_backup = df.copy()\n",
    "\n",
    "df = df.drop(to_drop, axis=1)"
   ]
  },
  {
   "cell_type": "markdown",
   "metadata": {},
   "source": [
    "## Label Encode Categorical Features"
   ]
  },
  {
   "cell_type": "code",
   "execution_count": 59,
   "metadata": {},
   "outputs": [],
   "source": [
    "# Import label encoder\n",
    "from sklearn import preprocessing"
   ]
  },
  {
   "cell_type": "code",
   "execution_count": 60,
   "metadata": {},
   "outputs": [],
   "source": [
    "label_encoder = preprocessing.LabelEncoder()\n",
    "\n",
    "df[\"Vendor Specific Tags\"] = label_encoder.fit_transform(df[\"Vendor Specific Tags\"])"
   ]
  },
  {
   "cell_type": "markdown",
   "metadata": {},
   "source": [
    "## Filling `NaN`"
   ]
  },
  {
   "cell_type": "code",
   "execution_count": 61,
   "metadata": {},
   "outputs": [
    {
     "name": "stderr",
     "output_type": "stream",
     "text": [
      "/tmp/ipykernel_45265/772971692.py:1: FutureWarning: Setting an item of incompatible dtype is deprecated and will raise an error in a future version of pandas. Value '-1' has dtype incompatible with float64, please explicitly cast to a compatible dtype first.\n",
      "  df.fillna('-1', inplace=True)\n"
     ]
    }
   ],
   "source": [
    "df.fillna(\"-1\", inplace=True)"
   ]
  },
  {
   "cell_type": "markdown",
   "metadata": {},
   "source": [
    "## Splitting Labelled Data"
   ]
  },
  {
   "cell_type": "code",
   "execution_count": 62,
   "metadata": {},
   "outputs": [],
   "source": [
    "from sklearn.model_selection import train_test_split"
   ]
  },
  {
   "cell_type": "code",
   "execution_count": 63,
   "metadata": {},
   "outputs": [],
   "source": [
    "X = df.drop(columns=[\"Label\"])\n",
    "y = df[\"Label\"]\n",
    "\n",
    "X_train, X_test, y_train, y_test = train_test_split(\n",
    "    X, y, test_size=0.4, random_state=42, stratify=y\n",
    ")"
   ]
  },
  {
   "cell_type": "markdown",
   "metadata": {},
   "source": [
    "## Mutual Information"
   ]
  },
  {
   "cell_type": "code",
   "execution_count": 64,
   "metadata": {},
   "outputs": [],
   "source": [
    "from sklearn.feature_selection import mutual_info_classif"
   ]
  },
  {
   "cell_type": "code",
   "execution_count": 65,
   "metadata": {},
   "outputs": [
    {
     "data": {
      "text/plain": [
       "Length                                                 2.640208\n",
       "Vendor Specific Tags                                   2.249891\n",
       "Min_MPDCU_Start_Spacing                                1.551315\n",
       "WNM_Notification                                       1.088323\n",
       "Interworking                                           1.023924\n",
       "QoS_Map                                                1.019215\n",
       "WNM_Sleep_Mode                                         1.017699\n",
       "DMS                                                    1.016362\n",
       "SSID_List                                              0.948083\n",
       "RX_MSC_Bitmask                                         0.800867\n",
       "Operating_Mode_Notification                            0.779820\n",
       "Rx_STBC                                                0.776421\n",
       "TFS                                                    0.765684\n",
       "FMS                                                    0.764663\n",
       "TIM_Broadcast                                          0.756842\n",
       "Extended_Channel_Switching                             0.741570\n",
       "Forty_Mhz_Intolerant                                   0.683460\n",
       "Supported_Channel_Width                                0.656650\n",
       "Short_GI_40Mhz                                         0.644530\n",
       "LDPC_Coding_Capability                                 0.625351\n",
       "20_40_BSS_Coexistence_Management_Support               0.618060\n",
       "SM_Power_Save                                          0.604859\n",
       "BSS_Transition                                         0.564164\n",
       "DSSS_CCK                                               0.512488\n",
       "Multiple_BSSID                                         0.506500\n",
       "Timing_Measurement                                     0.481690\n",
       "Supported Rates 1                                      0.476322\n",
       "Tx_STBC                                                0.473571\n",
       "Supported Rates 4                                      0.471389\n",
       "Supported Rates 3                                      0.471170\n",
       "Supported Rates 2                                      0.470714\n",
       "RX_Highest_Supported_Data_Rate                         0.349876\n",
       "Max_A_MPDU_Length_Exponent                             0.297430\n",
       "Compressed_Steering_n_Beamformer_Antennas_Supported    0.266724\n",
       "DS Channel                                             0.222863\n",
       "Extended Supported Rates 4                             0.222349\n",
       "Extended Supported Rates 3                             0.220964\n",
       "Extended Supported Rates 2                             0.218113\n",
       "Extended Supported Rates 1                             0.213499\n",
       "Channel                                                0.130184\n",
       "MCS_Feedback                                           0.123808\n",
       "RD_Responder                                           0.120327\n",
       "Max_A_MSDU                                             0.115075\n",
       "HTC_HT_Support                                         0.113071\n",
       "Name: MI Scores, dtype: float64"
      ]
     },
     "execution_count": 65,
     "metadata": {},
     "output_type": "execute_result"
    }
   ],
   "source": [
    "mi_scores = mutual_info_classif(X, y)\n",
    "mi_scores = pd.Series(mi_scores, name=\"MI Scores\", index=X.columns)\n",
    "mi_scores = mi_scores.sort_values(ascending=False)\n",
    "\n",
    "mi_scores  # show a few features with their MI scores"
   ]
  },
  {
   "cell_type": "code",
   "execution_count": 67,
   "metadata": {},
   "outputs": [
    {
     "data": {
      "text/plain": [
       "Length                     2.640208\n",
       "Vendor Specific Tags       2.249891\n",
       "Min_MPDCU_Start_Spacing    1.551315\n",
       "WNM_Notification           1.088323\n",
       "Interworking               1.023924\n",
       "QoS_Map                    1.019215\n",
       "WNM_Sleep_Mode             1.017699\n",
       "DMS                        1.016362\n",
       "SSID_List                  0.948083\n",
       "RX_MSC_Bitmask             0.800867\n",
       "Name: MI Scores, dtype: float64"
      ]
     },
     "execution_count": 67,
     "metadata": {},
     "output_type": "execute_result"
    }
   ],
   "source": [
    "mi_scores[:10]"
   ]
  },
  {
   "cell_type": "code",
   "execution_count": null,
   "metadata": {},
   "outputs": [],
   "source": []
  }
 ],
 "metadata": {
  "kernelspec": {
   "display_name": ".venv",
   "language": "python",
   "name": "python3"
  },
  "language_info": {
   "codemirror_mode": {
    "name": "ipython",
    "version": 3
   },
   "file_extension": ".py",
   "mimetype": "text/x-python",
   "name": "python",
   "nbconvert_exporter": "python",
   "pygments_lexer": "ipython3",
   "version": "3.11.6"
  }
 },
 "nbformat": 4,
 "nbformat_minor": 2
}
