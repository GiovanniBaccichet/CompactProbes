{
 "cells": [
  {
   "cell_type": "markdown",
   "metadata": {},
   "source": [
    "# Forward Feature Selection"
   ]
  },
  {
   "cell_type": "markdown",
   "metadata": {},
   "source": [
    "The purpose of this notebook is to perform forward feature selection, starting from the importance scores given by the RF feature selection performed in another notebook. The clustering algorithm tested is DBSCAN and the goal is to maximize V-Measure, minimizing RMSE"
   ]
  },
  {
   "cell_type": "markdown",
   "metadata": {},
   "source": [
    "## Libraries and Configurations"
   ]
  },
  {
   "cell_type": "markdown",
   "metadata": {},
   "source": [
    "Import configuration files"
   ]
  },
  {
   "cell_type": "code",
   "execution_count": 443,
   "metadata": {},
   "outputs": [
    {
     "data": {
      "text/plain": [
       "['../config.ini']"
      ]
     },
     "execution_count": 443,
     "metadata": {},
     "output_type": "execute_result"
    }
   ],
   "source": [
    "from configparser import ConfigParser\n",
    "\n",
    "config = ConfigParser()\n",
    "config.read(\"../config.ini\")"
   ]
  },
  {
   "cell_type": "markdown",
   "metadata": {},
   "source": [
    "Import **data libraries**"
   ]
  },
  {
   "cell_type": "code",
   "execution_count": 444,
   "metadata": {},
   "outputs": [],
   "source": [
    "import pandas as pd"
   ]
  },
  {
   "cell_type": "markdown",
   "metadata": {},
   "source": [
    "Import **other libraries**"
   ]
  },
  {
   "cell_type": "code",
   "execution_count": 445,
   "metadata": {},
   "outputs": [
    {
     "data": {
      "text/plain": [
       "<bound method InteractiveShell.excepthook of <ipykernel.zmqshell.ZMQInteractiveShell object at 0x728a6c15bc10>>"
      ]
     },
     "execution_count": 445,
     "metadata": {},
     "output_type": "execute_result"
    }
   ],
   "source": [
    "from rich.progress import Progress\n",
    "from rich import traceback\n",
    "\n",
    "traceback.install()"
   ]
  },
  {
   "cell_type": "markdown",
   "metadata": {},
   "source": [
    "Custom helper scripts"
   ]
  },
  {
   "cell_type": "code",
   "execution_count": 446,
   "metadata": {},
   "outputs": [
    {
     "name": "stdout",
     "output_type": "stream",
     "text": [
      "/home/bacci/COMPACT/notebooks\n",
      "/home/bacci/COMPACT/notebooks/data_exploration_cleaning\n"
     ]
    }
   ],
   "source": [
    "%cd ..\n",
    "from scripts import plotHelper, encodingHelper\n",
    "%cd data_exploration_cleaning"
   ]
  },
  {
   "cell_type": "markdown",
   "metadata": {},
   "source": [
    "## Feature Importance"
   ]
  },
  {
   "cell_type": "code",
   "execution_count": 447,
   "metadata": {},
   "outputs": [],
   "source": [
    "feature_importances_csv = (\n",
    "    config[\"DEFAULT\"][\"reports_path\"]\n",
    "    + \"CSV/feature_selection/DISSECTED_importances_RF.csv\"\n",
    ")\n",
    "\n",
    "feature_importances = pd.read_csv(feature_importances_csv).sort_values(\n",
    "    by=[\"Importance\"], ascending=False\n",
    ")"
   ]
  },
  {
   "cell_type": "markdown",
   "metadata": {},
   "source": [
    "These are the features selected by the Random Forest classifier, with the goal of correctly classifying the `Label` column. They are sorted according to the importance given, descending."
   ]
  },
  {
   "cell_type": "code",
   "execution_count": 448,
   "metadata": {},
   "outputs": [
    {
     "data": {
      "text/html": [
       "<div>\n",
       "<style scoped>\n",
       "    .dataframe tbody tr th:only-of-type {\n",
       "        vertical-align: middle;\n",
       "    }\n",
       "\n",
       "    .dataframe tbody tr th {\n",
       "        vertical-align: top;\n",
       "    }\n",
       "\n",
       "    .dataframe thead th {\n",
       "        text-align: right;\n",
       "    }\n",
       "</style>\n",
       "<table border=\"1\" class=\"dataframe\">\n",
       "  <thead>\n",
       "    <tr style=\"text-align: right;\">\n",
       "      <th></th>\n",
       "      <th>Feature</th>\n",
       "      <th>Importance</th>\n",
       "    </tr>\n",
       "  </thead>\n",
       "  <tbody>\n",
       "    <tr>\n",
       "      <th>3</th>\n",
       "      <td>Length</td>\n",
       "      <td>0.151389</td>\n",
       "    </tr>\n",
       "    <tr>\n",
       "      <th>2</th>\n",
       "      <td>Vendor Specific Tags</td>\n",
       "      <td>0.110161</td>\n",
       "    </tr>\n",
       "    <tr>\n",
       "      <th>21</th>\n",
       "      <td>Min_MPDCU_Start_Spacing</td>\n",
       "      <td>0.070928</td>\n",
       "    </tr>\n",
       "    <tr>\n",
       "      <th>23</th>\n",
       "      <td>RX_Highest_Supported_Data_Rate</td>\n",
       "      <td>0.047190</td>\n",
       "    </tr>\n",
       "    <tr>\n",
       "      <th>40</th>\n",
       "      <td>Interworking</td>\n",
       "      <td>0.044109</td>\n",
       "    </tr>\n",
       "    <tr>\n",
       "      <th>42</th>\n",
       "      <td>WNM_Notification</td>\n",
       "      <td>0.031174</td>\n",
       "    </tr>\n",
       "    <tr>\n",
       "      <th>13</th>\n",
       "      <td>DSSS_CCK</td>\n",
       "      <td>0.030882</td>\n",
       "    </tr>\n",
       "    <tr>\n",
       "      <th>41</th>\n",
       "      <td>QoS_Map</td>\n",
       "      <td>0.029089</td>\n",
       "    </tr>\n",
       "    <tr>\n",
       "      <th>30</th>\n",
       "      <td>Extended_Channel_Switching</td>\n",
       "      <td>0.028832</td>\n",
       "    </tr>\n",
       "    <tr>\n",
       "      <th>18</th>\n",
       "      <td>SM_Power_Save</td>\n",
       "      <td>0.027387</td>\n",
       "    </tr>\n",
       "    <tr>\n",
       "      <th>43</th>\n",
       "      <td>Operating_Mode_Notification</td>\n",
       "      <td>0.025282</td>\n",
       "    </tr>\n",
       "    <tr>\n",
       "      <th>39</th>\n",
       "      <td>DMS</td>\n",
       "      <td>0.023810</td>\n",
       "    </tr>\n",
       "    <tr>\n",
       "      <th>33</th>\n",
       "      <td>WNM_Sleep_Mode</td>\n",
       "      <td>0.023271</td>\n",
       "    </tr>\n",
       "    <tr>\n",
       "      <th>38</th>\n",
       "      <td>SSID_List</td>\n",
       "      <td>0.022166</td>\n",
       "    </tr>\n",
       "    <tr>\n",
       "      <th>24</th>\n",
       "      <td>RX_MSC_Bitmask</td>\n",
       "      <td>0.022034</td>\n",
       "    </tr>\n",
       "    <tr>\n",
       "      <th>16</th>\n",
       "      <td>Tx_STBC</td>\n",
       "      <td>0.021935</td>\n",
       "    </tr>\n",
       "    <tr>\n",
       "      <th>32</th>\n",
       "      <td>TFS</td>\n",
       "      <td>0.020194</td>\n",
       "    </tr>\n",
       "    <tr>\n",
       "      <th>20</th>\n",
       "      <td>LDPC_Coding_Capability</td>\n",
       "      <td>0.020173</td>\n",
       "    </tr>\n",
       "    <tr>\n",
       "      <th>19</th>\n",
       "      <td>Supported_Channel_Width</td>\n",
       "      <td>0.019282</td>\n",
       "    </tr>\n",
       "    <tr>\n",
       "      <th>31</th>\n",
       "      <td>FMS</td>\n",
       "      <td>0.018323</td>\n",
       "    </tr>\n",
       "    <tr>\n",
       "      <th>1</th>\n",
       "      <td>DS Channel</td>\n",
       "      <td>0.017808</td>\n",
       "    </tr>\n",
       "    <tr>\n",
       "      <th>29</th>\n",
       "      <td>20_40_BSS_Coexistence_Management_Support</td>\n",
       "      <td>0.016630</td>\n",
       "    </tr>\n",
       "    <tr>\n",
       "      <th>34</th>\n",
       "      <td>TIM_Broadcast</td>\n",
       "      <td>0.015893</td>\n",
       "    </tr>\n",
       "    <tr>\n",
       "      <th>28</th>\n",
       "      <td>Compressed_Steering_n_Beamformer_Antennas_Supp...</td>\n",
       "      <td>0.015620</td>\n",
       "    </tr>\n",
       "    <tr>\n",
       "      <th>12</th>\n",
       "      <td>Forty_Mhz_Intolerant</td>\n",
       "      <td>0.014861</td>\n",
       "    </tr>\n",
       "    <tr>\n",
       "      <th>17</th>\n",
       "      <td>Short_GI_40Mhz</td>\n",
       "      <td>0.014025</td>\n",
       "    </tr>\n",
       "    <tr>\n",
       "      <th>7</th>\n",
       "      <td>Supported Rates 4</td>\n",
       "      <td>0.013802</td>\n",
       "    </tr>\n",
       "    <tr>\n",
       "      <th>35</th>\n",
       "      <td>BSS_Transition</td>\n",
       "      <td>0.013234</td>\n",
       "    </tr>\n",
       "    <tr>\n",
       "      <th>5</th>\n",
       "      <td>Supported Rates 2</td>\n",
       "      <td>0.013060</td>\n",
       "    </tr>\n",
       "    <tr>\n",
       "      <th>15</th>\n",
       "      <td>Rx_STBC</td>\n",
       "      <td>0.012977</td>\n",
       "    </tr>\n",
       "    <tr>\n",
       "      <th>6</th>\n",
       "      <td>Supported Rates 3</td>\n",
       "      <td>0.011178</td>\n",
       "    </tr>\n",
       "    <tr>\n",
       "      <th>4</th>\n",
       "      <td>Supported Rates 1</td>\n",
       "      <td>0.009748</td>\n",
       "    </tr>\n",
       "    <tr>\n",
       "      <th>11</th>\n",
       "      <td>Extended Supported Rates 4</td>\n",
       "      <td>0.007258</td>\n",
       "    </tr>\n",
       "    <tr>\n",
       "      <th>0</th>\n",
       "      <td>Channel</td>\n",
       "      <td>0.006561</td>\n",
       "    </tr>\n",
       "    <tr>\n",
       "      <th>10</th>\n",
       "      <td>Extended Supported Rates 3</td>\n",
       "      <td>0.005019</td>\n",
       "    </tr>\n",
       "    <tr>\n",
       "      <th>9</th>\n",
       "      <td>Extended Supported Rates 2</td>\n",
       "      <td>0.005003</td>\n",
       "    </tr>\n",
       "    <tr>\n",
       "      <th>36</th>\n",
       "      <td>Multiple_BSSID</td>\n",
       "      <td>0.004296</td>\n",
       "    </tr>\n",
       "    <tr>\n",
       "      <th>37</th>\n",
       "      <td>Timing_Measurement</td>\n",
       "      <td>0.004254</td>\n",
       "    </tr>\n",
       "    <tr>\n",
       "      <th>22</th>\n",
       "      <td>Max_A_MPDU_Length_Exponent</td>\n",
       "      <td>0.003948</td>\n",
       "    </tr>\n",
       "    <tr>\n",
       "      <th>8</th>\n",
       "      <td>Extended Supported Rates 1</td>\n",
       "      <td>0.003298</td>\n",
       "    </tr>\n",
       "    <tr>\n",
       "      <th>27</th>\n",
       "      <td>MCS_Feedback</td>\n",
       "      <td>0.001344</td>\n",
       "    </tr>\n",
       "    <tr>\n",
       "      <th>14</th>\n",
       "      <td>Max_A_MSDU</td>\n",
       "      <td>0.001030</td>\n",
       "    </tr>\n",
       "    <tr>\n",
       "      <th>26</th>\n",
       "      <td>HTC_HT_Support</td>\n",
       "      <td>0.000809</td>\n",
       "    </tr>\n",
       "    <tr>\n",
       "      <th>25</th>\n",
       "      <td>RD_Responder</td>\n",
       "      <td>0.000732</td>\n",
       "    </tr>\n",
       "  </tbody>\n",
       "</table>\n",
       "</div>"
      ],
      "text/plain": [
       "                                              Feature  Importance\n",
       "3                                              Length    0.151389\n",
       "2                                Vendor Specific Tags    0.110161\n",
       "21                            Min_MPDCU_Start_Spacing    0.070928\n",
       "23                     RX_Highest_Supported_Data_Rate    0.047190\n",
       "40                                       Interworking    0.044109\n",
       "42                                   WNM_Notification    0.031174\n",
       "13                                           DSSS_CCK    0.030882\n",
       "41                                            QoS_Map    0.029089\n",
       "30                         Extended_Channel_Switching    0.028832\n",
       "18                                      SM_Power_Save    0.027387\n",
       "43                        Operating_Mode_Notification    0.025282\n",
       "39                                                DMS    0.023810\n",
       "33                                     WNM_Sleep_Mode    0.023271\n",
       "38                                          SSID_List    0.022166\n",
       "24                                     RX_MSC_Bitmask    0.022034\n",
       "16                                            Tx_STBC    0.021935\n",
       "32                                                TFS    0.020194\n",
       "20                             LDPC_Coding_Capability    0.020173\n",
       "19                            Supported_Channel_Width    0.019282\n",
       "31                                                FMS    0.018323\n",
       "1                                          DS Channel    0.017808\n",
       "29           20_40_BSS_Coexistence_Management_Support    0.016630\n",
       "34                                      TIM_Broadcast    0.015893\n",
       "28  Compressed_Steering_n_Beamformer_Antennas_Supp...    0.015620\n",
       "12                               Forty_Mhz_Intolerant    0.014861\n",
       "17                                     Short_GI_40Mhz    0.014025\n",
       "7                                   Supported Rates 4    0.013802\n",
       "35                                     BSS_Transition    0.013234\n",
       "5                                   Supported Rates 2    0.013060\n",
       "15                                            Rx_STBC    0.012977\n",
       "6                                   Supported Rates 3    0.011178\n",
       "4                                   Supported Rates 1    0.009748\n",
       "11                         Extended Supported Rates 4    0.007258\n",
       "0                                             Channel    0.006561\n",
       "10                         Extended Supported Rates 3    0.005019\n",
       "9                          Extended Supported Rates 2    0.005003\n",
       "36                                     Multiple_BSSID    0.004296\n",
       "37                                 Timing_Measurement    0.004254\n",
       "22                         Max_A_MPDU_Length_Exponent    0.003948\n",
       "8                          Extended Supported Rates 1    0.003298\n",
       "27                                       MCS_Feedback    0.001344\n",
       "14                                         Max_A_MSDU    0.001030\n",
       "26                                     HTC_HT_Support    0.000809\n",
       "25                                       RD_Responder    0.000732"
      ]
     },
     "execution_count": 448,
     "metadata": {},
     "output_type": "execute_result"
    }
   ],
   "source": [
    "feature_importances"
   ]
  },
  {
   "cell_type": "markdown",
   "metadata": {},
   "source": [
    "## Import Data"
   ]
  },
  {
   "cell_type": "code",
   "execution_count": 449,
   "metadata": {},
   "outputs": [],
   "source": [
    "# Combined dataframe\n",
    "burst_csv = config[\"DEFAULT\"][\"interim_path\"] + \"dissected/std_burst_dissected_df.csv\""
   ]
  },
  {
   "cell_type": "code",
   "execution_count": 450,
   "metadata": {},
   "outputs": [],
   "source": [
    "df = pd.read_csv(burst_csv, index_col=0)"
   ]
  },
  {
   "cell_type": "markdown",
   "metadata": {},
   "source": [
    "We remove `MAC Address` column, since it is not used for the feature selection"
   ]
  },
  {
   "cell_type": "code",
   "execution_count": 451,
   "metadata": {},
   "outputs": [],
   "source": [
    "df = df.drop(columns=[\"MAC Address\"])"
   ]
  },
  {
   "cell_type": "markdown",
   "metadata": {},
   "source": [
    "Removing a couple of devices to check if the results are overfit"
   ]
  },
  {
   "cell_type": "code",
   "execution_count": 452,
   "metadata": {},
   "outputs": [],
   "source": [
    "# df = df[\n",
    "#     (df[\"Label\"] != \"iPhone11_B\")\n",
    "#     & (df[\"Label\"] != \"iPhone11_C\")\n",
    "#     & (df[\"Label\"] != \"iPhone11_F\")\n",
    "#     & (df[\"Label\"] != \"iPhone12_W\")\n",
    "# ]"
   ]
  },
  {
   "cell_type": "markdown",
   "metadata": {},
   "source": [
    "## Normalize Data"
   ]
  },
  {
   "cell_type": "code",
   "execution_count": 453,
   "metadata": {},
   "outputs": [
    {
     "name": "stderr",
     "output_type": "stream",
     "text": [
      "/tmp/ipykernel_9772/4038702002.py:1: FutureWarning: Setting an item of incompatible dtype is deprecated and will raise an error in a future version of pandas. Value '-1' has dtype incompatible with float64, please explicitly cast to a compatible dtype first.\n",
      "  df.fillna(\"-1\", inplace=True)\n"
     ]
    }
   ],
   "source": [
    "df.fillna(\"-1\", inplace=True)"
   ]
  },
  {
   "cell_type": "code",
   "execution_count": 454,
   "metadata": {},
   "outputs": [],
   "source": [
    "from sklearn.preprocessing import MinMaxScaler"
   ]
  },
  {
   "cell_type": "code",
   "execution_count": 455,
   "metadata": {},
   "outputs": [],
   "source": [
    "from sklearn.preprocessing import MinMaxScaler\n",
    "\n",
    "# Select the numeric columns\n",
    "numeric_columns = df.loc[:, df.columns != \"Label\"].columns\n",
    "\n",
    "# Create an instance of MinMaxScaler\n",
    "scaler = MinMaxScaler()\n",
    "\n",
    "# Normalize the numeric columns\n",
    "df[numeric_columns] = scaler.fit_transform(df[numeric_columns])\n",
    "\n",
    "df_normalized = df.copy()"
   ]
  },
  {
   "cell_type": "code",
   "execution_count": 456,
   "metadata": {},
   "outputs": [],
   "source": [
    "df_normalized.fillna(\"-1\", inplace=True)"
   ]
  },
  {
   "cell_type": "code",
   "execution_count": 457,
   "metadata": {},
   "outputs": [
    {
     "data": {
      "text/html": [
       "<div>\n",
       "<style scoped>\n",
       "    .dataframe tbody tr th:only-of-type {\n",
       "        vertical-align: middle;\n",
       "    }\n",
       "\n",
       "    .dataframe tbody tr th {\n",
       "        vertical-align: top;\n",
       "    }\n",
       "\n",
       "    .dataframe thead th {\n",
       "        text-align: right;\n",
       "    }\n",
       "</style>\n",
       "<table border=\"1\" class=\"dataframe\">\n",
       "  <thead>\n",
       "    <tr style=\"text-align: right;\">\n",
       "      <th></th>\n",
       "      <th>Channel</th>\n",
       "      <th>DS Channel</th>\n",
       "      <th>Vendor Specific Tags</th>\n",
       "      <th>Length</th>\n",
       "      <th>Label</th>\n",
       "      <th>Supported Rates 1</th>\n",
       "      <th>Supported Rates 2</th>\n",
       "      <th>Supported Rates 3</th>\n",
       "      <th>Supported Rates 4</th>\n",
       "      <th>Extended Supported Rates 1</th>\n",
       "      <th>...</th>\n",
       "      <th>TIM_Broadcast</th>\n",
       "      <th>BSS_Transition</th>\n",
       "      <th>Multiple_BSSID</th>\n",
       "      <th>Timing_Measurement</th>\n",
       "      <th>SSID_List</th>\n",
       "      <th>DMS</th>\n",
       "      <th>Interworking</th>\n",
       "      <th>QoS_Map</th>\n",
       "      <th>WNM_Notification</th>\n",
       "      <th>Operating_Mode_Notification</th>\n",
       "    </tr>\n",
       "  </thead>\n",
       "  <tbody>\n",
       "    <tr>\n",
       "      <th>0</th>\n",
       "      <td>0.0</td>\n",
       "      <td>0.000000</td>\n",
       "      <td>0.032258</td>\n",
       "      <td>1.000000</td>\n",
       "      <td>SamsungJ6_K</td>\n",
       "      <td>1.0</td>\n",
       "      <td>1.0</td>\n",
       "      <td>1.0</td>\n",
       "      <td>1.0</td>\n",
       "      <td>0.0</td>\n",
       "      <td>...</td>\n",
       "      <td>1.0</td>\n",
       "      <td>0.5</td>\n",
       "      <td>0.5</td>\n",
       "      <td>0.5</td>\n",
       "      <td>0.5</td>\n",
       "      <td>0.5</td>\n",
       "      <td>0.5</td>\n",
       "      <td>0.5</td>\n",
       "      <td>0.5</td>\n",
       "      <td>0.5</td>\n",
       "    </tr>\n",
       "    <tr>\n",
       "      <th>2</th>\n",
       "      <td>1.0</td>\n",
       "      <td>0.714286</td>\n",
       "      <td>0.177419</td>\n",
       "      <td>0.287671</td>\n",
       "      <td>SamsungM31_A</td>\n",
       "      <td>0.0</td>\n",
       "      <td>0.0</td>\n",
       "      <td>0.0</td>\n",
       "      <td>0.0</td>\n",
       "      <td>1.0</td>\n",
       "      <td>...</td>\n",
       "      <td>1.0</td>\n",
       "      <td>1.0</td>\n",
       "      <td>0.5</td>\n",
       "      <td>0.5</td>\n",
       "      <td>0.5</td>\n",
       "      <td>0.5</td>\n",
       "      <td>0.5</td>\n",
       "      <td>0.5</td>\n",
       "      <td>0.5</td>\n",
       "      <td>1.0</td>\n",
       "    </tr>\n",
       "    <tr>\n",
       "      <th>3</th>\n",
       "      <td>1.0</td>\n",
       "      <td>0.857143</td>\n",
       "      <td>1.000000</td>\n",
       "      <td>0.328767</td>\n",
       "      <td>iPhone11_C</td>\n",
       "      <td>1.0</td>\n",
       "      <td>1.0</td>\n",
       "      <td>1.0</td>\n",
       "      <td>1.0</td>\n",
       "      <td>0.0</td>\n",
       "      <td>...</td>\n",
       "      <td>1.0</td>\n",
       "      <td>1.0</td>\n",
       "      <td>0.5</td>\n",
       "      <td>0.5</td>\n",
       "      <td>0.5</td>\n",
       "      <td>1.0</td>\n",
       "      <td>0.5</td>\n",
       "      <td>0.5</td>\n",
       "      <td>0.5</td>\n",
       "      <td>1.0</td>\n",
       "    </tr>\n",
       "    <tr>\n",
       "      <th>4</th>\n",
       "      <td>1.0</td>\n",
       "      <td>0.785714</td>\n",
       "      <td>1.000000</td>\n",
       "      <td>0.328767</td>\n",
       "      <td>iPhone11_B</td>\n",
       "      <td>1.0</td>\n",
       "      <td>1.0</td>\n",
       "      <td>1.0</td>\n",
       "      <td>1.0</td>\n",
       "      <td>0.0</td>\n",
       "      <td>...</td>\n",
       "      <td>1.0</td>\n",
       "      <td>1.0</td>\n",
       "      <td>0.5</td>\n",
       "      <td>0.5</td>\n",
       "      <td>0.5</td>\n",
       "      <td>1.0</td>\n",
       "      <td>0.5</td>\n",
       "      <td>0.5</td>\n",
       "      <td>0.5</td>\n",
       "      <td>1.0</td>\n",
       "    </tr>\n",
       "    <tr>\n",
       "      <th>5</th>\n",
       "      <td>0.0</td>\n",
       "      <td>0.285714</td>\n",
       "      <td>1.000000</td>\n",
       "      <td>0.378995</td>\n",
       "      <td>iPhone12_W</td>\n",
       "      <td>1.0</td>\n",
       "      <td>1.0</td>\n",
       "      <td>1.0</td>\n",
       "      <td>1.0</td>\n",
       "      <td>0.0</td>\n",
       "      <td>...</td>\n",
       "      <td>1.0</td>\n",
       "      <td>1.0</td>\n",
       "      <td>0.5</td>\n",
       "      <td>0.5</td>\n",
       "      <td>0.5</td>\n",
       "      <td>1.0</td>\n",
       "      <td>0.5</td>\n",
       "      <td>0.5</td>\n",
       "      <td>0.5</td>\n",
       "      <td>1.0</td>\n",
       "    </tr>\n",
       "    <tr>\n",
       "      <th>...</th>\n",
       "      <td>...</td>\n",
       "      <td>...</td>\n",
       "      <td>...</td>\n",
       "      <td>...</td>\n",
       "      <td>...</td>\n",
       "      <td>...</td>\n",
       "      <td>...</td>\n",
       "      <td>...</td>\n",
       "      <td>...</td>\n",
       "      <td>...</td>\n",
       "      <td>...</td>\n",
       "      <td>...</td>\n",
       "      <td>...</td>\n",
       "      <td>...</td>\n",
       "      <td>...</td>\n",
       "      <td>...</td>\n",
       "      <td>...</td>\n",
       "      <td>...</td>\n",
       "      <td>...</td>\n",
       "      <td>...</td>\n",
       "      <td>...</td>\n",
       "    </tr>\n",
       "    <tr>\n",
       "      <th>4410</th>\n",
       "      <td>1.0</td>\n",
       "      <td>0.857143</td>\n",
       "      <td>1.000000</td>\n",
       "      <td>0.324201</td>\n",
       "      <td>iPhone12_W</td>\n",
       "      <td>1.0</td>\n",
       "      <td>1.0</td>\n",
       "      <td>1.0</td>\n",
       "      <td>1.0</td>\n",
       "      <td>0.0</td>\n",
       "      <td>...</td>\n",
       "      <td>1.0</td>\n",
       "      <td>1.0</td>\n",
       "      <td>0.5</td>\n",
       "      <td>0.5</td>\n",
       "      <td>0.5</td>\n",
       "      <td>1.0</td>\n",
       "      <td>0.5</td>\n",
       "      <td>0.5</td>\n",
       "      <td>0.5</td>\n",
       "      <td>1.0</td>\n",
       "    </tr>\n",
       "    <tr>\n",
       "      <th>4411</th>\n",
       "      <td>0.5</td>\n",
       "      <td>0.142857</td>\n",
       "      <td>0.016129</td>\n",
       "      <td>0.438356</td>\n",
       "      <td>iPhone6_N</td>\n",
       "      <td>0.0</td>\n",
       "      <td>0.0</td>\n",
       "      <td>0.0</td>\n",
       "      <td>0.0</td>\n",
       "      <td>0.0</td>\n",
       "      <td>...</td>\n",
       "      <td>1.0</td>\n",
       "      <td>1.0</td>\n",
       "      <td>0.5</td>\n",
       "      <td>0.5</td>\n",
       "      <td>0.5</td>\n",
       "      <td>1.0</td>\n",
       "      <td>1.0</td>\n",
       "      <td>0.5</td>\n",
       "      <td>0.5</td>\n",
       "      <td>1.0</td>\n",
       "    </tr>\n",
       "    <tr>\n",
       "      <th>4412</th>\n",
       "      <td>0.0</td>\n",
       "      <td>0.142857</td>\n",
       "      <td>1.000000</td>\n",
       "      <td>0.328767</td>\n",
       "      <td>iPhone11_C</td>\n",
       "      <td>1.0</td>\n",
       "      <td>1.0</td>\n",
       "      <td>1.0</td>\n",
       "      <td>1.0</td>\n",
       "      <td>0.0</td>\n",
       "      <td>...</td>\n",
       "      <td>1.0</td>\n",
       "      <td>1.0</td>\n",
       "      <td>0.5</td>\n",
       "      <td>0.5</td>\n",
       "      <td>0.5</td>\n",
       "      <td>1.0</td>\n",
       "      <td>0.5</td>\n",
       "      <td>0.5</td>\n",
       "      <td>0.5</td>\n",
       "      <td>1.0</td>\n",
       "    </tr>\n",
       "    <tr>\n",
       "      <th>4413</th>\n",
       "      <td>0.0</td>\n",
       "      <td>0.214286</td>\n",
       "      <td>1.000000</td>\n",
       "      <td>0.378995</td>\n",
       "      <td>iPhone12_W</td>\n",
       "      <td>1.0</td>\n",
       "      <td>1.0</td>\n",
       "      <td>1.0</td>\n",
       "      <td>1.0</td>\n",
       "      <td>0.0</td>\n",
       "      <td>...</td>\n",
       "      <td>1.0</td>\n",
       "      <td>1.0</td>\n",
       "      <td>0.5</td>\n",
       "      <td>0.5</td>\n",
       "      <td>0.5</td>\n",
       "      <td>1.0</td>\n",
       "      <td>0.5</td>\n",
       "      <td>0.5</td>\n",
       "      <td>0.5</td>\n",
       "      <td>1.0</td>\n",
       "    </tr>\n",
       "    <tr>\n",
       "      <th>4414</th>\n",
       "      <td>1.0</td>\n",
       "      <td>0.928571</td>\n",
       "      <td>1.000000</td>\n",
       "      <td>0.328767</td>\n",
       "      <td>iPhone11_B</td>\n",
       "      <td>1.0</td>\n",
       "      <td>1.0</td>\n",
       "      <td>1.0</td>\n",
       "      <td>1.0</td>\n",
       "      <td>0.0</td>\n",
       "      <td>...</td>\n",
       "      <td>1.0</td>\n",
       "      <td>1.0</td>\n",
       "      <td>0.5</td>\n",
       "      <td>0.5</td>\n",
       "      <td>0.5</td>\n",
       "      <td>1.0</td>\n",
       "      <td>0.5</td>\n",
       "      <td>0.5</td>\n",
       "      <td>0.5</td>\n",
       "      <td>1.0</td>\n",
       "    </tr>\n",
       "  </tbody>\n",
       "</table>\n",
       "<p>4409 rows × 45 columns</p>\n",
       "</div>"
      ],
      "text/plain": [
       "      Channel  DS Channel  Vendor Specific Tags    Length         Label  \\\n",
       "0         0.0    0.000000              0.032258  1.000000   SamsungJ6_K   \n",
       "2         1.0    0.714286              0.177419  0.287671  SamsungM31_A   \n",
       "3         1.0    0.857143              1.000000  0.328767    iPhone11_C   \n",
       "4         1.0    0.785714              1.000000  0.328767    iPhone11_B   \n",
       "5         0.0    0.285714              1.000000  0.378995    iPhone12_W   \n",
       "...       ...         ...                   ...       ...           ...   \n",
       "4410      1.0    0.857143              1.000000  0.324201    iPhone12_W   \n",
       "4411      0.5    0.142857              0.016129  0.438356     iPhone6_N   \n",
       "4412      0.0    0.142857              1.000000  0.328767    iPhone11_C   \n",
       "4413      0.0    0.214286              1.000000  0.378995    iPhone12_W   \n",
       "4414      1.0    0.928571              1.000000  0.328767    iPhone11_B   \n",
       "\n",
       "      Supported Rates 1  Supported Rates 2  Supported Rates 3  \\\n",
       "0                   1.0                1.0                1.0   \n",
       "2                   0.0                0.0                0.0   \n",
       "3                   1.0                1.0                1.0   \n",
       "4                   1.0                1.0                1.0   \n",
       "5                   1.0                1.0                1.0   \n",
       "...                 ...                ...                ...   \n",
       "4410                1.0                1.0                1.0   \n",
       "4411                0.0                0.0                0.0   \n",
       "4412                1.0                1.0                1.0   \n",
       "4413                1.0                1.0                1.0   \n",
       "4414                1.0                1.0                1.0   \n",
       "\n",
       "      Supported Rates 4  Extended Supported Rates 1  ...  TIM_Broadcast  \\\n",
       "0                   1.0                         0.0  ...            1.0   \n",
       "2                   0.0                         1.0  ...            1.0   \n",
       "3                   1.0                         0.0  ...            1.0   \n",
       "4                   1.0                         0.0  ...            1.0   \n",
       "5                   1.0                         0.0  ...            1.0   \n",
       "...                 ...                         ...  ...            ...   \n",
       "4410                1.0                         0.0  ...            1.0   \n",
       "4411                0.0                         0.0  ...            1.0   \n",
       "4412                1.0                         0.0  ...            1.0   \n",
       "4413                1.0                         0.0  ...            1.0   \n",
       "4414                1.0                         0.0  ...            1.0   \n",
       "\n",
       "      BSS_Transition  Multiple_BSSID  Timing_Measurement  SSID_List  DMS  \\\n",
       "0                0.5             0.5                 0.5        0.5  0.5   \n",
       "2                1.0             0.5                 0.5        0.5  0.5   \n",
       "3                1.0             0.5                 0.5        0.5  1.0   \n",
       "4                1.0             0.5                 0.5        0.5  1.0   \n",
       "5                1.0             0.5                 0.5        0.5  1.0   \n",
       "...              ...             ...                 ...        ...  ...   \n",
       "4410             1.0             0.5                 0.5        0.5  1.0   \n",
       "4411             1.0             0.5                 0.5        0.5  1.0   \n",
       "4412             1.0             0.5                 0.5        0.5  1.0   \n",
       "4413             1.0             0.5                 0.5        0.5  1.0   \n",
       "4414             1.0             0.5                 0.5        0.5  1.0   \n",
       "\n",
       "      Interworking  QoS_Map  WNM_Notification  Operating_Mode_Notification  \n",
       "0              0.5      0.5               0.5                          0.5  \n",
       "2              0.5      0.5               0.5                          1.0  \n",
       "3              0.5      0.5               0.5                          1.0  \n",
       "4              0.5      0.5               0.5                          1.0  \n",
       "5              0.5      0.5               0.5                          1.0  \n",
       "...            ...      ...               ...                          ...  \n",
       "4410           0.5      0.5               0.5                          1.0  \n",
       "4411           1.0      0.5               0.5                          1.0  \n",
       "4412           0.5      0.5               0.5                          1.0  \n",
       "4413           0.5      0.5               0.5                          1.0  \n",
       "4414           0.5      0.5               0.5                          1.0  \n",
       "\n",
       "[4409 rows x 45 columns]"
      ]
     },
     "execution_count": 457,
     "metadata": {},
     "output_type": "execute_result"
    }
   ],
   "source": [
    "df_normalized"
   ]
  },
  {
   "cell_type": "code",
   "execution_count": 458,
   "metadata": {},
   "outputs": [
    {
     "data": {
      "text/plain": [
       "Channel                                                float64\n",
       "DS Channel                                             float64\n",
       "Vendor Specific Tags                                   float64\n",
       "Length                                                 float64\n",
       "Label                                                   object\n",
       "Supported Rates 1                                      float64\n",
       "Supported Rates 2                                      float64\n",
       "Supported Rates 3                                      float64\n",
       "Supported Rates 4                                      float64\n",
       "Extended Supported Rates 1                             float64\n",
       "Extended Supported Rates 2                             float64\n",
       "Extended Supported Rates 3                             float64\n",
       "Extended Supported Rates 4                             float64\n",
       "Forty_Mhz_Intolerant                                   float64\n",
       "DSSS_CCK                                               float64\n",
       "Max_A_MSDU                                             float64\n",
       "Rx_STBC                                                float64\n",
       "Tx_STBC                                                float64\n",
       "Short_GI_40Mhz                                         float64\n",
       "SM_Power_Save                                          float64\n",
       "Supported_Channel_Width                                float64\n",
       "LDPC_Coding_Capability                                 float64\n",
       "Min_MPDCU_Start_Spacing                                float64\n",
       "Max_A_MPDU_Length_Exponent                             float64\n",
       "RX_Highest_Supported_Data_Rate                         float64\n",
       "RX_MSC_Bitmask                                         float64\n",
       "RD_Responder                                           float64\n",
       "HTC_HT_Support                                         float64\n",
       "MCS_Feedback                                           float64\n",
       "Compressed_Steering_n_Beamformer_Antennas_Supported    float64\n",
       "20_40_BSS_Coexistence_Management_Support               float64\n",
       "Extended_Channel_Switching                             float64\n",
       "FMS                                                    float64\n",
       "TFS                                                    float64\n",
       "WNM_Sleep_Mode                                         float64\n",
       "TIM_Broadcast                                          float64\n",
       "BSS_Transition                                         float64\n",
       "Multiple_BSSID                                         float64\n",
       "Timing_Measurement                                     float64\n",
       "SSID_List                                              float64\n",
       "DMS                                                    float64\n",
       "Interworking                                           float64\n",
       "QoS_Map                                                float64\n",
       "WNM_Notification                                       float64\n",
       "Operating_Mode_Notification                            float64\n",
       "dtype: object"
      ]
     },
     "execution_count": 458,
     "metadata": {},
     "output_type": "execute_result"
    }
   ],
   "source": [
    "df_normalized.dtypes"
   ]
  },
  {
   "cell_type": "markdown",
   "metadata": {},
   "source": [
    "## Split Columns"
   ]
  },
  {
   "cell_type": "code",
   "execution_count": 459,
   "metadata": {},
   "outputs": [],
   "source": [
    "X = df_normalized.drop(columns=[\"Label\"])\n",
    "y = df_normalized[\"Label\"]"
   ]
  },
  {
   "cell_type": "markdown",
   "metadata": {},
   "source": [
    "## Forward Feature Selection"
   ]
  },
  {
   "cell_type": "code",
   "execution_count": 460,
   "metadata": {},
   "outputs": [],
   "source": [
    "from sklearn.cluster import DBSCAN\n",
    "from sklearn import metrics"
   ]
  },
  {
   "cell_type": "code",
   "execution_count": 461,
   "metadata": {},
   "outputs": [],
   "source": [
    "remaining_features = feature_importances[\"Feature\"].to_list()"
   ]
  },
  {
   "cell_type": "code",
   "execution_count": 462,
   "metadata": {},
   "outputs": [
    {
     "name": "stdout",
     "output_type": "stream",
     "text": [
      "Remaining features ['Length', 'Vendor Specific Tags', 'Min_MPDCU_Start_Spacing', 'RX_Highest_Supported_Data_Rate', 'Interworking', 'WNM_Notification', 'DSSS_CCK', 'QoS_Map', 'Extended_Channel_Switching', 'SM_Power_Save', 'Operating_Mode_Notification', 'DMS', 'WNM_Sleep_Mode', 'SSID_List', 'RX_MSC_Bitmask', 'Tx_STBC', 'TFS', 'LDPC_Coding_Capability', 'Supported_Channel_Width', 'FMS', 'DS Channel', '20_40_BSS_Coexistence_Management_Support', 'TIM_Broadcast', 'Compressed_Steering_n_Beamformer_Antennas_Supported', 'Forty_Mhz_Intolerant', 'Short_GI_40Mhz', 'Supported Rates 4', 'BSS_Transition', 'Supported Rates 2', 'Rx_STBC', 'Supported Rates 3', 'Supported Rates 1', 'Extended Supported Rates 4', 'Channel', 'Extended Supported Rates 3', 'Extended Supported Rates 2', 'Multiple_BSSID', 'Timing_Measurement', 'Max_A_MPDU_Length_Exponent', 'Extended Supported Rates 1', 'MCS_Feedback', 'Max_A_MSDU', 'HTC_HT_Support', 'RD_Responder']\n"
     ]
    }
   ],
   "source": [
    "print(\"Remaining features\", remaining_features)"
   ]
  },
  {
   "cell_type": "code",
   "execution_count": 463,
   "metadata": {},
   "outputs": [],
   "source": [
    "eps = 0.0001\n",
    "min_samples = 20"
   ]
  },
  {
   "cell_type": "code",
   "execution_count": 464,
   "metadata": {},
   "outputs": [
    {
     "name": "stdout",
     "output_type": "stream",
     "text": [
      "[!!!] New best\n",
      "['Length']\n",
      "\t Homogeneity 0.7920173252986871\n",
      "\t Completeness 0.8692966637283166\n",
      "\t RMSE 7.0\n",
      "[!!!] New best\n",
      "['Length', 'Vendor Specific Tags']\n",
      "\t Homogeneity 0.8117141682245851\n",
      "\t Completeness 0.8505333616693972\n",
      "\t RMSE 1.0\n",
      "[!!!] New best\n",
      "['Length', 'Vendor Specific Tags', 'Min_MPDCU_Start_Spacing']\n",
      "\t Homogeneity 0.8182049248648731\n",
      "\t Completeness 0.8515430424950199\n",
      "\t RMSE 0.0\n"
     ]
    }
   ],
   "source": [
    "from math import sqrt\n",
    "\n",
    "selected_features = []\n",
    "candidate_features = []\n",
    "best_homogeneity = 0\n",
    "best_completeness = 0\n",
    "best_rmse = 100\n",
    "\n",
    "candidate_features = selected_features.copy()\n",
    "\n",
    "for feature_idx in range(len(remaining_features)):\n",
    "\n",
    "    candidate_features.append(remaining_features[feature_idx])\n",
    "    X_selected = X[candidate_features]\n",
    "\n",
    "    # Train DBSCAN model\n",
    "    dbscan_model = DBSCAN(eps=eps, min_samples=min_samples)\n",
    "    clusters = dbscan_model.fit_predict(X_selected)\n",
    "\n",
    "    # Calculate homogeneity and completeness\n",
    "    homogeneity = metrics.homogeneity_score(y, clusters)\n",
    "    completeness = metrics.completeness_score(y, clusters)\n",
    "    v_measure = metrics.v_measure_score(y, clusters)\n",
    "    true_labels = len(set(y))\n",
    "    detected_clusters = len(set(clusters))\n",
    "    rmse = sqrt((true_labels - detected_clusters) ** 2)\n",
    "\n",
    "    # Check for improvement\n",
    "    if homogeneity > best_homogeneity and rmse < best_rmse:\n",
    "        best_homogeneity = homogeneity\n",
    "        best_completeness = completeness\n",
    "        best_v_measure = v_measure\n",
    "        best_rmse = rmse\n",
    "        best_selected_features_list = candidate_features\n",
    "        print(\"[!!!] New best\")\n",
    "\n",
    "        # Update remaining features\n",
    "        print(candidate_features)\n",
    "        print(\"\\t Homogeneity\", homogeneity)\n",
    "        print(\"\\t Completeness\", completeness)\n",
    "        print(\"\\t RMSE\", rmse)"
   ]
  },
  {
   "cell_type": "code",
   "execution_count": 465,
   "metadata": {},
   "outputs": [
    {
     "name": "stdout",
     "output_type": "stream",
     "text": [
      "Best Homogeneity 0.8182049248648731\n",
      "Best Completeness 0.8515430424950199\n",
      "Best V-Measure 0.83454116995331\n",
      "Best RMSE: 0.0\n"
     ]
    }
   ],
   "source": [
    "print(\"Best Homogeneity\", best_homogeneity)\n",
    "print(\"Best Completeness\", best_completeness)\n",
    "print(\"Best V-Measure\", best_v_measure)\n",
    "print(\"Best RMSE:\", best_rmse)"
   ]
  },
  {
   "cell_type": "code",
   "execution_count": 466,
   "metadata": {},
   "outputs": [],
   "source": [
    "best_features = [\n",
    "    \"Length\",\n",
    "    \"Vendor Specific Tags\",\n",
    "    \"Min_MPDCU_Start_Spacing\",\n",
    "    # \"RX_Highest_Supported_Data_Rate\",\n",
    "    # \"Interworking\",\n",
    "    # \"WNM_Notification\",\n",
    "    # \"DSSS_CCK\",\n",
    "    # \"QoS_Map\",\n",
    "    # \"Extended_Channel_Switching\",\n",
    "]"
   ]
  },
  {
   "cell_type": "code",
   "execution_count": 467,
   "metadata": {},
   "outputs": [
    {
     "data": {
      "text/plain": [
       "3"
      ]
     },
     "execution_count": 467,
     "metadata": {},
     "output_type": "execute_result"
    }
   ],
   "source": [
    "len(best_features)"
   ]
  },
  {
   "cell_type": "markdown",
   "metadata": {},
   "source": [
    "Let's see how the dataframe is looking, considering only the `best_features`"
   ]
  },
  {
   "cell_type": "markdown",
   "metadata": {},
   "source": [
    "## Final Clustering w/ Metrics"
   ]
  },
  {
   "cell_type": "code",
   "execution_count": 468,
   "metadata": {},
   "outputs": [],
   "source": [
    "from sklearn.metrics import homogeneity_completeness_v_measure\n",
    "from math import sqrt"
   ]
  },
  {
   "cell_type": "code",
   "execution_count": 469,
   "metadata": {},
   "outputs": [],
   "source": [
    "best_df = df_normalized[best_features].copy()\n",
    "best_df[\"Label\"] = df_normalized[\"Label\"]"
   ]
  },
  {
   "cell_type": "code",
   "execution_count": 470,
   "metadata": {},
   "outputs": [
    {
     "data": {
      "text/html": [
       "<div>\n",
       "<style scoped>\n",
       "    .dataframe tbody tr th:only-of-type {\n",
       "        vertical-align: middle;\n",
       "    }\n",
       "\n",
       "    .dataframe tbody tr th {\n",
       "        vertical-align: top;\n",
       "    }\n",
       "\n",
       "    .dataframe thead th {\n",
       "        text-align: right;\n",
       "    }\n",
       "</style>\n",
       "<table border=\"1\" class=\"dataframe\">\n",
       "  <thead>\n",
       "    <tr style=\"text-align: right;\">\n",
       "      <th></th>\n",
       "      <th>Length</th>\n",
       "      <th>Vendor Specific Tags</th>\n",
       "      <th>Min_MPDCU_Start_Spacing</th>\n",
       "      <th>Label</th>\n",
       "    </tr>\n",
       "  </thead>\n",
       "  <tbody>\n",
       "    <tr>\n",
       "      <th>0</th>\n",
       "      <td>1.000000</td>\n",
       "      <td>0.032258</td>\n",
       "      <td>0.125</td>\n",
       "      <td>SamsungJ6_K</td>\n",
       "    </tr>\n",
       "    <tr>\n",
       "      <th>2</th>\n",
       "      <td>0.287671</td>\n",
       "      <td>0.177419</td>\n",
       "      <td>0.750</td>\n",
       "      <td>SamsungM31_A</td>\n",
       "    </tr>\n",
       "    <tr>\n",
       "      <th>3</th>\n",
       "      <td>0.328767</td>\n",
       "      <td>1.000000</td>\n",
       "      <td>0.875</td>\n",
       "      <td>iPhone11_C</td>\n",
       "    </tr>\n",
       "    <tr>\n",
       "      <th>4</th>\n",
       "      <td>0.328767</td>\n",
       "      <td>1.000000</td>\n",
       "      <td>0.875</td>\n",
       "      <td>iPhone11_B</td>\n",
       "    </tr>\n",
       "    <tr>\n",
       "      <th>5</th>\n",
       "      <td>0.378995</td>\n",
       "      <td>1.000000</td>\n",
       "      <td>0.875</td>\n",
       "      <td>iPhone12_W</td>\n",
       "    </tr>\n",
       "    <tr>\n",
       "      <th>...</th>\n",
       "      <td>...</td>\n",
       "      <td>...</td>\n",
       "      <td>...</td>\n",
       "      <td>...</td>\n",
       "    </tr>\n",
       "    <tr>\n",
       "      <th>4410</th>\n",
       "      <td>0.324201</td>\n",
       "      <td>1.000000</td>\n",
       "      <td>0.875</td>\n",
       "      <td>iPhone12_W</td>\n",
       "    </tr>\n",
       "    <tr>\n",
       "      <th>4411</th>\n",
       "      <td>0.438356</td>\n",
       "      <td>0.016129</td>\n",
       "      <td>0.750</td>\n",
       "      <td>iPhone6_N</td>\n",
       "    </tr>\n",
       "    <tr>\n",
       "      <th>4412</th>\n",
       "      <td>0.328767</td>\n",
       "      <td>1.000000</td>\n",
       "      <td>0.875</td>\n",
       "      <td>iPhone11_C</td>\n",
       "    </tr>\n",
       "    <tr>\n",
       "      <th>4413</th>\n",
       "      <td>0.378995</td>\n",
       "      <td>1.000000</td>\n",
       "      <td>0.875</td>\n",
       "      <td>iPhone12_W</td>\n",
       "    </tr>\n",
       "    <tr>\n",
       "      <th>4414</th>\n",
       "      <td>0.328767</td>\n",
       "      <td>1.000000</td>\n",
       "      <td>0.875</td>\n",
       "      <td>iPhone11_B</td>\n",
       "    </tr>\n",
       "  </tbody>\n",
       "</table>\n",
       "<p>4409 rows × 4 columns</p>\n",
       "</div>"
      ],
      "text/plain": [
       "        Length  Vendor Specific Tags  Min_MPDCU_Start_Spacing         Label\n",
       "0     1.000000              0.032258                    0.125   SamsungJ6_K\n",
       "2     0.287671              0.177419                    0.750  SamsungM31_A\n",
       "3     0.328767              1.000000                    0.875    iPhone11_C\n",
       "4     0.328767              1.000000                    0.875    iPhone11_B\n",
       "5     0.378995              1.000000                    0.875    iPhone12_W\n",
       "...        ...                   ...                      ...           ...\n",
       "4410  0.324201              1.000000                    0.875    iPhone12_W\n",
       "4411  0.438356              0.016129                    0.750     iPhone6_N\n",
       "4412  0.328767              1.000000                    0.875    iPhone11_C\n",
       "4413  0.378995              1.000000                    0.875    iPhone12_W\n",
       "4414  0.328767              1.000000                    0.875    iPhone11_B\n",
       "\n",
       "[4409 rows x 4 columns]"
      ]
     },
     "execution_count": 470,
     "metadata": {},
     "output_type": "execute_result"
    }
   ],
   "source": [
    "best_df"
   ]
  },
  {
   "cell_type": "code",
   "execution_count": 471,
   "metadata": {},
   "outputs": [],
   "source": [
    "final_clusterer = DBSCAN(eps=eps, min_samples=min_samples).fit(\n",
    "    best_df.drop(columns=[\"Label\"])\n",
    ")\n",
    "best_df[\"Cluster\"] = final_clusterer.labels_"
   ]
  },
  {
   "cell_type": "code",
   "execution_count": 472,
   "metadata": {},
   "outputs": [
    {
     "data": {
      "text/html": [
       "<div>\n",
       "<style scoped>\n",
       "    .dataframe tbody tr th:only-of-type {\n",
       "        vertical-align: middle;\n",
       "    }\n",
       "\n",
       "    .dataframe tbody tr th {\n",
       "        vertical-align: top;\n",
       "    }\n",
       "\n",
       "    .dataframe thead th {\n",
       "        text-align: right;\n",
       "    }\n",
       "</style>\n",
       "<table border=\"1\" class=\"dataframe\">\n",
       "  <thead>\n",
       "    <tr style=\"text-align: right;\">\n",
       "      <th></th>\n",
       "      <th>Length</th>\n",
       "      <th>Vendor Specific Tags</th>\n",
       "      <th>Min_MPDCU_Start_Spacing</th>\n",
       "      <th>Label</th>\n",
       "      <th>Cluster</th>\n",
       "    </tr>\n",
       "  </thead>\n",
       "  <tbody>\n",
       "    <tr>\n",
       "      <th>0</th>\n",
       "      <td>1.000000</td>\n",
       "      <td>0.032258</td>\n",
       "      <td>0.125</td>\n",
       "      <td>SamsungJ6_K</td>\n",
       "      <td>-1</td>\n",
       "    </tr>\n",
       "    <tr>\n",
       "      <th>2</th>\n",
       "      <td>0.287671</td>\n",
       "      <td>0.177419</td>\n",
       "      <td>0.750</td>\n",
       "      <td>SamsungM31_A</td>\n",
       "      <td>-1</td>\n",
       "    </tr>\n",
       "    <tr>\n",
       "      <th>3</th>\n",
       "      <td>0.328767</td>\n",
       "      <td>1.000000</td>\n",
       "      <td>0.875</td>\n",
       "      <td>iPhone11_C</td>\n",
       "      <td>0</td>\n",
       "    </tr>\n",
       "    <tr>\n",
       "      <th>4</th>\n",
       "      <td>0.328767</td>\n",
       "      <td>1.000000</td>\n",
       "      <td>0.875</td>\n",
       "      <td>iPhone11_B</td>\n",
       "      <td>0</td>\n",
       "    </tr>\n",
       "    <tr>\n",
       "      <th>5</th>\n",
       "      <td>0.378995</td>\n",
       "      <td>1.000000</td>\n",
       "      <td>0.875</td>\n",
       "      <td>iPhone12_W</td>\n",
       "      <td>1</td>\n",
       "    </tr>\n",
       "    <tr>\n",
       "      <th>...</th>\n",
       "      <td>...</td>\n",
       "      <td>...</td>\n",
       "      <td>...</td>\n",
       "      <td>...</td>\n",
       "      <td>...</td>\n",
       "    </tr>\n",
       "    <tr>\n",
       "      <th>4410</th>\n",
       "      <td>0.324201</td>\n",
       "      <td>1.000000</td>\n",
       "      <td>0.875</td>\n",
       "      <td>iPhone12_W</td>\n",
       "      <td>3</td>\n",
       "    </tr>\n",
       "    <tr>\n",
       "      <th>4411</th>\n",
       "      <td>0.438356</td>\n",
       "      <td>0.016129</td>\n",
       "      <td>0.750</td>\n",
       "      <td>iPhone6_N</td>\n",
       "      <td>4</td>\n",
       "    </tr>\n",
       "    <tr>\n",
       "      <th>4412</th>\n",
       "      <td>0.328767</td>\n",
       "      <td>1.000000</td>\n",
       "      <td>0.875</td>\n",
       "      <td>iPhone11_C</td>\n",
       "      <td>0</td>\n",
       "    </tr>\n",
       "    <tr>\n",
       "      <th>4413</th>\n",
       "      <td>0.378995</td>\n",
       "      <td>1.000000</td>\n",
       "      <td>0.875</td>\n",
       "      <td>iPhone12_W</td>\n",
       "      <td>1</td>\n",
       "    </tr>\n",
       "    <tr>\n",
       "      <th>4414</th>\n",
       "      <td>0.328767</td>\n",
       "      <td>1.000000</td>\n",
       "      <td>0.875</td>\n",
       "      <td>iPhone11_B</td>\n",
       "      <td>0</td>\n",
       "    </tr>\n",
       "  </tbody>\n",
       "</table>\n",
       "<p>4409 rows × 5 columns</p>\n",
       "</div>"
      ],
      "text/plain": [
       "        Length  Vendor Specific Tags  Min_MPDCU_Start_Spacing         Label  \\\n",
       "0     1.000000              0.032258                    0.125   SamsungJ6_K   \n",
       "2     0.287671              0.177419                    0.750  SamsungM31_A   \n",
       "3     0.328767              1.000000                    0.875    iPhone11_C   \n",
       "4     0.328767              1.000000                    0.875    iPhone11_B   \n",
       "5     0.378995              1.000000                    0.875    iPhone12_W   \n",
       "...        ...                   ...                      ...           ...   \n",
       "4410  0.324201              1.000000                    0.875    iPhone12_W   \n",
       "4411  0.438356              0.016129                    0.750     iPhone6_N   \n",
       "4412  0.328767              1.000000                    0.875    iPhone11_C   \n",
       "4413  0.378995              1.000000                    0.875    iPhone12_W   \n",
       "4414  0.328767              1.000000                    0.875    iPhone11_B   \n",
       "\n",
       "      Cluster  \n",
       "0          -1  \n",
       "2          -1  \n",
       "3           0  \n",
       "4           0  \n",
       "5           1  \n",
       "...       ...  \n",
       "4410        3  \n",
       "4411        4  \n",
       "4412        0  \n",
       "4413        1  \n",
       "4414        0  \n",
       "\n",
       "[4409 rows x 5 columns]"
      ]
     },
     "execution_count": 472,
     "metadata": {},
     "output_type": "execute_result"
    }
   ],
   "source": [
    "best_df"
   ]
  },
  {
   "cell_type": "code",
   "execution_count": 473,
   "metadata": {},
   "outputs": [
    {
     "name": "stdout",
     "output_type": "stream",
     "text": [
      "Homogeneity: \t 0.8182049248648731\n",
      "Completeness: \t 0.8515430424950199\n",
      "V-measure: \t 0.83454116995331\n"
     ]
    }
   ],
   "source": [
    "h, c, v = homogeneity_completeness_v_measure(best_df[\"Label\"], best_df[\"Cluster\"])\n",
    "print(\"Homogeneity: \\t\", h)\n",
    "print(\"Completeness: \\t\", c)\n",
    "print(\"V-measure: \\t\", v)"
   ]
  },
  {
   "cell_type": "code",
   "execution_count": 474,
   "metadata": {},
   "outputs": [
    {
     "name": "stdout",
     "output_type": "stream",
     "text": [
      "RMSE: 0.0\n"
     ]
    }
   ],
   "source": [
    "true_labels = len(set(y))\n",
    "detected_clusters = best_df[\"Cluster\"].nunique()\n",
    "rmse = sqrt((true_labels - detected_clusters) ** 2)\n",
    "print(\"RMSE:\", rmse)"
   ]
  },
  {
   "cell_type": "code",
   "execution_count": 475,
   "metadata": {},
   "outputs": [
    {
     "data": {
      "image/png": "[encoded data removed]",
      "text/plain": [
       "<Figure size 2500x1500 with 2 Axes>"
      ]
     },
     "metadata": {},
     "output_type": "display_data"
    }
   ],
   "source": [
    "plotHelper.plot_heatmap(best_df, \"Label\", \"Cluster\")"
   ]
  },
  {
   "cell_type": "code",
   "execution_count": 476,
   "metadata": {},
   "outputs": [
    {
     "name": "stdout",
     "output_type": "stream",
     "text": [
      "Number of devices 27\n"
     ]
    }
   ],
   "source": [
    "print(\"Number of devices\", best_df[\"Label\"].nunique())"
   ]
  }
 ],
 "metadata": {
  "kernelspec": {
   "display_name": ".venv",
   "language": "python",
   "name": "python3"
  },
  "language_info": {
   "codemirror_mode": {
    "name": "ipython",
    "version": 3
   },
   "file_extension": ".py",
   "mimetype": "text/x-python",
   "name": "python",
   "nbconvert_exporter": "python",
   "pygments_lexer": "ipython3",
   "version": "3.11.6"
  }
 },
 "nbformat": 4,
 "nbformat_minor": 2
}
