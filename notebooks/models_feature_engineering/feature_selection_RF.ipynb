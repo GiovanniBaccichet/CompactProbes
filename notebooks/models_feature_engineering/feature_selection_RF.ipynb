{
 "cells": [
  {
   "cell_type": "markdown",
   "metadata": {},
   "source": [
    "# Feature Selection - Random Forest"
   ]
  },
  {
   "cell_type": "markdown",
   "metadata": {},
   "source": [
    "## Libraries and Configurations"
   ]
  },
  {
   "cell_type": "markdown",
   "metadata": {},
   "source": [
    "Import configuration files"
   ]
  },
  {
   "cell_type": "code",
   "execution_count": 8,
   "metadata": {},
   "outputs": [
    {
     "data": {
      "text/plain": [
       "['../config.ini']"
      ]
     },
     "execution_count": 8,
     "metadata": {},
     "output_type": "execute_result"
    }
   ],
   "source": [
    "from configparser import ConfigParser\n",
    "\n",
    "config = ConfigParser()\n",
    "config.read(\"../config.ini\")"
   ]
  },
  {
   "cell_type": "markdown",
   "metadata": {},
   "source": [
    "Import **data libraries**"
   ]
  },
  {
   "cell_type": "code",
   "execution_count": 9,
   "metadata": {},
   "outputs": [],
   "source": [
    "import pandas as pd"
   ]
  },
  {
   "cell_type": "markdown",
   "metadata": {},
   "source": [
    "Import **ML libraries**"
   ]
  },
  {
   "cell_type": "code",
   "execution_count": null,
   "metadata": {},
   "outputs": [],
   "source": [
    "from sklearn import model_selection\n",
    "from sklearn.ensemble import RandomForestClassfier\n",
    "from sklearn.feature_selection import SelectFromModel"
   ]
  },
  {
   "cell_type": "markdown",
   "metadata": {},
   "source": [
    "Import **other libraries**"
   ]
  },
  {
   "cell_type": "code",
   "execution_count": 10,
   "metadata": {},
   "outputs": [
    {
     "data": {
      "text/plain": [
       "<bound method InteractiveShell.excepthook of <ipykernel.zmqshell.ZMQInteractiveShell object at 0x10e9b8dd0>>"
      ]
     },
     "execution_count": 10,
     "metadata": {},
     "output_type": "execute_result"
    }
   ],
   "source": [
    "from rich.progress import Progress\n",
    "from rich import traceback\n",
    "\n",
    "traceback.install()"
   ]
  },
  {
   "cell_type": "markdown",
   "metadata": {},
   "source": [
    "Custom helper scripts"
   ]
  },
  {
   "cell_type": "code",
   "execution_count": 11,
   "metadata": {},
   "outputs": [
    {
     "name": "stdout",
     "output_type": "stream",
     "text": [
      "/Users/bacci/Library/CloudStorage/SynologyDrive-giovanni/Research 🌱/Repositories/COMPACT/notebooks\n",
      "/Users/bacci/Library/CloudStorage/SynologyDrive-giovanni/Research 🌱/Repositories/COMPACT/notebooks/data_exploration_cleaning\n"
     ]
    }
   ],
   "source": [
    "%cd ..\n",
    "from scripts import plotHelper, encodingHelper\n",
    "%cd data_exploration_cleaning"
   ]
  },
  {
   "cell_type": "markdown",
   "metadata": {},
   "source": [
    "## SUM Encoded Data"
   ]
  },
  {
   "cell_type": "code",
   "execution_count": 12,
   "metadata": {},
   "outputs": [],
   "source": [
    "# Combined dataframe\n",
    "df_sum_csv = config[\"DEFAULT\"][\"interim_path\"] + \"encoded_sum_balanced_df.csv\""
   ]
  },
  {
   "cell_type": "code",
   "execution_count": 13,
   "metadata": {},
   "outputs": [],
   "source": [
    "df_sum = pd.read_csv(df_sum_csv, index_col=0)"
   ]
  },
  {
   "cell_type": "code",
   "execution_count": 14,
   "metadata": {},
   "outputs": [
    {
     "data": {
      "text/html": [
       "<div>\n",
       "<style scoped>\n",
       "    .dataframe tbody tr th:only-of-type {\n",
       "        vertical-align: middle;\n",
       "    }\n",
       "\n",
       "    .dataframe tbody tr th {\n",
       "        vertical-align: top;\n",
       "    }\n",
       "\n",
       "    .dataframe thead th {\n",
       "        text-align: right;\n",
       "    }\n",
       "</style>\n",
       "<table border=\"1\" class=\"dataframe\">\n",
       "  <thead>\n",
       "    <tr style=\"text-align: right;\">\n",
       "      <th></th>\n",
       "      <th>Timestamp</th>\n",
       "      <th>MAC Address</th>\n",
       "      <th>Channel</th>\n",
       "      <th>DS Channel</th>\n",
       "      <th>HT Capabilities SUM</th>\n",
       "      <th>Extended Capabilities SUM</th>\n",
       "      <th>Vendor Specific Tags SUM</th>\n",
       "      <th>Supported Rates SUM</th>\n",
       "      <th>Extended Supported Rates SUM</th>\n",
       "      <th>Length</th>\n",
       "      <th>Label</th>\n",
       "    </tr>\n",
       "  </thead>\n",
       "  <tbody>\n",
       "    <tr>\n",
       "      <th>0</th>\n",
       "      <td>2023-05-20 13:52:01.864465952</td>\n",
       "      <td>d2:6b:aa:b5:fb:ed</td>\n",
       "      <td>1</td>\n",
       "      <td>1.0</td>\n",
       "      <td>2709</td>\n",
       "      <td>830</td>\n",
       "      <td>-1</td>\n",
       "      <td>479</td>\n",
       "      <td>915</td>\n",
       "      <td>135</td>\n",
       "      <td>iPhone12Pro_C</td>\n",
       "    </tr>\n",
       "    <tr>\n",
       "      <th>1</th>\n",
       "      <td>2023-05-20 13:52:01.884716034</td>\n",
       "      <td>d2:6b:aa:b5:fb:ed</td>\n",
       "      <td>1</td>\n",
       "      <td>1.0</td>\n",
       "      <td>2709</td>\n",
       "      <td>830</td>\n",
       "      <td>-1</td>\n",
       "      <td>479</td>\n",
       "      <td>915</td>\n",
       "      <td>135</td>\n",
       "      <td>iPhone12Pro_C</td>\n",
       "    </tr>\n",
       "    <tr>\n",
       "      <th>2</th>\n",
       "      <td>2023-05-20 13:52:01.910542011</td>\n",
       "      <td>d2:6b:aa:b5:fb:ed</td>\n",
       "      <td>6</td>\n",
       "      <td>6.0</td>\n",
       "      <td>2709</td>\n",
       "      <td>830</td>\n",
       "      <td>-1</td>\n",
       "      <td>479</td>\n",
       "      <td>915</td>\n",
       "      <td>135</td>\n",
       "      <td>iPhone12Pro_C</td>\n",
       "    </tr>\n",
       "    <tr>\n",
       "      <th>3</th>\n",
       "      <td>2023-05-20 13:52:01.930788994</td>\n",
       "      <td>d2:6b:aa:b5:fb:ed</td>\n",
       "      <td>6</td>\n",
       "      <td>6.0</td>\n",
       "      <td>2709</td>\n",
       "      <td>830</td>\n",
       "      <td>-1</td>\n",
       "      <td>479</td>\n",
       "      <td>915</td>\n",
       "      <td>135</td>\n",
       "      <td>iPhone12Pro_C</td>\n",
       "    </tr>\n",
       "    <tr>\n",
       "      <th>4</th>\n",
       "      <td>2023-05-20 13:52:01.968745947</td>\n",
       "      <td>d2:6b:aa:b5:fb:ed</td>\n",
       "      <td>11</td>\n",
       "      <td>11.0</td>\n",
       "      <td>2709</td>\n",
       "      <td>830</td>\n",
       "      <td>-1</td>\n",
       "      <td>479</td>\n",
       "      <td>915</td>\n",
       "      <td>135</td>\n",
       "      <td>iPhone12Pro_C</td>\n",
       "    </tr>\n",
       "    <tr>\n",
       "      <th>...</th>\n",
       "      <td>...</td>\n",
       "      <td>...</td>\n",
       "      <td>...</td>\n",
       "      <td>...</td>\n",
       "      <td>...</td>\n",
       "      <td>...</td>\n",
       "      <td>...</td>\n",
       "      <td>...</td>\n",
       "      <td>...</td>\n",
       "      <td>...</td>\n",
       "      <td>...</td>\n",
       "    </tr>\n",
       "    <tr>\n",
       "      <th>13939</th>\n",
       "      <td>2021-07-07 12:02:57.579541922</td>\n",
       "      <td>da:a1:19:00:17:f9</td>\n",
       "      <td>6</td>\n",
       "      <td>1.0</td>\n",
       "      <td>2663</td>\n",
       "      <td>1032</td>\n",
       "      <td>747</td>\n",
       "      <td>447</td>\n",
       "      <td>915</td>\n",
       "      <td>182</td>\n",
       "      <td>XiaomiRedmiNote7_S</td>\n",
       "    </tr>\n",
       "    <tr>\n",
       "      <th>13940</th>\n",
       "      <td>2021-07-07 11:32:04.533828019</td>\n",
       "      <td>da:a1:19:1a:cc:8f</td>\n",
       "      <td>6</td>\n",
       "      <td>8.0</td>\n",
       "      <td>2663</td>\n",
       "      <td>1032</td>\n",
       "      <td>747</td>\n",
       "      <td>447</td>\n",
       "      <td>915</td>\n",
       "      <td>198</td>\n",
       "      <td>XiaomiRedmiNote7_S</td>\n",
       "    </tr>\n",
       "    <tr>\n",
       "      <th>13941</th>\n",
       "      <td>2021-07-07 11:46:50.089955091</td>\n",
       "      <td>da:a1:19:41:c9:b1</td>\n",
       "      <td>11</td>\n",
       "      <td>5.0</td>\n",
       "      <td>2663</td>\n",
       "      <td>1032</td>\n",
       "      <td>747</td>\n",
       "      <td>447</td>\n",
       "      <td>915</td>\n",
       "      <td>143</td>\n",
       "      <td>XiaomiRedmiNote7_S</td>\n",
       "    </tr>\n",
       "    <tr>\n",
       "      <th>13942</th>\n",
       "      <td>2021-07-07 12:16:31.309731960</td>\n",
       "      <td>da:a1:19:c7:24:b1</td>\n",
       "      <td>1</td>\n",
       "      <td>3.0</td>\n",
       "      <td>2663</td>\n",
       "      <td>1032</td>\n",
       "      <td>747</td>\n",
       "      <td>447</td>\n",
       "      <td>915</td>\n",
       "      <td>182</td>\n",
       "      <td>XiaomiRedmiNote7_S</td>\n",
       "    </tr>\n",
       "    <tr>\n",
       "      <th>13943</th>\n",
       "      <td>2021-07-07 11:19:07.014556885</td>\n",
       "      <td>da:a1:19:05:11:80</td>\n",
       "      <td>1</td>\n",
       "      <td>5.0</td>\n",
       "      <td>2663</td>\n",
       "      <td>1032</td>\n",
       "      <td>747</td>\n",
       "      <td>447</td>\n",
       "      <td>915</td>\n",
       "      <td>198</td>\n",
       "      <td>XiaomiRedmiNote7_S</td>\n",
       "    </tr>\n",
       "  </tbody>\n",
       "</table>\n",
       "<p>36046 rows × 11 columns</p>\n",
       "</div>"
      ],
      "text/plain": [
       "                           Timestamp        MAC Address  Channel  DS Channel  \\\n",
       "0      2023-05-20 13:52:01.864465952  d2:6b:aa:b5:fb:ed        1         1.0   \n",
       "1      2023-05-20 13:52:01.884716034  d2:6b:aa:b5:fb:ed        1         1.0   \n",
       "2      2023-05-20 13:52:01.910542011  d2:6b:aa:b5:fb:ed        6         6.0   \n",
       "3      2023-05-20 13:52:01.930788994  d2:6b:aa:b5:fb:ed        6         6.0   \n",
       "4      2023-05-20 13:52:01.968745947  d2:6b:aa:b5:fb:ed       11        11.0   \n",
       "...                              ...                ...      ...         ...   \n",
       "13939  2021-07-07 12:02:57.579541922  da:a1:19:00:17:f9        6         1.0   \n",
       "13940  2021-07-07 11:32:04.533828019  da:a1:19:1a:cc:8f        6         8.0   \n",
       "13941  2021-07-07 11:46:50.089955091  da:a1:19:41:c9:b1       11         5.0   \n",
       "13942  2021-07-07 12:16:31.309731960  da:a1:19:c7:24:b1        1         3.0   \n",
       "13943  2021-07-07 11:19:07.014556885  da:a1:19:05:11:80        1         5.0   \n",
       "\n",
       "       HT Capabilities SUM  Extended Capabilities SUM  \\\n",
       "0                     2709                        830   \n",
       "1                     2709                        830   \n",
       "2                     2709                        830   \n",
       "3                     2709                        830   \n",
       "4                     2709                        830   \n",
       "...                    ...                        ...   \n",
       "13939                 2663                       1032   \n",
       "13940                 2663                       1032   \n",
       "13941                 2663                       1032   \n",
       "13942                 2663                       1032   \n",
       "13943                 2663                       1032   \n",
       "\n",
       "       Vendor Specific Tags SUM  Supported Rates SUM  \\\n",
       "0                            -1                  479   \n",
       "1                            -1                  479   \n",
       "2                            -1                  479   \n",
       "3                            -1                  479   \n",
       "4                            -1                  479   \n",
       "...                         ...                  ...   \n",
       "13939                       747                  447   \n",
       "13940                       747                  447   \n",
       "13941                       747                  447   \n",
       "13942                       747                  447   \n",
       "13943                       747                  447   \n",
       "\n",
       "       Extended Supported Rates SUM  Length               Label  \n",
       "0                               915     135       iPhone12Pro_C  \n",
       "1                               915     135       iPhone12Pro_C  \n",
       "2                               915     135       iPhone12Pro_C  \n",
       "3                               915     135       iPhone12Pro_C  \n",
       "4                               915     135       iPhone12Pro_C  \n",
       "...                             ...     ...                 ...  \n",
       "13939                           915     182  XiaomiRedmiNote7_S  \n",
       "13940                           915     198  XiaomiRedmiNote7_S  \n",
       "13941                           915     143  XiaomiRedmiNote7_S  \n",
       "13942                           915     182  XiaomiRedmiNote7_S  \n",
       "13943                           915     198  XiaomiRedmiNote7_S  \n",
       "\n",
       "[36046 rows x 11 columns]"
      ]
     },
     "execution_count": 14,
     "metadata": {},
     "output_type": "execute_result"
    }
   ],
   "source": [
    "df_sum"
   ]
  },
  {
   "cell_type": "markdown",
   "metadata": {},
   "source": [
    "### Split dataframe"
   ]
  },
  {
   "cell_type": "code",
   "execution_count": null,
   "metadata": {},
   "outputs": [],
   "source": [
    "X_train, y_train, X_test, y_test = model_selection.train_test_split(\n",
    "    df_sum, test_size=0.3, random_state=42\n",
    ")"
   ]
  },
  {
   "cell_type": "code",
   "execution_count": null,
   "metadata": {},
   "outputs": [],
   "source": [
    "sel = SelectFromModel(RandomForestClassifier(n_estimators=100))\n",
    "sel.fit(X_train, y_train)"
   ]
  }
 ],
 "metadata": {
  "kernelspec": {
   "display_name": ".venv",
   "language": "python",
   "name": "python3"
  },
  "language_info": {
   "codemirror_mode": {
    "name": "ipython",
    "version": 3
   },
   "file_extension": ".py",
   "mimetype": "text/x-python",
   "name": "python",
   "nbconvert_exporter": "python",
   "pygments_lexer": "ipython3",
   "version": "3.11.7"
  }
 },
 "nbformat": 4,
 "nbformat_minor": 2
}
