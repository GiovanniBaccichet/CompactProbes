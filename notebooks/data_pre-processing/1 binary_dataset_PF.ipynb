{
 "cells": [
  {
   "cell_type": "markdown",
   "metadata": {},
   "source": [
    "# Binary Dataset - Probabilistic Fingerprint\n",
    "\n",
    "**Description**: Generate a binary dataset, starting from individual device files, to be used for Probabilistic Fingerprint train and test\n",
    "\n",
    "**Inputs**: `data/binary/*`\n",
    "\n",
    "**Outputs**: `data/interim/PF_binary.csv`"
   ]
  },
  {
   "cell_type": "markdown",
   "metadata": {},
   "source": [
    "## Notebook Setup"
   ]
  },
  {
   "cell_type": "markdown",
   "metadata": {},
   "source": [
    "### Libraries"
   ]
  },
  {
   "cell_type": "code",
   "execution_count": 3,
   "metadata": {},
   "outputs": [],
   "source": [
    "import os\n",
    "import sys\n",
    "sys.path.append('C:/Users/fabio/Documents/GitHub/CompactProbes/notebooks')\n",
    "from modules import fancyData\n",
    "import numpy as np\n",
    "import pandas as pd\n",
    "from rich import traceback"
   ]
  },
  {
   "cell_type": "code",
   "execution_count": 4,
   "metadata": {},
   "outputs": [
    {
     "data": {
      "text/plain": [
       "<bound method InteractiveShell.excepthook of <ipykernel.zmqshell.ZMQInteractiveShell object at 0x000001DB913AECF0>>"
      ]
     },
     "execution_count": 4,
     "metadata": {},
     "output_type": "execute_result"
    }
   ],
   "source": [
    "traceback.install()"
   ]
  },
  {
   "cell_type": "markdown",
   "metadata": {},
   "source": [
    "### Configurations"
   ]
  },
  {
   "cell_type": "code",
   "execution_count": 6,
   "metadata": {},
   "outputs": [
    {
     "data": {
      "text/plain": [
       "['../config.ini']"
      ]
     },
     "execution_count": 6,
     "metadata": {},
     "output_type": "execute_result"
    }
   ],
   "source": [
    "from configparser import ConfigParser\n",
    "\n",
    "config = ConfigParser()\n",
    "config.read(\"../config.ini\")"
   ]
  },
  {
   "cell_type": "markdown",
   "metadata": {},
   "source": [
    "## Import Data"
   ]
  },
  {
   "cell_type": "code",
   "execution_count": 7,
   "metadata": {},
   "outputs": [],
   "source": [
    "binary_path = config[\"DEFAULT\"][\"binary_path\"]"
   ]
  },
  {
   "cell_type": "code",
   "execution_count": 9,
   "metadata": {},
   "outputs": [],
   "source": [
    "df = fancyData.load_and_concat_csv(binary_path)"
   ]
  },
  {
   "cell_type": "code",
   "execution_count": 10,
   "metadata": {},
   "outputs": [],
   "source": [
    "df = df.astype(str)"
   ]
  },
  {
   "cell_type": "markdown",
   "metadata": {},
   "source": [
    "Remove noise from dataset"
   ]
  },
  {
   "cell_type": "code",
   "execution_count": 11,
   "metadata": {},
   "outputs": [],
   "source": [
    "df = df[df[\"mac\"] != \"00:0f:00:6a:68:8b\"]"
   ]
  },
  {
   "cell_type": "markdown",
   "metadata": {},
   "source": [
    "## Split Non-Random Bursts"
   ]
  },
  {
   "cell_type": "code",
   "execution_count": 12,
   "metadata": {},
   "outputs": [],
   "source": [
    "def generate_random_mac():\n",
    "    import random\n",
    "\n",
    "    return \":\".join(f\"{random.randint(0, 255):02x}\" for _ in range(6))"
   ]
  },
  {
   "cell_type": "code",
   "execution_count": 13,
   "metadata": {},
   "outputs": [],
   "source": [
    "def split_non_random_bursts(data: pd.DataFrame, labels: list) -> pd.DataFrame:\n",
    "    for label in labels:\n",
    "        # Filter rows with the specific label\n",
    "        label_data = data[data[\"label\"] == label]\n",
    "        label_data = label_data.sort_index().reset_index()\n",
    "\n",
    "        # Initialize variables to track the current burst\n",
    "        random_mac = generate_random_mac()  # Initial random MAC for the first burst\n",
    "        start_index = 0  # Start index of the current burst\n",
    "\n",
    "        for i in range(1, len(label_data)):\n",
    "            # Check for a drop in DS Channel\n",
    "            if int(label_data.at[i, \"dsss_parameter\"], 2) < int(\n",
    "                label_data.at[i - 1, \"dsss_parameter\"], 2\n",
    "            ):\n",
    "                # Update all rows in the current burst with the current random MAC\n",
    "                for j in range(start_index, i):\n",
    "                    original_index = label_data.loc[j, \"index\"]\n",
    "                    data.loc[original_index, \"mac\"] = random_mac\n",
    "\n",
    "                # Generate a new random MAC for the next burst\n",
    "                random_mac = generate_random_mac()\n",
    "                # print(f\"Channel dropped; assigning new MAC: {random_mac}\")\n",
    "\n",
    "                # Update the start index for the next burst\n",
    "                start_index = i\n",
    "\n",
    "        # Update the last burst (from the last drop to the end)\n",
    "        for j in range(start_index, len(label_data)):\n",
    "            original_index = label_data.loc[j, \"index\"]\n",
    "            data.loc[original_index, \"mac\"] = random_mac\n",
    "\n",
    "    return data\n"
   ]
  },
  {
   "cell_type": "code",
   "execution_count": 14,
   "metadata": {},
   "outputs": [],
   "source": [
    "non_randomizing_devices = [\n",
    "    \"iPhone12Pro_C\",\n",
    "    \"SamsungS6_H\",\n",
    "    \"HuaweiL21_D\",\n",
    "    \"HuaweiP10_Q\",\n",
    "    \"HuaweiP20_G\",\n",
    "    \"SamsungS4_C\",\n",
    "]"
   ]
  },
  {
   "cell_type": "code",
   "execution_count": 15,
   "metadata": {},
   "outputs": [],
   "source": [
    "df = split_non_random_bursts(df, non_randomizing_devices)"
   ]
  },
  {
   "cell_type": "markdown",
   "metadata": {},
   "source": [
    "## Process Data"
   ]
  },
  {
   "cell_type": "code",
   "execution_count": 16,
   "metadata": {},
   "outputs": [],
   "source": [
    "df = df.drop(columns=[\"frame_check_seq\", \"len_dsss\", \"ssid\"])"
   ]
  },
  {
   "cell_type": "code",
   "execution_count": 17,
   "metadata": {},
   "outputs": [],
   "source": [
    "# Columns to drop\n",
    "drop_starts_with = [\"e_id_\"]\n",
    "df = df.drop(\n",
    "    columns=[col for col in df.columns if col.startswith(tuple(drop_starts_with))]\n",
    ")"
   ]
  },
  {
   "cell_type": "code",
   "execution_count": 18,
   "metadata": {},
   "outputs": [],
   "source": [
    "df = df.replace(\"nan\", \"U\")"
   ]
  },
  {
   "cell_type": "code",
   "execution_count": 19,
   "metadata": {},
   "outputs": [],
   "source": [
    "df = fancyData.pad_columns(df, symbol=\"U\", exclude=[\"mac\", \"label\"])"
   ]
  },
  {
   "cell_type": "markdown",
   "metadata": {},
   "source": [
    "Switch from **probe-view** to **burst-view**"
   ]
  },
  {
   "cell_type": "code",
   "execution_count": 20,
   "metadata": {},
   "outputs": [],
   "source": [
    "def concat_values(series):\n",
    "    return \"\".join(series)"
   ]
  },
  {
   "cell_type": "code",
   "execution_count": 21,
   "metadata": {},
   "outputs": [],
   "source": [
    "# Columns to group by\n",
    "groupby_column = \"mac\"\n",
    "\n",
    "# Column to concatenate\n",
    "concatenate_column = \"dsss_parameter\"\n",
    "\n",
    "agg_dict = {\n",
    "    col: \"first\"\n",
    "    for col in df.columns\n",
    "    if col != groupby_column and col != concatenate_column\n",
    "}\n",
    "agg_dict[concatenate_column] = concat_values\n",
    "\n",
    "df = df.groupby(groupby_column).agg(agg_dict).reset_index()"
   ]
  },
  {
   "cell_type": "code",
   "execution_count": 22,
   "metadata": {},
   "outputs": [],
   "source": [
    "# Determine the mean length of the strings in the column\n",
    "mean_length = df[\"dsss_parameter\"].str.len().mean()\n",
    "\n",
    "# Round the mean length up to the next integer\n",
    "rounded_length = int(np.ceil(mean_length))\n",
    "\n",
    "# Cut any strings that exceed the rounded length\n",
    "df[\"dsss_parameter\"] = df[\"dsss_parameter\"].str[:rounded_length]\n",
    "\n",
    "# Zero-pad the strings to the rounded length\n",
    "df[\"dsss_parameter\"] = df[\"dsss_parameter\"].str.zfill(rounded_length)"
   ]
  },
  {
   "cell_type": "code",
   "execution_count": 23,
   "metadata": {},
   "outputs": [
    {
     "data": {
      "text/html": [
       "<div>\n",
       "<style scoped>\n",
       "    .dataframe tbody tr th:only-of-type {\n",
       "        vertical-align: middle;\n",
       "    }\n",
       "\n",
       "    .dataframe tbody tr th {\n",
       "        vertical-align: top;\n",
       "    }\n",
       "\n",
       "    .dataframe thead th {\n",
       "        text-align: right;\n",
       "    }\n",
       "</style>\n",
       "<table border=\"1\" class=\"dataframe\">\n",
       "  <thead>\n",
       "    <tr style=\"text-align: right;\">\n",
       "      <th></th>\n",
       "      <th>mac</th>\n",
       "      <th>len_ssid</th>\n",
       "      <th>len_sup_rates</th>\n",
       "      <th>supported_rates</th>\n",
       "      <th>len_ext_sup_rates</th>\n",
       "      <th>ext_sup_rates</th>\n",
       "      <th>len_ht_cap</th>\n",
       "      <th>ht_cap</th>\n",
       "      <th>len_vht_cap</th>\n",
       "      <th>vht_cap</th>\n",
       "      <th>len_ext_cap</th>\n",
       "      <th>ext_cap</th>\n",
       "      <th>len_vst</th>\n",
       "      <th>vst</th>\n",
       "      <th>len_ext_tags</th>\n",
       "      <th>ext_tags</th>\n",
       "      <th>label</th>\n",
       "      <th>dsss_parameter</th>\n",
       "    </tr>\n",
       "  </thead>\n",
       "  <tbody>\n",
       "    <tr>\n",
       "      <th>0</th>\n",
       "      <td>00:0e:37:20:a0:b9</td>\n",
       "      <td>00000000</td>\n",
       "      <td>00000100</td>\n",
       "      <td>00000010000001000000101100010110UUUUUUUUUUUUUU...</td>\n",
       "      <td>00001000</td>\n",
       "      <td>0000110000010010000110000010010000110000010010...</td>\n",
       "      <td>00011010</td>\n",
       "      <td>0010110100010000000101111111111100000000000000...</td>\n",
       "      <td>UUUUUUUU</td>\n",
       "      <td>UUUUUUUUUUUUUUUUUUUUUUUUUUUUUUUUUUUUUUUUUUUUUU...</td>\n",
       "      <td>00001000</td>\n",
       "      <td>0000000000000000000010000000000000000000000000...</td>\n",
       "      <td>00000111</td>\n",
       "      <td>0000000000010000000110000000001000000000000000...</td>\n",
       "      <td>UUUUUUUU</td>\n",
       "      <td>UUUUUUUUUUUUUUUUUUUUUUUUUUUUUUUUUUUUUUUUUUUUUU...</td>\n",
       "      <td>SamsungS4_C</td>\n",
       "      <td>0000000100000001000000100000001100000011000001...</td>\n",
       "    </tr>\n",
       "    <tr>\n",
       "      <th>1</th>\n",
       "      <td>00:21:8e:89:56:97</td>\n",
       "      <td>00000000</td>\n",
       "      <td>00000100</td>\n",
       "      <td>00000010000001000000101100010110UUUUUUUUUUUUUU...</td>\n",
       "      <td>00001000</td>\n",
       "      <td>0000110000010010000110000010010000110000010010...</td>\n",
       "      <td>00011010</td>\n",
       "      <td>0010110100010000000101111111111100000000000000...</td>\n",
       "      <td>UUUUUUUU</td>\n",
       "      <td>UUUUUUUUUUUUUUUUUUUUUUUUUUUUUUUUUUUUUUUUUUUUUU...</td>\n",
       "      <td>00001000</td>\n",
       "      <td>0000000000000000000010000000000000000000000000...</td>\n",
       "      <td>00000111</td>\n",
       "      <td>0000000000010000000110000000001000000000000000...</td>\n",
       "      <td>UUUUUUUU</td>\n",
       "      <td>UUUUUUUUUUUUUUUUUUUUUUUUUUUUUUUUUUUUUUUUUUUUUU...</td>\n",
       "      <td>SamsungS4_C</td>\n",
       "      <td>0000000100000001000000100000001100000011000001...</td>\n",
       "    </tr>\n",
       "    <tr>\n",
       "      <th>2</th>\n",
       "      <td>00:b1:97:26:e2:88</td>\n",
       "      <td>00000000</td>\n",
       "      <td>00000100</td>\n",
       "      <td>00000010000001000000101100010110UUUUUUUUUUUUUU...</td>\n",
       "      <td>00001000</td>\n",
       "      <td>0000110000010010000110000010010000110000010010...</td>\n",
       "      <td>00011010</td>\n",
       "      <td>0010110100010000000101111111111100000000000000...</td>\n",
       "      <td>UUUUUUUU</td>\n",
       "      <td>UUUUUUUUUUUUUUUUUUUUUUUUUUUUUUUUUUUUUUUUUUUUUU...</td>\n",
       "      <td>00001000</td>\n",
       "      <td>0000000000000000000010000000000000000000000000...</td>\n",
       "      <td>00000111</td>\n",
       "      <td>0000000000010000000110000000001000000000000000...</td>\n",
       "      <td>UUUUUUUU</td>\n",
       "      <td>UUUUUUUUUUUUUUUUUUUUUUUUUUUUUUUUUUUUUUUUUUUUUU...</td>\n",
       "      <td>SamsungS4_C</td>\n",
       "      <td>0000000100000001000000110000001100000110000010...</td>\n",
       "    </tr>\n",
       "    <tr>\n",
       "      <th>3</th>\n",
       "      <td>01:26:28:01:e9:d7</td>\n",
       "      <td>00000000</td>\n",
       "      <td>00000100</td>\n",
       "      <td>00000010000001000000101100010110UUUUUUUUUUUUUU...</td>\n",
       "      <td>00001000</td>\n",
       "      <td>0000110000010010000110000010010000110000010010...</td>\n",
       "      <td>00011010</td>\n",
       "      <td>0010110100010000000101111111111100000000000000...</td>\n",
       "      <td>UUUUUUUU</td>\n",
       "      <td>UUUUUUUUUUUUUUUUUUUUUUUUUUUUUUUUUUUUUUUUUUUUUU...</td>\n",
       "      <td>00001000</td>\n",
       "      <td>0000000000000000000010000000000000000000000000...</td>\n",
       "      <td>00000111</td>\n",
       "      <td>0000000000010000000110000000001000000000000000...</td>\n",
       "      <td>UUUUUUUU</td>\n",
       "      <td>UUUUUUUUUUUUUUUUUUUUUUUUUUUUUUUUUUUUUUUUUUUUUU...</td>\n",
       "      <td>SamsungS4_C</td>\n",
       "      <td>0000000100000001000000100000001100000011000000...</td>\n",
       "    </tr>\n",
       "    <tr>\n",
       "      <th>4</th>\n",
       "      <td>02:00:00:00:00:00</td>\n",
       "      <td>00000000</td>\n",
       "      <td>00001000</td>\n",
       "      <td>0000001000000100000010110001011000001100000100...</td>\n",
       "      <td>00000100</td>\n",
       "      <td>00110000010010000110000001101100UUUUUUUUUUUUUU...</td>\n",
       "      <td>00011010</td>\n",
       "      <td>0010110100000001000101111111111100000000000000...</td>\n",
       "      <td>UUUUUUUU</td>\n",
       "      <td>UUUUUUUUUUUUUUUUUUUUUUUUUUUUUUUUUUUUUUUUUUUUUU...</td>\n",
       "      <td>00001001</td>\n",
       "      <td>0000000100000000000010000000000000000000000000...</td>\n",
       "      <td>00000111</td>\n",
       "      <td>0000000001010000111100100000100000000000000100...</td>\n",
       "      <td>UUUUUUUU</td>\n",
       "      <td>UUUUUUUUUUUUUUUUUUUUUUUUUUUUUUUUUUUUUUUUUUUUUU...</td>\n",
       "      <td>SamsungM31_A</td>\n",
       "      <td>0000000100000001000000100000001100000011000001...</td>\n",
       "    </tr>\n",
       "    <tr>\n",
       "      <th>...</th>\n",
       "      <td>...</td>\n",
       "      <td>...</td>\n",
       "      <td>...</td>\n",
       "      <td>...</td>\n",
       "      <td>...</td>\n",
       "      <td>...</td>\n",
       "      <td>...</td>\n",
       "      <td>...</td>\n",
       "      <td>...</td>\n",
       "      <td>...</td>\n",
       "      <td>...</td>\n",
       "      <td>...</td>\n",
       "      <td>...</td>\n",
       "      <td>...</td>\n",
       "      <td>...</td>\n",
       "      <td>...</td>\n",
       "      <td>...</td>\n",
       "      <td>...</td>\n",
       "    </tr>\n",
       "    <tr>\n",
       "      <th>5969</th>\n",
       "      <td>ff:22:bf:93:ad:ef</td>\n",
       "      <td>00000000</td>\n",
       "      <td>00000100</td>\n",
       "      <td>00000010000001000000101100010110UUUUUUUUUUUUUU...</td>\n",
       "      <td>00001000</td>\n",
       "      <td>0000110000010010000110000010010000110000010010...</td>\n",
       "      <td>00011010</td>\n",
       "      <td>0010110100010000000101111111111100000000000000...</td>\n",
       "      <td>UUUUUUUU</td>\n",
       "      <td>UUUUUUUUUUUUUUUUUUUUUUUUUUUUUUUUUUUUUUUUUUUUUU...</td>\n",
       "      <td>00001000</td>\n",
       "      <td>0000000000000000000010000000000000000000000000...</td>\n",
       "      <td>00000111</td>\n",
       "      <td>0000000000010000000110000000001000000000000000...</td>\n",
       "      <td>UUUUUUUU</td>\n",
       "      <td>UUUUUUUUUUUUUUUUUUUUUUUUUUUUUUUUUUUUUUUUUUUUUU...</td>\n",
       "      <td>SamsungS4_C</td>\n",
       "      <td>0000000100000010000000110000001100000011000001...</td>\n",
       "    </tr>\n",
       "    <tr>\n",
       "      <th>5970</th>\n",
       "      <td>ff:36:e6:f8:81:71</td>\n",
       "      <td>00000000</td>\n",
       "      <td>00000100</td>\n",
       "      <td>00000010000001000000101100010110UUUUUUUUUUUUUU...</td>\n",
       "      <td>00001000</td>\n",
       "      <td>0000110000010010000110000010010000110000010010...</td>\n",
       "      <td>00011010</td>\n",
       "      <td>0010110100010000000101111111111100000000000000...</td>\n",
       "      <td>UUUUUUUU</td>\n",
       "      <td>UUUUUUUUUUUUUUUUUUUUUUUUUUUUUUUUUUUUUUUUUUUUUU...</td>\n",
       "      <td>00001000</td>\n",
       "      <td>0000000000000000000010000000000000000000000000...</td>\n",
       "      <td>00000111</td>\n",
       "      <td>0000000000010000000110000000001000000000000000...</td>\n",
       "      <td>UUUUUUUU</td>\n",
       "      <td>UUUUUUUUUUUUUUUUUUUUUUUUUUUUUUUUUUUUUUUUUUUUUU...</td>\n",
       "      <td>SamsungS4_C</td>\n",
       "      <td>0000000100000001000000100000001100000100000001...</td>\n",
       "    </tr>\n",
       "    <tr>\n",
       "      <th>5971</th>\n",
       "      <td>ff:42:ca:c8:ae:95</td>\n",
       "      <td>00000000</td>\n",
       "      <td>00000100</td>\n",
       "      <td>00000010000001000000101100010110UUUUUUUUUUUUUU...</td>\n",
       "      <td>00001000</td>\n",
       "      <td>0000110000010010000110000010010000110000010010...</td>\n",
       "      <td>00011010</td>\n",
       "      <td>0010110100010000000101111111111100000000000000...</td>\n",
       "      <td>UUUUUUUU</td>\n",
       "      <td>UUUUUUUUUUUUUUUUUUUUUUUUUUUUUUUUUUUUUUUUUUUUUU...</td>\n",
       "      <td>00001000</td>\n",
       "      <td>0000000000000000000010000000000000000000000000...</td>\n",
       "      <td>00000111</td>\n",
       "      <td>0000000000010000000110000000001000000000000000...</td>\n",
       "      <td>UUUUUUUU</td>\n",
       "      <td>UUUUUUUUUUUUUUUUUUUUUUUUUUUUUUUUUUUUUUUUUUUUUU...</td>\n",
       "      <td>SamsungS4_C</td>\n",
       "      <td>0000000100000001000000100000001100000011000001...</td>\n",
       "    </tr>\n",
       "    <tr>\n",
       "      <th>5972</th>\n",
       "      <td>ff:53:32:d3:42:84</td>\n",
       "      <td>00000000</td>\n",
       "      <td>00000100</td>\n",
       "      <td>00000010000001000000101100010110UUUUUUUUUUUUUU...</td>\n",
       "      <td>00001000</td>\n",
       "      <td>0000110000010010000110000010010000110000010010...</td>\n",
       "      <td>00011010</td>\n",
       "      <td>0010110100010000000101111111111100000000000000...</td>\n",
       "      <td>UUUUUUUU</td>\n",
       "      <td>UUUUUUUUUUUUUUUUUUUUUUUUUUUUUUUUUUUUUUUUUUUUUU...</td>\n",
       "      <td>00001000</td>\n",
       "      <td>0000000000000000000010000000000000000000000000...</td>\n",
       "      <td>00000111</td>\n",
       "      <td>0000000000010000000110000000001000000000000000...</td>\n",
       "      <td>UUUUUUUU</td>\n",
       "      <td>UUUUUUUUUUUUUUUUUUUUUUUUUUUUUUUUUUUUUUUUUUUUUU...</td>\n",
       "      <td>SamsungS4_C</td>\n",
       "      <td>0000000100000001000000100000001100000011000001...</td>\n",
       "    </tr>\n",
       "    <tr>\n",
       "      <th>5973</th>\n",
       "      <td>ff:f9:1a:06:95:c8</td>\n",
       "      <td>00000000</td>\n",
       "      <td>00000100</td>\n",
       "      <td>00000010000001000000101100010110UUUUUUUUUUUUUU...</td>\n",
       "      <td>00001000</td>\n",
       "      <td>0000110000010010000110000010010000110000010010...</td>\n",
       "      <td>00011010</td>\n",
       "      <td>0010110100010000000101111111111100000000000000...</td>\n",
       "      <td>UUUUUUUU</td>\n",
       "      <td>UUUUUUUUUUUUUUUUUUUUUUUUUUUUUUUUUUUUUUUUUUUUUU...</td>\n",
       "      <td>00001000</td>\n",
       "      <td>0000000000000000000010000000000000000000000000...</td>\n",
       "      <td>00000111</td>\n",
       "      <td>0000000000010000000110000000001000000000000000...</td>\n",
       "      <td>UUUUUUUU</td>\n",
       "      <td>UUUUUUUUUUUUUUUUUUUUUUUUUUUUUUUUUUUUUUUUUUUUUU...</td>\n",
       "      <td>SamsungS4_C</td>\n",
       "      <td>0000000100000001000000100000001000000011000000...</td>\n",
       "    </tr>\n",
       "  </tbody>\n",
       "</table>\n",
       "<p>5974 rows × 18 columns</p>\n",
       "</div>"
      ],
      "text/plain": [
       "                    mac  len_ssid len_sup_rates  \\\n",
       "0     00:0e:37:20:a0:b9  00000000      00000100   \n",
       "1     00:21:8e:89:56:97  00000000      00000100   \n",
       "2     00:b1:97:26:e2:88  00000000      00000100   \n",
       "3     01:26:28:01:e9:d7  00000000      00000100   \n",
       "4     02:00:00:00:00:00  00000000      00001000   \n",
       "...                 ...       ...           ...   \n",
       "5969  ff:22:bf:93:ad:ef  00000000      00000100   \n",
       "5970  ff:36:e6:f8:81:71  00000000      00000100   \n",
       "5971  ff:42:ca:c8:ae:95  00000000      00000100   \n",
       "5972  ff:53:32:d3:42:84  00000000      00000100   \n",
       "5973  ff:f9:1a:06:95:c8  00000000      00000100   \n",
       "\n",
       "                                        supported_rates len_ext_sup_rates  \\\n",
       "0     00000010000001000000101100010110UUUUUUUUUUUUUU...          00001000   \n",
       "1     00000010000001000000101100010110UUUUUUUUUUUUUU...          00001000   \n",
       "2     00000010000001000000101100010110UUUUUUUUUUUUUU...          00001000   \n",
       "3     00000010000001000000101100010110UUUUUUUUUUUUUU...          00001000   \n",
       "4     0000001000000100000010110001011000001100000100...          00000100   \n",
       "...                                                 ...               ...   \n",
       "5969  00000010000001000000101100010110UUUUUUUUUUUUUU...          00001000   \n",
       "5970  00000010000001000000101100010110UUUUUUUUUUUUUU...          00001000   \n",
       "5971  00000010000001000000101100010110UUUUUUUUUUUUUU...          00001000   \n",
       "5972  00000010000001000000101100010110UUUUUUUUUUUUUU...          00001000   \n",
       "5973  00000010000001000000101100010110UUUUUUUUUUUUUU...          00001000   \n",
       "\n",
       "                                          ext_sup_rates len_ht_cap  \\\n",
       "0     0000110000010010000110000010010000110000010010...   00011010   \n",
       "1     0000110000010010000110000010010000110000010010...   00011010   \n",
       "2     0000110000010010000110000010010000110000010010...   00011010   \n",
       "3     0000110000010010000110000010010000110000010010...   00011010   \n",
       "4     00110000010010000110000001101100UUUUUUUUUUUUUU...   00011010   \n",
       "...                                                 ...        ...   \n",
       "5969  0000110000010010000110000010010000110000010010...   00011010   \n",
       "5970  0000110000010010000110000010010000110000010010...   00011010   \n",
       "5971  0000110000010010000110000010010000110000010010...   00011010   \n",
       "5972  0000110000010010000110000010010000110000010010...   00011010   \n",
       "5973  0000110000010010000110000010010000110000010010...   00011010   \n",
       "\n",
       "                                                 ht_cap len_vht_cap  \\\n",
       "0     0010110100010000000101111111111100000000000000...    UUUUUUUU   \n",
       "1     0010110100010000000101111111111100000000000000...    UUUUUUUU   \n",
       "2     0010110100010000000101111111111100000000000000...    UUUUUUUU   \n",
       "3     0010110100010000000101111111111100000000000000...    UUUUUUUU   \n",
       "4     0010110100000001000101111111111100000000000000...    UUUUUUUU   \n",
       "...                                                 ...         ...   \n",
       "5969  0010110100010000000101111111111100000000000000...    UUUUUUUU   \n",
       "5970  0010110100010000000101111111111100000000000000...    UUUUUUUU   \n",
       "5971  0010110100010000000101111111111100000000000000...    UUUUUUUU   \n",
       "5972  0010110100010000000101111111111100000000000000...    UUUUUUUU   \n",
       "5973  0010110100010000000101111111111100000000000000...    UUUUUUUU   \n",
       "\n",
       "                                                vht_cap len_ext_cap  \\\n",
       "0     UUUUUUUUUUUUUUUUUUUUUUUUUUUUUUUUUUUUUUUUUUUUUU...    00001000   \n",
       "1     UUUUUUUUUUUUUUUUUUUUUUUUUUUUUUUUUUUUUUUUUUUUUU...    00001000   \n",
       "2     UUUUUUUUUUUUUUUUUUUUUUUUUUUUUUUUUUUUUUUUUUUUUU...    00001000   \n",
       "3     UUUUUUUUUUUUUUUUUUUUUUUUUUUUUUUUUUUUUUUUUUUUUU...    00001000   \n",
       "4     UUUUUUUUUUUUUUUUUUUUUUUUUUUUUUUUUUUUUUUUUUUUUU...    00001001   \n",
       "...                                                 ...         ...   \n",
       "5969  UUUUUUUUUUUUUUUUUUUUUUUUUUUUUUUUUUUUUUUUUUUUUU...    00001000   \n",
       "5970  UUUUUUUUUUUUUUUUUUUUUUUUUUUUUUUUUUUUUUUUUUUUUU...    00001000   \n",
       "5971  UUUUUUUUUUUUUUUUUUUUUUUUUUUUUUUUUUUUUUUUUUUUUU...    00001000   \n",
       "5972  UUUUUUUUUUUUUUUUUUUUUUUUUUUUUUUUUUUUUUUUUUUUUU...    00001000   \n",
       "5973  UUUUUUUUUUUUUUUUUUUUUUUUUUUUUUUUUUUUUUUUUUUUUU...    00001000   \n",
       "\n",
       "                                                ext_cap   len_vst  \\\n",
       "0     0000000000000000000010000000000000000000000000...  00000111   \n",
       "1     0000000000000000000010000000000000000000000000...  00000111   \n",
       "2     0000000000000000000010000000000000000000000000...  00000111   \n",
       "3     0000000000000000000010000000000000000000000000...  00000111   \n",
       "4     0000000100000000000010000000000000000000000000...  00000111   \n",
       "...                                                 ...       ...   \n",
       "5969  0000000000000000000010000000000000000000000000...  00000111   \n",
       "5970  0000000000000000000010000000000000000000000000...  00000111   \n",
       "5971  0000000000000000000010000000000000000000000000...  00000111   \n",
       "5972  0000000000000000000010000000000000000000000000...  00000111   \n",
       "5973  0000000000000000000010000000000000000000000000...  00000111   \n",
       "\n",
       "                                                    vst len_ext_tags  \\\n",
       "0     0000000000010000000110000000001000000000000000...     UUUUUUUU   \n",
       "1     0000000000010000000110000000001000000000000000...     UUUUUUUU   \n",
       "2     0000000000010000000110000000001000000000000000...     UUUUUUUU   \n",
       "3     0000000000010000000110000000001000000000000000...     UUUUUUUU   \n",
       "4     0000000001010000111100100000100000000000000100...     UUUUUUUU   \n",
       "...                                                 ...          ...   \n",
       "5969  0000000000010000000110000000001000000000000000...     UUUUUUUU   \n",
       "5970  0000000000010000000110000000001000000000000000...     UUUUUUUU   \n",
       "5971  0000000000010000000110000000001000000000000000...     UUUUUUUU   \n",
       "5972  0000000000010000000110000000001000000000000000...     UUUUUUUU   \n",
       "5973  0000000000010000000110000000001000000000000000...     UUUUUUUU   \n",
       "\n",
       "                                               ext_tags         label  \\\n",
       "0     UUUUUUUUUUUUUUUUUUUUUUUUUUUUUUUUUUUUUUUUUUUUUU...   SamsungS4_C   \n",
       "1     UUUUUUUUUUUUUUUUUUUUUUUUUUUUUUUUUUUUUUUUUUUUUU...   SamsungS4_C   \n",
       "2     UUUUUUUUUUUUUUUUUUUUUUUUUUUUUUUUUUUUUUUUUUUUUU...   SamsungS4_C   \n",
       "3     UUUUUUUUUUUUUUUUUUUUUUUUUUUUUUUUUUUUUUUUUUUUUU...   SamsungS4_C   \n",
       "4     UUUUUUUUUUUUUUUUUUUUUUUUUUUUUUUUUUUUUUUUUUUUUU...  SamsungM31_A   \n",
       "...                                                 ...           ...   \n",
       "5969  UUUUUUUUUUUUUUUUUUUUUUUUUUUUUUUUUUUUUUUUUUUUUU...   SamsungS4_C   \n",
       "5970  UUUUUUUUUUUUUUUUUUUUUUUUUUUUUUUUUUUUUUUUUUUUUU...   SamsungS4_C   \n",
       "5971  UUUUUUUUUUUUUUUUUUUUUUUUUUUUUUUUUUUUUUUUUUUUUU...   SamsungS4_C   \n",
       "5972  UUUUUUUUUUUUUUUUUUUUUUUUUUUUUUUUUUUUUUUUUUUUUU...   SamsungS4_C   \n",
       "5973  UUUUUUUUUUUUUUUUUUUUUUUUUUUUUUUUUUUUUUUUUUUUUU...   SamsungS4_C   \n",
       "\n",
       "                                         dsss_parameter  \n",
       "0     0000000100000001000000100000001100000011000001...  \n",
       "1     0000000100000001000000100000001100000011000001...  \n",
       "2     0000000100000001000000110000001100000110000010...  \n",
       "3     0000000100000001000000100000001100000011000000...  \n",
       "4     0000000100000001000000100000001100000011000001...  \n",
       "...                                                 ...  \n",
       "5969  0000000100000010000000110000001100000011000001...  \n",
       "5970  0000000100000001000000100000001100000100000001...  \n",
       "5971  0000000100000001000000100000001100000011000001...  \n",
       "5972  0000000100000001000000100000001100000011000001...  \n",
       "5973  0000000100000001000000100000001000000011000000...  \n",
       "\n",
       "[5974 rows x 18 columns]"
      ]
     },
     "execution_count": 23,
     "metadata": {},
     "output_type": "execute_result"
    }
   ],
   "source": [
    "df"
   ]
  },
  {
   "cell_type": "markdown",
   "metadata": {},
   "source": [
    "Drop other columns: mostly IE length fields, and fields that have been proven to not contribute that much."
   ]
  },
  {
   "cell_type": "code",
   "execution_count": 24,
   "metadata": {},
   "outputs": [],
   "source": [
    "columns_to_consider = [col for col in df.columns if col not in [\"mac\", \"label\"]]\n",
    "df = df.drop_duplicates(subset=columns_to_consider)"
   ]
  },
  {
   "cell_type": "code",
   "execution_count": 25,
   "metadata": {},
   "outputs": [],
   "source": [
    "df = df.drop(\n",
    "    columns=[\n",
    "        \"len_ssid\",\n",
    "        \"len_sup_rates\",\n",
    "        \"len_ext_sup_rates\",\n",
    "        \"len_vht_cap\",\n",
    "        \"len_ext_tags\",\n",
    "        \"supported_rates\",\n",
    "        \"ext_sup_rates\",\n",
    "        \"vht_cap\",\n",
    "        \"ext_tags\",\n",
    "    ]\n",
    ")"
   ]
  },
  {
   "cell_type": "markdown",
   "metadata": {},
   "source": [
    "## Save Data"
   ]
  },
  {
   "cell_type": "code",
   "execution_count": 26,
   "metadata": {},
   "outputs": [],
   "source": [
    "df[\"concatenated\"] = (\n",
    "    df.drop(columns=[\"label\", \"mac\"]).astype(str).apply(lambda x: \"\".join(x), axis=1)\n",
    ")\n",
    "\n",
    "# If you want to keep the 'label' column in the final dataframe:\n",
    "df_result = df[[\"label\", \"concatenated\"]]\n",
    "\n",
    "df_result = df_result.sort_values(\"label\")"
   ]
  },
  {
   "cell_type": "markdown",
   "metadata": {},
   "source": [
    "Save to CSV"
   ]
  },
  {
   "cell_type": "code",
   "execution_count": 27,
   "metadata": {},
   "outputs": [],
   "source": [
    "df_result.to_csv(\n",
    "    f\"{config['DEFAULT']['interim_path']}/binary_U_random.csv\", index=False\n",
    ")"
   ]
  }
 ],
 "metadata": {
  "kernelspec": {
   "display_name": "Python 3",
   "language": "python",
   "name": "python3"
  },
  "language_info": {
   "codemirror_mode": {
    "name": "ipython",
    "version": 3
   },
   "file_extension": ".py",
   "mimetype": "text/x-python",
   "name": "python",
   "nbconvert_exporter": "python",
   "pygments_lexer": "ipython3",
   "version": "3.13.1"
  }
 },
 "nbformat": 4,
 "nbformat_minor": 2
}
