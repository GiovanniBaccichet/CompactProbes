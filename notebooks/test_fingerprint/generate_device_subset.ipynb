{
 "cells": [
  {
   "cell_type": "markdown",
   "metadata": {},
   "source": [
    "# Generate Device Subsets"
   ]
  },
  {
   "cell_type": "markdown",
   "metadata": {},
   "source": [
    "Different from the subset, the purpose of this notebook is to generate 5-10 combinations of different devices (considering the totality of the rows from each one of them) for each cardinality from 2 to `len(devices)`."
   ]
  },
  {
   "cell_type": "code",
   "execution_count": 28,
   "metadata": {},
   "outputs": [],
   "source": [
    "import random\n",
    "from itertools import combinations\n",
    "\n",
    "import pandas as pd\n",
    "from tqdm.autonotebook import tqdm"
   ]
  },
  {
   "cell_type": "code",
   "execution_count": 29,
   "metadata": {},
   "outputs": [],
   "source": [
    "string_df = pd.read_csv(\"../../data/interim/string_df.csv\")"
   ]
  },
  {
   "cell_type": "code",
   "execution_count": 30,
   "metadata": {},
   "outputs": [
    {
     "data": {
      "text/html": [
       "<div>\n",
       "<style scoped>\n",
       "    .dataframe tbody tr th:only-of-type {\n",
       "        vertical-align: middle;\n",
       "    }\n",
       "\n",
       "    .dataframe tbody tr th {\n",
       "        vertical-align: top;\n",
       "    }\n",
       "\n",
       "    .dataframe thead th {\n",
       "        text-align: right;\n",
       "    }\n",
       "</style>\n",
       "<table border=\"1\" class=\"dataframe\">\n",
       "  <thead>\n",
       "    <tr style=\"text-align: right;\">\n",
       "      <th></th>\n",
       "      <th>label</th>\n",
       "      <th>concatenated</th>\n",
       "    </tr>\n",
       "  </thead>\n",
       "  <tbody>\n",
       "    <tr>\n",
       "      <th>0</th>\n",
       "      <td>GooglePixel3A_L</td>\n",
       "      <td>0000000000000000000000000000000000000000000000...</td>\n",
       "    </tr>\n",
       "    <tr>\n",
       "      <th>1</th>\n",
       "      <td>GooglePixel3A_L</td>\n",
       "      <td>0000000000000000000000000000000000000000000000...</td>\n",
       "    </tr>\n",
       "    <tr>\n",
       "      <th>2</th>\n",
       "      <td>GooglePixel3A_L</td>\n",
       "      <td>0000000000000000000000000000000000000000000000...</td>\n",
       "    </tr>\n",
       "    <tr>\n",
       "      <th>3</th>\n",
       "      <td>GooglePixel3A_L</td>\n",
       "      <td>0000000000000000000000000000000000000000000000...</td>\n",
       "    </tr>\n",
       "    <tr>\n",
       "      <th>4</th>\n",
       "      <td>GooglePixel3A_L</td>\n",
       "      <td>0000000000000000000000000000000000000000000000...</td>\n",
       "    </tr>\n",
       "    <tr>\n",
       "      <th>...</th>\n",
       "      <td>...</td>\n",
       "      <td>...</td>\n",
       "    </tr>\n",
       "    <tr>\n",
       "      <th>951</th>\n",
       "      <td>iPhoneXSMax_M</td>\n",
       "      <td>0001101000101101000000000001101111111111000000...</td>\n",
       "    </tr>\n",
       "    <tr>\n",
       "      <th>952</th>\n",
       "      <td>iPhoneXSMax_M</td>\n",
       "      <td>0001101000101101010000000001101111111111000000...</td>\n",
       "    </tr>\n",
       "    <tr>\n",
       "      <th>953</th>\n",
       "      <td>iPhoneXSMax_M</td>\n",
       "      <td>0001101000101101000000000001101111111111000000...</td>\n",
       "    </tr>\n",
       "    <tr>\n",
       "      <th>954</th>\n",
       "      <td>iPhoneXSMax_M</td>\n",
       "      <td>0001101000101101010000000001101111111111000000...</td>\n",
       "    </tr>\n",
       "    <tr>\n",
       "      <th>955</th>\n",
       "      <td>iPhoneXSMax_M</td>\n",
       "      <td>0001101000101101010000000001101111111111000000...</td>\n",
       "    </tr>\n",
       "  </tbody>\n",
       "</table>\n",
       "<p>956 rows × 2 columns</p>\n",
       "</div>"
      ],
      "text/plain": [
       "               label                                       concatenated\n",
       "0    GooglePixel3A_L  0000000000000000000000000000000000000000000000...\n",
       "1    GooglePixel3A_L  0000000000000000000000000000000000000000000000...\n",
       "2    GooglePixel3A_L  0000000000000000000000000000000000000000000000...\n",
       "3    GooglePixel3A_L  0000000000000000000000000000000000000000000000...\n",
       "4    GooglePixel3A_L  0000000000000000000000000000000000000000000000...\n",
       "..               ...                                                ...\n",
       "951    iPhoneXSMax_M  0001101000101101000000000001101111111111000000...\n",
       "952    iPhoneXSMax_M  0001101000101101010000000001101111111111000000...\n",
       "953    iPhoneXSMax_M  0001101000101101000000000001101111111111000000...\n",
       "954    iPhoneXSMax_M  0001101000101101010000000001101111111111000000...\n",
       "955    iPhoneXSMax_M  0001101000101101010000000001101111111111000000...\n",
       "\n",
       "[956 rows x 2 columns]"
      ]
     },
     "execution_count": 30,
     "metadata": {},
     "output_type": "execute_result"
    }
   ],
   "source": [
    "string_df"
   ]
  },
  {
   "cell_type": "code",
   "execution_count": 31,
   "metadata": {},
   "outputs": [],
   "source": [
    "labels = string_df[\"label\"].unique()"
   ]
  },
  {
   "cell_type": "code",
   "execution_count": 32,
   "metadata": {},
   "outputs": [
    {
     "data": {
      "text/plain": [
       "array(['GooglePixel3A_L', 'GooglePixel3A_V', 'HuaweiHonor9_R',\n",
       "       'HuaweiL21_D', 'HuaweiP10_Q', 'HuaweiP20_G', 'OnePlusNord_O',\n",
       "       'OppoFindX3Neo_A', 'S21Ultra_M', 'SamsungJ6_K', 'SamsungM31_A',\n",
       "       'SamsungS4_C', 'SamsungS6_H', 'SamsungS7_I', 'XiaomiA2_E',\n",
       "       'XiaomiRedmi4_B', 'XiaomiRedmi5_J', 'XiaomiRedmiNote7_S',\n",
       "       'XiaomiRedmiNote9S_T', 'iPhone11_B', 'iPhone11_C', 'iPhone11_F',\n",
       "       'iPhone11_M', 'iPhone12Pro_C', 'iPhone12_M', 'iPhone12_W',\n",
       "       'iPhone6_N', 'iPhone7_F', 'iPhone7_X', 'iPhoneXR_A', 'iPhoneXR_L',\n",
       "       'iPhoneXR_U', 'iPhoneXSMax_M'], dtype=object)"
      ]
     },
     "execution_count": 32,
     "metadata": {},
     "output_type": "execute_result"
    }
   ],
   "source": [
    "labels"
   ]
  },
  {
   "cell_type": "code",
   "execution_count": 33,
   "metadata": {},
   "outputs": [],
   "source": [
    "all_combinations_list = []"
   ]
  },
  {
   "cell_type": "code",
   "execution_count": 34,
   "metadata": {},
   "outputs": [
    {
     "data": {
      "application/vnd.jupyter.widget-view+json": {
       "model_id": "183f27aa88c34824a25b26d2aecccdd9",
       "version_major": 2,
       "version_minor": 0
      },
      "text/plain": [
       "⚠️ Batch Processing:   0%|          | 0/10 [00:00<?, ?it/s]"
      ]
     },
     "metadata": {},
     "output_type": "display_data"
    },
    {
     "data": {
      "application/vnd.jupyter.widget-view+json": {
       "model_id": "bc148f3fc80d4d3d8868739b83996680",
       "version_major": 2,
       "version_minor": 0
      },
      "text/plain": [
       "↘️ Batch #1:   0%|          | 0/32 [00:00<?, ?it/s]"
      ]
     },
     "metadata": {},
     "output_type": "display_data"
    },
    {
     "data": {
      "application/vnd.jupyter.widget-view+json": {
       "model_id": "6d28692604464ea1a579f3ae7b1f323d",
       "version_major": 2,
       "version_minor": 0
      },
      "text/plain": [
       "↘️ Batch #2:   0%|          | 0/32 [00:00<?, ?it/s]"
      ]
     },
     "metadata": {},
     "output_type": "display_data"
    },
    {
     "data": {
      "application/vnd.jupyter.widget-view+json": {
       "model_id": "5108f7c05b0e4dd4aa8f71154ad8714c",
       "version_major": 2,
       "version_minor": 0
      },
      "text/plain": [
       "↘️ Batch #3:   0%|          | 0/32 [00:00<?, ?it/s]"
      ]
     },
     "metadata": {},
     "output_type": "display_data"
    },
    {
     "data": {
      "application/vnd.jupyter.widget-view+json": {
       "model_id": "4608e1ee294a430da75ac3dd2765f2c0",
       "version_major": 2,
       "version_minor": 0
      },
      "text/plain": [
       "↘️ Batch #4:   0%|          | 0/32 [00:00<?, ?it/s]"
      ]
     },
     "metadata": {},
     "output_type": "display_data"
    },
    {
     "data": {
      "application/vnd.jupyter.widget-view+json": {
       "model_id": "c668273142204700be994bff1cc81df1",
       "version_major": 2,
       "version_minor": 0
      },
      "text/plain": [
       "↘️ Batch #5:   0%|          | 0/32 [00:00<?, ?it/s]"
      ]
     },
     "metadata": {},
     "output_type": "display_data"
    },
    {
     "data": {
      "application/vnd.jupyter.widget-view+json": {
       "model_id": "afde9ac080004a41a008ed2499e7fb44",
       "version_major": 2,
       "version_minor": 0
      },
      "text/plain": [
       "↘️ Batch #6:   0%|          | 0/32 [00:00<?, ?it/s]"
      ]
     },
     "metadata": {},
     "output_type": "display_data"
    },
    {
     "data": {
      "application/vnd.jupyter.widget-view+json": {
       "model_id": "e2896a4aa9814b5687daa0b4df76851c",
       "version_major": 2,
       "version_minor": 0
      },
      "text/plain": [
       "↘️ Batch #7:   0%|          | 0/32 [00:00<?, ?it/s]"
      ]
     },
     "metadata": {},
     "output_type": "display_data"
    },
    {
     "data": {
      "application/vnd.jupyter.widget-view+json": {
       "model_id": "fa4321de72a444a4ac7bea1a9c3e2574",
       "version_major": 2,
       "version_minor": 0
      },
      "text/plain": [
       "↘️ Batch #8:   0%|          | 0/32 [00:00<?, ?it/s]"
      ]
     },
     "metadata": {},
     "output_type": "display_data"
    },
    {
     "data": {
      "application/vnd.jupyter.widget-view+json": {
       "model_id": "8f38b2d552334013951815c1231f1a22",
       "version_major": 2,
       "version_minor": 0
      },
      "text/plain": [
       "↘️ Batch #9:   0%|          | 0/32 [00:00<?, ?it/s]"
      ]
     },
     "metadata": {},
     "output_type": "display_data"
    },
    {
     "data": {
      "application/vnd.jupyter.widget-view+json": {
       "model_id": "b462673ecfb64fcd94d89cbdb7045670",
       "version_major": 2,
       "version_minor": 0
      },
      "text/plain": [
       "↘️ Batch #10:   0%|          | 0/32 [00:00<?, ?it/s]"
      ]
     },
     "metadata": {},
     "output_type": "display_data"
    }
   ],
   "source": [
    "max_devices = len(labels)\n",
    "batches = 10\n",
    "\n",
    "num_iter = range(0, batches)\n",
    "i = 0\n",
    "\n",
    "random.seed(42)\n",
    "\n",
    "for i in tqdm(range(0, batches), desc=\"⚠️ Batch Processing\"):\n",
    "    for r in tqdm(range(2, max_devices + 1), desc=\"↘️ Batch #\" + str(i + 1)):\n",
    "        random_combinations = random.sample(string_df[\"label\"].unique().tolist(), r)\n",
    "        for labels_combination in combinations(random_combinations, r):\n",
    "            # Append each combination and its length to the list\n",
    "            all_combinations_list.append({\n",
    "                'combination': labels_combination,\n",
    "                'length': len(labels_combination)\n",
    "            })"
   ]
  },
  {
   "cell_type": "code",
   "execution_count": 35,
   "metadata": {},
   "outputs": [],
   "source": [
    "# Convert the list of dictionaries to a DataFrame\n",
    "all_combinations_df = pd.DataFrame(all_combinations_list)\n",
    "\n",
    "# Remove duplicates: keep rows where the set of devices is unique\n",
    "# Convert each combination to a set and drop duplicates\n",
    "all_combinations_df['combination_set'] = all_combinations_df['combination'].apply(set)\n",
    "all_combinations_df.drop_duplicates(subset='combination_set', keep='first', inplace=True)\n",
    "\n",
    "# Drop the helper column 'combination_set' as it's no longer needed\n",
    "all_combinations_df.drop(columns=['combination_set'], inplace=True)"
   ]
  },
  {
   "cell_type": "code",
   "execution_count": 36,
   "metadata": {},
   "outputs": [
    {
     "data": {
      "text/html": [
       "<div>\n",
       "<style scoped>\n",
       "    .dataframe tbody tr th:only-of-type {\n",
       "        vertical-align: middle;\n",
       "    }\n",
       "\n",
       "    .dataframe tbody tr th {\n",
       "        vertical-align: top;\n",
       "    }\n",
       "\n",
       "    .dataframe thead th {\n",
       "        text-align: right;\n",
       "    }\n",
       "</style>\n",
       "<table border=\"1\" class=\"dataframe\">\n",
       "  <thead>\n",
       "    <tr style=\"text-align: right;\">\n",
       "      <th></th>\n",
       "      <th>combination</th>\n",
       "      <th>length</th>\n",
       "    </tr>\n",
       "  </thead>\n",
       "  <tbody>\n",
       "    <tr>\n",
       "      <th>0</th>\n",
       "      <td>(OppoFindX3Neo_A, GooglePixel3A_V)</td>\n",
       "      <td>2</td>\n",
       "    </tr>\n",
       "    <tr>\n",
       "      <th>1</th>\n",
       "      <td>(XiaomiRedmiNote7_S, XiaomiRedmi4_B, XiaomiA2_E)</td>\n",
       "      <td>3</td>\n",
       "    </tr>\n",
       "    <tr>\n",
       "      <th>2</th>\n",
       "      <td>(S21Ultra_M, OnePlusNord_O, HuaweiP20_G, iPhon...</td>\n",
       "      <td>4</td>\n",
       "    </tr>\n",
       "    <tr>\n",
       "      <th>3</th>\n",
       "      <td>(HuaweiHonor9_R, GooglePixel3A_V, HuaweiP20_G,...</td>\n",
       "      <td>5</td>\n",
       "    </tr>\n",
       "    <tr>\n",
       "      <th>4</th>\n",
       "      <td>(iPhoneXSMax_M, GooglePixel3A_V, XiaomiRedmiNo...</td>\n",
       "      <td>6</td>\n",
       "    </tr>\n",
       "    <tr>\n",
       "      <th>...</th>\n",
       "      <td>...</td>\n",
       "      <td>...</td>\n",
       "    </tr>\n",
       "    <tr>\n",
       "      <th>314</th>\n",
       "      <td>(SamsungM31_A, XiaomiRedmi5_J, iPhoneXR_A, Hua...</td>\n",
       "      <td>28</td>\n",
       "    </tr>\n",
       "    <tr>\n",
       "      <th>315</th>\n",
       "      <td>(iPhone11_F, iPhoneXR_A, iPhone11_B, XiaomiRed...</td>\n",
       "      <td>29</td>\n",
       "    </tr>\n",
       "    <tr>\n",
       "      <th>316</th>\n",
       "      <td>(GooglePixel3A_L, iPhone7_F, XiaomiRedmi5_J, S...</td>\n",
       "      <td>30</td>\n",
       "    </tr>\n",
       "    <tr>\n",
       "      <th>317</th>\n",
       "      <td>(OppoFindX3Neo_A, GooglePixel3A_L, SamsungS6_H...</td>\n",
       "      <td>31</td>\n",
       "    </tr>\n",
       "    <tr>\n",
       "      <th>318</th>\n",
       "      <td>(iPhone11_B, iPhone11_M, iPhone12_M, iPhoneXR_...</td>\n",
       "      <td>32</td>\n",
       "    </tr>\n",
       "  </tbody>\n",
       "</table>\n",
       "<p>311 rows × 2 columns</p>\n",
       "</div>"
      ],
      "text/plain": [
       "                                           combination  length\n",
       "0                   (OppoFindX3Neo_A, GooglePixel3A_V)       2\n",
       "1     (XiaomiRedmiNote7_S, XiaomiRedmi4_B, XiaomiA2_E)       3\n",
       "2    (S21Ultra_M, OnePlusNord_O, HuaweiP20_G, iPhon...       4\n",
       "3    (HuaweiHonor9_R, GooglePixel3A_V, HuaweiP20_G,...       5\n",
       "4    (iPhoneXSMax_M, GooglePixel3A_V, XiaomiRedmiNo...       6\n",
       "..                                                 ...     ...\n",
       "314  (SamsungM31_A, XiaomiRedmi5_J, iPhoneXR_A, Hua...      28\n",
       "315  (iPhone11_F, iPhoneXR_A, iPhone11_B, XiaomiRed...      29\n",
       "316  (GooglePixel3A_L, iPhone7_F, XiaomiRedmi5_J, S...      30\n",
       "317  (OppoFindX3Neo_A, GooglePixel3A_L, SamsungS6_H...      31\n",
       "318  (iPhone11_B, iPhone11_M, iPhone12_M, iPhoneXR_...      32\n",
       "\n",
       "[311 rows x 2 columns]"
      ]
     },
     "execution_count": 36,
     "metadata": {},
     "output_type": "execute_result"
    }
   ],
   "source": [
    "all_combinations_df"
   ]
  },
  {
   "cell_type": "code",
   "execution_count": 37,
   "metadata": {},
   "outputs": [],
   "source": [
    "all_combinations_df.to_csv(\"../../data/train_test/10_combinations_df.csv\", index=False)"
   ]
  }
 ],
 "metadata": {
  "kernelspec": {
   "display_name": ".venv",
   "language": "python",
   "name": "python3"
  },
  "language_info": {
   "codemirror_mode": {
    "name": "ipython",
    "version": 3
   },
   "file_extension": ".py",
   "mimetype": "text/x-python",
   "name": "python",
   "nbconvert_exporter": "python",
   "pygments_lexer": "ipython3",
   "version": "3.11.9"
  }
 },
 "nbformat": 4,
 "nbformat_minor": 2
}
