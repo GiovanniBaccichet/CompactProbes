{
 "cells": [
  {
   "cell_type": "code",
   "execution_count": 2,
   "metadata": {},
   "outputs": [],
   "source": [
    "import pandas as pd"
   ]
  },
  {
   "cell_type": "markdown",
   "metadata": {},
   "source": [
    "## BAMBOO"
   ]
  },
  {
   "cell_type": "code",
   "execution_count": 15,
   "metadata": {},
   "outputs": [],
   "source": [
    "metrics_16 = pd.read_csv('../../reports/CSV/clustering/clustering_results_64.csv')"
   ]
  },
  {
   "cell_type": "code",
   "execution_count": 16,
   "metadata": {},
   "outputs": [
    {
     "data": {
      "text/html": [
       "<div>\n",
       "<style scoped>\n",
       "    .dataframe tbody tr th:only-of-type {\n",
       "        vertical-align: middle;\n",
       "    }\n",
       "\n",
       "    .dataframe tbody tr th {\n",
       "        vertical-align: top;\n",
       "    }\n",
       "\n",
       "    .dataframe thead th {\n",
       "        text-align: right;\n",
       "    }\n",
       "</style>\n",
       "<table border=\"1\" class=\"dataframe\">\n",
       "  <thead>\n",
       "    <tr style=\"text-align: right;\">\n",
       "      <th></th>\n",
       "      <th>length</th>\n",
       "      <th>homogeneity</th>\n",
       "      <th>completeness</th>\n",
       "      <th>v_measure</th>\n",
       "      <th>rmse</th>\n",
       "    </tr>\n",
       "  </thead>\n",
       "  <tbody>\n",
       "    <tr>\n",
       "      <th>0</th>\n",
       "      <td>2</td>\n",
       "      <td>1.000000</td>\n",
       "      <td>0.575453</td>\n",
       "      <td>0.730523</td>\n",
       "      <td>2.0</td>\n",
       "    </tr>\n",
       "    <tr>\n",
       "      <th>1</th>\n",
       "      <td>3</td>\n",
       "      <td>1.000000</td>\n",
       "      <td>0.955559</td>\n",
       "      <td>0.977275</td>\n",
       "      <td>2.0</td>\n",
       "    </tr>\n",
       "    <tr>\n",
       "      <th>2</th>\n",
       "      <td>4</td>\n",
       "      <td>1.000000</td>\n",
       "      <td>0.957867</td>\n",
       "      <td>0.978480</td>\n",
       "      <td>1.0</td>\n",
       "    </tr>\n",
       "    <tr>\n",
       "      <th>3</th>\n",
       "      <td>5</td>\n",
       "      <td>1.000000</td>\n",
       "      <td>0.924222</td>\n",
       "      <td>0.960619</td>\n",
       "      <td>2.0</td>\n",
       "    </tr>\n",
       "    <tr>\n",
       "      <th>4</th>\n",
       "      <td>6</td>\n",
       "      <td>0.934336</td>\n",
       "      <td>0.780771</td>\n",
       "      <td>0.850679</td>\n",
       "      <td>5.0</td>\n",
       "    </tr>\n",
       "    <tr>\n",
       "      <th>...</th>\n",
       "      <td>...</td>\n",
       "      <td>...</td>\n",
       "      <td>...</td>\n",
       "      <td>...</td>\n",
       "      <td>...</td>\n",
       "    </tr>\n",
       "    <tr>\n",
       "      <th>306</th>\n",
       "      <td>28</td>\n",
       "      <td>0.819710</td>\n",
       "      <td>0.871310</td>\n",
       "      <td>0.844723</td>\n",
       "      <td>4.0</td>\n",
       "    </tr>\n",
       "    <tr>\n",
       "      <th>307</th>\n",
       "      <td>29</td>\n",
       "      <td>0.781292</td>\n",
       "      <td>0.893804</td>\n",
       "      <td>0.833769</td>\n",
       "      <td>1.0</td>\n",
       "    </tr>\n",
       "    <tr>\n",
       "      <th>308</th>\n",
       "      <td>30</td>\n",
       "      <td>0.810020</td>\n",
       "      <td>0.887651</td>\n",
       "      <td>0.847060</td>\n",
       "      <td>4.0</td>\n",
       "    </tr>\n",
       "    <tr>\n",
       "      <th>309</th>\n",
       "      <td>31</td>\n",
       "      <td>0.798162</td>\n",
       "      <td>0.889275</td>\n",
       "      <td>0.841259</td>\n",
       "      <td>3.0</td>\n",
       "    </tr>\n",
       "    <tr>\n",
       "      <th>310</th>\n",
       "      <td>32</td>\n",
       "      <td>0.773801</td>\n",
       "      <td>0.899797</td>\n",
       "      <td>0.832056</td>\n",
       "      <td>1.0</td>\n",
       "    </tr>\n",
       "  </tbody>\n",
       "</table>\n",
       "<p>311 rows × 5 columns</p>\n",
       "</div>"
      ],
      "text/plain": [
       "     length  homogeneity  completeness  v_measure  rmse\n",
       "0         2     1.000000      0.575453   0.730523   2.0\n",
       "1         3     1.000000      0.955559   0.977275   2.0\n",
       "2         4     1.000000      0.957867   0.978480   1.0\n",
       "3         5     1.000000      0.924222   0.960619   2.0\n",
       "4         6     0.934336      0.780771   0.850679   5.0\n",
       "..      ...          ...           ...        ...   ...\n",
       "306      28     0.819710      0.871310   0.844723   4.0\n",
       "307      29     0.781292      0.893804   0.833769   1.0\n",
       "308      30     0.810020      0.887651   0.847060   4.0\n",
       "309      31     0.798162      0.889275   0.841259   3.0\n",
       "310      32     0.773801      0.899797   0.832056   1.0\n",
       "\n",
       "[311 rows x 5 columns]"
      ]
     },
     "execution_count": 16,
     "metadata": {},
     "output_type": "execute_result"
    }
   ],
   "source": [
    "metrics_16"
   ]
  },
  {
   "cell_type": "code",
   "execution_count": 17,
   "metadata": {},
   "outputs": [
    {
     "name": "stdout",
     "output_type": "stream",
     "text": [
      "Average RMSE 3.202572347266881\n",
      "Average Homogeneity 0.8421888636334975\n",
      "Average Completeness 0.8522069350839192\n",
      "Average V-measure 0.8412838624761988\n"
     ]
    }
   ],
   "source": [
    "print('Average RMSE', metrics_16['rmse'].mean())\n",
    "print('Average Homogeneity', metrics_16['homogeneity'].mean())\n",
    "print('Average Completeness', metrics_16['completeness'].mean())\n",
    "print('Average V-measure', metrics_16['v_measure'].mean())"
   ]
  },
  {
   "cell_type": "markdown",
   "metadata": {},
   "source": [
    "## IE"
   ]
  },
  {
   "cell_type": "code",
   "execution_count": 3,
   "metadata": {},
   "outputs": [],
   "source": [
    "metrics_pintor = pd.read_csv('../../reports/CSV/clustering-sota/results_rmse.csv')"
   ]
  },
  {
   "cell_type": "code",
   "execution_count": 4,
   "metadata": {},
   "outputs": [
    {
     "name": "stdout",
     "output_type": "stream",
     "text": [
      "Average RMSE 6.286173633440514\n",
      "Average Homogeneity 0.892104518729258\n",
      "Average Completeness 0.7108579121041959\n",
      "Average V-measure 0.7750791274782771\n"
     ]
    }
   ],
   "source": [
    "print('Average RMSE', metrics_pintor['rmse'].mean())\n",
    "print('Average Homogeneity', metrics_pintor['homogeneity'].mean())\n",
    "print('Average Completeness', metrics_pintor['completeness'].mean())\n",
    "print('Average V-measure', metrics_pintor['v_measure'].mean())"
   ]
  },
  {
   "cell_type": "code",
   "execution_count": 14,
   "metadata": {},
   "outputs": [],
   "source": [
    "homogeneity = 0.801\n",
    "completeness = 0.753\n",
    "v_measure = 2 * (homogeneity * completeness) / (homogeneity + completeness)"
   ]
  },
  {
   "cell_type": "code",
   "execution_count": 15,
   "metadata": {},
   "outputs": [
    {
     "data": {
      "text/plain": [
       "0.7762586872586873"
      ]
     },
     "execution_count": 15,
     "metadata": {},
     "output_type": "execute_result"
    }
   ],
   "source": [
    "v_measure"
   ]
  },
  {
   "cell_type": "code",
   "execution_count": null,
   "metadata": {},
   "outputs": [],
   "source": []
  }
 ],
 "metadata": {
  "kernelspec": {
   "display_name": ".venv",
   "language": "python",
   "name": "python3"
  },
  "language_info": {
   "codemirror_mode": {
    "name": "ipython",
    "version": 3
   },
   "file_extension": ".py",
   "mimetype": "text/x-python",
   "name": "python",
   "nbconvert_exporter": "python",
   "pygments_lexer": "ipython3",
   "version": "3.11.9"
  }
 },
 "nbformat": 4,
 "nbformat_minor": 2
}
