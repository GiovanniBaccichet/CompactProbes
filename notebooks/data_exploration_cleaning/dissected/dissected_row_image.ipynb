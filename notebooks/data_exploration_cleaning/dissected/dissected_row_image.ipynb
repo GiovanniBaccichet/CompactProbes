{
 "cells": [
  {
   "cell_type": "markdown",
   "metadata": {},
   "source": [
    "# Row to Image Converter"
   ]
  },
  {
   "cell_type": "markdown",
   "metadata": {},
   "source": [
    "The purpose of this notebook is to convert Probe Request rows coming from the dissected dataframe to images, in order to perform matching based on images."
   ]
  },
  {
   "cell_type": "markdown",
   "metadata": {},
   "source": [
    "## Libraries and Configurations"
   ]
  },
  {
   "cell_type": "markdown",
   "metadata": {},
   "source": [
    "Import configuration files"
   ]
  },
  {
   "cell_type": "code",
   "execution_count": 1,
   "metadata": {},
   "outputs": [
    {
     "data": {
      "text/plain": [
       "['../../config.ini']"
      ]
     },
     "execution_count": 1,
     "metadata": {},
     "output_type": "execute_result"
    }
   ],
   "source": [
    "from configparser import ConfigParser\n",
    "\n",
    "config = ConfigParser()\n",
    "config.read(\"../../config.ini\")"
   ]
  },
  {
   "cell_type": "markdown",
   "metadata": {},
   "source": [
    "Import **data libraries**"
   ]
  },
  {
   "cell_type": "code",
   "execution_count": 2,
   "metadata": {},
   "outputs": [],
   "source": [
    "import pandas as pd"
   ]
  },
  {
   "cell_type": "markdown",
   "metadata": {},
   "source": [
    "Import **other libraries**"
   ]
  },
  {
   "cell_type": "code",
   "execution_count": 3,
   "metadata": {},
   "outputs": [],
   "source": [
    "from rich.progress import Progress\n",
    "from rich import traceback\n",
    "\n",
    "traceback.install()\n",
    "\n",
    "import numpy as np"
   ]
  },
  {
   "cell_type": "markdown",
   "metadata": {},
   "source": [
    "Import **image libraries**"
   ]
  },
  {
   "cell_type": "code",
   "execution_count": 4,
   "metadata": {},
   "outputs": [],
   "source": [
    "from PIL import Image"
   ]
  },
  {
   "cell_type": "markdown",
   "metadata": {},
   "source": [
    "Custom helper scripts"
   ]
  },
  {
   "cell_type": "code",
   "execution_count": 5,
   "metadata": {},
   "outputs": [
    {
     "name": "stdout",
     "output_type": "stream",
     "text": [
      "/home/bacci/COMPACT/notebooks\n"
     ]
    },
    {
     "name": "stdout",
     "output_type": "stream",
     "text": [
      "/home/bacci/COMPACT/notebooks/data_exploration_cleaning/dissected\n"
     ]
    }
   ],
   "source": [
    "%cd ../../\n",
    "from scripts import plotHelper, encodingHelper\n",
    "%cd data_exploration_cleaning/dissected"
   ]
  },
  {
   "cell_type": "markdown",
   "metadata": {},
   "source": [
    "## Import Data"
   ]
  },
  {
   "cell_type": "code",
   "execution_count": 6,
   "metadata": {},
   "outputs": [],
   "source": [
    "# Combined dataframe\n",
    "combined_df_csv = (\n",
    "    config[\"DEFAULT\"][\"interim_path\"] + \"dissected/selected_burst_dissected_df.csv\"\n",
    ")"
   ]
  },
  {
   "cell_type": "code",
   "execution_count": 7,
   "metadata": {},
   "outputs": [],
   "source": [
    "df = pd.read_csv(combined_df_csv, index_col=0)"
   ]
  },
  {
   "cell_type": "code",
   "execution_count": 8,
   "metadata": {},
   "outputs": [
    {
     "data": {
      "text/html": [
       "<div>\n",
       "<style scoped>\n",
       "    .dataframe tbody tr th:only-of-type {\n",
       "        vertical-align: middle;\n",
       "    }\n",
       "\n",
       "    .dataframe tbody tr th {\n",
       "        vertical-align: top;\n",
       "    }\n",
       "\n",
       "    .dataframe thead th {\n",
       "        text-align: right;\n",
       "    }\n",
       "</style>\n",
       "<table border=\"1\" class=\"dataframe\">\n",
       "  <thead>\n",
       "    <tr style=\"text-align: right;\">\n",
       "      <th></th>\n",
       "      <th>MAC Address</th>\n",
       "      <th>Vendor Specific Tags</th>\n",
       "      <th>Length</th>\n",
       "      <th>DSSS_CCK</th>\n",
       "      <th>SM_Power_Save</th>\n",
       "      <th>Min_MPDCU_Start_Spacing</th>\n",
       "      <th>RX_Highest_Supported_Data_Rate</th>\n",
       "      <th>Extended_Channel_Switching</th>\n",
       "      <th>WNM_Sleep_Mode</th>\n",
       "      <th>DMS</th>\n",
       "      <th>Interworking</th>\n",
       "      <th>QoS_Map</th>\n",
       "      <th>WNM_Notification</th>\n",
       "      <th>Operating_Mode_Notification</th>\n",
       "      <th>Label</th>\n",
       "    </tr>\n",
       "  </thead>\n",
       "  <tbody>\n",
       "    <tr>\n",
       "      <th>0</th>\n",
       "      <td>00:0f:00:6a:68:8b</td>\n",
       "      <td>2</td>\n",
       "      <td>279</td>\n",
       "      <td>0.0</td>\n",
       "      <td>3.0</td>\n",
       "      <td>0.0</td>\n",
       "      <td>0.0</td>\n",
       "      <td>0.0</td>\n",
       "      <td>0.0</td>\n",
       "      <td>0.0</td>\n",
       "      <td>0.0</td>\n",
       "      <td>0.0</td>\n",
       "      <td>0.0</td>\n",
       "      <td>0.0</td>\n",
       "      <td>SamsungJ6_K</td>\n",
       "    </tr>\n",
       "    <tr>\n",
       "      <th>2</th>\n",
       "      <td>02:00:00:00:00:00</td>\n",
       "      <td>11</td>\n",
       "      <td>123</td>\n",
       "      <td>0.0</td>\n",
       "      <td>3.0</td>\n",
       "      <td>5.0</td>\n",
       "      <td>0.0</td>\n",
       "      <td>0.0</td>\n",
       "      <td>0.0</td>\n",
       "      <td>0.0</td>\n",
       "      <td>0.0</td>\n",
       "      <td>0.0</td>\n",
       "      <td>0.0</td>\n",
       "      <td>1.0</td>\n",
       "      <td>SamsungM31_A</td>\n",
       "    </tr>\n",
       "    <tr>\n",
       "      <th>3</th>\n",
       "      <td>02:00:00:00:3e:b2</td>\n",
       "      <td>62</td>\n",
       "      <td>132</td>\n",
       "      <td>0.0</td>\n",
       "      <td>3.0</td>\n",
       "      <td>6.0</td>\n",
       "      <td>0.0</td>\n",
       "      <td>0.0</td>\n",
       "      <td>0.0</td>\n",
       "      <td>1.0</td>\n",
       "      <td>0.0</td>\n",
       "      <td>0.0</td>\n",
       "      <td>0.0</td>\n",
       "      <td>1.0</td>\n",
       "      <td>iPhone11_C</td>\n",
       "    </tr>\n",
       "    <tr>\n",
       "      <th>4</th>\n",
       "      <td>02:00:3a:5e:a1:f4</td>\n",
       "      <td>62</td>\n",
       "      <td>132</td>\n",
       "      <td>0.0</td>\n",
       "      <td>3.0</td>\n",
       "      <td>6.0</td>\n",
       "      <td>0.0</td>\n",
       "      <td>0.0</td>\n",
       "      <td>0.0</td>\n",
       "      <td>1.0</td>\n",
       "      <td>0.0</td>\n",
       "      <td>0.0</td>\n",
       "      <td>0.0</td>\n",
       "      <td>1.0</td>\n",
       "      <td>iPhone11_B</td>\n",
       "    </tr>\n",
       "    <tr>\n",
       "      <th>5</th>\n",
       "      <td>02:02:70:30:b6:43</td>\n",
       "      <td>62</td>\n",
       "      <td>143</td>\n",
       "      <td>0.0</td>\n",
       "      <td>3.0</td>\n",
       "      <td>6.0</td>\n",
       "      <td>0.0</td>\n",
       "      <td>0.0</td>\n",
       "      <td>0.0</td>\n",
       "      <td>1.0</td>\n",
       "      <td>0.0</td>\n",
       "      <td>0.0</td>\n",
       "      <td>0.0</td>\n",
       "      <td>1.0</td>\n",
       "      <td>iPhone12_W</td>\n",
       "    </tr>\n",
       "    <tr>\n",
       "      <th>...</th>\n",
       "      <td>...</td>\n",
       "      <td>...</td>\n",
       "      <td>...</td>\n",
       "      <td>...</td>\n",
       "      <td>...</td>\n",
       "      <td>...</td>\n",
       "      <td>...</td>\n",
       "      <td>...</td>\n",
       "      <td>...</td>\n",
       "      <td>...</td>\n",
       "      <td>...</td>\n",
       "      <td>...</td>\n",
       "      <td>...</td>\n",
       "      <td>...</td>\n",
       "      <td>...</td>\n",
       "    </tr>\n",
       "    <tr>\n",
       "      <th>4410</th>\n",
       "      <td>fe:f9:ac:47:0d:b7</td>\n",
       "      <td>62</td>\n",
       "      <td>131</td>\n",
       "      <td>0.0</td>\n",
       "      <td>3.0</td>\n",
       "      <td>6.0</td>\n",
       "      <td>0.0</td>\n",
       "      <td>0.0</td>\n",
       "      <td>0.0</td>\n",
       "      <td>1.0</td>\n",
       "      <td>0.0</td>\n",
       "      <td>0.0</td>\n",
       "      <td>0.0</td>\n",
       "      <td>1.0</td>\n",
       "      <td>iPhone12_W</td>\n",
       "    </tr>\n",
       "    <tr>\n",
       "      <th>4411</th>\n",
       "      <td>fe:f9:fc:fb:83:9e</td>\n",
       "      <td>1</td>\n",
       "      <td>156</td>\n",
       "      <td>0.0</td>\n",
       "      <td>0.0</td>\n",
       "      <td>5.0</td>\n",
       "      <td>0.0</td>\n",
       "      <td>1.0</td>\n",
       "      <td>0.0</td>\n",
       "      <td>1.0</td>\n",
       "      <td>1.0</td>\n",
       "      <td>0.0</td>\n",
       "      <td>0.0</td>\n",
       "      <td>1.0</td>\n",
       "      <td>iPhone6_N</td>\n",
       "    </tr>\n",
       "    <tr>\n",
       "      <th>4412</th>\n",
       "      <td>fe:fc:07:34:10:69</td>\n",
       "      <td>62</td>\n",
       "      <td>132</td>\n",
       "      <td>0.0</td>\n",
       "      <td>3.0</td>\n",
       "      <td>6.0</td>\n",
       "      <td>0.0</td>\n",
       "      <td>0.0</td>\n",
       "      <td>0.0</td>\n",
       "      <td>1.0</td>\n",
       "      <td>0.0</td>\n",
       "      <td>0.0</td>\n",
       "      <td>0.0</td>\n",
       "      <td>1.0</td>\n",
       "      <td>iPhone11_C</td>\n",
       "    </tr>\n",
       "    <tr>\n",
       "      <th>4413</th>\n",
       "      <td>fe:fc:aa:d1:89:d1</td>\n",
       "      <td>62</td>\n",
       "      <td>143</td>\n",
       "      <td>0.0</td>\n",
       "      <td>3.0</td>\n",
       "      <td>6.0</td>\n",
       "      <td>0.0</td>\n",
       "      <td>0.0</td>\n",
       "      <td>0.0</td>\n",
       "      <td>1.0</td>\n",
       "      <td>0.0</td>\n",
       "      <td>0.0</td>\n",
       "      <td>0.0</td>\n",
       "      <td>1.0</td>\n",
       "      <td>iPhone12_W</td>\n",
       "    </tr>\n",
       "    <tr>\n",
       "      <th>4414</th>\n",
       "      <td>fe:ff:ff:0f:64:5d</td>\n",
       "      <td>62</td>\n",
       "      <td>132</td>\n",
       "      <td>0.0</td>\n",
       "      <td>3.0</td>\n",
       "      <td>6.0</td>\n",
       "      <td>0.0</td>\n",
       "      <td>0.0</td>\n",
       "      <td>0.0</td>\n",
       "      <td>1.0</td>\n",
       "      <td>0.0</td>\n",
       "      <td>0.0</td>\n",
       "      <td>0.0</td>\n",
       "      <td>1.0</td>\n",
       "      <td>iPhone11_B</td>\n",
       "    </tr>\n",
       "  </tbody>\n",
       "</table>\n",
       "<p>4409 rows × 15 columns</p>\n",
       "</div>"
      ],
      "text/plain": [
       "            MAC Address Vendor Specific Tags Length DSSS_CCK SM_Power_Save  \\\n",
       "0     00:0f:00:6a:68:8b                    2    279      0.0           3.0   \n",
       "2     02:00:00:00:00:00                   11    123      0.0           3.0   \n",
       "3     02:00:00:00:3e:b2                   62    132      0.0           3.0   \n",
       "4     02:00:3a:5e:a1:f4                   62    132      0.0           3.0   \n",
       "5     02:02:70:30:b6:43                   62    143      0.0           3.0   \n",
       "...                 ...                  ...    ...      ...           ...   \n",
       "4410  fe:f9:ac:47:0d:b7                   62    131      0.0           3.0   \n",
       "4411  fe:f9:fc:fb:83:9e                    1    156      0.0           0.0   \n",
       "4412  fe:fc:07:34:10:69                   62    132      0.0           3.0   \n",
       "4413  fe:fc:aa:d1:89:d1                   62    143      0.0           3.0   \n",
       "4414  fe:ff:ff:0f:64:5d                   62    132      0.0           3.0   \n",
       "\n",
       "     Min_MPDCU_Start_Spacing RX_Highest_Supported_Data_Rate  \\\n",
       "0                        0.0                            0.0   \n",
       "2                        5.0                            0.0   \n",
       "3                        6.0                            0.0   \n",
       "4                        6.0                            0.0   \n",
       "5                        6.0                            0.0   \n",
       "...                      ...                            ...   \n",
       "4410                     6.0                            0.0   \n",
       "4411                     5.0                            0.0   \n",
       "4412                     6.0                            0.0   \n",
       "4413                     6.0                            0.0   \n",
       "4414                     6.0                            0.0   \n",
       "\n",
       "     Extended_Channel_Switching WNM_Sleep_Mode  DMS Interworking QoS_Map  \\\n",
       "0                           0.0            0.0  0.0          0.0     0.0   \n",
       "2                           0.0            0.0  0.0          0.0     0.0   \n",
       "3                           0.0            0.0  1.0          0.0     0.0   \n",
       "4                           0.0            0.0  1.0          0.0     0.0   \n",
       "5                           0.0            0.0  1.0          0.0     0.0   \n",
       "...                         ...            ...  ...          ...     ...   \n",
       "4410                        0.0            0.0  1.0          0.0     0.0   \n",
       "4411                        1.0            0.0  1.0          1.0     0.0   \n",
       "4412                        0.0            0.0  1.0          0.0     0.0   \n",
       "4413                        0.0            0.0  1.0          0.0     0.0   \n",
       "4414                        0.0            0.0  1.0          0.0     0.0   \n",
       "\n",
       "     WNM_Notification Operating_Mode_Notification         Label  \n",
       "0                 0.0                         0.0   SamsungJ6_K  \n",
       "2                 0.0                         1.0  SamsungM31_A  \n",
       "3                 0.0                         1.0    iPhone11_C  \n",
       "4                 0.0                         1.0    iPhone11_B  \n",
       "5                 0.0                         1.0    iPhone12_W  \n",
       "...               ...                         ...           ...  \n",
       "4410              0.0                         1.0    iPhone12_W  \n",
       "4411              0.0                         1.0     iPhone6_N  \n",
       "4412              0.0                         1.0    iPhone11_C  \n",
       "4413              0.0                         1.0    iPhone12_W  \n",
       "4414              0.0                         1.0    iPhone11_B  \n",
       "\n",
       "[4409 rows x 15 columns]"
      ]
     },
     "execution_count": 8,
     "metadata": {},
     "output_type": "execute_result"
    }
   ],
   "source": [
    "df"
   ]
  },
  {
   "cell_type": "code",
   "execution_count": 9,
   "metadata": {},
   "outputs": [],
   "source": [
    "df.drop(columns=[\"MAC Address\", \"Label\"], inplace=True)"
   ]
  },
  {
   "cell_type": "code",
   "execution_count": 41,
   "metadata": {},
   "outputs": [],
   "source": [
    "first_row_array = df.iloc[1235].values"
   ]
  },
  {
   "cell_type": "code",
   "execution_count": 42,
   "metadata": {},
   "outputs": [
    {
     "data": {
      "text/plain": [
       "array(['62', '135', '0.0', '3.0', '6.0', '0.0', '0.0', '0.0', '1.0',\n",
       "       '0.0', '0.0', '0.0', '1.0'], dtype=object)"
      ]
     },
     "execution_count": 42,
     "metadata": {},
     "output_type": "execute_result"
    }
   ],
   "source": [
    "first_row_array"
   ]
  },
  {
   "cell_type": "code",
   "execution_count": 43,
   "metadata": {},
   "outputs": [],
   "source": [
    "im = Image.fromarray(np.array([first_row_array]).astype(np.float32))"
   ]
  },
  {
   "cell_type": "code",
   "execution_count": 44,
   "metadata": {},
   "outputs": [
    {
     "data": {
      "image/png": "[encoded data removed]",
      "text/plain": [
       "<Figure size 640x480 with 1 Axes>"
      ]
     },
     "metadata": {},
     "output_type": "display_data"
    }
   ],
   "source": [
    "import matplotlib.pyplot as plt\n",
    "\n",
    "plt.imshow(im)\n",
    "plt.show()"
   ]
  },
  {
   "cell_type": "code",
   "execution_count": null,
   "metadata": {},
   "outputs": [],
   "source": []
  }
 ],
 "metadata": {
  "kernelspec": {
   "display_name": ".venv",
   "language": "python",
   "name": "python3"
  },
  "language_info": {
   "codemirror_mode": {
    "name": "ipython",
    "version": 3
   },
   "file_extension": ".py",
   "mimetype": "text/x-python",
   "name": "python",
   "nbconvert_exporter": "python",
   "pygments_lexer": "ipython3",
   "version": "3.11.6"
  }
 },
 "nbformat": 4,
 "nbformat_minor": 2
}
