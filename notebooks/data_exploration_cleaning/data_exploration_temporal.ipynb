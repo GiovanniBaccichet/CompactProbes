{
 "cells": [
  {
   "cell_type": "markdown",
   "metadata": {},
   "source": [
    "# Data Exploration and Temporal Analysis"
   ]
  },
  {
   "cell_type": "markdown",
   "metadata": {},
   "source": [
    "## Libraries and Configurations"
   ]
  },
  {
   "cell_type": "markdown",
   "metadata": {},
   "source": [
    "Import configuration files"
   ]
  },
  {
   "cell_type": "code",
   "execution_count": 1,
   "metadata": {},
   "outputs": [
    {
     "data": {
      "text/plain": [
       "['../config.ini']"
      ]
     },
     "execution_count": 1,
     "metadata": {},
     "output_type": "execute_result"
    }
   ],
   "source": [
    "from configparser import ConfigParser\n",
    "import os\n",
    "\n",
    "config = ConfigParser()\n",
    "config.read(\"../config.ini\")"
   ]
  },
  {
   "cell_type": "markdown",
   "metadata": {},
   "source": [
    "Import **data libraries**"
   ]
  },
  {
   "cell_type": "code",
   "execution_count": 2,
   "metadata": {},
   "outputs": [],
   "source": [
    "import pandas as pd"
   ]
  },
  {
   "cell_type": "markdown",
   "metadata": {},
   "source": [
    "Import **other libraries**"
   ]
  },
  {
   "cell_type": "code",
   "execution_count": 3,
   "metadata": {},
   "outputs": [
    {
     "data": {
      "text/plain": [
       "<bound method InteractiveShell.excepthook of <ipykernel.zmqshell.ZMQInteractiveShell object at 0x105d24710>>"
      ]
     },
     "execution_count": 3,
     "metadata": {},
     "output_type": "execute_result"
    }
   ],
   "source": [
    "from rich import traceback\n",
    "\n",
    "traceback.install()"
   ]
  },
  {
   "cell_type": "markdown",
   "metadata": {},
   "source": [
    "Custom helper scripts"
   ]
  },
  {
   "cell_type": "code",
   "execution_count": 4,
   "metadata": {},
   "outputs": [
    {
     "name": "stderr",
     "output_type": "stream",
     "text": [
      "/Users/bacci/Library/CloudStorage/SynologyDrive-giovanni/Research 🌱/Repositories/COMPACT/.venv/lib/python3.11/site-packages/IPython/core/magics/osm.py:417: UserWarning: using dhist requires you to install the `pickleshare` library.\n",
      "  self.shell.db['dhist'] = compress_dhist(dhist)[-100:]\n"
     ]
    },
    {
     "name": "stdout",
     "output_type": "stream",
     "text": [
      "/Users/bacci/Library/CloudStorage/SynologyDrive-giovanni/Research 🌱/Repositories/COMPACT/notebooks\n",
      "/Users/bacci/Library/CloudStorage/SynologyDrive-giovanni/Research 🌱/Repositories/COMPACT/notebooks/data_exploration_cleaning\n"
     ]
    },
    {
     "name": "stderr",
     "output_type": "stream",
     "text": [
      "/Users/bacci/Library/CloudStorage/SynologyDrive-giovanni/Research 🌱/Repositories/COMPACT/.venv/lib/python3.11/site-packages/IPython/core/magics/osm.py:417: UserWarning: using dhist requires you to install the `pickleshare` library.\n",
      "  self.shell.db['dhist'] = compress_dhist(dhist)[-100:]\n"
     ]
    }
   ],
   "source": [
    "%cd ..\n",
    "from scripts import plotHelper, timeHelper\n",
    "%cd data_exploration_cleaning"
   ]
  },
  {
   "cell_type": "markdown",
   "metadata": {},
   "source": [
    "## Import Data"
   ]
  },
  {
   "cell_type": "code",
   "execution_count": 5,
   "metadata": {},
   "outputs": [],
   "source": [
    "# Combined dataframe raw\n",
    "combined_df_csv = config[\"DEFAULT\"][\"interim_path\"] + \"combined_df.csv\""
   ]
  },
  {
   "cell_type": "code",
   "execution_count": 6,
   "metadata": {},
   "outputs": [
    {
     "name": "stderr",
     "output_type": "stream",
     "text": [
      "/var/folders/kz/mqbx964j4w53vxgzd7rlzx380000gn/T/ipykernel_27297/3840082691.py:1: DtypeWarning: Columns (10,11) have mixed types. Specify dtype option on import or set low_memory=False.\n",
      "  combined_df = pd.read_csv(combined_df_csv)\n"
     ]
    }
   ],
   "source": [
    "combined_df = pd.read_csv(combined_df_csv)"
   ]
  },
  {
   "cell_type": "markdown",
   "metadata": {},
   "source": [
    "Fixing columns data types"
   ]
  },
  {
   "cell_type": "code",
   "execution_count": 7,
   "metadata": {},
   "outputs": [
    {
     "data": {
      "text/plain": [
       "Timestamp                    object\n",
       "MAC Address                  object\n",
       "Channel                       int64\n",
       "DS Channel                  float64\n",
       "HT Capabilities              object\n",
       "Extended Capabilities        object\n",
       "Vendor Specific Tags         object\n",
       "SSID                         object\n",
       "Supported Rates              object\n",
       "Extended Supported Rates     object\n",
       "VHT Capabilities             object\n",
       "HE Capabilities              object\n",
       "Length                        int64\n",
       "Label                        object\n",
       "dtype: object"
      ]
     },
     "execution_count": 7,
     "metadata": {},
     "output_type": "execute_result"
    }
   ],
   "source": [
    "combined_df.dtypes"
   ]
  },
  {
   "cell_type": "code",
   "execution_count": 8,
   "metadata": {},
   "outputs": [],
   "source": [
    "# Converting Timestamp to datetime\n",
    "combined_df[\"Timestamp\"] = pd.to_datetime(combined_df[\"Timestamp\"])\n",
    "\n",
    "# Converting Label to string\n",
    "combined_df[\"Label\"] = combined_df[\"Label\"].astype(str)\n",
    "\n",
    "# Converting SSID to string\n",
    "combined_df[\"SSID\"] = combined_df[\"SSID\"].astype(str)\n",
    "\n",
    "# Converting MAC Address to string\n",
    "combined_df[\"MAC Address\"] = combined_df[\"MAC Address\"].astype(str)\n",
    "\n",
    "# Converting HT Capabilities to string\n",
    "combined_df[\"HT Capabilities\"] = combined_df[\"HT Capabilities\"].astype(str)\n",
    "\n",
    "# Converting Extended Capabilities to string\n",
    "combined_df[\"Extended Capabilities\"] = combined_df[\"Extended Capabilities\"].astype(str)\n",
    "\n",
    "# Converting Vendor Specific Tags to string\n",
    "combined_df[\"Vendor Specific Tags\"] = combined_df[\"Vendor Specific Tags\"].astype(str)\n",
    "\n",
    "# Converting Supported Rates to string\n",
    "combined_df[\"Supported Rates\"] = combined_df[\"Supported Rates\"].astype(str)\n",
    "\n",
    "# Converting Extended Supported Rates to string\n",
    "combined_df[\"Extended Supported Rates\"] = combined_df[\n",
    "    \"Extended Supported Rates\"\n",
    "].astype(str)\n",
    "\n",
    "# Converting VHT Capabilities to string\n",
    "combined_df[\"VHT Capabilities\"] = combined_df[\"VHT Capabilities\"].astype(str)\n",
    "\n",
    "# Converting HE Capabilities to string\n",
    "combined_df[\"HE Capabilities\"] = combined_df[\"HE Capabilities\"].astype(str)"
   ]
  },
  {
   "cell_type": "markdown",
   "metadata": {},
   "source": [
    "## Dataset Balancing"
   ]
  },
  {
   "cell_type": "markdown",
   "metadata": {},
   "source": [
    "Average number of rows per label"
   ]
  },
  {
   "cell_type": "code",
   "execution_count": 9,
   "metadata": {},
   "outputs": [
    {
     "name": "stdout",
     "output_type": "stream",
     "text": [
      "Average number of rows per Label: 2324.3636363636365\n"
     ]
    }
   ],
   "source": [
    "print(\"Average number of rows per Label:\", combined_df.groupby(\"Label\").size().mean())"
   ]
  },
  {
   "cell_type": "markdown",
   "metadata": {},
   "source": [
    "**Undersampling devices which have too many Probe Request to the average number of rows per label**"
   ]
  },
  {
   "cell_type": "code",
   "execution_count": 10,
   "metadata": {},
   "outputs": [
    {
     "name": "stderr",
     "output_type": "stream",
     "text": [
      "/var/folders/kz/mqbx964j4w53vxgzd7rlzx380000gn/T/ipykernel_27297/342106335.py:30: DeprecationWarning: DataFrameGroupBy.apply operated on the grouping columns. This behavior is deprecated, and in a future version of pandas the grouping columns will be excluded from the operation. Either pass `include_groups=False` to exclude the groupings or explicitly select the grouping columns after groupby to silence this warning.\n",
      "  .apply(lambda x: x.sample(n=round(average_rows_per_label), random_state=42))\n"
     ]
    }
   ],
   "source": [
    "# Undersampling devices which have too many Probe Request to the average number of rows per label\n",
    "# This is done to avoid having an unbalanced dataset\n",
    "\n",
    "# Get the average number of rows per label\n",
    "average_rows_per_label = combined_df.groupby(\"Label\").size().mean()\n",
    "\n",
    "# Get the labels which have more rows than the average\n",
    "labels_to_undersample = (\n",
    "    combined_df.groupby(\"Label\")\n",
    "    .size()[combined_df.groupby(\"Label\").size() > average_rows_per_label]\n",
    "    .index\n",
    ")\n",
    "\n",
    "# Get the labels which have less rows than the average\n",
    "labels_to_keep = (\n",
    "    combined_df.groupby(\"Label\")\n",
    "    .size()[combined_df.groupby(\"Label\").size() <= average_rows_per_label]\n",
    "    .index\n",
    ")\n",
    "\n",
    "# Get the rows which have a label which has more rows than the average\n",
    "rows_to_undersample = combined_df[combined_df[\"Label\"].isin(labels_to_undersample)]\n",
    "\n",
    "# Get the rows which have a label which has less rows than the average\n",
    "rows_to_keep = combined_df[combined_df[\"Label\"].isin(labels_to_keep)]\n",
    "\n",
    "# Undersample the rows which have a label which has more rows than the average\n",
    "rows_to_undersample = (\n",
    "    rows_to_undersample.groupby(\"Label\")\n",
    "    .apply(lambda x: x.sample(n=round(average_rows_per_label), random_state=42))\n",
    "    .reset_index(drop=True)\n",
    ")\n",
    "\n",
    "# Combine the undersampled rows with the rows which have a label which has less rows than the average\n",
    "combined_df = pd.concat([rows_to_keep, rows_to_undersample])"
   ]
  },
  {
   "cell_type": "markdown",
   "metadata": {},
   "source": [
    "## Data Cleaning"
   ]
  },
  {
   "cell_type": "markdown",
   "metadata": {},
   "source": [
    "Dropping columns not used for the temporal analysis"
   ]
  },
  {
   "cell_type": "code",
   "execution_count": 11,
   "metadata": {},
   "outputs": [],
   "source": [
    "combined_df.drop(\n",
    "    columns=[\n",
    "        \"HT Capabilities\",\n",
    "        \"Extended Capabilities\",\n",
    "        \"Vendor Specific Tags\",\n",
    "        \"SSID\",\n",
    "        \"Supported Rates\",\n",
    "        \"Extended Supported Rates\",\n",
    "        \"VHT Capabilities\",\n",
    "        \"HE Capabilities\",\n",
    "    ],\n",
    "    inplace=True,\n",
    ")"
   ]
  },
  {
   "cell_type": "code",
   "execution_count": 12,
   "metadata": {},
   "outputs": [
    {
     "data": {
      "text/html": [
       "<div>\n",
       "<style scoped>\n",
       "    .dataframe tbody tr th:only-of-type {\n",
       "        vertical-align: middle;\n",
       "    }\n",
       "\n",
       "    .dataframe tbody tr th {\n",
       "        vertical-align: top;\n",
       "    }\n",
       "\n",
       "    .dataframe thead th {\n",
       "        text-align: right;\n",
       "    }\n",
       "</style>\n",
       "<table border=\"1\" class=\"dataframe\">\n",
       "  <thead>\n",
       "    <tr style=\"text-align: right;\">\n",
       "      <th></th>\n",
       "      <th>Timestamp</th>\n",
       "      <th>MAC Address</th>\n",
       "      <th>Channel</th>\n",
       "      <th>DS Channel</th>\n",
       "      <th>Length</th>\n",
       "      <th>Label</th>\n",
       "    </tr>\n",
       "  </thead>\n",
       "  <tbody>\n",
       "    <tr>\n",
       "      <th>0</th>\n",
       "      <td>2023-05-20 13:52:01.864465952</td>\n",
       "      <td>d2:6b:aa:b5:fb:ed</td>\n",
       "      <td>1</td>\n",
       "      <td>1.0</td>\n",
       "      <td>135</td>\n",
       "      <td>iPhone12Pro_C</td>\n",
       "    </tr>\n",
       "    <tr>\n",
       "      <th>1</th>\n",
       "      <td>2023-05-20 13:52:01.884716034</td>\n",
       "      <td>d2:6b:aa:b5:fb:ed</td>\n",
       "      <td>1</td>\n",
       "      <td>1.0</td>\n",
       "      <td>135</td>\n",
       "      <td>iPhone12Pro_C</td>\n",
       "    </tr>\n",
       "    <tr>\n",
       "      <th>2</th>\n",
       "      <td>2023-05-20 13:52:01.910542011</td>\n",
       "      <td>d2:6b:aa:b5:fb:ed</td>\n",
       "      <td>6</td>\n",
       "      <td>6.0</td>\n",
       "      <td>135</td>\n",
       "      <td>iPhone12Pro_C</td>\n",
       "    </tr>\n",
       "    <tr>\n",
       "      <th>3</th>\n",
       "      <td>2023-05-20 13:52:01.930788994</td>\n",
       "      <td>d2:6b:aa:b5:fb:ed</td>\n",
       "      <td>6</td>\n",
       "      <td>6.0</td>\n",
       "      <td>135</td>\n",
       "      <td>iPhone12Pro_C</td>\n",
       "    </tr>\n",
       "    <tr>\n",
       "      <th>4</th>\n",
       "      <td>2023-05-20 13:52:01.968745947</td>\n",
       "      <td>d2:6b:aa:b5:fb:ed</td>\n",
       "      <td>11</td>\n",
       "      <td>11.0</td>\n",
       "      <td>135</td>\n",
       "      <td>iPhone12Pro_C</td>\n",
       "    </tr>\n",
       "    <tr>\n",
       "      <th>...</th>\n",
       "      <td>...</td>\n",
       "      <td>...</td>\n",
       "      <td>...</td>\n",
       "      <td>...</td>\n",
       "      <td>...</td>\n",
       "      <td>...</td>\n",
       "    </tr>\n",
       "    <tr>\n",
       "      <th>13939</th>\n",
       "      <td>2021-07-07 12:02:57.579541922</td>\n",
       "      <td>da:a1:19:00:17:f9</td>\n",
       "      <td>6</td>\n",
       "      <td>1.0</td>\n",
       "      <td>182</td>\n",
       "      <td>XiaomiRedmiNote7_S</td>\n",
       "    </tr>\n",
       "    <tr>\n",
       "      <th>13940</th>\n",
       "      <td>2021-07-07 11:32:04.533828019</td>\n",
       "      <td>da:a1:19:1a:cc:8f</td>\n",
       "      <td>6</td>\n",
       "      <td>8.0</td>\n",
       "      <td>198</td>\n",
       "      <td>XiaomiRedmiNote7_S</td>\n",
       "    </tr>\n",
       "    <tr>\n",
       "      <th>13941</th>\n",
       "      <td>2021-07-07 11:46:50.089955091</td>\n",
       "      <td>da:a1:19:41:c9:b1</td>\n",
       "      <td>11</td>\n",
       "      <td>5.0</td>\n",
       "      <td>143</td>\n",
       "      <td>XiaomiRedmiNote7_S</td>\n",
       "    </tr>\n",
       "    <tr>\n",
       "      <th>13942</th>\n",
       "      <td>2021-07-07 12:16:31.309731960</td>\n",
       "      <td>da:a1:19:c7:24:b1</td>\n",
       "      <td>1</td>\n",
       "      <td>3.0</td>\n",
       "      <td>182</td>\n",
       "      <td>XiaomiRedmiNote7_S</td>\n",
       "    </tr>\n",
       "    <tr>\n",
       "      <th>13943</th>\n",
       "      <td>2021-07-07 11:19:07.014556885</td>\n",
       "      <td>da:a1:19:05:11:80</td>\n",
       "      <td>1</td>\n",
       "      <td>5.0</td>\n",
       "      <td>198</td>\n",
       "      <td>XiaomiRedmiNote7_S</td>\n",
       "    </tr>\n",
       "  </tbody>\n",
       "</table>\n",
       "<p>36046 rows × 6 columns</p>\n",
       "</div>"
      ],
      "text/plain": [
       "                          Timestamp        MAC Address  Channel  DS Channel  \\\n",
       "0     2023-05-20 13:52:01.864465952  d2:6b:aa:b5:fb:ed        1         1.0   \n",
       "1     2023-05-20 13:52:01.884716034  d2:6b:aa:b5:fb:ed        1         1.0   \n",
       "2     2023-05-20 13:52:01.910542011  d2:6b:aa:b5:fb:ed        6         6.0   \n",
       "3     2023-05-20 13:52:01.930788994  d2:6b:aa:b5:fb:ed        6         6.0   \n",
       "4     2023-05-20 13:52:01.968745947  d2:6b:aa:b5:fb:ed       11        11.0   \n",
       "...                             ...                ...      ...         ...   \n",
       "13939 2021-07-07 12:02:57.579541922  da:a1:19:00:17:f9        6         1.0   \n",
       "13940 2021-07-07 11:32:04.533828019  da:a1:19:1a:cc:8f        6         8.0   \n",
       "13941 2021-07-07 11:46:50.089955091  da:a1:19:41:c9:b1       11         5.0   \n",
       "13942 2021-07-07 12:16:31.309731960  da:a1:19:c7:24:b1        1         3.0   \n",
       "13943 2021-07-07 11:19:07.014556885  da:a1:19:05:11:80        1         5.0   \n",
       "\n",
       "       Length               Label  \n",
       "0         135       iPhone12Pro_C  \n",
       "1         135       iPhone12Pro_C  \n",
       "2         135       iPhone12Pro_C  \n",
       "3         135       iPhone12Pro_C  \n",
       "4         135       iPhone12Pro_C  \n",
       "...       ...                 ...  \n",
       "13939     182  XiaomiRedmiNote7_S  \n",
       "13940     198  XiaomiRedmiNote7_S  \n",
       "13941     143  XiaomiRedmiNote7_S  \n",
       "13942     182  XiaomiRedmiNote7_S  \n",
       "13943     198  XiaomiRedmiNote7_S  \n",
       "\n",
       "[36046 rows x 6 columns]"
      ]
     },
     "execution_count": 12,
     "metadata": {},
     "output_type": "execute_result"
    }
   ],
   "source": [
    "combined_df"
   ]
  },
  {
   "cell_type": "code",
   "execution_count": 13,
   "metadata": {},
   "outputs": [],
   "source": [
    "# Sort the dataframe by MAC Address and Timestamp\n",
    "combined_df.sort_values(by=[\"MAC Address\", \"Timestamp\"], inplace=True)\n",
    "\n",
    "# Group the dataframe by MAC Address\n",
    "grouped_df = combined_df.groupby(\"MAC Address\")\n",
    "\n",
    "# Calculate the average interval between Probe Requests: time difference divided by number of packets in the group\n",
    "combined_df[\"IFAT\"] = (\n",
    "    grouped_df[\"Timestamp\"].diff() / grouped_df[\"Timestamp\"].diff().count()\n",
    ")\n",
    "\n",
    "# Convert IFAT to seconds\n",
    "combined_df[\"IFAT\"] = combined_df[\"IFAT\"].dt.total_seconds()"
   ]
  },
  {
   "cell_type": "markdown",
   "metadata": {},
   "source": [
    "Filling empty IFAT with `1`: empty IFAT means that the MAC address was used only one time and never changed. Filling empty values with a very high number compared to the average IFAT represents that the time tends to infinity."
   ]
  },
  {
   "cell_type": "code",
   "execution_count": null,
   "metadata": {},
   "outputs": [],
   "source": [
    "combined_df.fillna(1, inplace=True)"
   ]
  },
  {
   "cell_type": "code",
   "execution_count": 14,
   "metadata": {},
   "outputs": [
    {
     "data": {
      "text/html": [
       "<div>\n",
       "<style scoped>\n",
       "    .dataframe tbody tr th:only-of-type {\n",
       "        vertical-align: middle;\n",
       "    }\n",
       "\n",
       "    .dataframe tbody tr th {\n",
       "        vertical-align: top;\n",
       "    }\n",
       "\n",
       "    .dataframe thead th {\n",
       "        text-align: right;\n",
       "    }\n",
       "</style>\n",
       "<table border=\"1\" class=\"dataframe\">\n",
       "  <thead>\n",
       "    <tr style=\"text-align: right;\">\n",
       "      <th></th>\n",
       "      <th>Timestamp</th>\n",
       "      <th>MAC Address</th>\n",
       "      <th>Channel</th>\n",
       "      <th>DS Channel</th>\n",
       "      <th>Length</th>\n",
       "      <th>Label</th>\n",
       "      <th>IFAT</th>\n",
       "    </tr>\n",
       "  </thead>\n",
       "  <tbody>\n",
       "    <tr>\n",
       "      <th>32652</th>\n",
       "      <td>2021-07-08 08:54:07.078243017</td>\n",
       "      <td>00:0f:00:6a:68:8b</td>\n",
       "      <td>1</td>\n",
       "      <td>-1.0</td>\n",
       "      <td>76</td>\n",
       "      <td>SamsungJ6_K</td>\n",
       "      <td>1.000000e+00</td>\n",
       "    </tr>\n",
       "    <tr>\n",
       "      <th>32653</th>\n",
       "      <td>2021-07-08 08:54:08.105015993</td>\n",
       "      <td>00:0f:00:6a:68:8b</td>\n",
       "      <td>1</td>\n",
       "      <td>-1.0</td>\n",
       "      <td>289</td>\n",
       "      <td>SamsungJ6_K</td>\n",
       "      <td>3.246000e-05</td>\n",
       "    </tr>\n",
       "    <tr>\n",
       "      <th>32654</th>\n",
       "      <td>2021-07-08 08:54:08.107963085</td>\n",
       "      <td>00:0f:00:6a:68:8b</td>\n",
       "      <td>1</td>\n",
       "      <td>-1.0</td>\n",
       "      <td>289</td>\n",
       "      <td>SamsungJ6_K</td>\n",
       "      <td>9.300000e-08</td>\n",
       "    </tr>\n",
       "    <tr>\n",
       "      <th>32655</th>\n",
       "      <td>2021-07-08 08:54:08.141887903</td>\n",
       "      <td>00:0f:00:6a:68:8b</td>\n",
       "      <td>1</td>\n",
       "      <td>-1.0</td>\n",
       "      <td>289</td>\n",
       "      <td>SamsungJ6_K</td>\n",
       "      <td>1.072000e-06</td>\n",
       "    </tr>\n",
       "    <tr>\n",
       "      <th>32656</th>\n",
       "      <td>2021-07-08 08:54:08.174788952</td>\n",
       "      <td>00:0f:00:6a:68:8b</td>\n",
       "      <td>1</td>\n",
       "      <td>-1.0</td>\n",
       "      <td>289</td>\n",
       "      <td>SamsungJ6_K</td>\n",
       "      <td>1.040000e-06</td>\n",
       "    </tr>\n",
       "    <tr>\n",
       "      <th>...</th>\n",
       "      <td>...</td>\n",
       "      <td>...</td>\n",
       "      <td>...</td>\n",
       "      <td>...</td>\n",
       "      <td>...</td>\n",
       "      <td>...</td>\n",
       "      <td>...</td>\n",
       "    </tr>\n",
       "    <tr>\n",
       "      <th>6931</th>\n",
       "      <td>2023-10-12 13:44:31.617539644</td>\n",
       "      <td>fe:fc:07:34:10:69</td>\n",
       "      <td>1</td>\n",
       "      <td>1.0</td>\n",
       "      <td>132</td>\n",
       "      <td>iPhone11_C</td>\n",
       "      <td>7.300000e-07</td>\n",
       "    </tr>\n",
       "    <tr>\n",
       "      <th>46437</th>\n",
       "      <td>2021-06-30 17:15:54.225436926</td>\n",
       "      <td>fe:fc:aa:d1:89:d1</td>\n",
       "      <td>1</td>\n",
       "      <td>2.0</td>\n",
       "      <td>143</td>\n",
       "      <td>iPhone12_W</td>\n",
       "      <td>1.000000e+00</td>\n",
       "    </tr>\n",
       "    <tr>\n",
       "      <th>46438</th>\n",
       "      <td>2021-06-30 17:15:54.245695114</td>\n",
       "      <td>fe:fc:aa:d1:89:d1</td>\n",
       "      <td>1</td>\n",
       "      <td>2.0</td>\n",
       "      <td>143</td>\n",
       "      <td>iPhone12_W</td>\n",
       "      <td>6.400000e-07</td>\n",
       "    </tr>\n",
       "    <tr>\n",
       "      <th>5702</th>\n",
       "      <td>2023-10-12 21:49:14.122128725</td>\n",
       "      <td>fe:ff:ff:0f:64:5d</td>\n",
       "      <td>11</td>\n",
       "      <td>12.0</td>\n",
       "      <td>132</td>\n",
       "      <td>iPhone11_B</td>\n",
       "      <td>1.000000e+00</td>\n",
       "    </tr>\n",
       "    <tr>\n",
       "      <th>5703</th>\n",
       "      <td>2023-10-12 21:49:14.141748428</td>\n",
       "      <td>fe:ff:ff:0f:64:5d</td>\n",
       "      <td>11</td>\n",
       "      <td>12.0</td>\n",
       "      <td>132</td>\n",
       "      <td>iPhone11_B</td>\n",
       "      <td>6.200000e-07</td>\n",
       "    </tr>\n",
       "  </tbody>\n",
       "</table>\n",
       "<p>36046 rows × 7 columns</p>\n",
       "</div>"
      ],
      "text/plain": [
       "                          Timestamp        MAC Address  Channel  DS Channel  \\\n",
       "32652 2021-07-08 08:54:07.078243017  00:0f:00:6a:68:8b        1        -1.0   \n",
       "32653 2021-07-08 08:54:08.105015993  00:0f:00:6a:68:8b        1        -1.0   \n",
       "32654 2021-07-08 08:54:08.107963085  00:0f:00:6a:68:8b        1        -1.0   \n",
       "32655 2021-07-08 08:54:08.141887903  00:0f:00:6a:68:8b        1        -1.0   \n",
       "32656 2021-07-08 08:54:08.174788952  00:0f:00:6a:68:8b        1        -1.0   \n",
       "...                             ...                ...      ...         ...   \n",
       "6931  2023-10-12 13:44:31.617539644  fe:fc:07:34:10:69        1         1.0   \n",
       "46437 2021-06-30 17:15:54.225436926  fe:fc:aa:d1:89:d1        1         2.0   \n",
       "46438 2021-06-30 17:15:54.245695114  fe:fc:aa:d1:89:d1        1         2.0   \n",
       "5702  2023-10-12 21:49:14.122128725  fe:ff:ff:0f:64:5d       11        12.0   \n",
       "5703  2023-10-12 21:49:14.141748428  fe:ff:ff:0f:64:5d       11        12.0   \n",
       "\n",
       "       Length        Label          IFAT  \n",
       "32652      76  SamsungJ6_K  1.000000e+00  \n",
       "32653     289  SamsungJ6_K  3.246000e-05  \n",
       "32654     289  SamsungJ6_K  9.300000e-08  \n",
       "32655     289  SamsungJ6_K  1.072000e-06  \n",
       "32656     289  SamsungJ6_K  1.040000e-06  \n",
       "...       ...          ...           ...  \n",
       "6931      132   iPhone11_C  7.300000e-07  \n",
       "46437     143   iPhone12_W  1.000000e+00  \n",
       "46438     143   iPhone12_W  6.400000e-07  \n",
       "5702      132   iPhone11_B  1.000000e+00  \n",
       "5703      132   iPhone11_B  6.200000e-07  \n",
       "\n",
       "[36046 rows x 7 columns]"
      ]
     },
     "execution_count": 14,
     "metadata": {},
     "output_type": "execute_result"
    }
   ],
   "source": [
    "combined_df"
   ]
  },
  {
   "cell_type": "code",
   "execution_count": 15,
   "metadata": {},
   "outputs": [
    {
     "name": "stdout",
     "output_type": "stream",
     "text": [
      "Average Inter Frame Arrival Time: 0.12283202903059981\n"
     ]
    }
   ],
   "source": [
    "# Average IFAT\n",
    "print(\"Average Inter Frame Arrival Time:\", combined_df[\"IFAT\"].mean())"
   ]
  },
  {
   "cell_type": "markdown",
   "metadata": {},
   "source": [
    "Plot average IFAT, as well as the std to better visualize the error"
   ]
  },
  {
   "cell_type": "code",
   "execution_count": 16,
   "metadata": {},
   "outputs": [
    {
     "data": {
      "image/png": "[encoded data removed]",
      "text/plain": [
       "<Figure size 1500x1000 with 1 Axes>"
      ]
     },
     "metadata": {},
     "output_type": "display_data"
    }
   ],
   "source": [
    "plotHelper.plot_average_and_error(combined_df, \"Label\", \"IFAT\")"
   ]
  }
 ],
 "metadata": {
  "kernelspec": {
   "display_name": ".venv",
   "language": "python",
   "name": "python3"
  },
  "language_info": {
   "codemirror_mode": {
    "name": "ipython",
    "version": 3
   },
   "file_extension": ".py",
   "mimetype": "text/x-python",
   "name": "python",
   "nbconvert_exporter": "python",
   "pygments_lexer": "ipython3",
   "version": "3.11.7"
  }
 },
 "nbformat": 4,
 "nbformat_minor": 2
}
