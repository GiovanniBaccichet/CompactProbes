{
 "cells": [
  {
   "cell_type": "markdown",
   "metadata": {},
   "source": [
    "# UJI Dataset Cleaning"
   ]
  },
  {
   "cell_type": "markdown",
   "metadata": {},
   "source": [
    "## Libraries and Configurations"
   ]
  },
  {
   "cell_type": "markdown",
   "metadata": {},
   "source": [
    "Import configuration files"
   ]
  },
  {
   "cell_type": "code",
   "execution_count": 1,
   "metadata": {},
   "outputs": [
    {
     "data": {
      "text/plain": [
       "['../../config.ini']"
      ]
     },
     "execution_count": 1,
     "metadata": {},
     "output_type": "execute_result"
    }
   ],
   "source": [
    "from configparser import ConfigParser\n",
    "\n",
    "config = ConfigParser()\n",
    "config.read(\"../../config.ini\")"
   ]
  },
  {
   "cell_type": "markdown",
   "metadata": {},
   "source": [
    "Import **data libraries**"
   ]
  },
  {
   "cell_type": "code",
   "execution_count": 2,
   "metadata": {},
   "outputs": [],
   "source": [
    "import pandas as pd"
   ]
  },
  {
   "cell_type": "markdown",
   "metadata": {},
   "source": [
    "Import **other libraries**"
   ]
  },
  {
   "cell_type": "code",
   "execution_count": 3,
   "metadata": {},
   "outputs": [
    {
     "data": {
      "text/plain": [
       "<bound method InteractiveShell.excepthook of <ipykernel.zmqshell.ZMQInteractiveShell object at 0x10fb50ed0>>"
      ]
     },
     "execution_count": 3,
     "metadata": {},
     "output_type": "execute_result"
    }
   ],
   "source": [
    "from rich.progress import Progress\n",
    "from rich import traceback\n",
    "\n",
    "traceback.install()"
   ]
  },
  {
   "cell_type": "markdown",
   "metadata": {},
   "source": [
    "Custom helper scripts"
   ]
  },
  {
   "cell_type": "code",
   "execution_count": 4,
   "metadata": {},
   "outputs": [
    {
     "name": "stdout",
     "output_type": "stream",
     "text": [
      "/Users/bacci/Library/CloudStorage/SynologyDrive-giovanni/Research 🌱/Repositories/COMPACT/notebooks\n",
      "/Users/bacci/Library/CloudStorage/SynologyDrive-giovanni/Research 🌱/Repositories/COMPACT/notebooks/data_exploration_cleaning\n"
     ]
    }
   ],
   "source": [
    "%cd ../../\n",
    "from scripts import plotHelper, encodingHelper\n",
    "%cd data_exploration_cleaning"
   ]
  },
  {
   "cell_type": "markdown",
   "metadata": {},
   "source": [
    "## Import Data"
   ]
  },
  {
   "cell_type": "code",
   "execution_count": 5,
   "metadata": {},
   "outputs": [],
   "source": [
    "# Combined dataframe\n",
    "uji_df_csv = config[\"UJI\"][\"extracted_path\"] + \"/uji_probes.csv\""
   ]
  },
  {
   "cell_type": "code",
   "execution_count": 6,
   "metadata": {},
   "outputs": [],
   "source": [
    "uji_df = pd.read_csv(uji_df_csv)\n",
    "uji_df[\"Timestamp\"] = pd.to_datetime(uji_df[\"Timestamp\"], unit=\"s\")"
   ]
  },
  {
   "cell_type": "markdown",
   "metadata": {},
   "source": [
    "## Drop Not Relevant Columns"
   ]
  },
  {
   "cell_type": "markdown",
   "metadata": {},
   "source": [
    "Since the dataset is not labelled, we can drop the `Label` column"
   ]
  },
  {
   "cell_type": "code",
   "execution_count": 7,
   "metadata": {},
   "outputs": [],
   "source": [
    "uji_df.drop(columns=[\"Label\"], inplace=True)"
   ]
  },
  {
   "cell_type": "code",
   "execution_count": 8,
   "metadata": {},
   "outputs": [
    {
     "data": {
      "text/html": [
       "<div>\n",
       "<style scoped>\n",
       "    .dataframe tbody tr th:only-of-type {\n",
       "        vertical-align: middle;\n",
       "    }\n",
       "\n",
       "    .dataframe tbody tr th {\n",
       "        vertical-align: top;\n",
       "    }\n",
       "\n",
       "    .dataframe thead th {\n",
       "        text-align: right;\n",
       "    }\n",
       "</style>\n",
       "<table border=\"1\" class=\"dataframe\">\n",
       "  <thead>\n",
       "    <tr style=\"text-align: right;\">\n",
       "      <th></th>\n",
       "      <th>Timestamp</th>\n",
       "      <th>MAC Address</th>\n",
       "      <th>Channel</th>\n",
       "      <th>DS Channel</th>\n",
       "      <th>HT Capabilities</th>\n",
       "      <th>Extended Capabilities</th>\n",
       "      <th>Vendor Specific Tags</th>\n",
       "      <th>SSID</th>\n",
       "      <th>Supported Rates</th>\n",
       "      <th>Extended Supported Rates</th>\n",
       "      <th>VHT Capabilities</th>\n",
       "      <th>HE Capabilities</th>\n",
       "      <th>Length</th>\n",
       "    </tr>\n",
       "  </thead>\n",
       "  <tbody>\n",
       "    <tr>\n",
       "      <th>0</th>\n",
       "      <td>2023-02-28 10:06:13.608247995</td>\n",
       "      <td>16:d2:8e:2a:d5:47</td>\n",
       "      <td>6</td>\n",
       "      <td>5.0</td>\n",
       "      <td>2d4017ff00000000000000000000000000000000000000...</td>\n",
       "      <td>0000080400000040</td>\n",
       "      <td>0017f20a00010400000000</td>\n",
       "      <td>SSID_70757882</td>\n",
       "      <td>02040b16</td>\n",
       "      <td>0c1218243048606c</td>\n",
       "      <td>NaN</td>\n",
       "      <td>NaN</td>\n",
       "      <td>145</td>\n",
       "    </tr>\n",
       "    <tr>\n",
       "      <th>1</th>\n",
       "      <td>2023-02-28 10:06:13.619611979</td>\n",
       "      <td>16:d2:8e:2a:d5:47</td>\n",
       "      <td>6</td>\n",
       "      <td>5.0</td>\n",
       "      <td>2d4017ff00000000000000000000000000000000000000...</td>\n",
       "      <td>0000080400000040</td>\n",
       "      <td>0017f20a00010400000000</td>\n",
       "      <td>SSID_70757882</td>\n",
       "      <td>02040b16</td>\n",
       "      <td>0c1218243048606c</td>\n",
       "      <td>NaN</td>\n",
       "      <td>NaN</td>\n",
       "      <td>145</td>\n",
       "    </tr>\n",
       "    <tr>\n",
       "      <th>2</th>\n",
       "      <td>2023-02-28 10:06:15.874474049</td>\n",
       "      <td>aa:a2:d1:e3:8c:22</td>\n",
       "      <td>6</td>\n",
       "      <td>6.0</td>\n",
       "      <td>2d4017ff00000000000000000000000000000000000000...</td>\n",
       "      <td>0000080400000040</td>\n",
       "      <td>0017f20a00010400000000</td>\n",
       "      <td>SSID_56211587</td>\n",
       "      <td>02040b16</td>\n",
       "      <td>0c1218243048606c</td>\n",
       "      <td>NaN</td>\n",
       "      <td>NaN</td>\n",
       "      <td>145</td>\n",
       "    </tr>\n",
       "    <tr>\n",
       "      <th>3</th>\n",
       "      <td>2023-02-28 10:06:17.232656956</td>\n",
       "      <td>86:6f:da:1b:96:4b</td>\n",
       "      <td>9</td>\n",
       "      <td>8.0</td>\n",
       "      <td>2d0917ff00000000000000000000000000000000000000...</td>\n",
       "      <td>050008800000004080</td>\n",
       "      <td>0050f208001200</td>\n",
       "      <td>NaN</td>\n",
       "      <td>02040b160c121824</td>\n",
       "      <td>3048606c</td>\n",
       "      <td>NaN</td>\n",
       "      <td>NaN</td>\n",
       "      <td>107</td>\n",
       "    </tr>\n",
       "    <tr>\n",
       "      <th>4</th>\n",
       "      <td>2023-02-28 10:06:17.326913118</td>\n",
       "      <td>60:83:34:df:f8:74</td>\n",
       "      <td>10</td>\n",
       "      <td>9.0</td>\n",
       "      <td>2c0103ff00000000000000000000000000000000000000...</td>\n",
       "      <td>NaN</td>\n",
       "      <td>0050f208000000</td>\n",
       "      <td>SSID_07527841</td>\n",
       "      <td>02040b16</td>\n",
       "      <td>0c1218243048606c</td>\n",
       "      <td>NaN</td>\n",
       "      <td>NaN</td>\n",
       "      <td>109</td>\n",
       "    </tr>\n",
       "    <tr>\n",
       "      <th>...</th>\n",
       "      <td>...</td>\n",
       "      <td>...</td>\n",
       "      <td>...</td>\n",
       "      <td>...</td>\n",
       "      <td>...</td>\n",
       "      <td>...</td>\n",
       "      <td>...</td>\n",
       "      <td>...</td>\n",
       "      <td>...</td>\n",
       "      <td>...</td>\n",
       "      <td>...</td>\n",
       "      <td>...</td>\n",
       "      <td>...</td>\n",
       "    </tr>\n",
       "    <tr>\n",
       "      <th>1410829</th>\n",
       "      <td>2023-03-29 10:36:00.696099997</td>\n",
       "      <td>c6:6f:dd:56:6d:7e</td>\n",
       "      <td>11</td>\n",
       "      <td>10.0</td>\n",
       "      <td>ef0113ffff000000000000000000000000000000000000...</td>\n",
       "      <td>00000a8200400000000120</td>\n",
       "      <td>0050f208002800</td>\n",
       "      <td>SSID_44969871</td>\n",
       "      <td>02040b16</td>\n",
       "      <td>0c1218243048606c</td>\n",
       "      <td>92f19033faff6203faff6203</td>\n",
       "      <td>020028</td>\n",
       "      <td>163</td>\n",
       "    </tr>\n",
       "    <tr>\n",
       "      <th>1410830</th>\n",
       "      <td>2023-03-29 10:36:00.717555046</td>\n",
       "      <td>c6:6f:dd:56:6d:7e</td>\n",
       "      <td>11</td>\n",
       "      <td>10.0</td>\n",
       "      <td>ef0113ffff000000000000000000000000000000000000...</td>\n",
       "      <td>00000a8200400000000120</td>\n",
       "      <td>0050f208002800</td>\n",
       "      <td>NaN</td>\n",
       "      <td>02040b16</td>\n",
       "      <td>0c1218243048606c</td>\n",
       "      <td>92f19033faff6203faff6203</td>\n",
       "      <td>020014</td>\n",
       "      <td>150</td>\n",
       "    </tr>\n",
       "    <tr>\n",
       "      <th>1410831</th>\n",
       "      <td>2023-03-29 10:36:00.722501040</td>\n",
       "      <td>c6:6f:dd:56:6d:7e</td>\n",
       "      <td>11</td>\n",
       "      <td>10.0</td>\n",
       "      <td>ef0113ffff000000000000000000000000000000000000...</td>\n",
       "      <td>00000a8200400000000120</td>\n",
       "      <td>0050f208002800</td>\n",
       "      <td>SSID_44969871</td>\n",
       "      <td>02040b16</td>\n",
       "      <td>0c1218243048606c</td>\n",
       "      <td>92f19033faff6203faff6203</td>\n",
       "      <td>020013</td>\n",
       "      <td>163</td>\n",
       "    </tr>\n",
       "    <tr>\n",
       "      <th>1410832</th>\n",
       "      <td>2023-03-29 10:36:03.044989109</td>\n",
       "      <td>ce:1c:b2:ac:5c:9c</td>\n",
       "      <td>2</td>\n",
       "      <td>1.0</td>\n",
       "      <td>ad0917ffff000000000000000000000000000000000000...</td>\n",
       "      <td>04000a8201400040802120</td>\n",
       "      <td>0050f208002a00</td>\n",
       "      <td>NaN</td>\n",
       "      <td>02040b16</td>\n",
       "      <td>0c1218243048606c</td>\n",
       "      <td>92f99133faff0c03faff0c03</td>\n",
       "      <td>2303010082400004334c890d0180c8000c00fafffaff19...</td>\n",
       "      <td>168</td>\n",
       "    </tr>\n",
       "    <tr>\n",
       "      <th>1410833</th>\n",
       "      <td>2023-03-29 10:36:04.293812037</td>\n",
       "      <td>3a:6e:47:5f:5e:9a</td>\n",
       "      <td>3</td>\n",
       "      <td>2.0</td>\n",
       "      <td>ad0113ffff000000000000000000000000000000000000...</td>\n",
       "      <td>00000a82004000000001</td>\n",
       "      <td>0050f208002800</td>\n",
       "      <td>NaN</td>\n",
       "      <td>02040b16</td>\n",
       "      <td>0c1218243048606c</td>\n",
       "      <td>92f99133faff6203faff6203</td>\n",
       "      <td>020017</td>\n",
       "      <td>149</td>\n",
       "    </tr>\n",
       "  </tbody>\n",
       "</table>\n",
       "<p>1410834 rows × 13 columns</p>\n",
       "</div>"
      ],
      "text/plain": [
       "                            Timestamp        MAC Address  Channel  DS Channel  \\\n",
       "0       2023-02-28 10:06:13.608247995  16:d2:8e:2a:d5:47        6         5.0   \n",
       "1       2023-02-28 10:06:13.619611979  16:d2:8e:2a:d5:47        6         5.0   \n",
       "2       2023-02-28 10:06:15.874474049  aa:a2:d1:e3:8c:22        6         6.0   \n",
       "3       2023-02-28 10:06:17.232656956  86:6f:da:1b:96:4b        9         8.0   \n",
       "4       2023-02-28 10:06:17.326913118  60:83:34:df:f8:74       10         9.0   \n",
       "...                               ...                ...      ...         ...   \n",
       "1410829 2023-03-29 10:36:00.696099997  c6:6f:dd:56:6d:7e       11        10.0   \n",
       "1410830 2023-03-29 10:36:00.717555046  c6:6f:dd:56:6d:7e       11        10.0   \n",
       "1410831 2023-03-29 10:36:00.722501040  c6:6f:dd:56:6d:7e       11        10.0   \n",
       "1410832 2023-03-29 10:36:03.044989109  ce:1c:b2:ac:5c:9c        2         1.0   \n",
       "1410833 2023-03-29 10:36:04.293812037  3a:6e:47:5f:5e:9a        3         2.0   \n",
       "\n",
       "                                           HT Capabilities  \\\n",
       "0        2d4017ff00000000000000000000000000000000000000...   \n",
       "1        2d4017ff00000000000000000000000000000000000000...   \n",
       "2        2d4017ff00000000000000000000000000000000000000...   \n",
       "3        2d0917ff00000000000000000000000000000000000000...   \n",
       "4        2c0103ff00000000000000000000000000000000000000...   \n",
       "...                                                    ...   \n",
       "1410829  ef0113ffff000000000000000000000000000000000000...   \n",
       "1410830  ef0113ffff000000000000000000000000000000000000...   \n",
       "1410831  ef0113ffff000000000000000000000000000000000000...   \n",
       "1410832  ad0917ffff000000000000000000000000000000000000...   \n",
       "1410833  ad0113ffff000000000000000000000000000000000000...   \n",
       "\n",
       "          Extended Capabilities    Vendor Specific Tags           SSID  \\\n",
       "0              0000080400000040  0017f20a00010400000000  SSID_70757882   \n",
       "1              0000080400000040  0017f20a00010400000000  SSID_70757882   \n",
       "2              0000080400000040  0017f20a00010400000000  SSID_56211587   \n",
       "3            050008800000004080          0050f208001200            NaN   \n",
       "4                           NaN          0050f208000000  SSID_07527841   \n",
       "...                         ...                     ...            ...   \n",
       "1410829  00000a8200400000000120          0050f208002800  SSID_44969871   \n",
       "1410830  00000a8200400000000120          0050f208002800            NaN   \n",
       "1410831  00000a8200400000000120          0050f208002800  SSID_44969871   \n",
       "1410832  04000a8201400040802120          0050f208002a00            NaN   \n",
       "1410833    00000a82004000000001          0050f208002800            NaN   \n",
       "\n",
       "          Supported Rates Extended Supported Rates          VHT Capabilities  \\\n",
       "0                02040b16         0c1218243048606c                       NaN   \n",
       "1                02040b16         0c1218243048606c                       NaN   \n",
       "2                02040b16         0c1218243048606c                       NaN   \n",
       "3        02040b160c121824                 3048606c                       NaN   \n",
       "4                02040b16         0c1218243048606c                       NaN   \n",
       "...                   ...                      ...                       ...   \n",
       "1410829          02040b16         0c1218243048606c  92f19033faff6203faff6203   \n",
       "1410830          02040b16         0c1218243048606c  92f19033faff6203faff6203   \n",
       "1410831          02040b16         0c1218243048606c  92f19033faff6203faff6203   \n",
       "1410832          02040b16         0c1218243048606c  92f99133faff0c03faff0c03   \n",
       "1410833          02040b16         0c1218243048606c  92f99133faff6203faff6203   \n",
       "\n",
       "                                           HE Capabilities  Length  \n",
       "0                                                      NaN     145  \n",
       "1                                                      NaN     145  \n",
       "2                                                      NaN     145  \n",
       "3                                                      NaN     107  \n",
       "4                                                      NaN     109  \n",
       "...                                                    ...     ...  \n",
       "1410829                                             020028     163  \n",
       "1410830                                             020014     150  \n",
       "1410831                                             020013     163  \n",
       "1410832  2303010082400004334c890d0180c8000c00fafffaff19...     168  \n",
       "1410833                                             020017     149  \n",
       "\n",
       "[1410834 rows x 13 columns]"
      ]
     },
     "execution_count": 8,
     "metadata": {},
     "output_type": "execute_result"
    }
   ],
   "source": [
    "uji_df"
   ]
  },
  {
   "cell_type": "markdown",
   "metadata": {},
   "source": [
    "## SSID Length Cleaning"
   ]
  },
  {
   "cell_type": "code",
   "execution_count": 9,
   "metadata": {},
   "outputs": [],
   "source": [
    "uji_df[\"Length NO SSID\"] = uji_df.apply(\n",
    "    lambda row: (\n",
    "        row[\"Length\"] - len(row[\"SSID\"])\n",
    "        if isinstance(row[\"SSID\"], str)\n",
    "        else row[\"Length\"]\n",
    "    ),\n",
    "    axis=1,\n",
    ")"
   ]
  },
  {
   "cell_type": "markdown",
   "metadata": {},
   "source": [
    "Export to CSV"
   ]
  },
  {
   "cell_type": "code",
   "execution_count": 10,
   "metadata": {},
   "outputs": [],
   "source": [
    "uji_df.to_csv(\n",
    "    config[\"DEFAULT\"][\"interim_path\"] + \"/uji_dataset/uji_clean.csv\", index=False\n",
    ")"
   ]
  },
  {
   "cell_type": "markdown",
   "metadata": {},
   "source": [
    "## Label Encoding Features"
   ]
  },
  {
   "cell_type": "markdown",
   "metadata": {},
   "source": [
    "Filling empty fields with `-1`"
   ]
  },
  {
   "cell_type": "code",
   "execution_count": 11,
   "metadata": {},
   "outputs": [],
   "source": [
    "uji_df.fillna(-1, inplace=True)"
   ]
  },
  {
   "cell_type": "markdown",
   "metadata": {},
   "source": [
    "Fixing columns data types"
   ]
  },
  {
   "cell_type": "code",
   "execution_count": 12,
   "metadata": {},
   "outputs": [
    {
     "data": {
      "text/plain": [
       "Timestamp                   datetime64[ns]\n",
       "MAC Address                         object\n",
       "Channel                              int64\n",
       "DS Channel                         float64\n",
       "HT Capabilities                     object\n",
       "Extended Capabilities               object\n",
       "Vendor Specific Tags                object\n",
       "SSID                                object\n",
       "Supported Rates                     object\n",
       "Extended Supported Rates            object\n",
       "VHT Capabilities                    object\n",
       "HE Capabilities                     object\n",
       "Length                               int64\n",
       "Length NO SSID                       int64\n",
       "dtype: object"
      ]
     },
     "execution_count": 12,
     "metadata": {},
     "output_type": "execute_result"
    }
   ],
   "source": [
    "uji_df.dtypes"
   ]
  },
  {
   "cell_type": "code",
   "execution_count": 13,
   "metadata": {},
   "outputs": [],
   "source": [
    "# Converting Timestamp to datetime\n",
    "uji_df[\"Timestamp\"] = pd.to_datetime(uji_df[\"Timestamp\"])\n",
    "\n",
    "# Converting SSID to string\n",
    "uji_df[\"SSID\"] = uji_df[\"SSID\"].astype(str)\n",
    "\n",
    "# Converting MAC Address to string\n",
    "uji_df[\"MAC Address\"] = uji_df[\"MAC Address\"].astype(str)\n",
    "\n",
    "# Converting HT Capabilities to string\n",
    "uji_df[\"HT Capabilities\"] = uji_df[\"HT Capabilities\"].astype(str)\n",
    "\n",
    "# Converting Extended Capabilities to string\n",
    "uji_df[\"Extended Capabilities\"] = uji_df[\"Extended Capabilities\"].astype(str)\n",
    "\n",
    "# Converting Vendor Specific Tags to string\n",
    "uji_df[\"Vendor Specific Tags\"] = uji_df[\"Vendor Specific Tags\"].astype(str)\n",
    "\n",
    "# Converting Supported Rates to string\n",
    "uji_df[\"Supported Rates\"] = uji_df[\"Supported Rates\"].astype(str)\n",
    "\n",
    "# Converting Extended Supported Rates to string\n",
    "uji_df[\"Extended Supported Rates\"] = uji_df[\"Extended Supported Rates\"].astype(str)\n",
    "\n",
    "# Converting VHT Capabilities to string\n",
    "uji_df[\"VHT Capabilities\"] = uji_df[\"VHT Capabilities\"].astype(str)\n",
    "\n",
    "# Converting HE Capabilities to string\n",
    "uji_df[\"HE Capabilities\"] = uji_df[\"HE Capabilities\"].astype(str)"
   ]
  },
  {
   "cell_type": "markdown",
   "metadata": {},
   "source": [
    "**Label encoding** categorical features for better readability. `-1` is kept as is to indicate empty field"
   ]
  },
  {
   "cell_type": "code",
   "execution_count": 14,
   "metadata": {},
   "outputs": [],
   "source": [
    "uji_df[\"HT Capabilities\"] = encodingHelper.label_encode_with_exception(\n",
    "    uji_df[\"HT Capabilities\"]\n",
    ")\n",
    "uji_df[\"HE Capabilities\"] = encodingHelper.label_encode_with_exception(\n",
    "    uji_df[\"HE Capabilities\"]\n",
    ")\n",
    "uji_df[\"Extended Capabilities\"] = encodingHelper.label_encode_with_exception(\n",
    "    uji_df[\"Extended Capabilities\"]\n",
    ")\n",
    "uji_df[\"Vendor Specific Tags\"] = encodingHelper.label_encode_with_exception(\n",
    "    uji_df[\"Vendor Specific Tags\"]\n",
    ")\n",
    "uji_df[\"Supported Rates\"] = encodingHelper.label_encode_with_exception(\n",
    "    uji_df[\"Supported Rates\"]\n",
    ")\n",
    "uji_df[\"Extended Supported Rates\"] = encodingHelper.label_encode_with_exception(\n",
    "    uji_df[\"Extended Supported Rates\"]\n",
    ")\n",
    "uji_df[\"VHT Capabilities\"] = encodingHelper.label_encode_with_exception(\n",
    "    uji_df[\"VHT Capabilities\"]\n",
    ")"
   ]
  },
  {
   "cell_type": "markdown",
   "metadata": {},
   "source": [
    "Saving **encoded dataset**"
   ]
  },
  {
   "cell_type": "code",
   "execution_count": 15,
   "metadata": {},
   "outputs": [],
   "source": [
    "uji_df.to_csv(\n",
    "    config[\"DEFAULT\"][\"interim_path\"] + \"/uji_dataset/encoded_LABEL_uji_df.csv\"\n",
    ")"
   ]
  }
 ],
 "metadata": {
  "kernelspec": {
   "display_name": ".venv",
   "language": "python",
   "name": "python3"
  },
  "language_info": {
   "codemirror_mode": {
    "name": "ipython",
    "version": 3
   },
   "file_extension": ".py",
   "mimetype": "text/x-python",
   "name": "python",
   "nbconvert_exporter": "python",
   "pygments_lexer": "ipython3",
   "version": "3.11.7"
  }
 },
 "nbformat": 4,
 "nbformat_minor": 2
}
