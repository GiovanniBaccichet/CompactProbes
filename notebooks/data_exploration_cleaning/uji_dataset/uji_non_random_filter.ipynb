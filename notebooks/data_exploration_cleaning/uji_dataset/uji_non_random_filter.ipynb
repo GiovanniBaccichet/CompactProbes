{
 "cells": [
  {
   "cell_type": "markdown",
   "metadata": {},
   "source": [
    "# UJI Probe Non-Randomize Probe Filter"
   ]
  },
  {
   "cell_type": "markdown",
   "metadata": {},
   "source": [
    "## Libraries and Configurations"
   ]
  },
  {
   "cell_type": "markdown",
   "metadata": {},
   "source": [
    "Import configuration files"
   ]
  },
  {
   "cell_type": "code",
   "execution_count": 26,
   "metadata": {},
   "outputs": [
    {
     "data": {
      "text/plain": [
       "['../../config.ini']"
      ]
     },
     "execution_count": 26,
     "metadata": {},
     "output_type": "execute_result"
    }
   ],
   "source": [
    "from configparser import ConfigParser\n",
    "\n",
    "config = ConfigParser()\n",
    "config.read(\"../../config.ini\")"
   ]
  },
  {
   "cell_type": "markdown",
   "metadata": {},
   "source": [
    "Import **data libraries**"
   ]
  },
  {
   "cell_type": "code",
   "execution_count": 27,
   "metadata": {},
   "outputs": [],
   "source": [
    "import pandas as pd"
   ]
  },
  {
   "cell_type": "markdown",
   "metadata": {},
   "source": [
    "Import **other libraries**"
   ]
  },
  {
   "cell_type": "code",
   "execution_count": 28,
   "metadata": {},
   "outputs": [
    {
     "data": {
      "text/plain": [
       "<bound method InteractiveShell.excepthook of <ipykernel.zmqshell.ZMQInteractiveShell object at 0x10dae5010>>"
      ]
     },
     "execution_count": 28,
     "metadata": {},
     "output_type": "execute_result"
    }
   ],
   "source": [
    "from rich.progress import Progress\n",
    "from rich import traceback\n",
    "\n",
    "traceback.install()"
   ]
  },
  {
   "cell_type": "markdown",
   "metadata": {},
   "source": [
    "Custom helper scripts"
   ]
  },
  {
   "cell_type": "code",
   "execution_count": 29,
   "metadata": {},
   "outputs": [
    {
     "name": "stdout",
     "output_type": "stream",
     "text": [
      "/Users/bacci/Library/CloudStorage/SynologyDrive-giovanni/Research 🌱/Repositories/COMPACT/notebooks\n",
      "/Users/bacci/Library/CloudStorage/SynologyDrive-giovanni/Research 🌱/Repositories/COMPACT/notebooks/data_exploration_cleaning/uji_dataset\n"
     ]
    }
   ],
   "source": [
    "%cd ../../\n",
    "from scripts import plotHelper, encodingHelper\n",
    "%cd data_exploration_cleaning/uji_dataset"
   ]
  },
  {
   "cell_type": "markdown",
   "metadata": {},
   "source": [
    "## Import Data"
   ]
  },
  {
   "cell_type": "code",
   "execution_count": 30,
   "metadata": {},
   "outputs": [],
   "source": [
    "# Combined dataframe\n",
    "uji_clean_df = config[\"DEFAULT\"][\"interim_path\"] + \"/uji_dataset/uji_clean.csv\""
   ]
  },
  {
   "cell_type": "code",
   "execution_count": 31,
   "metadata": {},
   "outputs": [],
   "source": [
    "df = pd.read_csv(uji_clean_df)"
   ]
  },
  {
   "cell_type": "markdown",
   "metadata": {},
   "source": [
    "Saving rows with a global `MAC Address`"
   ]
  },
  {
   "cell_type": "code",
   "execution_count": 32,
   "metadata": {},
   "outputs": [],
   "source": [
    "uji_non_random = df.loc[~df[\"MAC Address\"].str[1].isin([\"2\", \"6\", \"a\", \"e\"]), :].copy()"
   ]
  },
  {
   "cell_type": "code",
   "execution_count": 33,
   "metadata": {},
   "outputs": [
    {
     "data": {
      "text/html": [
       "<div>\n",
       "<style scoped>\n",
       "    .dataframe tbody tr th:only-of-type {\n",
       "        vertical-align: middle;\n",
       "    }\n",
       "\n",
       "    .dataframe tbody tr th {\n",
       "        vertical-align: top;\n",
       "    }\n",
       "\n",
       "    .dataframe thead th {\n",
       "        text-align: right;\n",
       "    }\n",
       "</style>\n",
       "<table border=\"1\" class=\"dataframe\">\n",
       "  <thead>\n",
       "    <tr style=\"text-align: right;\">\n",
       "      <th></th>\n",
       "      <th>Timestamp</th>\n",
       "      <th>MAC Address</th>\n",
       "      <th>Channel</th>\n",
       "      <th>DS Channel</th>\n",
       "      <th>HT Capabilities</th>\n",
       "      <th>Extended Capabilities</th>\n",
       "      <th>Vendor Specific Tags</th>\n",
       "      <th>SSID</th>\n",
       "      <th>Supported Rates</th>\n",
       "      <th>Extended Supported Rates</th>\n",
       "      <th>VHT Capabilities</th>\n",
       "      <th>HE Capabilities</th>\n",
       "      <th>Length</th>\n",
       "      <th>Length NO SSID</th>\n",
       "    </tr>\n",
       "  </thead>\n",
       "  <tbody>\n",
       "    <tr>\n",
       "      <th>4</th>\n",
       "      <td>2023-02-28 10:06:17.326913118</td>\n",
       "      <td>60:83:34:df:f8:74</td>\n",
       "      <td>10</td>\n",
       "      <td>9.0</td>\n",
       "      <td>2c0103ff00000000000000000000000000000000000000...</td>\n",
       "      <td>NaN</td>\n",
       "      <td>0050f208000000</td>\n",
       "      <td>SSID_07527841</td>\n",
       "      <td>02040b16</td>\n",
       "      <td>0c1218243048606c</td>\n",
       "      <td>NaN</td>\n",
       "      <td>NaN</td>\n",
       "      <td>109</td>\n",
       "      <td>96</td>\n",
       "    </tr>\n",
       "    <tr>\n",
       "      <th>5</th>\n",
       "      <td>2023-02-28 10:06:17.327796936</td>\n",
       "      <td>60:83:34:df:f8:74</td>\n",
       "      <td>10</td>\n",
       "      <td>9.0</td>\n",
       "      <td>2c0103ff00000000000000000000000000000000000000...</td>\n",
       "      <td>NaN</td>\n",
       "      <td>0050f208000000</td>\n",
       "      <td>NaN</td>\n",
       "      <td>02040b16</td>\n",
       "      <td>0c1218243048606c</td>\n",
       "      <td>NaN</td>\n",
       "      <td>NaN</td>\n",
       "      <td>96</td>\n",
       "      <td>96</td>\n",
       "    </tr>\n",
       "    <tr>\n",
       "      <th>6</th>\n",
       "      <td>2023-02-28 10:06:17.336941957</td>\n",
       "      <td>60:83:34:df:f8:74</td>\n",
       "      <td>10</td>\n",
       "      <td>9.0</td>\n",
       "      <td>2c0103ff00000000000000000000000000000000000000...</td>\n",
       "      <td>NaN</td>\n",
       "      <td>0050f208000000</td>\n",
       "      <td>SSID_07527841</td>\n",
       "      <td>02040b16</td>\n",
       "      <td>0c1218243048606c</td>\n",
       "      <td>NaN</td>\n",
       "      <td>NaN</td>\n",
       "      <td>109</td>\n",
       "      <td>96</td>\n",
       "    </tr>\n",
       "    <tr>\n",
       "      <th>7</th>\n",
       "      <td>2023-02-28 10:06:25.303733110</td>\n",
       "      <td>48:5f:99:07:10:21</td>\n",
       "      <td>2</td>\n",
       "      <td>NaN</td>\n",
       "      <td>ef1902ffff000000000000000000000000000000000000...</td>\n",
       "      <td>000000000000000000</td>\n",
       "      <td>NaN</td>\n",
       "      <td>NaN</td>\n",
       "      <td>82848b960c121824</td>\n",
       "      <td>3048606c</td>\n",
       "      <td>NaN</td>\n",
       "      <td>NaN</td>\n",
       "      <td>102</td>\n",
       "      <td>102</td>\n",
       "    </tr>\n",
       "    <tr>\n",
       "      <th>8</th>\n",
       "      <td>2023-02-28 10:06:25.305162907</td>\n",
       "      <td>48:5f:99:07:10:21</td>\n",
       "      <td>2</td>\n",
       "      <td>NaN</td>\n",
       "      <td>ef1902ffff000000000000000000000000000000000000...</td>\n",
       "      <td>000000000000000000</td>\n",
       "      <td>NaN</td>\n",
       "      <td>NaN</td>\n",
       "      <td>82848b960c121824</td>\n",
       "      <td>3048606c</td>\n",
       "      <td>NaN</td>\n",
       "      <td>NaN</td>\n",
       "      <td>102</td>\n",
       "      <td>102</td>\n",
       "    </tr>\n",
       "    <tr>\n",
       "      <th>...</th>\n",
       "      <td>...</td>\n",
       "      <td>...</td>\n",
       "      <td>...</td>\n",
       "      <td>...</td>\n",
       "      <td>...</td>\n",
       "      <td>...</td>\n",
       "      <td>...</td>\n",
       "      <td>...</td>\n",
       "      <td>...</td>\n",
       "      <td>...</td>\n",
       "      <td>...</td>\n",
       "      <td>...</td>\n",
       "      <td>...</td>\n",
       "      <td>...</td>\n",
       "    </tr>\n",
       "    <tr>\n",
       "      <th>1410798</th>\n",
       "      <td>2023-03-29 10:35:45.241776943</td>\n",
       "      <td>28:39:26:b4:51:55</td>\n",
       "      <td>11</td>\n",
       "      <td>NaN</td>\n",
       "      <td>ad09020000000000000000000000000000000000000000...</td>\n",
       "      <td>000008000000000000</td>\n",
       "      <td>NaN</td>\n",
       "      <td>NaN</td>\n",
       "      <td>82848b960c121824</td>\n",
       "      <td>3048606c</td>\n",
       "      <td>NaN</td>\n",
       "      <td>NaN</td>\n",
       "      <td>102</td>\n",
       "      <td>102</td>\n",
       "    </tr>\n",
       "    <tr>\n",
       "      <th>1410799</th>\n",
       "      <td>2023-03-29 10:35:45.242811918</td>\n",
       "      <td>28:39:26:b4:51:55</td>\n",
       "      <td>11</td>\n",
       "      <td>NaN</td>\n",
       "      <td>ad09020000000000000000000000000000000000000000...</td>\n",
       "      <td>000008000000000000</td>\n",
       "      <td>NaN</td>\n",
       "      <td>NaN</td>\n",
       "      <td>82848b960c121824</td>\n",
       "      <td>3048606c</td>\n",
       "      <td>NaN</td>\n",
       "      <td>NaN</td>\n",
       "      <td>102</td>\n",
       "      <td>102</td>\n",
       "    </tr>\n",
       "    <tr>\n",
       "      <th>1410800</th>\n",
       "      <td>2023-03-29 10:35:45.248949051</td>\n",
       "      <td>28:39:26:b4:51:55</td>\n",
       "      <td>11</td>\n",
       "      <td>NaN</td>\n",
       "      <td>ad09020000000000000000000000000000000000000000...</td>\n",
       "      <td>000008000000000000</td>\n",
       "      <td>NaN</td>\n",
       "      <td>NaN</td>\n",
       "      <td>82848b960c121824</td>\n",
       "      <td>3048606c</td>\n",
       "      <td>NaN</td>\n",
       "      <td>NaN</td>\n",
       "      <td>102</td>\n",
       "      <td>102</td>\n",
       "    </tr>\n",
       "    <tr>\n",
       "      <th>1410801</th>\n",
       "      <td>2023-03-29 10:35:45.250413895</td>\n",
       "      <td>28:39:26:b4:51:55</td>\n",
       "      <td>11</td>\n",
       "      <td>NaN</td>\n",
       "      <td>ad09020000000000000000000000000000000000000000...</td>\n",
       "      <td>000008000000000000</td>\n",
       "      <td>NaN</td>\n",
       "      <td>NaN</td>\n",
       "      <td>82848b960c121824</td>\n",
       "      <td>3048606c</td>\n",
       "      <td>NaN</td>\n",
       "      <td>NaN</td>\n",
       "      <td>102</td>\n",
       "      <td>102</td>\n",
       "    </tr>\n",
       "    <tr>\n",
       "      <th>1410802</th>\n",
       "      <td>2023-03-29 10:35:45.257093905</td>\n",
       "      <td>28:39:26:b4:51:55</td>\n",
       "      <td>11</td>\n",
       "      <td>NaN</td>\n",
       "      <td>ad09020000000000000000000000000000000000000000...</td>\n",
       "      <td>000008000000000000</td>\n",
       "      <td>NaN</td>\n",
       "      <td>NaN</td>\n",
       "      <td>82848b960c121824</td>\n",
       "      <td>3048606c</td>\n",
       "      <td>NaN</td>\n",
       "      <td>NaN</td>\n",
       "      <td>102</td>\n",
       "      <td>102</td>\n",
       "    </tr>\n",
       "  </tbody>\n",
       "</table>\n",
       "<p>918054 rows × 14 columns</p>\n",
       "</div>"
      ],
      "text/plain": [
       "                             Timestamp        MAC Address  Channel  \\\n",
       "4        2023-02-28 10:06:17.326913118  60:83:34:df:f8:74       10   \n",
       "5        2023-02-28 10:06:17.327796936  60:83:34:df:f8:74       10   \n",
       "6        2023-02-28 10:06:17.336941957  60:83:34:df:f8:74       10   \n",
       "7        2023-02-28 10:06:25.303733110  48:5f:99:07:10:21        2   \n",
       "8        2023-02-28 10:06:25.305162907  48:5f:99:07:10:21        2   \n",
       "...                                ...                ...      ...   \n",
       "1410798  2023-03-29 10:35:45.241776943  28:39:26:b4:51:55       11   \n",
       "1410799  2023-03-29 10:35:45.242811918  28:39:26:b4:51:55       11   \n",
       "1410800  2023-03-29 10:35:45.248949051  28:39:26:b4:51:55       11   \n",
       "1410801  2023-03-29 10:35:45.250413895  28:39:26:b4:51:55       11   \n",
       "1410802  2023-03-29 10:35:45.257093905  28:39:26:b4:51:55       11   \n",
       "\n",
       "         DS Channel                                    HT Capabilities  \\\n",
       "4               9.0  2c0103ff00000000000000000000000000000000000000...   \n",
       "5               9.0  2c0103ff00000000000000000000000000000000000000...   \n",
       "6               9.0  2c0103ff00000000000000000000000000000000000000...   \n",
       "7               NaN  ef1902ffff000000000000000000000000000000000000...   \n",
       "8               NaN  ef1902ffff000000000000000000000000000000000000...   \n",
       "...             ...                                                ...   \n",
       "1410798         NaN  ad09020000000000000000000000000000000000000000...   \n",
       "1410799         NaN  ad09020000000000000000000000000000000000000000...   \n",
       "1410800         NaN  ad09020000000000000000000000000000000000000000...   \n",
       "1410801         NaN  ad09020000000000000000000000000000000000000000...   \n",
       "1410802         NaN  ad09020000000000000000000000000000000000000000...   \n",
       "\n",
       "        Extended Capabilities Vendor Specific Tags           SSID  \\\n",
       "4                         NaN       0050f208000000  SSID_07527841   \n",
       "5                         NaN       0050f208000000            NaN   \n",
       "6                         NaN       0050f208000000  SSID_07527841   \n",
       "7          000000000000000000                  NaN            NaN   \n",
       "8          000000000000000000                  NaN            NaN   \n",
       "...                       ...                  ...            ...   \n",
       "1410798    000008000000000000                  NaN            NaN   \n",
       "1410799    000008000000000000                  NaN            NaN   \n",
       "1410800    000008000000000000                  NaN            NaN   \n",
       "1410801    000008000000000000                  NaN            NaN   \n",
       "1410802    000008000000000000                  NaN            NaN   \n",
       "\n",
       "          Supported Rates Extended Supported Rates VHT Capabilities  \\\n",
       "4                02040b16         0c1218243048606c              NaN   \n",
       "5                02040b16         0c1218243048606c              NaN   \n",
       "6                02040b16         0c1218243048606c              NaN   \n",
       "7        82848b960c121824                 3048606c              NaN   \n",
       "8        82848b960c121824                 3048606c              NaN   \n",
       "...                   ...                      ...              ...   \n",
       "1410798  82848b960c121824                 3048606c              NaN   \n",
       "1410799  82848b960c121824                 3048606c              NaN   \n",
       "1410800  82848b960c121824                 3048606c              NaN   \n",
       "1410801  82848b960c121824                 3048606c              NaN   \n",
       "1410802  82848b960c121824                 3048606c              NaN   \n",
       "\n",
       "        HE Capabilities  Length  Length NO SSID  \n",
       "4                   NaN     109              96  \n",
       "5                   NaN      96              96  \n",
       "6                   NaN     109              96  \n",
       "7                   NaN     102             102  \n",
       "8                   NaN     102             102  \n",
       "...                 ...     ...             ...  \n",
       "1410798             NaN     102             102  \n",
       "1410799             NaN     102             102  \n",
       "1410800             NaN     102             102  \n",
       "1410801             NaN     102             102  \n",
       "1410802             NaN     102             102  \n",
       "\n",
       "[918054 rows x 14 columns]"
      ]
     },
     "execution_count": 33,
     "metadata": {},
     "output_type": "execute_result"
    }
   ],
   "source": [
    "uji_non_random"
   ]
  },
  {
   "cell_type": "code",
   "execution_count": 34,
   "metadata": {},
   "outputs": [],
   "source": [
    "uji_non_random.to_csv(\n",
    "    config[\"DEFAULT\"][\"interim_path\"] + \"/uji_dataset/uji_df_non-random.csv\"\n",
    ")"
   ]
  }
 ],
 "metadata": {
  "kernelspec": {
   "display_name": ".venv",
   "language": "python",
   "name": "python3"
  },
  "language_info": {
   "codemirror_mode": {
    "name": "ipython",
    "version": 3
   },
   "file_extension": ".py",
   "mimetype": "text/x-python",
   "name": "python",
   "nbconvert_exporter": "python",
   "pygments_lexer": "ipython3",
   "version": "3.11.7"
  }
 },
 "nbformat": 4,
 "nbformat_minor": 2
}
