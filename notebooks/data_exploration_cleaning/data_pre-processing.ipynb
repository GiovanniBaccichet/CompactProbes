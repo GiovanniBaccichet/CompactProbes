{
 "cells": [
  {
   "cell_type": "markdown",
   "metadata": {},
   "source": [
    "# Data Cleaning and Pre-Processing"
   ]
  },
  {
   "cell_type": "markdown",
   "metadata": {},
   "source": [
    "## Libraries and Configurations"
   ]
  },
  {
   "cell_type": "markdown",
   "metadata": {},
   "source": [
    "Import configuration files"
   ]
  },
  {
   "cell_type": "code",
   "execution_count": 11,
   "metadata": {},
   "outputs": [
    {
     "data": {
      "text/plain": [
       "['../config.ini']"
      ]
     },
     "execution_count": 11,
     "metadata": {},
     "output_type": "execute_result"
    }
   ],
   "source": [
    "from configparser import ConfigParser\n",
    "import os\n",
    "\n",
    "config = ConfigParser()\n",
    "config.read(\"../config.ini\")"
   ]
  },
  {
   "cell_type": "markdown",
   "metadata": {},
   "source": [
    "Import **data libraries**"
   ]
  },
  {
   "cell_type": "code",
   "execution_count": 12,
   "metadata": {},
   "outputs": [],
   "source": [
    "import pandas as pd"
   ]
  },
  {
   "cell_type": "markdown",
   "metadata": {},
   "source": [
    "Import **other libraries**"
   ]
  },
  {
   "cell_type": "code",
   "execution_count": 13,
   "metadata": {},
   "outputs": [
    {
     "data": {
      "text/plain": [
       "<bound method InteractiveShell.excepthook of <ipykernel.zmqshell.ZMQInteractiveShell object at 0x10ff4c5d0>>"
      ]
     },
     "execution_count": 13,
     "metadata": {},
     "output_type": "execute_result"
    }
   ],
   "source": [
    "from rich import traceback\n",
    "\n",
    "traceback.install()"
   ]
  },
  {
   "cell_type": "markdown",
   "metadata": {},
   "source": [
    "Custom helper scripts"
   ]
  },
  {
   "cell_type": "code",
   "execution_count": 14,
   "metadata": {},
   "outputs": [
    {
     "name": "stdout",
     "output_type": "stream",
     "text": [
      "/Users/bacci/Library/CloudStorage/SynologyDrive-giovanni/Research 🌱/Repositories/COMPACT/notebooks\n",
      "/Users/bacci/Library/CloudStorage/SynologyDrive-giovanni/Research 🌱/Repositories/COMPACT/notebooks/data_exploration_cleaning\n"
     ]
    },
    {
     "name": "stderr",
     "output_type": "stream",
     "text": [
      "/Users/bacci/Library/CloudStorage/SynologyDrive-giovanni/Research 🌱/Repositories/COMPACT/.venv/lib/python3.11/site-packages/IPython/core/magics/osm.py:417: UserWarning: using dhist requires you to install the `pickleshare` library.\n",
      "  self.shell.db['dhist'] = compress_dhist(dhist)[-100:]\n"
     ]
    }
   ],
   "source": [
    "%cd ..\n",
    "from scripts import plotHelper\n",
    "%cd data_exploration_cleaning"
   ]
  },
  {
   "cell_type": "markdown",
   "metadata": {},
   "source": [
    "## Import Data"
   ]
  },
  {
   "cell_type": "code",
   "execution_count": 15,
   "metadata": {},
   "outputs": [],
   "source": [
    "# Base directory containing the folders\n",
    "base_dir = config[\"DEFAULT\"][\"extracted_path\"]\n",
    "\n",
    "# Initialize an empty dictionary to store DataFrames\n",
    "dataframes = {}\n",
    "\n",
    "# Traverse the directory structure\n",
    "for root, dirs, files in os.walk(base_dir):\n",
    "    for file in files:\n",
    "        if file.endswith(\".csv\"):\n",
    "            # Construct the full file path\n",
    "            file_path = os.path.join(root, file)\n",
    "\n",
    "            # Read the CSV file into a DataFrame\n",
    "            df = pd.read_csv(file_path)\n",
    "\n",
    "            # Store the DataFrame in the dictionary with a unique key (e.g., file name)\n",
    "            dataframes[file] = df"
   ]
  },
  {
   "cell_type": "markdown",
   "metadata": {},
   "source": [
    "## Combine and Clean Data"
   ]
  },
  {
   "cell_type": "markdown",
   "metadata": {},
   "source": [
    "Concatenating devices' dataframes and converting *Timestamp* column"
   ]
  },
  {
   "cell_type": "code",
   "execution_count": 16,
   "metadata": {},
   "outputs": [],
   "source": [
    "combined_df = pd.concat(dataframes.values(), ignore_index=True)\n",
    "combined_df[\"Timestamp\"] = pd.to_datetime(combined_df[\"Timestamp\"], unit=\"s\")"
   ]
  },
  {
   "cell_type": "markdown",
   "metadata": {},
   "source": [
    "Saving initial, concatenated and raw dataframe"
   ]
  },
  {
   "cell_type": "code",
   "execution_count": 17,
   "metadata": {},
   "outputs": [],
   "source": [
    "combined_df.to_csv(\"../../data/interim/combined_df_raw.csv\", index=False)"
   ]
  },
  {
   "cell_type": "markdown",
   "metadata": {},
   "source": [
    "Filling with `-1` the empty fields"
   ]
  },
  {
   "cell_type": "code",
   "execution_count": 18,
   "metadata": {},
   "outputs": [
    {
     "name": "stderr",
     "output_type": "stream",
     "text": [
      "/var/folders/kz/mqbx964j4w53vxgzd7rlzx380000gn/T/ipykernel_19183/980467984.py:1: FutureWarning: Setting an item of incompatible dtype is deprecated and will raise an error in a future version of pandas. Value '-1' has dtype incompatible with float64, please explicitly cast to a compatible dtype first.\n",
      "  combined_df.fillna(\"-1\", inplace=True)\n"
     ]
    }
   ],
   "source": [
    "combined_df.fillna(\"-1\", inplace=True)"
   ]
  },
  {
   "cell_type": "code",
   "execution_count": 19,
   "metadata": {},
   "outputs": [
    {
     "data": {
      "text/html": [
       "<div>\n",
       "<style scoped>\n",
       "    .dataframe tbody tr th:only-of-type {\n",
       "        vertical-align: middle;\n",
       "    }\n",
       "\n",
       "    .dataframe tbody tr th {\n",
       "        vertical-align: top;\n",
       "    }\n",
       "\n",
       "    .dataframe thead th {\n",
       "        text-align: right;\n",
       "    }\n",
       "</style>\n",
       "<table border=\"1\" class=\"dataframe\">\n",
       "  <thead>\n",
       "    <tr style=\"text-align: right;\">\n",
       "      <th></th>\n",
       "      <th>Timestamp</th>\n",
       "      <th>MAC Address</th>\n",
       "      <th>Channel</th>\n",
       "      <th>DS Channel</th>\n",
       "      <th>HT Capabilities</th>\n",
       "      <th>Extended Capabilities</th>\n",
       "      <th>Vendor Specific Tags</th>\n",
       "      <th>SSID</th>\n",
       "      <th>Supported Rates</th>\n",
       "      <th>Extended Supported Rates</th>\n",
       "      <th>VHT Capabilities</th>\n",
       "      <th>HE Capabilities</th>\n",
       "      <th>Length</th>\n",
       "      <th>Label</th>\n",
       "    </tr>\n",
       "  </thead>\n",
       "  <tbody>\n",
       "    <tr>\n",
       "      <th>0</th>\n",
       "      <td>2023-05-20 13:52:01.864465952</td>\n",
       "      <td>d2:6b:aa:b5:fb:ed</td>\n",
       "      <td>1</td>\n",
       "      <td>1.0</td>\n",
       "      <td>2d001bff00000000000000000000000000000000000000...</td>\n",
       "      <td>80000000040000020</td>\n",
       "      <td>-1</td>\n",
       "      <td>-1</td>\n",
       "      <td>82848b96</td>\n",
       "      <td>0c1218243048606c</td>\n",
       "      <td>-1</td>\n",
       "      <td>23010808180080203002000d009f08000000fdfffdff39...</td>\n",
       "      <td>135</td>\n",
       "      <td>iPhone12Pro_C</td>\n",
       "    </tr>\n",
       "    <tr>\n",
       "      <th>1</th>\n",
       "      <td>2023-05-20 13:52:01.884716034</td>\n",
       "      <td>d2:6b:aa:b5:fb:ed</td>\n",
       "      <td>1</td>\n",
       "      <td>1.0</td>\n",
       "      <td>2d001bff00000000000000000000000000000000000000...</td>\n",
       "      <td>80000000040000020</td>\n",
       "      <td>-1</td>\n",
       "      <td>-1</td>\n",
       "      <td>82848b96</td>\n",
       "      <td>0c1218243048606c</td>\n",
       "      <td>-1</td>\n",
       "      <td>23010808180080203002000d009f08000000fdfffdff39...</td>\n",
       "      <td>135</td>\n",
       "      <td>iPhone12Pro_C</td>\n",
       "    </tr>\n",
       "    <tr>\n",
       "      <th>2</th>\n",
       "      <td>2023-05-20 13:52:01.910542011</td>\n",
       "      <td>d2:6b:aa:b5:fb:ed</td>\n",
       "      <td>6</td>\n",
       "      <td>6.0</td>\n",
       "      <td>2d001bff00000000000000000000000000000000000000...</td>\n",
       "      <td>80000000040000020</td>\n",
       "      <td>-1</td>\n",
       "      <td>-1</td>\n",
       "      <td>82848b96</td>\n",
       "      <td>0c1218243048606c</td>\n",
       "      <td>-1</td>\n",
       "      <td>23010808180080203002000d009f08000000fdfffdff39...</td>\n",
       "      <td>135</td>\n",
       "      <td>iPhone12Pro_C</td>\n",
       "    </tr>\n",
       "    <tr>\n",
       "      <th>3</th>\n",
       "      <td>2023-05-20 13:52:01.930788994</td>\n",
       "      <td>d2:6b:aa:b5:fb:ed</td>\n",
       "      <td>6</td>\n",
       "      <td>6.0</td>\n",
       "      <td>2d001bff00000000000000000000000000000000000000...</td>\n",
       "      <td>80000000040000020</td>\n",
       "      <td>-1</td>\n",
       "      <td>-1</td>\n",
       "      <td>82848b96</td>\n",
       "      <td>0c1218243048606c</td>\n",
       "      <td>-1</td>\n",
       "      <td>23010808180080203002000d009f08000000fdfffdff39...</td>\n",
       "      <td>135</td>\n",
       "      <td>iPhone12Pro_C</td>\n",
       "    </tr>\n",
       "    <tr>\n",
       "      <th>4</th>\n",
       "      <td>2023-05-20 13:52:01.968745947</td>\n",
       "      <td>d2:6b:aa:b5:fb:ed</td>\n",
       "      <td>11</td>\n",
       "      <td>11.0</td>\n",
       "      <td>2d001bff00000000000000000000000000000000000000...</td>\n",
       "      <td>80000000040000020</td>\n",
       "      <td>-1</td>\n",
       "      <td>-1</td>\n",
       "      <td>82848b96</td>\n",
       "      <td>0c1218243048606c</td>\n",
       "      <td>-1</td>\n",
       "      <td>23010808180080203002000d009f08000000fdfffdff39...</td>\n",
       "      <td>135</td>\n",
       "      <td>iPhone12Pro_C</td>\n",
       "    </tr>\n",
       "    <tr>\n",
       "      <th>...</th>\n",
       "      <td>...</td>\n",
       "      <td>...</td>\n",
       "      <td>...</td>\n",
       "      <td>...</td>\n",
       "      <td>...</td>\n",
       "      <td>...</td>\n",
       "      <td>...</td>\n",
       "      <td>...</td>\n",
       "      <td>...</td>\n",
       "      <td>...</td>\n",
       "      <td>...</td>\n",
       "      <td>...</td>\n",
       "      <td>...</td>\n",
       "      <td>...</td>\n",
       "    </tr>\n",
       "    <tr>\n",
       "      <th>76699</th>\n",
       "      <td>2021-06-16 12:51:00.708627939</td>\n",
       "      <td>ec:9b:f3:75:8e:40</td>\n",
       "      <td>11</td>\n",
       "      <td>9.0</td>\n",
       "      <td>631117ffff000000000000000000000000000000000000...</td>\n",
       "      <td>88001400040</td>\n",
       "      <td>506f9a1010</td>\n",
       "      <td>-1</td>\n",
       "      <td>02040b16</td>\n",
       "      <td>0c1218243048606c</td>\n",
       "      <td>-1</td>\n",
       "      <td>-1</td>\n",
       "      <td>162</td>\n",
       "      <td>SamsungS6_H</td>\n",
       "    </tr>\n",
       "    <tr>\n",
       "      <th>76700</th>\n",
       "      <td>2021-06-16 12:51:00.732495070</td>\n",
       "      <td>ec:9b:f3:75:8e:40</td>\n",
       "      <td>11</td>\n",
       "      <td>10.0</td>\n",
       "      <td>631117ffff000000000000000000000000000000000000...</td>\n",
       "      <td>88001400040</td>\n",
       "      <td>506f9a1010</td>\n",
       "      <td>-1</td>\n",
       "      <td>02040b16</td>\n",
       "      <td>0c1218243048606c</td>\n",
       "      <td>-1</td>\n",
       "      <td>-1</td>\n",
       "      <td>162</td>\n",
       "      <td>SamsungS6_H</td>\n",
       "    </tr>\n",
       "    <tr>\n",
       "      <th>76701</th>\n",
       "      <td>2021-06-16 12:51:00.752908945</td>\n",
       "      <td>ec:9b:f3:75:8e:40</td>\n",
       "      <td>11</td>\n",
       "      <td>10.0</td>\n",
       "      <td>631117ffff000000000000000000000000000000000000...</td>\n",
       "      <td>88001400040</td>\n",
       "      <td>506f9a1010</td>\n",
       "      <td>-1</td>\n",
       "      <td>02040b16</td>\n",
       "      <td>0c1218243048606c</td>\n",
       "      <td>-1</td>\n",
       "      <td>-1</td>\n",
       "      <td>162</td>\n",
       "      <td>SamsungS6_H</td>\n",
       "    </tr>\n",
       "    <tr>\n",
       "      <th>76702</th>\n",
       "      <td>2021-06-16 12:51:00.776777029</td>\n",
       "      <td>ec:9b:f3:75:8e:40</td>\n",
       "      <td>11</td>\n",
       "      <td>11.0</td>\n",
       "      <td>631117ffff000000000000000000000000000000000000...</td>\n",
       "      <td>88001400040</td>\n",
       "      <td>506f9a1010</td>\n",
       "      <td>-1</td>\n",
       "      <td>02040b16</td>\n",
       "      <td>0c1218243048606c</td>\n",
       "      <td>-1</td>\n",
       "      <td>-1</td>\n",
       "      <td>162</td>\n",
       "      <td>SamsungS6_H</td>\n",
       "    </tr>\n",
       "    <tr>\n",
       "      <th>76703</th>\n",
       "      <td>2021-06-16 12:51:00.797082901</td>\n",
       "      <td>ec:9b:f3:75:8e:40</td>\n",
       "      <td>11</td>\n",
       "      <td>11.0</td>\n",
       "      <td>631117ffff000000000000000000000000000000000000...</td>\n",
       "      <td>88001400040</td>\n",
       "      <td>506f9a1010</td>\n",
       "      <td>-1</td>\n",
       "      <td>02040b16</td>\n",
       "      <td>0c1218243048606c</td>\n",
       "      <td>-1</td>\n",
       "      <td>-1</td>\n",
       "      <td>162</td>\n",
       "      <td>SamsungS6_H</td>\n",
       "    </tr>\n",
       "  </tbody>\n",
       "</table>\n",
       "<p>76704 rows × 14 columns</p>\n",
       "</div>"
      ],
      "text/plain": [
       "                          Timestamp        MAC Address  Channel DS Channel  \\\n",
       "0     2023-05-20 13:52:01.864465952  d2:6b:aa:b5:fb:ed        1        1.0   \n",
       "1     2023-05-20 13:52:01.884716034  d2:6b:aa:b5:fb:ed        1        1.0   \n",
       "2     2023-05-20 13:52:01.910542011  d2:6b:aa:b5:fb:ed        6        6.0   \n",
       "3     2023-05-20 13:52:01.930788994  d2:6b:aa:b5:fb:ed        6        6.0   \n",
       "4     2023-05-20 13:52:01.968745947  d2:6b:aa:b5:fb:ed       11       11.0   \n",
       "...                             ...                ...      ...        ...   \n",
       "76699 2021-06-16 12:51:00.708627939  ec:9b:f3:75:8e:40       11        9.0   \n",
       "76700 2021-06-16 12:51:00.732495070  ec:9b:f3:75:8e:40       11       10.0   \n",
       "76701 2021-06-16 12:51:00.752908945  ec:9b:f3:75:8e:40       11       10.0   \n",
       "76702 2021-06-16 12:51:00.776777029  ec:9b:f3:75:8e:40       11       11.0   \n",
       "76703 2021-06-16 12:51:00.797082901  ec:9b:f3:75:8e:40       11       11.0   \n",
       "\n",
       "                                         HT Capabilities  \\\n",
       "0      2d001bff00000000000000000000000000000000000000...   \n",
       "1      2d001bff00000000000000000000000000000000000000...   \n",
       "2      2d001bff00000000000000000000000000000000000000...   \n",
       "3      2d001bff00000000000000000000000000000000000000...   \n",
       "4      2d001bff00000000000000000000000000000000000000...   \n",
       "...                                                  ...   \n",
       "76699  631117ffff000000000000000000000000000000000000...   \n",
       "76700  631117ffff000000000000000000000000000000000000...   \n",
       "76701  631117ffff000000000000000000000000000000000000...   \n",
       "76702  631117ffff000000000000000000000000000000000000...   \n",
       "76703  631117ffff000000000000000000000000000000000000...   \n",
       "\n",
       "      Extended Capabilities Vendor Specific Tags SSID Supported Rates  \\\n",
       "0         80000000040000020                   -1   -1        82848b96   \n",
       "1         80000000040000020                   -1   -1        82848b96   \n",
       "2         80000000040000020                   -1   -1        82848b96   \n",
       "3         80000000040000020                   -1   -1        82848b96   \n",
       "4         80000000040000020                   -1   -1        82848b96   \n",
       "...                     ...                  ...  ...             ...   \n",
       "76699           88001400040           506f9a1010   -1        02040b16   \n",
       "76700           88001400040           506f9a1010   -1        02040b16   \n",
       "76701           88001400040           506f9a1010   -1        02040b16   \n",
       "76702           88001400040           506f9a1010   -1        02040b16   \n",
       "76703           88001400040           506f9a1010   -1        02040b16   \n",
       "\n",
       "      Extended Supported Rates VHT Capabilities  \\\n",
       "0             0c1218243048606c               -1   \n",
       "1             0c1218243048606c               -1   \n",
       "2             0c1218243048606c               -1   \n",
       "3             0c1218243048606c               -1   \n",
       "4             0c1218243048606c               -1   \n",
       "...                        ...              ...   \n",
       "76699         0c1218243048606c               -1   \n",
       "76700         0c1218243048606c               -1   \n",
       "76701         0c1218243048606c               -1   \n",
       "76702         0c1218243048606c               -1   \n",
       "76703         0c1218243048606c               -1   \n",
       "\n",
       "                                         HE Capabilities  Length  \\\n",
       "0      23010808180080203002000d009f08000000fdfffdff39...     135   \n",
       "1      23010808180080203002000d009f08000000fdfffdff39...     135   \n",
       "2      23010808180080203002000d009f08000000fdfffdff39...     135   \n",
       "3      23010808180080203002000d009f08000000fdfffdff39...     135   \n",
       "4      23010808180080203002000d009f08000000fdfffdff39...     135   \n",
       "...                                                  ...     ...   \n",
       "76699                                                 -1     162   \n",
       "76700                                                 -1     162   \n",
       "76701                                                 -1     162   \n",
       "76702                                                 -1     162   \n",
       "76703                                                 -1     162   \n",
       "\n",
       "               Label  \n",
       "0      iPhone12Pro_C  \n",
       "1      iPhone12Pro_C  \n",
       "2      iPhone12Pro_C  \n",
       "3      iPhone12Pro_C  \n",
       "4      iPhone12Pro_C  \n",
       "...              ...  \n",
       "76699    SamsungS6_H  \n",
       "76700    SamsungS6_H  \n",
       "76701    SamsungS6_H  \n",
       "76702    SamsungS6_H  \n",
       "76703    SamsungS6_H  \n",
       "\n",
       "[76704 rows x 14 columns]"
      ]
     },
     "execution_count": 19,
     "metadata": {},
     "output_type": "execute_result"
    }
   ],
   "source": [
    "combined_df"
   ]
  },
  {
   "cell_type": "markdown",
   "metadata": {},
   "source": [
    "Saving `combined_df` filled with `-1` on empty fields."
   ]
  },
  {
   "cell_type": "code",
   "execution_count": 20,
   "metadata": {},
   "outputs": [],
   "source": [
    "combined_df.to_csv(\"../../data/interim/combined_df.csv\", index=False)"
   ]
  }
 ],
 "metadata": {
  "kernelspec": {
   "display_name": ".venv",
   "language": "python",
   "name": "python3"
  },
  "language_info": {
   "codemirror_mode": {
    "name": "ipython",
    "version": 3
   },
   "file_extension": ".py",
   "mimetype": "text/x-python",
   "name": "python",
   "nbconvert_exporter": "python",
   "pygments_lexer": "ipython3",
   "version": "3.11.7"
  }
 },
 "nbformat": 4,
 "nbformat_minor": 2
}
