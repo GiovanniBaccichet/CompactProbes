{
 "cells": [
  {
   "cell_type": "code",
   "execution_count": 4,
   "metadata": {},
   "outputs": [],
   "source": [
    "import time"
   ]
  },
  {
   "cell_type": "code",
   "execution_count": 5,
   "metadata": {},
   "outputs": [],
   "source": [
    "from concurrent.futures import ProcessPoolExecutor, as_completed"
   ]
  },
  {
   "cell_type": "code",
   "execution_count": 6,
   "metadata": {},
   "outputs": [],
   "source": [
    "filters = [\"f1\", \"f2\", \"f3\", \"f4\", \"f5\", \"f6\", \"f7\", \"f8\"]\n",
    "thresholds = [0, 1, 2, 3, 4, 5, 6, 7]\n",
    "pairs = [(1, 2, 1), (2, 3, -1), (3, 4, 1), (4, 5, -1), (5, 6, 1), (6, 7, -1), (7, 8, 1)]"
   ]
  },
  {
   "cell_type": "code",
   "execution_count": 5,
   "metadata": {},
   "outputs": [
    {
     "ename": "KeyboardInterrupt",
     "evalue": "",
     "output_type": "error",
     "traceback": [
      "\u001b[0;31m---------------------------------------------------------------------------\u001b[0m",
      "\u001b[0;31mKeyboardInterrupt\u001b[0m                         Traceback (most recent call last)",
      "Cell \u001b[0;32mIn[5], line 10\u001b[0m\n\u001b[1;32m      8\u001b[0m     error \u001b[38;5;241m=\u001b[39m pair[\u001b[38;5;241m0\u001b[39m] \u001b[38;5;241m-\u001b[39m threshold \u001b[38;5;241m+\u001b[39m pair[\u001b[38;5;241m1\u001b[39m]\n\u001b[1;32m      9\u001b[0m     \u001b[38;5;28;01mfor\u001b[39;00m _ \u001b[38;5;129;01min\u001b[39;00m \u001b[38;5;28mrange\u001b[39m(\u001b[38;5;241m10000000\u001b[39m):\n\u001b[0;32m---> 10\u001b[0m         count \u001b[38;5;241m+\u001b[39m\u001b[38;5;241m=\u001b[39m \u001b[38;5;241m1\u001b[39m\n\u001b[1;32m     11\u001b[0m     time\u001b[38;5;241m.\u001b[39msleep(\u001b[38;5;241m0.005\u001b[39m)\n\u001b[1;32m     12\u001b[0m errors[(pair, threshold)] \u001b[38;5;241m=\u001b[39m error\n",
      "\u001b[0;31mKeyboardInterrupt\u001b[0m: "
     ]
    }
   ],
   "source": [
    "time.start = time.time()\n",
    "errors = {}\n",
    "for filter in filters:\n",
    "    for threshold in thresholds:\n",
    "        error = 0\n",
    "        count = 0\n",
    "        for pair in pairs:\n",
    "            error = pair[0] - threshold + pair[1]\n",
    "            for _ in range(10000000):\n",
    "                count += 1\n",
    "            time.sleep(0.005)\n",
    "        errors[(pair, threshold)] = error\n",
    "time.end = time.time()\n",
    "\n",
    "print(f\"Time: {time.end - time.start}\")"
   ]
  },
  {
   "cell_type": "code",
   "execution_count": 7,
   "metadata": {},
   "outputs": [],
   "source": [
    "def counter():\n",
    "    count = 0\n",
    "    for _ in range(10000000):\n",
    "        count += 1"
   ]
  },
  {
   "cell_type": "code",
   "execution_count": 8,
   "metadata": {},
   "outputs": [],
   "source": [
    "def compute_error(filter, threshold, pairs):\n",
    "    error = 0\n",
    "    for pair in pairs:\n",
    "        error = pair[0] - threshold + pair[1]\n",
    "        counter()\n",
    "        time.sleep(0.005)\n",
    "    return (filter, threshold), error"
   ]
  },
  {
   "cell_type": "code",
   "execution_count": 9,
   "metadata": {},
   "outputs": [
    {
     "name": "stdout",
     "output_type": "stream",
     "text": [
      "Time: 45.61688423156738\n"
     ]
    }
   ],
   "source": [
    "start = time.time()\n",
    "\n",
    "errors = {}\n",
    "with ProcessPoolExecutor() as executor:\n",
    "    futures = []\n",
    "    for filter in filters:\n",
    "        for threshold in thresholds:\n",
    "            futures.append(executor.submit(compute_error, filter, threshold, pairs))\n",
    "\n",
    "    for future in as_completed(futures):\n",
    "        key, error = future.result()\n",
    "        errors[key] = error\n",
    "\n",
    "end = time.time()\n",
    "\n",
    "print(f\"Time: {end - start}\")"
   ]
  },
  {
   "cell_type": "code",
   "execution_count": 10,
   "metadata": {},
   "outputs": [
    {
     "data": {
      "text/plain": [
       "{('f1', 2): 13,\n",
       " ('f1', 3): 12,\n",
       " ('f1', 0): 15,\n",
       " ('f1', 1): 14,\n",
       " ('f1', 4): 11,\n",
       " ('f1', 5): 10,\n",
       " ('f1', 6): 9,\n",
       " ('f1', 7): 8,\n",
       " ('f2', 0): 15,\n",
       " ('f2', 1): 14,\n",
       " ('f2', 2): 13,\n",
       " ('f2', 3): 12,\n",
       " ('f2', 4): 11,\n",
       " ('f2', 5): 10,\n",
       " ('f2', 6): 9,\n",
       " ('f2', 7): 8,\n",
       " ('f3', 0): 15,\n",
       " ('f3', 1): 14,\n",
       " ('f3', 2): 13,\n",
       " ('f3', 3): 12,\n",
       " ('f3', 4): 11,\n",
       " ('f3', 5): 10,\n",
       " ('f3', 6): 9,\n",
       " ('f3', 7): 8,\n",
       " ('f4', 0): 15,\n",
       " ('f4', 1): 14,\n",
       " ('f4', 2): 13,\n",
       " ('f4', 3): 12,\n",
       " ('f4', 4): 11,\n",
       " ('f4', 5): 10,\n",
       " ('f4', 6): 9,\n",
       " ('f4', 7): 8,\n",
       " ('f5', 0): 15,\n",
       " ('f5', 1): 14,\n",
       " ('f5', 2): 13,\n",
       " ('f5', 3): 12,\n",
       " ('f5', 5): 10,\n",
       " ('f5', 4): 11,\n",
       " ('f5', 6): 9,\n",
       " ('f5', 7): 8,\n",
       " ('f6', 1): 14,\n",
       " ('f6', 0): 15,\n",
       " ('f6', 2): 13,\n",
       " ('f6', 3): 12,\n",
       " ('f6', 4): 11,\n",
       " ('f6', 5): 10,\n",
       " ('f6', 6): 9,\n",
       " ('f6', 7): 8,\n",
       " ('f7', 0): 15,\n",
       " ('f7', 1): 14,\n",
       " ('f7', 2): 13,\n",
       " ('f7', 3): 12,\n",
       " ('f7', 4): 11,\n",
       " ('f7', 5): 10,\n",
       " ('f7', 6): 9,\n",
       " ('f7', 7): 8,\n",
       " ('f8', 0): 15,\n",
       " ('f8', 1): 14,\n",
       " ('f8', 2): 13,\n",
       " ('f8', 3): 12,\n",
       " ('f8', 5): 10,\n",
       " ('f8', 4): 11,\n",
       " ('f8', 6): 9,\n",
       " ('f8', 7): 8}"
      ]
     },
     "execution_count": 10,
     "metadata": {},
     "output_type": "execute_result"
    }
   ],
   "source": [
    "errors"
   ]
  },
  {
   "cell_type": "code",
   "execution_count": null,
   "metadata": {},
   "outputs": [],
   "source": []
  }
 ],
 "metadata": {
  "kernelspec": {
   "display_name": ".venv",
   "language": "python",
   "name": "python3"
  },
  "language_info": {
   "codemirror_mode": {
    "name": "ipython",
    "version": 3
   },
   "file_extension": ".py",
   "mimetype": "text/x-python",
   "name": "python",
   "nbconvert_exporter": "python",
   "pygments_lexer": "ipython3",
   "version": "3.11.6"
  }
 },
 "nbformat": 4,
 "nbformat_minor": 2
}
