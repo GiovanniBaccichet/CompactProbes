{
 "cells": [
  {
   "cell_type": "markdown",
   "metadata": {},
   "source": [
    "# BAMBOO: Binary descriptor based on AsymMetric pairwise BOOsting"
   ]
  },
  {
   "cell_type": "markdown",
   "metadata": {},
   "source": [
    "In this notebook we include the implementation of the BAMBOO descriptor to provide a compressed representation of probe requests."
   ]
  },
  {
   "cell_type": "markdown",
   "metadata": {},
   "source": [
    "## Libraries and Configurations"
   ]
  },
  {
   "cell_type": "markdown",
   "metadata": {},
   "source": [
    "Logger"
   ]
  },
  {
   "cell_type": "code",
   "execution_count": 1,
   "metadata": {},
   "outputs": [],
   "source": [
    "import logging\n",
    "from rich.logging import RichHandler\n",
    "\n",
    "logging.getLogger(\"scapy.runtime\").setLevel(logging.CRITICAL)\n",
    "\n",
    "FORMAT = \"%(message)s\"\n",
    "logging.basicConfig(\n",
    "    level=\"NOTSET\",\n",
    "    format=FORMAT,\n",
    "    datefmt=\"[%X]\",\n",
    "    handlers=[RichHandler(rich_tracebacks=True)],\n",
    ")\n",
    "\n",
    "log = logging.getLogger(\"rich\")\n",
    "\n",
    "log.setLevel(\"CRITICAL\")"
   ]
  },
  {
   "cell_type": "markdown",
   "metadata": {},
   "source": [
    "Import configuration files"
   ]
  },
  {
   "cell_type": "code",
   "execution_count": 2,
   "metadata": {},
   "outputs": [
    {
     "data": {
      "text/plain": [
       "['../config.ini']"
      ]
     },
     "execution_count": 2,
     "metadata": {},
     "output_type": "execute_result"
    }
   ],
   "source": [
    "from configparser import ConfigParser\n",
    "\n",
    "config = ConfigParser()\n",
    "config.read(\"../config.ini\")"
   ]
  },
  {
   "cell_type": "markdown",
   "metadata": {},
   "source": [
    "Import **data libraries**"
   ]
  },
  {
   "cell_type": "code",
   "execution_count": 3,
   "metadata": {},
   "outputs": [],
   "source": [
    "import pandas as pd"
   ]
  },
  {
   "cell_type": "markdown",
   "metadata": {},
   "source": [
    "Import **other libraries**"
   ]
  },
  {
   "cell_type": "code",
   "execution_count": 4,
   "metadata": {},
   "outputs": [],
   "source": [
    "from rich.progress import Progress\n",
    "from rich import traceback\n",
    "\n",
    "traceback.install()\n",
    "\n",
    "from tqdm.notebook import tqdm"
   ]
  },
  {
   "cell_type": "code",
   "execution_count": 5,
   "metadata": {},
   "outputs": [],
   "source": [
    "import numpy as np\n",
    "import math"
   ]
  },
  {
   "cell_type": "markdown",
   "metadata": {},
   "source": [
    "Fancy print"
   ]
  },
  {
   "cell_type": "code",
   "execution_count": 6,
   "metadata": {},
   "outputs": [],
   "source": [
    "class color:\n",
    "    PURPLE = \"\\033[95m\"\n",
    "    CYAN = \"\\033[96m\"\n",
    "    DARKCYAN = \"\\033[36m\"\n",
    "    BLUE = \"\\033[94m\"\n",
    "    GREEN = \"\\033[92m\"\n",
    "    YELLOW = \"\\033[93m\"\n",
    "    RED = \"\\033[91m\"\n",
    "    BOLD = \"\\033[1m\"\n",
    "    UNDERLINE = \"\\033[4m\"\n",
    "    END = \"\\033[0m\""
   ]
  },
  {
   "cell_type": "code",
   "execution_count": 7,
   "metadata": {},
   "outputs": [],
   "source": [
    "def bold_text(text: str) -> str:\n",
    "    return str(color.BOLD + str(text) + color.END)"
   ]
  },
  {
   "cell_type": "markdown",
   "metadata": {},
   "source": [
    "## Import Data"
   ]
  },
  {
   "cell_type": "markdown",
   "metadata": {},
   "source": [
    "Importing **concatenated columns** and **pairs** datasets"
   ]
  },
  {
   "cell_type": "code",
   "execution_count": 8,
   "metadata": {},
   "outputs": [],
   "source": [
    "pairs_df = pd.read_csv(\"../../data/interim/pairs_df.csv\", index_col=0)"
   ]
  },
  {
   "cell_type": "code",
   "execution_count": 9,
   "metadata": {},
   "outputs": [
    {
     "data": {
      "text/html": [
       "<div>\n",
       "<style scoped>\n",
       "    .dataframe tbody tr th:only-of-type {\n",
       "        vertical-align: middle;\n",
       "    }\n",
       "\n",
       "    .dataframe tbody tr th {\n",
       "        vertical-align: top;\n",
       "    }\n",
       "\n",
       "    .dataframe thead th {\n",
       "        text-align: right;\n",
       "    }\n",
       "</style>\n",
       "<table border=\"1\" class=\"dataframe\">\n",
       "  <thead>\n",
       "    <tr style=\"text-align: right;\">\n",
       "      <th></th>\n",
       "      <th>Item 1</th>\n",
       "      <th>Item 2</th>\n",
       "      <th>Equality</th>\n",
       "    </tr>\n",
       "  </thead>\n",
       "  <tbody>\n",
       "    <tr>\n",
       "      <th>0</th>\n",
       "      <td>0</td>\n",
       "      <td>1</td>\n",
       "      <td>1</td>\n",
       "    </tr>\n",
       "    <tr>\n",
       "      <th>1</th>\n",
       "      <td>0</td>\n",
       "      <td>2</td>\n",
       "      <td>1</td>\n",
       "    </tr>\n",
       "    <tr>\n",
       "      <th>2</th>\n",
       "      <td>0</td>\n",
       "      <td>3</td>\n",
       "      <td>1</td>\n",
       "    </tr>\n",
       "    <tr>\n",
       "      <th>3</th>\n",
       "      <td>0</td>\n",
       "      <td>4</td>\n",
       "      <td>1</td>\n",
       "    </tr>\n",
       "    <tr>\n",
       "      <th>4</th>\n",
       "      <td>0</td>\n",
       "      <td>5</td>\n",
       "      <td>1</td>\n",
       "    </tr>\n",
       "    <tr>\n",
       "      <th>...</th>\n",
       "      <td>...</td>\n",
       "      <td>...</td>\n",
       "      <td>...</td>\n",
       "    </tr>\n",
       "    <tr>\n",
       "      <th>11493610</th>\n",
       "      <td>4791</td>\n",
       "      <td>4793</td>\n",
       "      <td>1</td>\n",
       "    </tr>\n",
       "    <tr>\n",
       "      <th>11493611</th>\n",
       "      <td>4791</td>\n",
       "      <td>4794</td>\n",
       "      <td>1</td>\n",
       "    </tr>\n",
       "    <tr>\n",
       "      <th>11493612</th>\n",
       "      <td>4792</td>\n",
       "      <td>4793</td>\n",
       "      <td>1</td>\n",
       "    </tr>\n",
       "    <tr>\n",
       "      <th>11493613</th>\n",
       "      <td>4792</td>\n",
       "      <td>4794</td>\n",
       "      <td>1</td>\n",
       "    </tr>\n",
       "    <tr>\n",
       "      <th>11493614</th>\n",
       "      <td>4793</td>\n",
       "      <td>4794</td>\n",
       "      <td>1</td>\n",
       "    </tr>\n",
       "  </tbody>\n",
       "</table>\n",
       "<p>11493615 rows × 3 columns</p>\n",
       "</div>"
      ],
      "text/plain": [
       "          Item 1  Item 2  Equality\n",
       "0              0       1         1\n",
       "1              0       2         1\n",
       "2              0       3         1\n",
       "3              0       4         1\n",
       "4              0       5         1\n",
       "...          ...     ...       ...\n",
       "11493610    4791    4793         1\n",
       "11493611    4791    4794         1\n",
       "11493612    4792    4793         1\n",
       "11493613    4792    4794         1\n",
       "11493614    4793    4794         1\n",
       "\n",
       "[11493615 rows x 3 columns]"
      ]
     },
     "execution_count": 9,
     "metadata": {},
     "output_type": "execute_result"
    }
   ],
   "source": [
    "pairs_df"
   ]
  },
  {
   "cell_type": "code",
   "execution_count": 10,
   "metadata": {},
   "outputs": [],
   "source": [
    "strings_df = pd.read_csv(\"../../data/interim/string_df.csv\", index_col=0)\n",
    "strings_df = strings_df.rename(columns={strings_df.columns[0]: \"Probes\"})"
   ]
  },
  {
   "cell_type": "code",
   "execution_count": 11,
   "metadata": {},
   "outputs": [
    {
     "data": {
      "text/html": [
       "<div>\n",
       "<style scoped>\n",
       "    .dataframe tbody tr th:only-of-type {\n",
       "        vertical-align: middle;\n",
       "    }\n",
       "\n",
       "    .dataframe tbody tr th {\n",
       "        vertical-align: top;\n",
       "    }\n",
       "\n",
       "    .dataframe thead th {\n",
       "        text-align: right;\n",
       "    }\n",
       "</style>\n",
       "<table border=\"1\" class=\"dataframe\">\n",
       "  <thead>\n",
       "    <tr style=\"text-align: right;\">\n",
       "      <th></th>\n",
       "      <th>Probes</th>\n",
       "    </tr>\n",
       "  </thead>\n",
       "  <tbody>\n",
       "    <tr>\n",
       "      <th>0</th>\n",
       "      <td>0000000000000100000000100000010000001011000101...</td>\n",
       "    </tr>\n",
       "    <tr>\n",
       "      <th>1</th>\n",
       "      <td>0000000000000100000000100000010000001011000101...</td>\n",
       "    </tr>\n",
       "    <tr>\n",
       "      <th>2</th>\n",
       "      <td>0000000000000100000000100000010000001011000101...</td>\n",
       "    </tr>\n",
       "    <tr>\n",
       "      <th>3</th>\n",
       "      <td>0000000000000100000000100000010000001011000101...</td>\n",
       "    </tr>\n",
       "    <tr>\n",
       "      <th>4</th>\n",
       "      <td>0000000000000100000000100000010000001011000101...</td>\n",
       "    </tr>\n",
       "    <tr>\n",
       "      <th>...</th>\n",
       "      <td>...</td>\n",
       "    </tr>\n",
       "    <tr>\n",
       "      <th>4790</th>\n",
       "      <td>0000110000000100000000100000010000001011000101...</td>\n",
       "    </tr>\n",
       "    <tr>\n",
       "      <th>4791</th>\n",
       "      <td>0000101100000100000000100000010000001011000101...</td>\n",
       "    </tr>\n",
       "    <tr>\n",
       "      <th>4792</th>\n",
       "      <td>0001001000000100000000100000010000001011000101...</td>\n",
       "    </tr>\n",
       "    <tr>\n",
       "      <th>4793</th>\n",
       "      <td>0000100100000100000000100000010000001011000101...</td>\n",
       "    </tr>\n",
       "    <tr>\n",
       "      <th>4794</th>\n",
       "      <td>0000000000000100000000100000010000001011000101...</td>\n",
       "    </tr>\n",
       "  </tbody>\n",
       "</table>\n",
       "<p>4795 rows × 1 columns</p>\n",
       "</div>"
      ],
      "text/plain": [
       "                                                 Probes\n",
       "0     0000000000000100000000100000010000001011000101...\n",
       "1     0000000000000100000000100000010000001011000101...\n",
       "2     0000000000000100000000100000010000001011000101...\n",
       "3     0000000000000100000000100000010000001011000101...\n",
       "4     0000000000000100000000100000010000001011000101...\n",
       "...                                                 ...\n",
       "4790  0000110000000100000000100000010000001011000101...\n",
       "4791  0000101100000100000000100000010000001011000101...\n",
       "4792  0001001000000100000000100000010000001011000101...\n",
       "4793  0000100100000100000000100000010000001011000101...\n",
       "4794  0000000000000100000000100000010000001011000101...\n",
       "\n",
       "[4795 rows x 1 columns]"
      ]
     },
     "execution_count": 11,
     "metadata": {},
     "output_type": "execute_result"
    }
   ],
   "source": [
    "strings_df"
   ]
  },
  {
   "cell_type": "markdown",
   "metadata": {},
   "source": [
    "Importing bitmask **filters**"
   ]
  },
  {
   "cell_type": "code",
   "execution_count": 12,
   "metadata": {},
   "outputs": [],
   "source": [
    "filters_df = pd.read_csv(\"../../data/filters/bitmasks.csv\", index_col=0)"
   ]
  },
  {
   "cell_type": "code",
   "execution_count": 13,
   "metadata": {},
   "outputs": [
    {
     "name": "stdout",
     "output_type": "stream",
     "text": [
      "Number of filters in the dataset: \u001b[1m65535\u001b[0m\n"
     ]
    }
   ],
   "source": [
    "print(\"Number of filters in the dataset: \" + bold_text(filters_df.shape[0]))"
   ]
  },
  {
   "cell_type": "markdown",
   "metadata": {},
   "source": [
    "Select only filter corresponding to single columns (drop combinations)."
   ]
  },
  {
   "cell_type": "code",
   "execution_count": 14,
   "metadata": {},
   "outputs": [],
   "source": [
    "filters_df = filters_df.head(16).reset_index()"
   ]
  },
  {
   "cell_type": "markdown",
   "metadata": {},
   "source": [
    "Getting actual bitmask filters' column"
   ]
  },
  {
   "cell_type": "code",
   "execution_count": 15,
   "metadata": {},
   "outputs": [],
   "source": [
    "filters = filters_df[\"Bitmask\"]"
   ]
  },
  {
   "cell_type": "markdown",
   "metadata": {},
   "source": [
    "Function to associate a **set of thresholds to each filter**, depending on the number of `1`."
   ]
  },
  {
   "cell_type": "code",
   "execution_count": 16,
   "metadata": {},
   "outputs": [],
   "source": [
    "def generate_thresholds(bitmasks):\n",
    "    \"\"\"\n",
    "    Generate thresholds for each bitmask in a set.\n",
    "\n",
    "    Parameters:\n",
    "        bitmasks (set): A set containing the bitmasks.\n",
    "\n",
    "    Returns:\n",
    "        list: A list of tuples where each tuple contains a list of bitmasks sharing the same threshold list, and their corresponding threshold list.\n",
    "    \"\"\"\n",
    "    threshold_dict = {}\n",
    "    for bitmask in bitmasks:\n",
    "        threshold = bitmask.count(\"1\")\n",
    "        if threshold in threshold_dict:\n",
    "            threshold_dict[threshold].append(bitmask)\n",
    "        else:\n",
    "            threshold_dict[threshold] = [bitmask]\n",
    "\n",
    "    return [\n",
    "        (bitmasks, list(range(threshold + 1)))\n",
    "        for threshold, bitmasks in threshold_dict.items()\n",
    "    ]"
   ]
  },
  {
   "cell_type": "markdown",
   "metadata": {},
   "source": [
    "**Generating thresholds** from bitmask filters"
   ]
  },
  {
   "cell_type": "code",
   "execution_count": 17,
   "metadata": {},
   "outputs": [],
   "source": [
    "thresholds_list = generate_thresholds(filters)"
   ]
  },
  {
   "cell_type": "code",
   "execution_count": 18,
   "metadata": {},
   "outputs": [
    {
     "name": "stdout",
     "output_type": "stream",
     "text": [
      "Number of threshold sets: \u001b[1m7\u001b[0m\n"
     ]
    }
   ],
   "source": [
    "print(\"Number of threshold sets: \" + bold_text(len(thresholds_list)))"
   ]
  },
  {
   "cell_type": "markdown",
   "metadata": {},
   "source": [
    "### Functions"
   ]
  },
  {
   "cell_type": "markdown",
   "metadata": {},
   "source": [
    "The **bitwise AND** function performs said operation on 2 binary strings"
   ]
  },
  {
   "cell_type": "code",
   "execution_count": 19,
   "metadata": {},
   "outputs": [],
   "source": [
    "def bitwise_and(bit_str1, bit_str2):\n",
    "    # Convert bit strings to integers\n",
    "    int1 = int(bit_str1, 2)\n",
    "    int2 = int(bit_str2, 2)\n",
    "\n",
    "    # Perform bitwise AND operation\n",
    "    result = int1 & int2\n",
    "\n",
    "    # Convert result back to binary string\n",
    "    result_str = bin(result)[2:]  # [2:] to remove '0b' prefix\n",
    "\n",
    "    # Return result\n",
    "    return result_str.zfill(max(len(bit_str1), len(bit_str2)))"
   ]
  },
  {
   "cell_type": "markdown",
   "metadata": {},
   "source": [
    "The **sum filter** takes as input a (binary) string and sums the values"
   ]
  },
  {
   "cell_type": "code",
   "execution_count": 20,
   "metadata": {},
   "outputs": [],
   "source": [
    "def sumFilter(bitwise_and: str) -> int:\n",
    "    sum = 0\n",
    "    for i in bitwise_and:\n",
    "        sum += int(i)\n",
    "    return sum"
   ]
  },
  {
   "cell_type": "markdown",
   "metadata": {},
   "source": [
    "**Sign function** returns -1 if negative value"
   ]
  },
  {
   "cell_type": "code",
   "execution_count": 21,
   "metadata": {},
   "outputs": [],
   "source": [
    "def sign(number: int) -> int:\n",
    "    if number < 0:\n",
    "        return -1\n",
    "    elif number >= 0:\n",
    "        return 1"
   ]
  },
  {
   "cell_type": "markdown",
   "metadata": {},
   "source": [
    "The **weak classifier** filters a couple of tuples, and given a threshold it, returns +1 or -1"
   ]
  },
  {
   "cell_type": "code",
   "execution_count": 22,
   "metadata": {},
   "outputs": [],
   "source": [
    "def weak_classifier(pair: tuple, threshold: int, filter: str) -> int:\n",
    "    log.debug(pair, threshold, filter)\n",
    "    filtered1 = sumFilter(bitwise_and(pair[0], filter))\n",
    "    filtered2 = sumFilter(bitwise_and(pair[1], filter))\n",
    "    return sign((filtered1 - threshold) * (filtered2 - threshold))"
   ]
  },
  {
   "cell_type": "markdown",
   "metadata": {},
   "source": [
    "Implementation of the **Dirach delta** function"
   ]
  },
  {
   "cell_type": "code",
   "execution_count": 23,
   "metadata": {},
   "outputs": [],
   "source": [
    "def delta(prediction: int, ground_truth: int) -> int:\n",
    "    if prediction != ground_truth:\n",
    "        return 1\n",
    "    else:\n",
    "        return 0"
   ]
  },
  {
   "cell_type": "markdown",
   "metadata": {},
   "source": [
    "The **get error** function calculates the weighted value of the filter, given the prevision and the ground truth"
   ]
  },
  {
   "cell_type": "code",
   "execution_count": 24,
   "metadata": {},
   "outputs": [],
   "source": [
    "def get_error(weigth: float, prediction: int, ground_truth: int) -> float:\n",
    "    error = weigth * delta(prediction, ground_truth)\n",
    "\n",
    "    log.debug(f\"Weigth {weigth}, Prediction {prediction}, Ground Truth {ground_truth}\")\n",
    "\n",
    "    return error"
   ]
  },
  {
   "cell_type": "markdown",
   "metadata": {},
   "source": [
    "### BAMBOO"
   ]
  },
  {
   "cell_type": "markdown",
   "metadata": {},
   "source": [
    "Input:\n",
    "- Ground truth relationships $\\langle x_{a(n)}, x_{b(n)}; y_n\\rangle$\n",
    "  - $n=1,..,N$\n",
    "  - $y_n \\in \\{+1, -1\\}$\n",
    "- A set of filters $\\mathcal{H} = \\{h_1 , ..., h_F\\}$\n",
    "- A set of binarization thresholds $\\mathcal{T} = \\{t_1 , ..., t_T\\}$\n",
    "\n",
    "Output:\n",
    "- A set of $M<F$ filters $[h_{i(1)}, ..., h_{i(M)}]$\n",
    "- Corresponding set of binarization thresholds $[t_{j(1)}, ..., t_{j(M)}]$"
   ]
  },
  {
   "cell_type": "markdown",
   "metadata": {},
   "source": [
    "Define **BAMBOO input**"
   ]
  },
  {
   "cell_type": "code",
   "execution_count": 25,
   "metadata": {},
   "outputs": [],
   "source": [
    "# Input\n",
    "dataset = strings_df.copy()\n",
    "# pairs_index = pairs_df.copy()\n",
    "pairs_index = pairs_df.head(100)\n",
    "filters = thresholds_list\n",
    "M = 3\n",
    "\n",
    "# Initial weights\n",
    "weights = np.ones(len(pairs_index)) / len(pairs_index)\n",
    "\n",
    "# Errors per iteration\n",
    "errors = {}"
   ]
  },
  {
   "cell_type": "markdown",
   "metadata": {},
   "source": [
    "Algorithm implementation"
   ]
  },
  {
   "cell_type": "code",
   "execution_count": 26,
   "metadata": {},
   "outputs": [
    {
     "data": {
      "application/vnd.jupyter.widget-view+json": {
       "model_id": "ee487d4d88cf421fb20ce4dbc2c86fc9",
       "version_major": 2,
       "version_minor": 0
      },
      "text/plain": [
       "Iterations:   0%|          | 0/3 [00:00<?, ?it/s]"
      ]
     },
     "metadata": {},
     "output_type": "display_data"
    },
    {
     "data": {
      "application/vnd.jupyter.widget-view+json": {
       "model_id": "2fef10a5a2054d16a73bc8240a4324ab",
       "version_major": 2,
       "version_minor": 0
      },
      "text/plain": [
       "Filters:   0%|          | 0/7 [00:00<?, ?it/s]"
      ]
     },
     "metadata": {},
     "output_type": "display_data"
    },
    {
     "data": {
      "application/vnd.jupyter.widget-view+json": {
       "model_id": "b0ed13b806934d2f90730f8b9877296c",
       "version_major": 2,
       "version_minor": 0
      },
      "text/plain": [
       "Filter, Threshold zip:   0%|          | 0/9 [00:00<?, ?it/s]"
      ]
     },
     "metadata": {},
     "output_type": "display_data"
    },
    {
     "data": {
      "application/vnd.jupyter.widget-view+json": {
       "model_id": "b3a61ee7b9354f66813fa5a513c84eb0",
       "version_major": 2,
       "version_minor": 0
      },
      "text/plain": [
       "Filter, Threshold zip:   0%|          | 0/2 [00:00<?, ?it/s]"
      ]
     },
     "metadata": {},
     "output_type": "display_data"
    },
    {
     "data": {
      "application/vnd.jupyter.widget-view+json": {
       "model_id": "7880c1b2311e46e09ded6bad4b0511ea",
       "version_major": 2,
       "version_minor": 0
      },
      "text/plain": [
       "Filter, Threshold zip:   0%|          | 0/1 [00:00<?, ?it/s]"
      ]
     },
     "metadata": {},
     "output_type": "display_data"
    },
    {
     "data": {
      "application/vnd.jupyter.widget-view+json": {
       "model_id": "4e9f23a2c5944425a4ff34f544104fb2",
       "version_major": 2,
       "version_minor": 0
      },
      "text/plain": [
       "Filter, Threshold zip:   0%|          | 0/1 [00:00<?, ?it/s]"
      ]
     },
     "metadata": {},
     "output_type": "display_data"
    },
    {
     "data": {
      "application/vnd.jupyter.widget-view+json": {
       "model_id": "26c33398807545ef94bfd6ac48319127",
       "version_major": 2,
       "version_minor": 0
      },
      "text/plain": [
       "Filter, Threshold zip:   0%|          | 0/1 [00:00<?, ?it/s]"
      ]
     },
     "metadata": {},
     "output_type": "display_data"
    },
    {
     "data": {
      "application/vnd.jupyter.widget-view+json": {
       "model_id": "aa7de9b59d854faf91f796b42ec59d48",
       "version_major": 2,
       "version_minor": 0
      },
      "text/plain": [
       "Filter, Threshold zip:   0%|          | 0/1 [00:00<?, ?it/s]"
      ]
     },
     "metadata": {},
     "output_type": "display_data"
    },
    {
     "data": {
      "application/vnd.jupyter.widget-view+json": {
       "model_id": "15722586bc634c5491eb25d475a99ec1",
       "version_major": 2,
       "version_minor": 0
      },
      "text/plain": [
       "Filter, Threshold zip:   0%|          | 0/1 [00:00<?, ?it/s]"
      ]
     },
     "metadata": {},
     "output_type": "display_data"
    },
    {
     "name": "stdout",
     "output_type": "stream",
     "text": [
      "Best Filter: 11111111000000000000000000000000000000000000000000000000000000000000000000000000000000000000000000000000000000000000000000000000000000000000000000000000000000000000000000000000000000000000000000000000000000000000000000000000000000000000000000000000000000000000000000000000000000000000000000000000000000000000000000000000000000000000000000000000000000000000000000000000000000000000000000000000000000000000000000000000000000000000000000000000000000000000000000000000000000000000000000000000000000000000000000000000000000000000000000000000000000000000000000000000000000000000000000000000000000000000000000000000000000000000000000000000000000000000000000000000000000000000000000000000000000000000000000000000000000000000000000000000000000000000000000000000000000000000000000000000000000000000000000000000000000000000000000000000000000000000000000000000000000000000000000000000000000000000000000000000000000000000000000000000000000000000000000000000000000000000000000000000000000000000000000000000000000000000000000000000000000000000000000000000000000000000000000000000000000000000000000000000000000000000000000000000000000000000000000000000000000000000000000000000000000000000000000000000000000000000000000000000000000000000000000000000000000000000000000000000000000000000000000000000000000000000000000000000000000000000000000000000000000000000000000000000000000000000000000000000000000000000000000000000000000000000000000000000000000000000000000000000000000000000000000000000000000000000000000000000000000000000000000000000000000000000000000000000000000000000000000000000000000000000000000000000000000000000000000000000000000000000000000000000000000000000000000000000000000000000000000000000000000000000000000000000000000000000000000000000000000000000000000000000000000000000000000000000000000000000000000000000000000000000000000000000000000000000000000000000000000000000000000000000000000000000000000000000000000000000000000000000000000000000000000000000000000000000000000000000000000000000000000000000000000000000000000000000000000000000000000000000000000000000000000000000000000000000000000000000000000000000000000000000000000000000000000000000000000000000000000000000\n",
      "Best Threshold: 0\n"
     ]
    },
    {
     "data": {
      "application/vnd.jupyter.widget-view+json": {
       "model_id": "ef5e4803a7064215a743de485c3ccf79",
       "version_major": 2,
       "version_minor": 0
      },
      "text/plain": [
       "Filters:   0%|          | 0/7 [00:00<?, ?it/s]"
      ]
     },
     "metadata": {},
     "output_type": "display_data"
    },
    {
     "data": {
      "application/vnd.jupyter.widget-view+json": {
       "model_id": "ac6cef0bd22a43a99ea012e7416ea140",
       "version_major": 2,
       "version_minor": 0
      },
      "text/plain": [
       "Filter, Threshold zip:   0%|          | 0/9 [00:00<?, ?it/s]"
      ]
     },
     "metadata": {},
     "output_type": "display_data"
    },
    {
     "data": {
      "application/vnd.jupyter.widget-view+json": {
       "model_id": "b99cf2905ca64bec8647284e47a3e641",
       "version_major": 2,
       "version_minor": 0
      },
      "text/plain": [
       "Filter, Threshold zip:   0%|          | 0/2 [00:00<?, ?it/s]"
      ]
     },
     "metadata": {},
     "output_type": "display_data"
    },
    {
     "data": {
      "application/vnd.jupyter.widget-view+json": {
       "model_id": "edd14cd283664a11a0514c13f948f787",
       "version_major": 2,
       "version_minor": 0
      },
      "text/plain": [
       "Filter, Threshold zip:   0%|          | 0/1 [00:00<?, ?it/s]"
      ]
     },
     "metadata": {},
     "output_type": "display_data"
    },
    {
     "data": {
      "application/vnd.jupyter.widget-view+json": {
       "model_id": "a531f3ae45004f208a5e52bb18e25784",
       "version_major": 2,
       "version_minor": 0
      },
      "text/plain": [
       "Filter, Threshold zip:   0%|          | 0/1 [00:00<?, ?it/s]"
      ]
     },
     "metadata": {},
     "output_type": "display_data"
    },
    {
     "data": {
      "application/vnd.jupyter.widget-view+json": {
       "model_id": "2afd30d712874c179e84e22c9535ee03",
       "version_major": 2,
       "version_minor": 0
      },
      "text/plain": [
       "Filter, Threshold zip:   0%|          | 0/1 [00:00<?, ?it/s]"
      ]
     },
     "metadata": {},
     "output_type": "display_data"
    },
    {
     "data": {
      "application/vnd.jupyter.widget-view+json": {
       "model_id": "ffab2e6206e64a738fa23678b95e9020",
       "version_major": 2,
       "version_minor": 0
      },
      "text/plain": [
       "Filter, Threshold zip:   0%|          | 0/1 [00:00<?, ?it/s]"
      ]
     },
     "metadata": {},
     "output_type": "display_data"
    },
    {
     "data": {
      "application/vnd.jupyter.widget-view+json": {
       "model_id": "ebe52460aaa543f7a4f5dcb6574730ab",
       "version_major": 2,
       "version_minor": 0
      },
      "text/plain": [
       "Filter, Threshold zip:   0%|          | 0/1 [00:00<?, ?it/s]"
      ]
     },
     "metadata": {},
     "output_type": "display_data"
    },
    {
     "name": "stdout",
     "output_type": "stream",
     "text": [
      "Best Filter: 11111111000000000000000000000000000000000000000000000000000000000000000000000000000000000000000000000000000000000000000000000000000000000000000000000000000000000000000000000000000000000000000000000000000000000000000000000000000000000000000000000000000000000000000000000000000000000000000000000000000000000000000000000000000000000000000000000000000000000000000000000000000000000000000000000000000000000000000000000000000000000000000000000000000000000000000000000000000000000000000000000000000000000000000000000000000000000000000000000000000000000000000000000000000000000000000000000000000000000000000000000000000000000000000000000000000000000000000000000000000000000000000000000000000000000000000000000000000000000000000000000000000000000000000000000000000000000000000000000000000000000000000000000000000000000000000000000000000000000000000000000000000000000000000000000000000000000000000000000000000000000000000000000000000000000000000000000000000000000000000000000000000000000000000000000000000000000000000000000000000000000000000000000000000000000000000000000000000000000000000000000000000000000000000000000000000000000000000000000000000000000000000000000000000000000000000000000000000000000000000000000000000000000000000000000000000000000000000000000000000000000000000000000000000000000000000000000000000000000000000000000000000000000000000000000000000000000000000000000000000000000000000000000000000000000000000000000000000000000000000000000000000000000000000000000000000000000000000000000000000000000000000000000000000000000000000000000000000000000000000000000000000000000000000000000000000000000000000000000000000000000000000000000000000000000000000000000000000000000000000000000000000000000000000000000000000000000000000000000000000000000000000000000000000000000000000000000000000000000000000000000000000000000000000000000000000000000000000000000000000000000000000000000000000000000000000000000000000000000000000000000000000000000000000000000000000000000000000000000000000000000000000000000000000000000000000000000000000000000000000000000000000000000000000000000000000000000000000000000000000000000000000000000000000000000000000000000000000000000000000000000000\n",
      "Best Threshold: 0\n"
     ]
    },
    {
     "data": {
      "application/vnd.jupyter.widget-view+json": {
       "model_id": "d2f4fc3051a7409abe4497b169c4d931",
       "version_major": 2,
       "version_minor": 0
      },
      "text/plain": [
       "Filters:   0%|          | 0/7 [00:00<?, ?it/s]"
      ]
     },
     "metadata": {},
     "output_type": "display_data"
    },
    {
     "data": {
      "application/vnd.jupyter.widget-view+json": {
       "model_id": "9f4ee7f2a11e4cd39f7259575036e300",
       "version_major": 2,
       "version_minor": 0
      },
      "text/plain": [
       "Filter, Threshold zip:   0%|          | 0/9 [00:00<?, ?it/s]"
      ]
     },
     "metadata": {},
     "output_type": "display_data"
    },
    {
     "data": {
      "application/vnd.jupyter.widget-view+json": {
       "model_id": "bf0f1c209c7143d198c90a2727d6e8d8",
       "version_major": 2,
       "version_minor": 0
      },
      "text/plain": [
       "Filter, Threshold zip:   0%|          | 0/2 [00:00<?, ?it/s]"
      ]
     },
     "metadata": {},
     "output_type": "display_data"
    },
    {
     "data": {
      "application/vnd.jupyter.widget-view+json": {
       "model_id": "13471e6d30e8400da21ef9cfa95a3a59",
       "version_major": 2,
       "version_minor": 0
      },
      "text/plain": [
       "Filter, Threshold zip:   0%|          | 0/1 [00:00<?, ?it/s]"
      ]
     },
     "metadata": {},
     "output_type": "display_data"
    },
    {
     "data": {
      "application/vnd.jupyter.widget-view+json": {
       "model_id": "5af6dfe3d18b411f9907a5de9aae8999",
       "version_major": 2,
       "version_minor": 0
      },
      "text/plain": [
       "Filter, Threshold zip:   0%|          | 0/1 [00:00<?, ?it/s]"
      ]
     },
     "metadata": {},
     "output_type": "display_data"
    },
    {
     "data": {
      "application/vnd.jupyter.widget-view+json": {
       "model_id": "139959e076194071a4626fa2c9712203",
       "version_major": 2,
       "version_minor": 0
      },
      "text/plain": [
       "Filter, Threshold zip:   0%|          | 0/1 [00:00<?, ?it/s]"
      ]
     },
     "metadata": {},
     "output_type": "display_data"
    },
    {
     "data": {
      "application/vnd.jupyter.widget-view+json": {
       "model_id": "757187d3a8bf4270bf76f64bed34126b",
       "version_major": 2,
       "version_minor": 0
      },
      "text/plain": [
       "Filter, Threshold zip:   0%|          | 0/1 [00:00<?, ?it/s]"
      ]
     },
     "metadata": {},
     "output_type": "display_data"
    },
    {
     "data": {
      "application/vnd.jupyter.widget-view+json": {
       "model_id": "1cb7646e6fe54563b8b2042411900a07",
       "version_major": 2,
       "version_minor": 0
      },
      "text/plain": [
       "Filter, Threshold zip:   0%|          | 0/1 [00:00<?, ?it/s]"
      ]
     },
     "metadata": {},
     "output_type": "display_data"
    },
    {
     "name": "stdout",
     "output_type": "stream",
     "text": [
      "Best Filter: 11111111000000000000000000000000000000000000000000000000000000000000000000000000000000000000000000000000000000000000000000000000000000000000000000000000000000000000000000000000000000000000000000000000000000000000000000000000000000000000000000000000000000000000000000000000000000000000000000000000000000000000000000000000000000000000000000000000000000000000000000000000000000000000000000000000000000000000000000000000000000000000000000000000000000000000000000000000000000000000000000000000000000000000000000000000000000000000000000000000000000000000000000000000000000000000000000000000000000000000000000000000000000000000000000000000000000000000000000000000000000000000000000000000000000000000000000000000000000000000000000000000000000000000000000000000000000000000000000000000000000000000000000000000000000000000000000000000000000000000000000000000000000000000000000000000000000000000000000000000000000000000000000000000000000000000000000000000000000000000000000000000000000000000000000000000000000000000000000000000000000000000000000000000000000000000000000000000000000000000000000000000000000000000000000000000000000000000000000000000000000000000000000000000000000000000000000000000000000000000000000000000000000000000000000000000000000000000000000000000000000000000000000000000000000000000000000000000000000000000000000000000000000000000000000000000000000000000000000000000000000000000000000000000000000000000000000000000000000000000000000000000000000000000000000000000000000000000000000000000000000000000000000000000000000000000000000000000000000000000000000000000000000000000000000000000000000000000000000000000000000000000000000000000000000000000000000000000000000000000000000000000000000000000000000000000000000000000000000000000000000000000000000000000000000000000000000000000000000000000000000000000000000000000000000000000000000000000000000000000000000000000000000000000000000000000000000000000000000000000000000000000000000000000000000000000000000000000000000000000000000000000000000000000000000000000000000000000000000000000000000000000000000000000000000000000000000000000000000000000000000000000000000000000000000000000000000000000000000000000000000000000\n",
      "Best Threshold: 0\n"
     ]
    }
   ],
   "source": [
    "for m in tqdm(range(M), desc=\"Iterations\"):  # iterations\n",
    "    for filters_entry in tqdm(filters, desc=\"Filters\"):  # for each filter\n",
    "        filters_list, threshold_list = filters_entry\n",
    "        for filter, thresholds in tqdm(\n",
    "            zip(filters_list, [threshold_list] * len(filters_list)),\n",
    "            desc=\"Filter, Threshold zip\",\n",
    "            total=len(filters_list),\n",
    "        ):\n",
    "            for threshold in thresholds:  # for each threshold\n",
    "                error = 0\n",
    "                for pair in range(len(pairs_index)):  # for each pair\n",
    "                    prediction = weak_classifier(\n",
    "                        tuple(dataset.iloc[pairs_index.iloc[pair, 0:2], 0]),\n",
    "                        threshold,\n",
    "                        filter,\n",
    "                    )\n",
    "                    error += get_error(\n",
    "                        weights[pair], prediction, pairs_index.iloc[pair, 2]\n",
    "                    )\n",
    "                    # print(\"LABEL\", pairs_index.iloc[pair, 2])\n",
    "                # print(\"[!] ERROR\", error)\n",
    "                errors[(filter, threshold)] = error\n",
    "        # print(\"errors\", errors)\n",
    "    best_filter, best_threshold = min(errors, key=lambda k: abs(errors[k]))\n",
    "\n",
    "    print(\"Best Filter:\", best_filter)\n",
    "    print(\"Best Threshold:\", best_threshold)\n",
    "\n",
    "    min_error = errors[(best_filter, best_threshold)]\n",
    "    # print(min_error)\n",
    "    if min_error == 0:\n",
    "        min_error = 0.000000000000000000000001\n",
    "    confidence = math.log(\n",
    "        (1 - min_error) / min_error\n",
    "    )  # confidence of the weak classifier\n",
    "    # log.debug(\"Confidence:\", confidence)\n",
    "\n",
    "    # Asymmetric Weight Update\n",
    "    for pair in range(len(pairs_index)):\n",
    "        if pairs_index.iloc[pair, 2] == +1:\n",
    "            if (\n",
    "                weak_classifier(\n",
    "                    tuple(dataset.iloc[pairs_index.iloc[pair, 0:2], 0]),\n",
    "                    best_threshold,\n",
    "                    best_filter,\n",
    "                )\n",
    "                != pairs_index.iloc[pair, 2]\n",
    "            ):\n",
    "                weights[pair] = weights[pair] * math.exp(confidence)\n",
    "\n",
    "    for pair in range(len(pairs_index)):\n",
    "        if pairs_index.iloc[pair, 2] == +1:\n",
    "            weights[pair] = weights[pair] / sum(\n",
    "                weights[pair]\n",
    "                for pair in range(len(pairs_index))\n",
    "                if pairs_index.iloc[pair, 2] == +1\n",
    "            )"
   ]
  },
  {
   "cell_type": "code",
   "execution_count": 27,
   "metadata": {},
   "outputs": [
    {
     "name": "stdout",
     "output_type": "stream",
     "text": [
      "Best Filter: 11111111000000000000000000000000000000000000000000000000000000000000000000000000000000000000000000000000000000000000000000000000000000000000000000000000000000000000000000000000000000000000000000000000000000000000000000000000000000000000000000000000000000000000000000000000000000000000000000000000000000000000000000000000000000000000000000000000000000000000000000000000000000000000000000000000000000000000000000000000000000000000000000000000000000000000000000000000000000000000000000000000000000000000000000000000000000000000000000000000000000000000000000000000000000000000000000000000000000000000000000000000000000000000000000000000000000000000000000000000000000000000000000000000000000000000000000000000000000000000000000000000000000000000000000000000000000000000000000000000000000000000000000000000000000000000000000000000000000000000000000000000000000000000000000000000000000000000000000000000000000000000000000000000000000000000000000000000000000000000000000000000000000000000000000000000000000000000000000000000000000000000000000000000000000000000000000000000000000000000000000000000000000000000000000000000000000000000000000000000000000000000000000000000000000000000000000000000000000000000000000000000000000000000000000000000000000000000000000000000000000000000000000000000000000000000000000000000000000000000000000000000000000000000000000000000000000000000000000000000000000000000000000000000000000000000000000000000000000000000000000000000000000000000000000000000000000000000000000000000000000000000000000000000000000000000000000000000000000000000000000000000000000000000000000000000000000000000000000000000000000000000000000000000000000000000000000000000000000000000000000000000000000000000000000000000000000000000000000000000000000000000000000000000000000000000000000000000000000000000000000000000000000000000000000000000000000000000000000000000000000000000000000000000000000000000000000000000000000000000000000000000000000000000000000000000000000000000000000000000000000000000000000000000000000000000000000000000000000000000000000000000000000000000000000000000000000000000000000000000000000000000000000000000000000000000000000000000000000000000000000000000\n",
      "Best Threshold: 0\n",
      "Min error 1e-24\n"
     ]
    }
   ],
   "source": [
    "print(\"Best Filter:\", best_filter)\n",
    "print(\"Best Threshold:\", best_threshold)\n",
    "print(\"Min error\", min_error)"
   ]
  },
  {
   "cell_type": "code",
   "execution_count": null,
   "metadata": {},
   "outputs": [],
   "source": []
  }
 ],
 "metadata": {
  "kernelspec": {
   "display_name": ".venv",
   "language": "python",
   "name": "python3"
  },
  "language_info": {
   "codemirror_mode": {
    "name": "ipython",
    "version": 3
   },
   "file_extension": ".py",
   "mimetype": "text/x-python",
   "name": "python",
   "nbconvert_exporter": "python",
   "pygments_lexer": "ipython3",
   "version": "3.11.6"
  }
 },
 "nbformat": 4,
 "nbformat_minor": 2
}
