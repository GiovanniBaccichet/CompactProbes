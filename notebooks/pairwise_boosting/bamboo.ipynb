{
 "cells": [
  {
   "cell_type": "markdown",
   "metadata": {},
   "source": [
    "# BAMBOO: Binary descriptor based on AsymMetric pairwise BOOsting"
   ]
  },
  {
   "cell_type": "markdown",
   "metadata": {},
   "source": [
    "In this notebook we include the implementation of the BAMBOO descriptor to provide a compressed representation of probe requests."
   ]
  },
  {
   "cell_type": "markdown",
   "metadata": {},
   "source": [
    "## Libraries and Configurations"
   ]
  },
  {
   "cell_type": "markdown",
   "metadata": {},
   "source": [
    "Import configuration files"
   ]
  },
  {
   "cell_type": "code",
   "execution_count": 13,
   "metadata": {},
   "outputs": [
    {
     "data": {
      "text/plain": [
       "['../config.ini']"
      ]
     },
     "execution_count": 13,
     "metadata": {},
     "output_type": "execute_result"
    }
   ],
   "source": [
    "from configparser import ConfigParser\n",
    "\n",
    "config = ConfigParser()\n",
    "config.read(\"../config.ini\")"
   ]
  },
  {
   "cell_type": "markdown",
   "metadata": {},
   "source": [
    "Import **data libraries**"
   ]
  },
  {
   "cell_type": "code",
   "execution_count": 14,
   "metadata": {},
   "outputs": [],
   "source": [
    "import pandas as pd"
   ]
  },
  {
   "cell_type": "markdown",
   "metadata": {},
   "source": [
    "Import **other libraries**"
   ]
  },
  {
   "cell_type": "code",
   "execution_count": 15,
   "metadata": {},
   "outputs": [],
   "source": [
    "from rich.progress import Progress\n",
    "from rich import traceback\n",
    "\n",
    "traceback.install()\n",
    "\n",
    "from tqdm.notebook import tqdm"
   ]
  },
  {
   "cell_type": "code",
   "execution_count": 16,
   "metadata": {},
   "outputs": [],
   "source": [
    "import numpy as np"
   ]
  },
  {
   "cell_type": "markdown",
   "metadata": {},
   "source": [
    "## Import Data"
   ]
  },
  {
   "cell_type": "markdown",
   "metadata": {},
   "source": [
    "## BAMBOO"
   ]
  },
  {
   "cell_type": "markdown",
   "metadata": {},
   "source": [
    "Input:\n",
    "- Ground truth relationships $\\langle x_{a(n)}, x_{b(n)}; y_n\\rangle$\n",
    "  - $n=1,..,N$\n",
    "  - $y_n \\in \\{+1, -1\\}$\n",
    "- A set of filters $\\mathcal{H} = \\{h_1 , ..., h_F\\}$\n",
    "- A set of binarization thresholds $\\mathcal{T} = \\{t_1 , ..., t_T\\}$\n",
    "\n",
    "Output:\n",
    "- A set of $M<F$ filters $[h_{i(1)}, ..., h_{i(M)}]$\n",
    "- Corresponding set of binarization thresholds $[t_{j(1)}, ..., t_{j(M)}]$"
   ]
  },
  {
   "cell_type": "code",
   "execution_count": 3,
   "metadata": {},
   "outputs": [
    {
     "name": "stdout",
     "output_type": "stream",
     "text": [
      "['001000110011101100111001', '100101110111011101010000', '100101000100100101010101', '100000111001010111011001', '101001010100010100001100', '000111001010111101001000', '100001010111100100100111', '101000110100011101100100', '000111101011111101001001', '001010110001000111110101']\n"
     ]
    }
   ],
   "source": [
    "import random\n",
    "\n",
    "\n",
    "def generate_random_binary_strings(N, L):\n",
    "    binary_strings = []\n",
    "    for _ in range(N):\n",
    "        binary_string = \"\".join(random.choice(\"01\") for _ in range(L))\n",
    "        binary_strings.append(binary_string)\n",
    "    return binary_strings\n",
    "\n",
    "\n",
    "# Example usage:\n",
    "N = 10\n",
    "L = 24\n",
    "random_binary_strings = generate_random_binary_strings(N, L)\n",
    "print(random_binary_strings)"
   ]
  },
  {
   "cell_type": "code",
   "execution_count": 4,
   "metadata": {},
   "outputs": [],
   "source": [
    "data = random_binary_strings"
   ]
  },
  {
   "cell_type": "code",
   "execution_count": 8,
   "metadata": {},
   "outputs": [],
   "source": [
    "def generate_bitmaps(total_length: int, width: int) -> list:\n",
    "    \"\"\"\n",
    "    Generate bitmaps of 8 consecutive 1s within a longer string of 0s.\n",
    "\n",
    "    Parameters:\n",
    "        total_length (int): The total length of the combined bitmaps.\n",
    "\n",
    "    Returns:\n",
    "        list: A list containing the bitmaps.\n",
    "    \"\"\"\n",
    "    if total_length % width != 0:\n",
    "        raise ValueError(\"Total length must be a multiple of 8.\")\n",
    "\n",
    "    num_bitmaps = total_length // width\n",
    "    bitmaps = [\n",
    "        \"0\" * (i * width) + \"1\" * width + \"0\" * ((num_bitmaps - i - 1) * width)\n",
    "        for i in range(num_bitmaps)\n",
    "    ]\n",
    "    return bitmaps"
   ]
  },
  {
   "cell_type": "code",
   "execution_count": 10,
   "metadata": {},
   "outputs": [
    {
     "name": "stdout",
     "output_type": "stream",
     "text": [
      "111100000000000000000000\n",
      "000011110000000000000000\n",
      "000000001111000000000000\n",
      "000000000000111100000000\n",
      "000000000000000011110000\n",
      "000000000000000000001111\n"
     ]
    }
   ],
   "source": [
    "# Example usage:\n",
    "total_length = 24\n",
    "filters = generate_bitmaps(total_length, 4)\n",
    "for filter in filters:\n",
    "    print(filter)"
   ]
  },
  {
   "cell_type": "code",
   "execution_count": 11,
   "metadata": {},
   "outputs": [
    {
     "data": {
      "text/plain": [
       "['111100000000000000000000',\n",
       " '000011110000000000000000',\n",
       " '000000001111000000000000',\n",
       " '000000000000111100000000',\n",
       " '000000000000000011110000',\n",
       " '000000000000000000001111']"
      ]
     },
     "execution_count": 11,
     "metadata": {},
     "output_type": "execute_result"
    }
   ],
   "source": [
    "filters"
   ]
  },
  {
   "cell_type": "code",
   "execution_count": 12,
   "metadata": {},
   "outputs": [],
   "source": [
    "def generate_thresholds(bitmasks):\n",
    "    \"\"\"\n",
    "    Generate thresholds for each bitmask in a set.\n",
    "\n",
    "    Parameters:\n",
    "        bitmasks (set): A set containing the bitmasks.\n",
    "\n",
    "    Returns:\n",
    "        dict: A dictionary where keys are bitmasks and values are sets of thresholds.\n",
    "    \"\"\"\n",
    "    thresholds_dict = {}\n",
    "    for bitmask in bitmasks:\n",
    "        max_ones = bitmask.count(\"1\")\n",
    "        thresholds = set(range(max_ones + 1))\n",
    "        thresholds_dict[bitmask] = thresholds\n",
    "    return thresholds_dict"
   ]
  },
  {
   "cell_type": "code",
   "execution_count": 13,
   "metadata": {},
   "outputs": [
    {
     "name": "stdout",
     "output_type": "stream",
     "text": [
      "Bitmask: 111100000000000000000000, Thresholds: {0, 1, 2, 3, 4}\n",
      "Bitmask: 000011110000000000000000, Thresholds: {0, 1, 2, 3, 4}\n",
      "Bitmask: 000000001111000000000000, Thresholds: {0, 1, 2, 3, 4}\n",
      "Bitmask: 000000000000111100000000, Thresholds: {0, 1, 2, 3, 4}\n",
      "Bitmask: 000000000000000011110000, Thresholds: {0, 1, 2, 3, 4}\n",
      "Bitmask: 000000000000000000001111, Thresholds: {0, 1, 2, 3, 4}\n"
     ]
    }
   ],
   "source": [
    "# # Example usage:\n",
    "# thresholds_dict = generate_thresholds(filters)\n",
    "# for bitmask, thresholds in thresholds_dict.items():\n",
    "#     print(f\"Bitmask: {bitmask}, Thresholds: {thresholds}\")"
   ]
  },
  {
   "cell_type": "code",
   "execution_count": 14,
   "metadata": {},
   "outputs": [],
   "source": [
    "thresholds = [0, 1, 2, 3, 4]"
   ]
  },
  {
   "cell_type": "code",
   "execution_count": null,
   "metadata": {},
   "outputs": [],
   "source": [
    "LABELS = {}"
   ]
  }
 ],
 "metadata": {
  "kernelspec": {
   "display_name": ".venv",
   "language": "python",
   "name": "python3"
  },
  "language_info": {
   "codemirror_mode": {
    "name": "ipython",
    "version": 3
   },
   "file_extension": ".py",
   "mimetype": "text/x-python",
   "name": "python",
   "nbconvert_exporter": "python",
   "pygments_lexer": "ipython3",
   "version": "3.11.6"
  }
 },
 "nbformat": 4,
 "nbformat_minor": 2
}
