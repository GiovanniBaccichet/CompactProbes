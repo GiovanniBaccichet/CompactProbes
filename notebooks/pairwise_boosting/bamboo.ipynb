{
 "cells": [
  {
   "cell_type": "markdown",
   "metadata": {},
   "source": [
    "# BAMBOO: Binary descriptor based on AsymMetric pairwise BOOsting"
   ]
  },
  {
   "cell_type": "markdown",
   "metadata": {},
   "source": [
    "In this notebook we include the implementation of the BAMBOO descriptor to provide a compressed representation of probe requests."
   ]
  },
  {
   "cell_type": "markdown",
   "metadata": {},
   "source": [
    "## Libraries and Configurations"
   ]
  },
  {
   "cell_type": "markdown",
   "metadata": {},
   "source": [
    "Import configuration files"
   ]
  },
  {
   "cell_type": "code",
   "execution_count": 13,
   "metadata": {},
   "outputs": [
    {
     "data": {
      "text/plain": [
       "['../config.ini']"
      ]
     },
     "execution_count": 13,
     "metadata": {},
     "output_type": "execute_result"
    }
   ],
   "source": [
    "from configparser import ConfigParser\n",
    "\n",
    "config = ConfigParser()\n",
    "config.read(\"../config.ini\")"
   ]
  },
  {
   "cell_type": "markdown",
   "metadata": {},
   "source": [
    "Import **data libraries**"
   ]
  },
  {
   "cell_type": "code",
   "execution_count": 14,
   "metadata": {},
   "outputs": [],
   "source": [
    "import pandas as pd"
   ]
  },
  {
   "cell_type": "markdown",
   "metadata": {},
   "source": [
    "Import **other libraries**"
   ]
  },
  {
   "cell_type": "code",
   "execution_count": 15,
   "metadata": {},
   "outputs": [],
   "source": [
    "from rich.progress import Progress\n",
    "from rich import traceback\n",
    "\n",
    "traceback.install()\n",
    "\n",
    "from tqdm.notebook import tqdm"
   ]
  },
  {
   "cell_type": "code",
   "execution_count": 16,
   "metadata": {},
   "outputs": [],
   "source": [
    "import numpy as np"
   ]
  },
  {
   "cell_type": "markdown",
   "metadata": {},
   "source": [
    "## Import Data"
   ]
  },
  {
   "cell_type": "code",
   "execution_count": 17,
   "metadata": {},
   "outputs": [],
   "source": [
    "# Combined dataframe\n",
    "combined_df_csv = (\n",
    "    config[\"DEFAULT\"][\"interim_path\"] + \"dissected/std_burst_dissected_df.csv\"\n",
    ")"
   ]
  },
  {
   "cell_type": "code",
   "execution_count": 18,
   "metadata": {},
   "outputs": [],
   "source": [
    "df = pd.read_csv(combined_df_csv, index_col=0)"
   ]
  },
  {
   "cell_type": "code",
   "execution_count": 19,
   "metadata": {},
   "outputs": [
    {
     "data": {
      "text/html": [
       "<div>\n",
       "<style scoped>\n",
       "    .dataframe tbody tr th:only-of-type {\n",
       "        vertical-align: middle;\n",
       "    }\n",
       "\n",
       "    .dataframe tbody tr th {\n",
       "        vertical-align: top;\n",
       "    }\n",
       "\n",
       "    .dataframe thead th {\n",
       "        text-align: right;\n",
       "    }\n",
       "</style>\n",
       "<table border=\"1\" class=\"dataframe\">\n",
       "  <thead>\n",
       "    <tr style=\"text-align: right;\">\n",
       "      <th></th>\n",
       "      <th>MAC Address</th>\n",
       "      <th>Channel</th>\n",
       "      <th>DS Channel</th>\n",
       "      <th>Vendor Specific Tags</th>\n",
       "      <th>Length</th>\n",
       "      <th>Label</th>\n",
       "      <th>Supported Rates 1</th>\n",
       "      <th>Supported Rates 2</th>\n",
       "      <th>Supported Rates 3</th>\n",
       "      <th>Supported Rates 4</th>\n",
       "      <th>...</th>\n",
       "      <th>TIM_Broadcast</th>\n",
       "      <th>BSS_Transition</th>\n",
       "      <th>Multiple_BSSID</th>\n",
       "      <th>Timing_Measurement</th>\n",
       "      <th>SSID_List</th>\n",
       "      <th>DMS</th>\n",
       "      <th>Interworking</th>\n",
       "      <th>QoS_Map</th>\n",
       "      <th>WNM_Notification</th>\n",
       "      <th>Operating_Mode_Notification</th>\n",
       "    </tr>\n",
       "  </thead>\n",
       "  <tbody>\n",
       "    <tr>\n",
       "      <th>0</th>\n",
       "      <td>00:0f:00:6a:68:8b</td>\n",
       "      <td>1</td>\n",
       "      <td>NaN</td>\n",
       "      <td>2</td>\n",
       "      <td>279</td>\n",
       "      <td>SamsungJ6_K</td>\n",
       "      <td>65.0</td>\n",
       "      <td>66.0</td>\n",
       "      <td>69.5</td>\n",
       "      <td>75.0</td>\n",
       "      <td>...</td>\n",
       "      <td>0.0</td>\n",
       "      <td>0.0</td>\n",
       "      <td>0.0</td>\n",
       "      <td>0.0</td>\n",
       "      <td>0.0</td>\n",
       "      <td>0.0</td>\n",
       "      <td>0.0</td>\n",
       "      <td>0.0</td>\n",
       "      <td>0.0</td>\n",
       "      <td>0.0</td>\n",
       "    </tr>\n",
       "    <tr>\n",
       "      <th>2</th>\n",
       "      <td>02:00:00:00:00:00</td>\n",
       "      <td>11</td>\n",
       "      <td>9.0</td>\n",
       "      <td>11</td>\n",
       "      <td>123</td>\n",
       "      <td>SamsungM31_A</td>\n",
       "      <td>1.0</td>\n",
       "      <td>2.0</td>\n",
       "      <td>5.5</td>\n",
       "      <td>11.0</td>\n",
       "      <td>...</td>\n",
       "      <td>0.0</td>\n",
       "      <td>1.0</td>\n",
       "      <td>0.0</td>\n",
       "      <td>0.0</td>\n",
       "      <td>0.0</td>\n",
       "      <td>0.0</td>\n",
       "      <td>0.0</td>\n",
       "      <td>0.0</td>\n",
       "      <td>0.0</td>\n",
       "      <td>1.0</td>\n",
       "    </tr>\n",
       "    <tr>\n",
       "      <th>3</th>\n",
       "      <td>02:00:00:00:3e:b2</td>\n",
       "      <td>11</td>\n",
       "      <td>11.0</td>\n",
       "      <td>62</td>\n",
       "      <td>132</td>\n",
       "      <td>iPhone11_C</td>\n",
       "      <td>65.0</td>\n",
       "      <td>66.0</td>\n",
       "      <td>69.5</td>\n",
       "      <td>75.0</td>\n",
       "      <td>...</td>\n",
       "      <td>0.0</td>\n",
       "      <td>1.0</td>\n",
       "      <td>0.0</td>\n",
       "      <td>0.0</td>\n",
       "      <td>0.0</td>\n",
       "      <td>1.0</td>\n",
       "      <td>0.0</td>\n",
       "      <td>0.0</td>\n",
       "      <td>0.0</td>\n",
       "      <td>1.0</td>\n",
       "    </tr>\n",
       "    <tr>\n",
       "      <th>4</th>\n",
       "      <td>02:00:3a:5e:a1:f4</td>\n",
       "      <td>11</td>\n",
       "      <td>10.0</td>\n",
       "      <td>62</td>\n",
       "      <td>132</td>\n",
       "      <td>iPhone11_B</td>\n",
       "      <td>65.0</td>\n",
       "      <td>66.0</td>\n",
       "      <td>69.5</td>\n",
       "      <td>75.0</td>\n",
       "      <td>...</td>\n",
       "      <td>0.0</td>\n",
       "      <td>1.0</td>\n",
       "      <td>0.0</td>\n",
       "      <td>0.0</td>\n",
       "      <td>0.0</td>\n",
       "      <td>1.0</td>\n",
       "      <td>0.0</td>\n",
       "      <td>0.0</td>\n",
       "      <td>0.0</td>\n",
       "      <td>1.0</td>\n",
       "    </tr>\n",
       "    <tr>\n",
       "      <th>5</th>\n",
       "      <td>02:02:70:30:b6:43</td>\n",
       "      <td>1</td>\n",
       "      <td>3.0</td>\n",
       "      <td>62</td>\n",
       "      <td>143</td>\n",
       "      <td>iPhone12_W</td>\n",
       "      <td>65.0</td>\n",
       "      <td>66.0</td>\n",
       "      <td>69.5</td>\n",
       "      <td>75.0</td>\n",
       "      <td>...</td>\n",
       "      <td>0.0</td>\n",
       "      <td>1.0</td>\n",
       "      <td>0.0</td>\n",
       "      <td>0.0</td>\n",
       "      <td>0.0</td>\n",
       "      <td>1.0</td>\n",
       "      <td>0.0</td>\n",
       "      <td>0.0</td>\n",
       "      <td>0.0</td>\n",
       "      <td>1.0</td>\n",
       "    </tr>\n",
       "    <tr>\n",
       "      <th>...</th>\n",
       "      <td>...</td>\n",
       "      <td>...</td>\n",
       "      <td>...</td>\n",
       "      <td>...</td>\n",
       "      <td>...</td>\n",
       "      <td>...</td>\n",
       "      <td>...</td>\n",
       "      <td>...</td>\n",
       "      <td>...</td>\n",
       "      <td>...</td>\n",
       "      <td>...</td>\n",
       "      <td>...</td>\n",
       "      <td>...</td>\n",
       "      <td>...</td>\n",
       "      <td>...</td>\n",
       "      <td>...</td>\n",
       "      <td>...</td>\n",
       "      <td>...</td>\n",
       "      <td>...</td>\n",
       "      <td>...</td>\n",
       "      <td>...</td>\n",
       "    </tr>\n",
       "    <tr>\n",
       "      <th>4410</th>\n",
       "      <td>fe:f9:ac:47:0d:b7</td>\n",
       "      <td>11</td>\n",
       "      <td>11.0</td>\n",
       "      <td>62</td>\n",
       "      <td>131</td>\n",
       "      <td>iPhone12_W</td>\n",
       "      <td>65.0</td>\n",
       "      <td>66.0</td>\n",
       "      <td>69.5</td>\n",
       "      <td>75.0</td>\n",
       "      <td>...</td>\n",
       "      <td>0.0</td>\n",
       "      <td>1.0</td>\n",
       "      <td>0.0</td>\n",
       "      <td>0.0</td>\n",
       "      <td>0.0</td>\n",
       "      <td>1.0</td>\n",
       "      <td>0.0</td>\n",
       "      <td>0.0</td>\n",
       "      <td>0.0</td>\n",
       "      <td>1.0</td>\n",
       "    </tr>\n",
       "    <tr>\n",
       "      <th>4411</th>\n",
       "      <td>fe:f9:fc:fb:83:9e</td>\n",
       "      <td>6</td>\n",
       "      <td>1.0</td>\n",
       "      <td>1</td>\n",
       "      <td>156</td>\n",
       "      <td>iPhone6_N</td>\n",
       "      <td>1.0</td>\n",
       "      <td>2.0</td>\n",
       "      <td>5.5</td>\n",
       "      <td>11.0</td>\n",
       "      <td>...</td>\n",
       "      <td>0.0</td>\n",
       "      <td>1.0</td>\n",
       "      <td>0.0</td>\n",
       "      <td>0.0</td>\n",
       "      <td>0.0</td>\n",
       "      <td>1.0</td>\n",
       "      <td>1.0</td>\n",
       "      <td>0.0</td>\n",
       "      <td>0.0</td>\n",
       "      <td>1.0</td>\n",
       "    </tr>\n",
       "    <tr>\n",
       "      <th>4412</th>\n",
       "      <td>fe:fc:07:34:10:69</td>\n",
       "      <td>1</td>\n",
       "      <td>1.0</td>\n",
       "      <td>62</td>\n",
       "      <td>132</td>\n",
       "      <td>iPhone11_C</td>\n",
       "      <td>65.0</td>\n",
       "      <td>66.0</td>\n",
       "      <td>69.5</td>\n",
       "      <td>75.0</td>\n",
       "      <td>...</td>\n",
       "      <td>0.0</td>\n",
       "      <td>1.0</td>\n",
       "      <td>0.0</td>\n",
       "      <td>0.0</td>\n",
       "      <td>0.0</td>\n",
       "      <td>1.0</td>\n",
       "      <td>0.0</td>\n",
       "      <td>0.0</td>\n",
       "      <td>0.0</td>\n",
       "      <td>1.0</td>\n",
       "    </tr>\n",
       "    <tr>\n",
       "      <th>4413</th>\n",
       "      <td>fe:fc:aa:d1:89:d1</td>\n",
       "      <td>1</td>\n",
       "      <td>2.0</td>\n",
       "      <td>62</td>\n",
       "      <td>143</td>\n",
       "      <td>iPhone12_W</td>\n",
       "      <td>65.0</td>\n",
       "      <td>66.0</td>\n",
       "      <td>69.5</td>\n",
       "      <td>75.0</td>\n",
       "      <td>...</td>\n",
       "      <td>0.0</td>\n",
       "      <td>1.0</td>\n",
       "      <td>0.0</td>\n",
       "      <td>0.0</td>\n",
       "      <td>0.0</td>\n",
       "      <td>1.0</td>\n",
       "      <td>0.0</td>\n",
       "      <td>0.0</td>\n",
       "      <td>0.0</td>\n",
       "      <td>1.0</td>\n",
       "    </tr>\n",
       "    <tr>\n",
       "      <th>4414</th>\n",
       "      <td>fe:ff:ff:0f:64:5d</td>\n",
       "      <td>11</td>\n",
       "      <td>12.0</td>\n",
       "      <td>62</td>\n",
       "      <td>132</td>\n",
       "      <td>iPhone11_B</td>\n",
       "      <td>65.0</td>\n",
       "      <td>66.0</td>\n",
       "      <td>69.5</td>\n",
       "      <td>75.0</td>\n",
       "      <td>...</td>\n",
       "      <td>0.0</td>\n",
       "      <td>1.0</td>\n",
       "      <td>0.0</td>\n",
       "      <td>0.0</td>\n",
       "      <td>0.0</td>\n",
       "      <td>1.0</td>\n",
       "      <td>0.0</td>\n",
       "      <td>0.0</td>\n",
       "      <td>0.0</td>\n",
       "      <td>1.0</td>\n",
       "    </tr>\n",
       "  </tbody>\n",
       "</table>\n",
       "<p>4409 rows × 46 columns</p>\n",
       "</div>"
      ],
      "text/plain": [
       "            MAC Address  Channel  DS Channel  Vendor Specific Tags  Length  \\\n",
       "0     00:0f:00:6a:68:8b        1         NaN                     2     279   \n",
       "2     02:00:00:00:00:00       11         9.0                    11     123   \n",
       "3     02:00:00:00:3e:b2       11        11.0                    62     132   \n",
       "4     02:00:3a:5e:a1:f4       11        10.0                    62     132   \n",
       "5     02:02:70:30:b6:43        1         3.0                    62     143   \n",
       "...                 ...      ...         ...                   ...     ...   \n",
       "4410  fe:f9:ac:47:0d:b7       11        11.0                    62     131   \n",
       "4411  fe:f9:fc:fb:83:9e        6         1.0                     1     156   \n",
       "4412  fe:fc:07:34:10:69        1         1.0                    62     132   \n",
       "4413  fe:fc:aa:d1:89:d1        1         2.0                    62     143   \n",
       "4414  fe:ff:ff:0f:64:5d       11        12.0                    62     132   \n",
       "\n",
       "             Label  Supported Rates 1  Supported Rates 2  Supported Rates 3  \\\n",
       "0      SamsungJ6_K               65.0               66.0               69.5   \n",
       "2     SamsungM31_A                1.0                2.0                5.5   \n",
       "3       iPhone11_C               65.0               66.0               69.5   \n",
       "4       iPhone11_B               65.0               66.0               69.5   \n",
       "5       iPhone12_W               65.0               66.0               69.5   \n",
       "...            ...                ...                ...                ...   \n",
       "4410    iPhone12_W               65.0               66.0               69.5   \n",
       "4411     iPhone6_N                1.0                2.0                5.5   \n",
       "4412    iPhone11_C               65.0               66.0               69.5   \n",
       "4413    iPhone12_W               65.0               66.0               69.5   \n",
       "4414    iPhone11_B               65.0               66.0               69.5   \n",
       "\n",
       "      Supported Rates 4  ...  TIM_Broadcast  BSS_Transition  Multiple_BSSID  \\\n",
       "0                  75.0  ...            0.0             0.0             0.0   \n",
       "2                  11.0  ...            0.0             1.0             0.0   \n",
       "3                  75.0  ...            0.0             1.0             0.0   \n",
       "4                  75.0  ...            0.0             1.0             0.0   \n",
       "5                  75.0  ...            0.0             1.0             0.0   \n",
       "...                 ...  ...            ...             ...             ...   \n",
       "4410               75.0  ...            0.0             1.0             0.0   \n",
       "4411               11.0  ...            0.0             1.0             0.0   \n",
       "4412               75.0  ...            0.0             1.0             0.0   \n",
       "4413               75.0  ...            0.0             1.0             0.0   \n",
       "4414               75.0  ...            0.0             1.0             0.0   \n",
       "\n",
       "      Timing_Measurement  SSID_List  DMS  Interworking  QoS_Map  \\\n",
       "0                    0.0        0.0  0.0           0.0      0.0   \n",
       "2                    0.0        0.0  0.0           0.0      0.0   \n",
       "3                    0.0        0.0  1.0           0.0      0.0   \n",
       "4                    0.0        0.0  1.0           0.0      0.0   \n",
       "5                    0.0        0.0  1.0           0.0      0.0   \n",
       "...                  ...        ...  ...           ...      ...   \n",
       "4410                 0.0        0.0  1.0           0.0      0.0   \n",
       "4411                 0.0        0.0  1.0           1.0      0.0   \n",
       "4412                 0.0        0.0  1.0           0.0      0.0   \n",
       "4413                 0.0        0.0  1.0           0.0      0.0   \n",
       "4414                 0.0        0.0  1.0           0.0      0.0   \n",
       "\n",
       "      WNM_Notification  Operating_Mode_Notification  \n",
       "0                  0.0                          0.0  \n",
       "2                  0.0                          1.0  \n",
       "3                  0.0                          1.0  \n",
       "4                  0.0                          1.0  \n",
       "5                  0.0                          1.0  \n",
       "...                ...                          ...  \n",
       "4410               0.0                          1.0  \n",
       "4411               0.0                          1.0  \n",
       "4412               0.0                          1.0  \n",
       "4413               0.0                          1.0  \n",
       "4414               0.0                          1.0  \n",
       "\n",
       "[4409 rows x 46 columns]"
      ]
     },
     "execution_count": 19,
     "metadata": {},
     "output_type": "execute_result"
    }
   ],
   "source": [
    "df"
   ]
  },
  {
   "cell_type": "markdown",
   "metadata": {},
   "source": [
    "## BAMBOO"
   ]
  },
  {
   "cell_type": "markdown",
   "metadata": {},
   "source": [
    "Input:\n",
    "- Ground truth relationships $\\langle x_{a(n)}, x_{b(n)}; y_n\\rangle$\n",
    "  - $n=1,..,N$\n",
    "  - $y_n \\in \\{+1, -1\\}$\n",
    "- A set of filters $\\mathcal{H} = \\{h_1 , ..., h_F\\}$\n",
    "- A set of binarization thresholds $\\mathcal{T} = \\{t_1 , ..., t_T\\}$\n",
    "\n",
    "Output:\n",
    "- A set of $M<F$ filters $[h_{i(1)}, ..., h_{i(M)}]$\n",
    "- Corresponding set of binarization thresholds $[t_{j(1)}, ..., t_{j(M)}]$"
   ]
  },
  {
   "cell_type": "markdown",
   "metadata": {},
   "source": [
    "### Filters"
   ]
  },
  {
   "cell_type": "code",
   "execution_count": 20,
   "metadata": {},
   "outputs": [],
   "source": [
    "import itertools"
   ]
  },
  {
   "cell_type": "code",
   "execution_count": 21,
   "metadata": {},
   "outputs": [],
   "source": [
    "def generate_filters(num_columns: int) -> list:\n",
    "    # Generate all combinations of 1s and 0s for the number of columns\n",
    "    combinations = list(itertools.product([0, 1], repeat=num_columns))\n",
    "    # Remove the combination that includes only 0s (all columns excluded)\n",
    "    combinations.remove((0,) * num_columns)\n",
    "\n",
    "    filter_vectors = []\n",
    "    for combination in tqdm(combinations):\n",
    "        filter_vector = [1 if include else 0 for include in combination]\n",
    "        filter_vectors.append(filter_vector)\n",
    "\n",
    "    return filter_vectors"
   ]
  },
  {
   "cell_type": "code",
   "execution_count": 22,
   "metadata": {},
   "outputs": [],
   "source": [
    "# # Esempio di utilizzo\n",
    "# num_columns = 4\n",
    "# column_names = ['col1', 'col2', 'col3', 'col4']\n",
    "# data = {\n",
    "#     'col1': [1, 2, 3],\n",
    "#     'col2': [4, 5, 6],\n",
    "#     'col3': [7, 8, 9],\n",
    "#     'col4': [10, 11, 12]\n",
    "# }\n",
    "# df = pd.DataFrame(data)\n",
    "\n",
    "# # Print the filter vectors\n",
    "# for i, filter_vector in enumerate(generate_filters(num_columns)):\n",
    "#     print(f\"Filter {i+1}: {filter_vector}\")"
   ]
  },
  {
   "cell_type": "code",
   "execution_count": 23,
   "metadata": {},
   "outputs": [
    {
     "data": {
      "text/plain": [
       "46"
      ]
     },
     "execution_count": 23,
     "metadata": {},
     "output_type": "execute_result"
    }
   ],
   "source": [
    "len(df.columns)"
   ]
  },
  {
   "cell_type": "code",
   "execution_count": 25,
   "metadata": {},
   "outputs": [
    {
     "data": {
      "application/vnd.jupyter.widget-view+json": {
       "model_id": "1cf95f657b1a4159ad656e9b45f0dcec",
       "version_major": 2,
       "version_minor": 0
      },
      "text/plain": [
       "  0%|          | 0/8388607 [00:00<?, ?it/s]"
      ]
     },
     "metadata": {},
     "output_type": "display_data"
    }
   ],
   "source": [
    "filters = generate_filters(23)"
   ]
  }
 ],
 "metadata": {
  "kernelspec": {
   "display_name": ".venv",
   "language": "python",
   "name": "python3"
  },
  "language_info": {
   "codemirror_mode": {
    "name": "ipython",
    "version": 3
   },
   "file_extension": ".py",
   "mimetype": "text/x-python",
   "name": "python",
   "nbconvert_exporter": "python",
   "pygments_lexer": "ipython3",
   "version": "3.11.6"
  }
 },
 "nbformat": 4,
 "nbformat_minor": 2
}
