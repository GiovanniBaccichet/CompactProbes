{
 "cells": [
  {
   "cell_type": "markdown",
   "metadata": {},
   "source": [
    "# Fingerprint Testing"
   ]
  },
  {
   "cell_type": "markdown",
   "metadata": {},
   "source": [
    "The purpose of this notebook is to test and calculate the ROC of the **train set**, just to figure out the best way to do so. It will follow a notebook with a proper test set."
   ]
  },
  {
   "cell_type": "code",
   "execution_count": null,
   "metadata": {},
   "outputs": [],
   "source": [
    "import re\n",
    "\n",
    "import numpy as np\n",
    "import pandas as pd"
   ]
  },
  {
   "cell_type": "code",
   "execution_count": null,
   "metadata": {},
   "outputs": [],
   "source": [
    "string_df = pd.read_csv(\"../../data/interim/string_df.csv\")"
   ]
  },
  {
   "cell_type": "code",
   "execution_count": null,
   "metadata": {},
   "outputs": [],
   "source": [
    "string_df"
   ]
  },
  {
   "cell_type": "code",
   "execution_count": null,
   "metadata": {},
   "outputs": [],
   "source": [
    "balanced_pairs_df = pd.read_csv(\"../../data/interim/balanced_pairs_df.csv\", index_col=0)\n",
    "balanced_pairs_df.reset_index(drop=True, inplace=True)"
   ]
  },
  {
   "cell_type": "code",
   "execution_count": null,
   "metadata": {},
   "outputs": [],
   "source": [
    "balanced_pairs_df"
   ]
  },
  {
   "cell_type": "code",
   "execution_count": null,
   "metadata": {},
   "outputs": [],
   "source": [
    "best_filters = [\n",
    "    \"0[2176] 🀆🀆🀆🀆🀫🀫🀫🀫 0[104]\",\n",
    "    \"0[1944] 🀫🀫🀫🀫🀫🀫🀫🀫 0[336]\",\n",
    "    \"0[0] 🀆🀆🀆🀆🀫🀫🀫🀫 0[2280]\",\n",
    "    \"0[1720] 🀫🀫🀫🀫🀆🀆🀆🀆 0[560]\",\n",
    "    \"0[1608] 🀆🀆🀆🀆🀫🀫🀫🀫 0[672]\",\n",
    "    \"0[1600] 🀫🀫🀫🀫🀫🀫🀫🀫 0[680]\",\n",
    "    \"0[1600] 🀫🀫🀫🀫🀆🀆🀆🀆 0[680]\",\n",
    "    \"0[1600] 🀆🀆🀆🀆🀫🀫🀫🀫 0[680]\",\n",
    "    \"0[1256] 🀫🀫🀫🀫🀫🀫🀫🀫 0[1024]\",\n",
    "    \"0[1720] 🀆🀆🀆🀆🀫🀫🀫🀫 0[560]\",\n",
    "    \"0[1480] 🀫🀫🀫🀫🀆🀆🀆🀆 0[800]\",\n",
    "    \"0[912] 🀫🀫🀫🀫🀫🀫🀫🀫 0[1368]\",\n",
    "    \"0[1136] 🀫🀫🀫🀫🀫🀫🀫🀫 0[1144]\",\n",
    "    \"0[1368] 🀆🀆🀆🀆🀫🀫🀫🀫 0[912]\",\n",
    "    \"0[680] 🀫🀫🀫🀫🀫🀫🀫🀫 0[1600]\",\n",
    "    \"0[1136] 🀆🀆🀆🀆🀫🀫🀫🀫 0[1144]\",\n",
    "    \"0[1248] 🀫🀫🀫🀫🀆🀆🀆🀆 0[1032]\",\n",
    "    \"0[224] 🀫🀫🀫🀫🀫🀫🀫🀫 0[2056]\",\n",
    "    \"0[1592] 🀫🀫🀫🀫🀆🀆🀆🀆 0[688]\",\n",
    "    \"0[560] 🀫🀫🀫🀫🀫🀫🀫🀫 0[1720]\",\n",
    "    \"0[2064] 🀫🀫🀫🀫🀆🀆🀆🀆 0[216]\",\n",
    "    \"0[1480] 🀫🀫🀫🀫🀫🀫🀫🀫 0[800]\",\n",
    "    \"0[2064] 🀆🀆🀆🀆🀫🀫🀫🀫 0[216]\",\n",
    "    \"0[2176] 🀫🀫🀫🀫🀆🀆🀆🀆 0[104]\",\n",
    "    \"0[1608] 🀫🀫🀫🀫🀫🀫🀫🀫 0[672]\",\n",
    "    \"0[1832] 🀫🀫🀫🀫🀫🀫🀫🀫 0[448]\",\n",
    "    \"0[1720] 🀫🀫🀫🀫🀫🀫🀫🀫 0[560]\",\n",
    "    \"0[1472] 🀫🀫🀫🀫🀫🀫🀫🀫 0[808]\",\n",
    "    \"0[1128] 🀫🀫🀫🀫🀫🀫🀫🀫 0[1152]\",\n",
    "    \"0[1832] 🀫🀫🀫🀫🀆🀆🀆🀆 0[448]\",\n",
    "    \"0[1584] 🀫🀫🀫🀫🀫🀫🀫🀫 0[696]\",\n",
    "    \"0[1240] 🀫🀫🀫🀫🀆🀆🀆🀆 0[1040]\",\n",
    "    \"0[1832] 🀆🀆🀆🀆🀫🀫🀫🀫 0[448]\",\n",
    "    \"0[1120] 🀆🀆🀆🀆🀫🀫🀫🀫 0[1160]\",\n",
    "    \"0[672] 🀫🀫🀫🀫🀆🀆🀆🀆 0[1608]\",\n",
    "    \"0[1112] 🀫🀫🀫🀫🀫🀫🀫🀫 0[1168]\",\n",
    "    \"0[664] 🀫🀫🀫🀫🀫🀫🀫🀫 0[1616]\",\n",
    "    \"0[1112] 🀫🀫🀫🀫🀆🀆🀆🀆 0[1168]\",\n",
    "    \"0[1112] 🀆🀆🀆🀆🀫🀫🀫🀫 0[1168]\",\n",
    "    \"0[2176] 🀫🀫🀫🀫🀫🀫🀫🀫 0[104]\",\n",
    "    \"0[2168] 🀫🀫🀫🀫🀫🀫🀫🀫 0[112]\",\n",
    "    \"0[2168] 🀫🀫🀫🀫🀆🀆🀆🀆 0[112]\",\n",
    "    \"0[2168] 🀆🀆🀆🀆🀫🀫🀫🀫 0[112]\",\n",
    "    \"0[1824] 🀫🀫🀫🀫🀫🀫🀫🀫 0[456]\",\n",
    "    \"0[2048] 🀫🀫🀫🀫🀫🀫🀫🀫 0[232]\",\n",
    "    \"0[2048] 🀫🀫🀫🀫🀆🀆🀆🀆 0[232]\",\n",
    "    \"0[2160] 🀫🀫🀫🀫🀫🀫🀫🀫 0[120]\",\n",
    "    \"0[1936] 🀆🀆🀆🀆🀫🀫🀫🀫 0[344]\",\n",
    "    \"0[1456] 🀫🀫🀫🀫🀫🀫🀫🀫 0[824]\",\n",
    "    \"0[1456] 🀫🀫🀫🀫🀆🀆🀆🀆 0[824]\",\n",
    "    \"0[1232] 🀆🀆🀆🀆🀫🀫🀫🀫 0[1048]\",\n",
    "    \"0[1224] 🀫🀫🀫🀫🀫🀫🀫🀫 0[1056]\",\n",
    "    \"0[1096] 🀫🀫🀫🀫🀫🀫🀫🀫 0[1184]\",\n",
    "    \"0[1096] 🀫🀫🀫🀫🀆🀆🀆🀆 0[1184]\",\n",
    "    \"0[1096] 🀆🀆🀆🀆🀫🀫🀫🀫 0[1184]\",\n",
    "    \"0[872] 🀫🀫🀫🀫🀫🀫🀫🀫 0[1408]\",\n",
    "    \"0[768] 🀆🀆🀆🀆🀫🀫🀫🀫 0[1512]\",\n",
    "    \"0[1696] 🀫🀫🀫🀫🀫🀫🀫🀫 0[584]\",\n",
    "    \"0[872] 🀆🀆🀆🀆🀫🀫🀫🀫 0[1408]\",\n",
    "    \"0[2184] 🀆🀆🀆🀆🀫🀫🀫🀫 0[96]\",\n",
    "    \"0[2160] 🀫🀫🀫🀫🀆🀆🀆🀆 0[120]\",\n",
    "    \"0[2040] 🀫🀫🀫🀫🀫🀫🀫🀫 0[240]\",\n",
    "    \"0[2160] 🀆🀆🀆🀆🀫🀫🀫🀫 0[120]\",\n",
    "    \"0[1704] 🀆🀆🀆🀆🀫🀫🀫🀫 0[576]\",\n",
    "    \"0[1576] 🀆🀆🀆🀆🀫🀫🀫🀫 0[704]\",\n",
    "    \"0[1928] 🀫🀫🀫🀫🀆🀆🀆🀆 0[352]\",\n",
    "    \"0[1928] 🀆🀆🀆🀆🀫🀫🀫🀫 0[352]\",\n",
    "    \"0[1808] 🀫🀫🀫🀫🀆🀆🀆🀆 0[472]\",\n",
    "    \"0[2152] 🀫🀫🀫🀫🀫🀫🀫🀫 0[128]\",\n",
    "    \"0[984] 🀫🀫🀫🀫🀆🀆🀆🀆 0[1296]\",\n",
    "    \"0[872] 🀫🀫🀫🀫🀆🀆🀆🀆 0[1408]\",\n",
    "    \"0[1688] 🀆🀆🀆🀆🀫🀫🀫🀫 0[592]\",\n",
    "    \"0[976] 🀫🀫🀫🀫🀫🀫🀫🀫 0[1304]\",\n",
    "    \"0[752] 🀫🀫🀫🀫🀫🀫🀫🀫 0[1528]\",\n",
    "    \"0[536] 🀆🀆🀆🀆🀫🀫🀫🀫 0[1744]\",\n",
    "    \"0[976] 🀫🀫🀫🀫🀆🀆🀆🀆 0[1304]\",\n",
    "    \"0[976] 🀆🀆🀆🀆🀫🀫🀫🀫 0[1304]\",\n",
    "    \"0[1336] 🀆🀆🀆🀆🀫🀫🀫🀫 0[944]\",\n",
    "    \"0[1680] 🀫🀫🀫🀫🀫🀫🀫🀫 0[600]\",\n",
    "    \"0[2184] 🀫🀫🀫🀫🀆🀆🀆🀆 0[96]\",\n",
    "    \"0[2152] 🀫🀫🀫🀫🀆🀆🀆🀆 0[128]\",\n",
    "    \"0[2152] 🀆🀆🀆🀆🀫🀫🀫🀫 0[128]\",\n",
    "    \"0[2032] 🀫🀫🀫🀫🀆🀆🀆🀆 0[248]\",\n",
    "    \"0[1688] 🀫🀫🀫🀫🀆🀆🀆🀆 0[592]\",\n",
    "    \"0[2144] 🀫🀫🀫🀫🀫🀫🀫🀫 0[136]\",\n",
    "    \"0[1680] 🀆🀆🀆🀆🀫🀫🀫🀫 0[600]\",\n",
    "    \"0[2024] 🀫🀫🀫🀫🀫🀫🀫🀫 0[256]\",\n",
    "    \"0[1328] 🀫🀫🀫🀫🀆🀆🀆🀆 0[952]\",\n",
    "    \"0[1672] 🀫🀫🀫🀫🀆🀆🀆🀆 0[608]\",\n",
    "    \"0[1080] 🀫🀫🀫🀫🀆🀆🀆🀆 0[1200]\",\n",
    "    \"0[1432] 🀫🀫🀫🀫🀆🀆🀆🀆 0[848]\",\n",
    "    \"0[744] 🀫🀫🀫🀫🀆🀆🀆🀆 0[1536]\",\n",
    "    \"0[744] 🀆🀆🀆🀆🀫🀫🀫🀫 0[1536]\",\n",
    "    \"0[736] 🀫🀫🀫🀫🀫🀫🀫🀫 0[1544]\",\n",
    "    \"0[736] 🀫🀫🀫🀫🀆🀆🀆🀆 0[1544]\",\n",
    "    \"0[2144] 🀫🀫🀫🀫🀆🀆🀆🀆 0[136]\",\n",
    "    \"0[1200] 🀫🀫🀫🀫🀫🀫🀫🀫 0[1080]\",\n",
    "    \"0[616] 🀫🀫🀫🀫🀫🀫🀫🀫 0[1664]\",\n",
    "    \"0[1320] 🀆🀆🀆🀆🀫🀫🀫🀫 0[960]\",\n",
    "    \"0[2184] 🀫🀫🀫🀫🀫🀫🀫🀫 0[96]\",\n",
    "    \"0[2144] 🀆🀆🀆🀆🀫🀫🀫🀫 0[136]\",\n",
    "    \"0[2024] 🀆🀆🀆🀆🀫🀫🀫🀫 0[256]\",\n",
    "    \"0[1800] 🀆🀆🀆🀆🀫🀫🀫🀫 0[480]\",\n",
    "    \"0[1672] 🀆🀆🀆🀆🀫🀫🀫🀫 0[608]\",\n",
    "    \"0[1544] 🀫🀫🀫🀫🀫🀫🀫🀫 0[736]\",\n",
    "    \"0[1912] 🀆🀆🀆🀆🀫🀫🀫🀫 0[368]\",\n",
    "    \"0[1424] 🀫🀫🀫🀫🀫🀫🀫🀫 0[856]\",\n",
    "    \"0[2136] 🀫🀫🀫🀫🀫🀫🀫🀫 0[144]\",\n",
    "    \"0[1536] 🀫🀫🀫🀫🀫🀫🀫🀫 0[744]\",\n",
    "    \"0[1192] 🀫🀫🀫🀫🀫🀫🀫🀫 0[1088]\",\n",
    "    \"0[1312] 🀆🀆🀆🀆🀫🀫🀫🀫 0[968]\",\n",
    "    \"0[1536] 🀫🀫🀫🀫🀆🀆🀆🀆 0[744]\",\n",
    "    \"0[1304] 🀫🀫🀫🀫🀆🀆🀆🀆 0[976]\",\n",
    "    \"0[1056] 🀫🀫🀫🀫🀆🀆🀆🀆 0[1224]\",\n",
    "    \"0[1416] 🀫🀫🀫🀫🀆🀆🀆🀆 0[864]\",\n",
    "    \"0[608] 🀫🀫🀫🀫🀆🀆🀆🀆 0[1672]\",\n",
    "    \"0[304] 🀫🀫🀫🀫🀆🀆🀆🀆 0[1976]\",\n",
    "    \"0[400] 🀫🀫🀫🀫🀫🀫🀫🀫 0[1880]\",\n",
    "    \"0[0] 🀫🀫🀫🀫🀆🀆🀆🀆 0[2280]\",\n",
    "    \"0[2192] 🀆🀆🀆🀆🀫🀫🀫🀫 0[88]\",\n",
    "    \"0[2016] 🀫🀫🀫🀫🀫🀫🀫🀫 0[264]\",\n",
    "    \"0[2136] 🀫🀫🀫🀫🀆🀆🀆🀆 0[144]\",\n",
    "    \"0[1904] 🀫🀫🀫🀫🀆🀆🀆🀆 0[376]\",\n",
    "    \"0[1664] 🀫🀫🀫🀫🀆🀆🀆🀆 0[616]\",\n",
    "    \"0[1664] 🀆🀆🀆🀆🀫🀫🀫🀫 0[616]\",\n",
    "    \"0[1416] 🀫🀫🀫🀫🀫🀫🀫🀫 0[864]\",\n",
    "    \"0[1656] 🀫🀫🀫🀫🀫🀫🀫🀫 0[624]\",\n",
    "    \"0[2016] 🀆🀆🀆🀆🀫🀫🀫🀫 0[264]\",\n",
    "    \"0[1784] 🀫🀫🀫🀫🀫🀫🀫🀫 0[496]\",\n",
    "    \"0[1408] 🀆🀆🀆🀆🀫🀫🀫🀫 0[872]\",\n",
    "    \"0[1648] 🀫🀫🀫🀫🀫🀫🀫🀫 0[632]\",\n",
    "    \"0[1648] 🀫🀫🀫🀫🀆🀆🀆🀆 0[632]\",\n",
    "    \"0[1168] 🀫🀫🀫🀫🀫🀫🀫🀫 0[1112]\",\n",
    "    \"0[824] 🀫🀫🀫🀫🀫🀫🀫🀫 0[1456]\",\n",
    "    \"0[2136] 🀆🀆🀆🀆🀫🀫🀫🀫 0[144]\",\n",
    "    \"0[1168] 🀆🀆🀆🀆🀫🀫🀫🀫 0[1112]\",\n",
    "    \"0[1160] 🀫🀫🀫🀫🀫🀫🀫🀫 0[1120]\",\n",
    "    \"0[2128] 🀫🀫🀫🀫🀫🀫🀫🀫 0[152]\",\n",
    "    \"0[1280] 🀫🀫🀫🀫🀆🀆🀆🀆 0[1000]\",\n",
    "    \"0[488] 🀫🀫🀫🀫🀫🀫🀫🀫 0[1792]\",\n",
    "    \"0[2008] 🀫🀫🀫🀫🀫🀫🀫🀫 0[272]\",\n",
    "    \"0[2192] 🀫🀫🀫🀫🀆🀆🀆🀆 0[88]\",\n",
    "    \"0[2128] 🀫🀫🀫🀫🀆🀆🀆🀆 0[152]\",\n",
    "    \"0[1784] 🀆🀆🀆🀆🀫🀫🀫🀫 0[496]\",\n",
    "    \"0[1520] 🀫🀫🀫🀫🀆🀆🀆🀆 0[760]\",\n",
    "    \"0[1896] 🀆🀆🀆🀆🀫🀫🀫🀫 0[384]\",\n",
    "    \"0[1640] 🀫🀫🀫🀫🀆🀆🀆🀆 0[640]\",\n",
    "    \"0[2000] 🀫🀫🀫🀫🀫🀫🀫🀫 0[280]\",\n",
    "    \"0[1776] 🀆🀆🀆🀆🀫🀫🀫🀫 0[504]\",\n",
    "    \"0[1272] 🀫🀫🀫🀫🀫🀫🀫🀫 0[1008]\",\n",
    "    \"0[1632] 🀫🀫🀫🀫🀆🀆🀆🀆 0[648]\",\n",
    "    \"0[1888] 🀫🀫🀫🀫🀆🀆🀆🀆 0[392]\",\n",
    "    \"0[1024] 🀆🀆🀆🀆🀫🀫🀫🀫 0[1256]\",\n",
    "    \"0[808] 🀫🀫🀫🀫🀆🀆🀆🀆 0[1472]\",\n",
    "    \"0[912] 🀫🀫🀫🀫🀆🀆🀆🀆 0[1368]\",\n",
    "    \"0[1016] 🀫🀫🀫🀫🀫🀫🀫🀫 0[1264]\",\n",
    "    \"0[904] 🀫🀫🀫🀫🀫🀫🀫🀫 0[1376]\",\n",
    "    \"0[1384] 🀆🀆🀆🀆🀫🀫🀫🀫 0[896]\",\n",
    "    \"0[480] 🀆🀆🀆🀆🀫🀫🀫🀫 0[1800]\",\n",
    "    \"0[2192] 🀫🀫🀫🀫🀫🀫🀫🀫 0[88]\",\n",
    "    \"0[2128] 🀆🀆🀆🀆🀫🀫🀫🀫 0[152]\",\n",
    "    \"0[1888] 🀫🀫🀫🀫🀫🀫🀫🀫 0[392]\",\n",
    "    \"0[2000] 🀫🀫🀫🀫🀆🀆🀆🀆 0[280]\",\n",
    "    \"0[1632] 🀆🀆🀆🀆🀫🀫🀫🀫 0[648]\",\n",
    "    \"0[1880] 🀫🀫🀫🀫🀫🀫🀫🀫 0[400]\",\n",
    "    \"0[1504] 🀆🀆🀆🀆🀫🀫🀫🀫 0[776]\",\n",
    "    \"0[1768] 🀆🀆🀆🀆🀫🀫🀫🀫 0[512]\",\n",
    "    \"0[1376] 🀫🀫🀫🀫🀆🀆🀆🀆 0[904]\",\n",
    "    \"0[1624] 🀆🀆🀆🀆🀫🀫🀫🀫 0[656]\",\n",
    "    \"0[1496] 🀆🀆🀆🀆🀫🀫🀫🀫 0[784]\",\n",
    "    \"0[1008] 🀫🀫🀫🀫🀫🀫🀫🀫 0[1272]\",\n",
    "    \"0[2000] 🀆🀆🀆🀆🀫🀫🀫🀫 0[280]\",\n",
    "    \"0[688] 🀆🀆🀆🀆🀫🀫🀫🀫 0[1592]\",\n",
    "    \"0[1760] 🀫🀫🀫🀫🀆🀆🀆🀆 0[520]\",\n",
    "    \"0[1992] 🀫🀫🀫🀫🀫🀫🀫🀫 0[288]\",\n",
    "    \"0[1120] 🀫🀫🀫🀫🀫🀫🀫🀫 0[1160]\",\n",
    "    \"0[1120] 🀫🀫🀫🀫🀆🀆🀆🀆 0[1160]\",\n",
    "    \"0[1360] 🀆🀆🀆🀆🀫🀫🀫🀫 0[920]\",\n",
    "    \"0[0] 🀫🀫🀫🀫🀫🀫🀫🀫 0[2280]\",\n",
    "    \"0[2200] 🀆🀆🀆🀆🀫🀫🀫🀫 0[80]\",\n",
    "    \"0[2120] 🀫🀫🀫🀫🀫🀫🀫🀫 0[160]\",\n",
    "    \"0[1880] 🀆🀆🀆🀆🀫🀫🀫🀫 0[400]\",\n",
    "    \"0[1872] 🀫🀫🀫🀫🀫🀫🀫🀫 0[408]\",\n",
    "    \"0[2120] 🀫🀫🀫🀫🀆🀆🀆🀆 0[160]\",\n",
    "    \"0[1752] 🀫🀫🀫🀫🀆🀆🀆🀆 0[528]\",\n",
    "    \"0[1592] 🀫🀫🀫🀫🀫🀫🀫🀫 0[688]\",\n",
    "    \"0[1472] 🀫🀫🀫🀫🀆🀆🀆🀆 0[808]\",\n",
    "    \"0[1992] 🀆🀆🀆🀆🀫🀫🀫🀫 0[288]\",\n",
    "    \"0[992] 🀫🀫🀫🀫🀫🀫🀫🀫 0[1288]\",\n",
    "    \"0[1584] 🀫🀫🀫🀫🀆🀆🀆🀆 0[696]\",\n",
    "    \"0[784] 🀆🀆🀆🀆🀫🀫🀫🀫 0[1496]\",\n",
    "    \"0[1104] 🀆🀆🀆🀆🀫🀫🀫🀫 0[1176]\",\n",
    "    \"0[1464] 🀫🀫🀫🀫🀆🀆🀆🀆 0[816]\",\n",
    "    \"0[568] 🀆🀆🀆🀆🀫🀫🀫🀫 0[1712]\",\n",
    "    \"0[2120] 🀆🀆🀆🀆🀫🀫🀫🀫 0[160]\",\n",
    "    \"0[280] 🀫🀫🀫🀫🀆🀆🀆🀆 0[2000]\",\n",
    "    \"0[368] 🀫🀫🀫🀫🀫🀫🀫🀫 0[1912]\",\n",
    "    \"0[184] 🀫🀫🀫🀫🀆🀆🀆🀆 0[2096]\",\n",
    "    \"0[96] 🀆🀆🀆🀆🀫🀫🀫🀫 0[2184]\",\n",
    "    \"0[2200] 🀫🀫🀫🀫🀆🀆🀆🀆 0[80]\",\n",
    "    \"0[1984] 🀫🀫🀫🀫🀫🀫🀫🀫 0[296]\",\n",
    "    \"0[1984] 🀫🀫🀫🀫🀆🀆🀆🀆 0[296]\",\n",
    "    \"0[1864] 🀫🀫🀫🀫🀆🀆🀆🀆 0[416]\",\n",
    "    \"0[1584] 🀆🀆🀆🀆🀫🀫🀫🀫 0[696]\",\n",
    "    \"0[1576] 🀫🀫🀫🀫🀫🀫🀫🀫 0[704]\",\n",
    "    \"0[1576] 🀫🀫🀫🀫🀆🀆🀆🀆 0[704]\",\n",
    "    \"0[1344] 🀆🀆🀆🀆🀫🀫🀫🀫 0[936]\",\n",
    "    \"0[1088] 🀫🀫🀫🀫🀆🀆🀆🀆 0[1192]\",\n",
    "    \"0[984] 🀆🀆🀆🀆🀫🀫🀫🀫 0[1296]\",\n",
    "    \"0[2112] 🀫🀫🀫🀫🀫🀫🀫🀫 0[168]\",\n",
    "    \"0[1080] 🀫🀫🀫🀫🀫🀫🀫🀫 0[1200]\",\n",
    "    \"0[2112] 🀫🀫🀫🀫🀆🀆🀆🀆 0[168]\",\n",
    "    \"0[1568] 🀆🀆🀆🀆🀫🀫🀫🀫 0[712]\",\n",
    "    \"0[1856] 🀫🀫🀫🀫🀆🀆🀆🀆 0[424]\",\n",
    "    \"0[464] 🀆🀆🀆🀆🀫🀫🀫🀫 0[1816]\",\n",
    "    \"0[368] 🀫🀫🀫🀫🀆🀆🀆🀆 0[1912]\",\n",
    "    \"0[192] 🀆🀆🀆🀆🀫🀫🀫🀫 0[2088]\",\n",
    "    \"0[760] 🀫🀫🀫🀫🀆🀆🀆🀆 0[1520]\",\n",
    "    \"0[2112] 🀆🀆🀆🀆🀫🀫🀫🀫 0[168]\",\n",
    "    \"0[2200] 🀫🀫🀫🀫🀫🀫🀫🀫 0[80]\",\n",
    "    \"0[1976] 🀫🀫🀫🀫🀆🀆🀆🀆 0[304]\",\n",
    "    \"0[2104] 🀫🀫🀫🀫🀫🀫🀫🀫 0[176]\",\n",
    "    \"0[1848] 🀫🀫🀫🀫🀫🀫🀫🀫 0[432]\",\n",
    "    \"0[1968] 🀫🀫🀫🀫🀫🀫🀫🀫 0[312]\",\n",
    "    \"0[1728] 🀫🀫🀫🀫🀫🀫🀫🀫 0[552]\",\n",
    "    \"0[1728] 🀫🀫🀫🀫🀆🀆🀆🀆 0[552]\",\n",
    "    \"0[1208] 🀫🀫🀫🀫🀫🀫🀫🀫 0[1072]\",\n",
    "    \"0[1208] 🀫🀫🀫🀫🀆🀆🀆🀆 0[1072]\",\n",
    "    \"0[1968] 🀫🀫🀫🀫🀆🀆🀆🀆 0[312]\",\n",
    "    \"0[1432] 🀆🀆🀆🀆🀫🀫🀫🀫 0[848]\",\n",
    "    \"0[856] 🀆🀆🀆🀆🀫🀫🀫🀫 0[1424]\",\n",
    "    \"0[848] 🀫🀫🀫🀫🀫🀫🀫🀫 0[1432]\",\n",
    "    \"0[848] 🀫🀫🀫🀫🀆🀆🀆🀆 0[1432]\",\n",
    "    \"0[1200] 🀆🀆🀆🀆🀫🀫🀫🀫 0[1080]\",\n",
    "    \"0[1424] 🀫🀫🀫🀫🀆🀆🀆🀆 0[856]\",\n",
    "    \"0[360] 🀫🀫🀫🀫🀆🀆🀆🀆 0[1920]\",\n",
    "    \"0[640] 🀆🀆🀆🀆🀫🀫🀫🀫 0[1640]\",\n",
    "    \"0[176] 🀫🀫🀫🀫🀆🀆🀆🀆 0[2104]\",\n",
    "    \"0[1192] 🀆🀆🀆🀆🀫🀫🀫🀫 0[1088]\",\n",
    "    \"0[2208] 🀆🀆🀆🀆🀫🀫🀫🀫 0[72]\",\n",
    "    \"0[1976] 🀆🀆🀆🀆🀫🀫🀫🀫 0[304]\",\n",
    "    \"0[1968] 🀆🀆🀆🀆🀫🀫🀫🀫 0[312]\",\n",
    "    \"0[1840] 🀫🀫🀫🀫🀫🀫🀫🀫 0[440]\",\n",
    "    \"0[1840] 🀫🀫🀫🀫🀆🀆🀆🀆 0[440]\",\n",
    "    \"0[1960] 🀫🀫🀫🀫🀫🀫🀫🀫 0[320]\",\n",
    "    \"0[1712] 🀆🀆🀆🀆🀫🀫🀫🀫 0[568]\",\n",
    "    \"0[1192] 🀫🀫🀫🀫🀆🀆🀆🀆 0[1088]\",\n",
    "    \"0[1304] 🀫🀫🀫🀫🀫🀫🀫🀫 0[976]\",\n",
    "    \"0[1184] 🀫🀫🀫🀫🀆🀆🀆🀆 0[1096]\",\n",
    "    \"0[1184] 🀆🀆🀆🀆🀫🀫🀫🀫 0[1096]\",\n",
    "    \"0[1704] 🀫🀫🀫🀫🀫🀫🀫🀫 0[576]\",\n",
    "    \"0[1824] 🀫🀫🀫🀫🀆🀆🀆🀆 0[456]\",\n",
    "    \"0[1296] 🀫🀫🀫🀫🀆🀆🀆🀆 0[984]\",\n",
    "    \"0[1528] 🀫🀫🀫🀫🀫🀫🀫🀫 0[752]\",\n",
    "    \"0[824] 🀫🀫🀫🀫🀆🀆🀆🀆 0[1456]\",\n",
    "    \"0[720] 🀆🀆🀆🀆🀫🀫🀫🀫 0[1560]\",\n",
    "]"
   ]
  },
  {
   "cell_type": "code",
   "execution_count": null,
   "metadata": {},
   "outputs": [],
   "source": [
    "best_thresholds = 8 * np.ones(\n",
    "    len(best_filters)\n",
    ")  # 8 is the threshold shared among the selected filters"
   ]
  },
  {
   "cell_type": "markdown",
   "metadata": {},
   "source": [
    "## Functions"
   ]
  },
  {
   "cell_type": "code",
   "execution_count": null,
   "metadata": {},
   "outputs": [],
   "source": [
    "def convert_string_to_array(numeric_string: str) -> np.ndarray:\n",
    "    # Extract numbers from the square brackets\n",
    "    numbers = list(map(int, re.findall(r\"\\[([0-9]+)\\]\", numeric_string)))\n",
    "\n",
    "    # Extract symbols between the square brackets, strip leading/trailing whitespace\n",
    "    symbols = re.search(r\"\\](.*?)\\[\", numeric_string).group(1).strip()\n",
    "\n",
    "    # Replace symbols\n",
    "    symbol_map = {\"🀆\": -1, \"🀫\": 1}\n",
    "    converted_symbols = [symbol_map[char] for char in symbols if char in symbol_map]\n",
    "\n",
    "    # Construct the final array\n",
    "    prefix_zeros = [0] * numbers[0]\n",
    "    suffix_zeros = [0] * numbers[1]\n",
    "    final_array = np.array(prefix_zeros + converted_symbols + suffix_zeros)\n",
    "\n",
    "    return final_array"
   ]
  },
  {
   "cell_type": "code",
   "execution_count": null,
   "metadata": {},
   "outputs": [],
   "source": [
    "def generate_fingerprint(\n",
    "    probe_burst: str, selected_filters: list, selected_thresholds: list\n",
    ") -> list:\n",
    "    probe_burst = np.array(list(probe_burst)).astype(int)\n",
    "\n",
    "    selected_filter_arrays = []\n",
    "\n",
    "    for selected_filter in selected_filters:\n",
    "        selected_filter_array = convert_string_to_array(selected_filter)\n",
    "        selected_filter_arrays.append(selected_filter_array)\n",
    "\n",
    "    sum_array = []\n",
    "    for selected_filter_array in selected_filter_arrays:\n",
    "        sum_array.append(np.sum(np.multiply(probe_burst, selected_filter_array)))\n",
    "\n",
    "    return sum_array"
   ]
  },
  {
   "cell_type": "markdown",
   "metadata": {},
   "source": [
    "# Test filter only"
   ]
  },
  {
   "cell_type": "markdown",
   "metadata": {},
   "source": [
    "Just to understand if the filters can discriminate between different probe burst, i will just filter each probe of the train set (without considering pairs and without using the thresholds). I will then proceed by grouping by filtered array."
   ]
  },
  {
   "cell_type": "code",
   "execution_count": null,
   "metadata": {},
   "outputs": [],
   "source": [
    "string_df.iloc[0, 1]"
   ]
  },
  {
   "cell_type": "code",
   "execution_count": null,
   "metadata": {},
   "outputs": [],
   "source": [
    "fingerprints = []\n",
    "for string in string_df[\"concatenated\"]:\n",
    "    fingerprint = generate_fingerprint(string, best_filters, best_thresholds)\n",
    "    fingerprints.append(fingerprint)"
   ]
  },
  {
   "cell_type": "code",
   "execution_count": null,
   "metadata": {},
   "outputs": [],
   "source": [
    "string_df[\"fingerprint\"] = fingerprints"
   ]
  },
  {
   "cell_type": "code",
   "execution_count": null,
   "metadata": {},
   "outputs": [],
   "source": [
    "string_df"
   ]
  },
  {
   "cell_type": "code",
   "execution_count": null,
   "metadata": {},
   "outputs": [],
   "source": [
    "string_df[\"fingerprint\"] = string_df[\"fingerprint\"].apply(\n",
    "    lambda x: \"\".join(map(str, x))\n",
    ")"
   ]
  },
  {
   "cell_type": "code",
   "execution_count": null,
   "metadata": {},
   "outputs": [],
   "source": [
    "from sklearn.preprocessing import LabelEncoder\n",
    "\n",
    "# Initialize LabelEncoder\n",
    "label_encoder = LabelEncoder()"
   ]
  },
  {
   "cell_type": "code",
   "execution_count": null,
   "metadata": {},
   "outputs": [],
   "source": [
    "string_df[\"fingerprint_label\"] = label_encoder.fit_transform(string_df[\"fingerprint\"])"
   ]
  },
  {
   "cell_type": "code",
   "execution_count": null,
   "metadata": {},
   "outputs": [],
   "source": [
    "string_df[\"fingerprint_label\"].nunique()"
   ]
  },
  {
   "cell_type": "code",
   "execution_count": null,
   "metadata": {},
   "outputs": [],
   "source": [
    "import matplotlib.pyplot as plt\n",
    "import seaborn as sns\n",
    "\n",
    "# Plot the correlation between labels and numbers\n",
    "plt.figure(figsize=(12, 6))\n",
    "sns.scatterplot(x=\"label\", y=\"fingerprint_label\", data=string_df, alpha=0.6)\n",
    "plt.title(\"Correlation between Labels and Numbers\", fontsize=16)\n",
    "plt.xlabel(\"Label\", fontsize=14)\n",
    "plt.ylabel(\"Number\", fontsize=14)\n",
    "plt.xticks(rotation=90, fontsize=12)\n",
    "plt.yticks(fontsize=12)\n",
    "plt.grid(True)\n",
    "plt.tight_layout()\n",
    "plt.show()"
   ]
  },
  {
   "cell_type": "code",
   "execution_count": null,
   "metadata": {},
   "outputs": [],
   "source": [
    "string_df[string_df[\"label\"] == \"iPhone6_N\"]"
   ]
  },
  {
   "cell_type": "markdown",
   "metadata": {},
   "source": [
    "## ROC"
   ]
  },
  {
   "cell_type": "markdown",
   "metadata": {},
   "source": [
    "Per calcolare la ROC bisogna farlo sul dataset delle coppie, calcolare la $h$ come durante il training e poi utilizzare un threhsold $\\tau$ per adatare la curva."
   ]
  },
  {
   "cell_type": "code",
   "execution_count": null,
   "metadata": {},
   "outputs": [],
   "source": [
    "balanced_pairs_df"
   ]
  },
  {
   "cell_type": "code",
   "execution_count": null,
   "metadata": {},
   "outputs": [],
   "source": [
    "def convertColumntoArray(df: pd.DataFrame, column_name: str) -> np.array:\n",
    "    return np.array([list(bstr) for bstr in df[column_name]])"
   ]
  },
  {
   "cell_type": "code",
   "execution_count": null,
   "metadata": {},
   "outputs": [],
   "source": [
    "def generateStringPairDf(pairs_df: pd.DataFrame, dataset: pd.DataFrame) -> pd.DataFrame:\n",
    "    # Convert the Probes column to a numpy array\n",
    "    dataset_array = convertColumntoArray(dataset, \"concatenated\")\n",
    "\n",
    "    return_df = pd.DataFrame()\n",
    "\n",
    "    # Import the Probes into the pairs_df dataframe\n",
    "    return_df[\"Item 1\"] = pairs_df[\"Item 1\"].apply(lambda index: dataset_array[index])\n",
    "    return_df[\"Item 2\"] = pairs_df[\"Item 2\"].apply(lambda index: dataset_array[index])\n",
    "    return_df[\"Equality\"] = pairs_df[\"Equality\"]\n",
    "\n",
    "    return return_df"
   ]
  },
  {
   "cell_type": "code",
   "execution_count": null,
   "metadata": {},
   "outputs": [],
   "source": [
    "string_df"
   ]
  },
  {
   "cell_type": "code",
   "execution_count": null,
   "metadata": {},
   "outputs": [],
   "source": [
    "matrix_df = generateStringPairDf(balanced_pairs_df, string_df)"
   ]
  },
  {
   "cell_type": "code",
   "execution_count": null,
   "metadata": {},
   "outputs": [],
   "source": [
    "matrix_df"
   ]
  },
  {
   "cell_type": "code",
   "execution_count": null,
   "metadata": {},
   "outputs": [],
   "source": [
    "def hamming_distance(arr1, arr2):\n",
    "    # Ensure the arrays are of the same length\n",
    "    if len(arr1) != len(arr2):\n",
    "        raise ValueError(\"Arrays must be of the same length\")\n",
    "\n",
    "    # Calculate the Hamming distance\n",
    "    distance = 0\n",
    "    for a, b in zip(arr1, arr2):\n",
    "        if a != b:\n",
    "            distance += 1\n",
    "\n",
    "    return distance"
   ]
  },
  {
   "cell_type": "code",
   "execution_count": null,
   "metadata": {},
   "outputs": [],
   "source": [
    "def filter_parser(input_string: str) -> list:\n",
    "    # Split the string into its parts\n",
    "    parts = input_string.split()\n",
    "\n",
    "    # Initialize the final array\n",
    "    result = []\n",
    "\n",
    "    # Process each part\n",
    "    for part in parts:\n",
    "        if part.startswith(\"0[\"):\n",
    "            # Extract the number inside the brackets\n",
    "            count = int(part[2:-1])\n",
    "            # Append the corresponding number of zeros to the result\n",
    "            result.extend([0] * count)\n",
    "        else:\n",
    "            # Translate the tiles to their respective values\n",
    "            for char in part:\n",
    "                if char == \"🀆\":\n",
    "                    result.append(-1)\n",
    "                elif char == \"🀫\":\n",
    "                    result.append(1)\n",
    "\n",
    "    return result"
   ]
  },
  {
   "cell_type": "code",
   "execution_count": null,
   "metadata": {},
   "outputs": [],
   "source": [
    "fingerprint_1 = []\n",
    "fingerprint_2 = []\n",
    "tau = 8\n",
    "ground_truth = matrix_df.iloc[0, 2].astype(int)"
   ]
  },
  {
   "cell_type": "code",
   "execution_count": null,
   "metadata": {},
   "outputs": [],
   "source": [
    "for best_filter in best_filters:\n",
    "    fingerprint_1.append(\n",
    "        sum(matrix_df.iloc[0, 0].astype(int) * filter_parser(best_filter))\n",
    "        - best_thresholds[0]\n",
    "    )\n",
    "    fingerprint_2.append(\n",
    "        sum(matrix_df.iloc[0, 1].astype(int) * filter_parser(best_filter))\n",
    "        - best_thresholds[0]\n",
    "    )"
   ]
  },
  {
   "cell_type": "code",
   "execution_count": null,
   "metadata": {},
   "outputs": [],
   "source": [
    "if hamming_distance(fingerprint_1, fingerprint_2) < tau:\n",
    "    prediction = 1\n",
    "else:\n",
    "    prediction = -1"
   ]
  },
  {
   "cell_type": "code",
   "execution_count": null,
   "metadata": {},
   "outputs": [],
   "source": [
    "prediction"
   ]
  },
  {
   "cell_type": "code",
   "execution_count": null,
   "metadata": {},
   "outputs": [],
   "source": [
    "ground_truth"
   ]
  },
  {
   "cell_type": "code",
   "execution_count": null,
   "metadata": {},
   "outputs": [],
   "source": [
    "for i, row in matrix_df.iterrows():\n",
    "    fingerprint_1 = []\n",
    "    fingerprint_2 = []\n",
    "    ground_truth = row[\"Equality\"]\n",
    "\n",
    "    for best_filter, best_threshold in zip(best_filters, best_thresholds):\n",
    "        fingerprint_1.append(\n",
    "            sum(row[\"Item 1\"].astype(int) * filter_parser(best_filter)) - best_threshold\n",
    "        )\n",
    "        fingerprint_2.append(\n",
    "            sum(row[\"Item 2\"].astype(int) * filter_parser(best_filter)) - best_threshold\n",
    "        )\n",
    "\n",
    "    if hamming_distance(fingerprint_1, fingerprint_2) < tau:\n",
    "        prediction = 1\n",
    "    else:\n",
    "        prediction = -1\n",
    "\n",
    "    matrix_df.at[i, \"prediction\"] = prediction"
   ]
  },
  {
   "cell_type": "code",
   "execution_count": null,
   "metadata": {},
   "outputs": [],
   "source": [
    "matrix_df"
   ]
  },
  {
   "cell_type": "code",
   "execution_count": null,
   "metadata": {},
   "outputs": [],
   "source": [
    "from sklearn.metrics import roc_curve, roc_auc_score\n",
    "import matplotlib.pyplot as plt\n",
    "\n",
    "# True labels\n",
    "y_true = matrix_df[\"Equality\"]\n",
    "\n",
    "# Predicted scores\n",
    "y_scores = matrix_df[\"prediction\"]\n",
    "\n",
    "# Compute ROC curve\n",
    "fpr, tpr, thresholds = roc_curve(y_true, y_scores)\n",
    "roc_auc = roc_auc_score(y_true, y_scores)\n",
    "\n",
    "# Plot ROC curve\n",
    "plt.figure()\n",
    "plt.plot(fpr, tpr, color=\"blue\", lw=2, label=\"ROC curve (area = %0.2f)\" % roc_auc)\n",
    "plt.plot([0, 1], [0, 1], color=\"grey\", lw=2, linestyle=\"--\")\n",
    "plt.xlim([0.0, 1.0])\n",
    "plt.ylim([0.0, 1.05])\n",
    "plt.xlabel(\"False Positive Rate\")\n",
    "plt.ylabel(\"True Positive Rate\")\n",
    "plt.title(\"Receiver Operating Characteristic (ROC) Curve\")\n",
    "plt.legend(loc=\"lower right\")\n",
    "plt.show()"
   ]
  },
  {
   "cell_type": "code",
   "execution_count": null,
   "metadata": {},
   "outputs": [],
   "source": []
  }
 ],
 "metadata": {
  "kernelspec": {
   "display_name": ".venv",
   "language": "python",
   "name": "python3"
  },
  "language_info": {
   "codemirror_mode": {
    "name": "ipython",
    "version": 3
   },
   "file_extension": ".py",
   "mimetype": "text/x-python",
   "name": "python",
   "nbconvert_exporter": "python",
   "pygments_lexer": "ipython3",
   "version": "3.11.9"
  }
 },
 "nbformat": 4,
 "nbformat_minor": 2
}
