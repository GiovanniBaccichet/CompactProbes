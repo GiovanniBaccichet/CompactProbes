{
 "cells": [
  {
   "cell_type": "code",
   "execution_count": 174,
   "metadata": {},
   "outputs": [],
   "source": [
    "import re\n",
    "\n",
    "import numpy as np\n",
    "import pandas as pd"
   ]
  },
  {
   "cell_type": "code",
   "execution_count": 175,
   "metadata": {},
   "outputs": [],
   "source": [
    "from tqdm.autonotebook import tqdm"
   ]
  },
  {
   "cell_type": "markdown",
   "metadata": {},
   "source": [
    "## Importing Datasets"
   ]
  },
  {
   "cell_type": "code",
   "execution_count": 176,
   "metadata": {},
   "outputs": [],
   "source": [
    "string_df = pd.read_csv(\"../../data/interim/string_df.csv\")\n",
    "\n",
    "# balanced_pairs_df = pd.read_csv(\"../../data/interim/balanced_pairs_df.csv\", index_col=0)\n",
    "balanced_pairs_df = pd.read_csv(\"train_pairs.csv\")\n",
    "\n",
    "balanced_pairs_df.drop_duplicates(inplace=True)\n",
    "balanced_pairs_df.reset_index(drop=True, inplace=True)"
   ]
  },
  {
   "cell_type": "code",
   "execution_count": 177,
   "metadata": {},
   "outputs": [
    {
     "data": {
      "text/html": [
       "<div>\n",
       "<style scoped>\n",
       "    .dataframe tbody tr th:only-of-type {\n",
       "        vertical-align: middle;\n",
       "    }\n",
       "\n",
       "    .dataframe tbody tr th {\n",
       "        vertical-align: top;\n",
       "    }\n",
       "\n",
       "    .dataframe thead th {\n",
       "        text-align: right;\n",
       "    }\n",
       "</style>\n",
       "<table border=\"1\" class=\"dataframe\">\n",
       "  <thead>\n",
       "    <tr style=\"text-align: right;\">\n",
       "      <th></th>\n",
       "      <th>label</th>\n",
       "      <th>concatenated</th>\n",
       "    </tr>\n",
       "  </thead>\n",
       "  <tbody>\n",
       "    <tr>\n",
       "      <th>0</th>\n",
       "      <td>GooglePixel3A_L</td>\n",
       "      <td>0000000000000000000000000000000000000000000000...</td>\n",
       "    </tr>\n",
       "    <tr>\n",
       "      <th>1</th>\n",
       "      <td>GooglePixel3A_L</td>\n",
       "      <td>0000000000000000000000000000000000000000000000...</td>\n",
       "    </tr>\n",
       "    <tr>\n",
       "      <th>2</th>\n",
       "      <td>GooglePixel3A_L</td>\n",
       "      <td>0000000000000000000000000000000000000000000000...</td>\n",
       "    </tr>\n",
       "    <tr>\n",
       "      <th>3</th>\n",
       "      <td>GooglePixel3A_L</td>\n",
       "      <td>0000000000000000000000000000000000000000000000...</td>\n",
       "    </tr>\n",
       "    <tr>\n",
       "      <th>4</th>\n",
       "      <td>GooglePixel3A_L</td>\n",
       "      <td>0000000000000000000000000000000000000000000000...</td>\n",
       "    </tr>\n",
       "    <tr>\n",
       "      <th>...</th>\n",
       "      <td>...</td>\n",
       "      <td>...</td>\n",
       "    </tr>\n",
       "    <tr>\n",
       "      <th>951</th>\n",
       "      <td>iPhoneXSMax_M</td>\n",
       "      <td>0001101000101101000000000001101111111111000000...</td>\n",
       "    </tr>\n",
       "    <tr>\n",
       "      <th>952</th>\n",
       "      <td>iPhoneXSMax_M</td>\n",
       "      <td>0001101000101101010000000001101111111111000000...</td>\n",
       "    </tr>\n",
       "    <tr>\n",
       "      <th>953</th>\n",
       "      <td>iPhoneXSMax_M</td>\n",
       "      <td>0001101000101101000000000001101111111111000000...</td>\n",
       "    </tr>\n",
       "    <tr>\n",
       "      <th>954</th>\n",
       "      <td>iPhoneXSMax_M</td>\n",
       "      <td>0001101000101101010000000001101111111111000000...</td>\n",
       "    </tr>\n",
       "    <tr>\n",
       "      <th>955</th>\n",
       "      <td>iPhoneXSMax_M</td>\n",
       "      <td>0001101000101101010000000001101111111111000000...</td>\n",
       "    </tr>\n",
       "  </tbody>\n",
       "</table>\n",
       "<p>956 rows × 2 columns</p>\n",
       "</div>"
      ],
      "text/plain": [
       "               label                                       concatenated\n",
       "0    GooglePixel3A_L  0000000000000000000000000000000000000000000000...\n",
       "1    GooglePixel3A_L  0000000000000000000000000000000000000000000000...\n",
       "2    GooglePixel3A_L  0000000000000000000000000000000000000000000000...\n",
       "3    GooglePixel3A_L  0000000000000000000000000000000000000000000000...\n",
       "4    GooglePixel3A_L  0000000000000000000000000000000000000000000000...\n",
       "..               ...                                                ...\n",
       "951    iPhoneXSMax_M  0001101000101101000000000001101111111111000000...\n",
       "952    iPhoneXSMax_M  0001101000101101010000000001101111111111000000...\n",
       "953    iPhoneXSMax_M  0001101000101101000000000001101111111111000000...\n",
       "954    iPhoneXSMax_M  0001101000101101010000000001101111111111000000...\n",
       "955    iPhoneXSMax_M  0001101000101101010000000001101111111111000000...\n",
       "\n",
       "[956 rows x 2 columns]"
      ]
     },
     "execution_count": 177,
     "metadata": {},
     "output_type": "execute_result"
    }
   ],
   "source": [
    "string_df"
   ]
  },
  {
   "cell_type": "code",
   "execution_count": null,
   "metadata": {},
   "outputs": [],
   "source": []
  },
  {
   "cell_type": "code",
   "execution_count": 178,
   "metadata": {},
   "outputs": [
    {
     "data": {
      "text/html": [
       "<div>\n",
       "<style scoped>\n",
       "    .dataframe tbody tr th:only-of-type {\n",
       "        vertical-align: middle;\n",
       "    }\n",
       "\n",
       "    .dataframe tbody tr th {\n",
       "        vertical-align: top;\n",
       "    }\n",
       "\n",
       "    .dataframe thead th {\n",
       "        text-align: right;\n",
       "    }\n",
       "</style>\n",
       "<table border=\"1\" class=\"dataframe\">\n",
       "  <thead>\n",
       "    <tr style=\"text-align: right;\">\n",
       "      <th></th>\n",
       "      <th>Item 1</th>\n",
       "      <th>Item 2</th>\n",
       "      <th>Equality</th>\n",
       "      <th>device1</th>\n",
       "      <th>device2</th>\n",
       "    </tr>\n",
       "  </thead>\n",
       "  <tbody>\n",
       "    <tr>\n",
       "      <th>0</th>\n",
       "      <td>442</td>\n",
       "      <td>464</td>\n",
       "      <td>1</td>\n",
       "      <td>XiaomiRedmiNote9S_T</td>\n",
       "      <td>XiaomiRedmiNote9S_T</td>\n",
       "    </tr>\n",
       "    <tr>\n",
       "      <th>1</th>\n",
       "      <td>230</td>\n",
       "      <td>240</td>\n",
       "      <td>1</td>\n",
       "      <td>XiaomiRedmiNote7_S</td>\n",
       "      <td>XiaomiRedmiNote7_S</td>\n",
       "    </tr>\n",
       "    <tr>\n",
       "      <th>2</th>\n",
       "      <td>2</td>\n",
       "      <td>24</td>\n",
       "      <td>1</td>\n",
       "      <td>XiaomiRedmi4_B</td>\n",
       "      <td>XiaomiRedmi4_B</td>\n",
       "    </tr>\n",
       "    <tr>\n",
       "      <th>3</th>\n",
       "      <td>362</td>\n",
       "      <td>375</td>\n",
       "      <td>1</td>\n",
       "      <td>XiaomiRedmi5_J</td>\n",
       "      <td>XiaomiRedmi5_J</td>\n",
       "    </tr>\n",
       "    <tr>\n",
       "      <th>4</th>\n",
       "      <td>351</td>\n",
       "      <td>374</td>\n",
       "      <td>1</td>\n",
       "      <td>XiaomiRedmi5_J</td>\n",
       "      <td>XiaomiRedmi5_J</td>\n",
       "    </tr>\n",
       "    <tr>\n",
       "      <th>...</th>\n",
       "      <td>...</td>\n",
       "      <td>...</td>\n",
       "      <td>...</td>\n",
       "      <td>...</td>\n",
       "      <td>...</td>\n",
       "    </tr>\n",
       "    <tr>\n",
       "      <th>1995</th>\n",
       "      <td>600</td>\n",
       "      <td>672</td>\n",
       "      <td>-1</td>\n",
       "      <td>iPhone11_M</td>\n",
       "      <td>iPhone12_M</td>\n",
       "    </tr>\n",
       "    <tr>\n",
       "      <th>1996</th>\n",
       "      <td>162</td>\n",
       "      <td>396</td>\n",
       "      <td>-1</td>\n",
       "      <td>HuaweiHonor9_R</td>\n",
       "      <td>SamsungM31_A</td>\n",
       "    </tr>\n",
       "    <tr>\n",
       "      <th>1997</th>\n",
       "      <td>180</td>\n",
       "      <td>343</td>\n",
       "      <td>-1</td>\n",
       "      <td>HuaweiHonor9_R</td>\n",
       "      <td>XiaomiRedmi5_J</td>\n",
       "    </tr>\n",
       "    <tr>\n",
       "      <th>1998</th>\n",
       "      <td>285</td>\n",
       "      <td>694</td>\n",
       "      <td>-1</td>\n",
       "      <td>XiaomiRedmiNote7_S</td>\n",
       "      <td>SamsungJ6_K</td>\n",
       "    </tr>\n",
       "    <tr>\n",
       "      <th>1999</th>\n",
       "      <td>196</td>\n",
       "      <td>405</td>\n",
       "      <td>-1</td>\n",
       "      <td>SamsungS7_I</td>\n",
       "      <td>XiaomiRedmiNote9S_T</td>\n",
       "    </tr>\n",
       "  </tbody>\n",
       "</table>\n",
       "<p>2000 rows × 5 columns</p>\n",
       "</div>"
      ],
      "text/plain": [
       "      Item 1  Item 2  Equality              device1              device2\n",
       "0        442     464         1  XiaomiRedmiNote9S_T  XiaomiRedmiNote9S_T\n",
       "1        230     240         1   XiaomiRedmiNote7_S   XiaomiRedmiNote7_S\n",
       "2          2      24         1       XiaomiRedmi4_B       XiaomiRedmi4_B\n",
       "3        362     375         1       XiaomiRedmi5_J       XiaomiRedmi5_J\n",
       "4        351     374         1       XiaomiRedmi5_J       XiaomiRedmi5_J\n",
       "...      ...     ...       ...                  ...                  ...\n",
       "1995     600     672        -1           iPhone11_M           iPhone12_M\n",
       "1996     162     396        -1       HuaweiHonor9_R         SamsungM31_A\n",
       "1997     180     343        -1       HuaweiHonor9_R       XiaomiRedmi5_J\n",
       "1998     285     694        -1   XiaomiRedmiNote7_S          SamsungJ6_K\n",
       "1999     196     405        -1          SamsungS7_I  XiaomiRedmiNote9S_T\n",
       "\n",
       "[2000 rows x 5 columns]"
      ]
     },
     "execution_count": 178,
     "metadata": {},
     "output_type": "execute_result"
    }
   ],
   "source": [
    "balanced_pairs_df"
   ]
  },
  {
   "cell_type": "markdown",
   "metadata": {},
   "source": [
    "## Importing Best Configurations"
   ]
  },
  {
   "cell_type": "code",
   "execution_count": 179,
   "metadata": {},
   "outputs": [],
   "source": [
    "import re\n",
    "import pandas as pd\n",
    "\n",
    "\n",
    "def parse_log_file(filename):\n",
    "    data = []\n",
    "\n",
    "    with open(filename, \"r\") as file:\n",
    "        lines = file.readlines()\n",
    "\n",
    "        current_filter = None\n",
    "        current_threshold = None\n",
    "        current_min_error = None\n",
    "        current_confidence = None\n",
    "\n",
    "        for line in lines:\n",
    "            if \"Best Filter\" in line:\n",
    "                # Extract Best Filter using regex\n",
    "                filter_match = re.search(r\"Best Filter: (.+)\", line)\n",
    "                if filter_match:\n",
    "                    current_filter = filter_match.group(1).strip()\n",
    "\n",
    "            elif \"Best Threshold\" in line:\n",
    "                # Extract Best Threshold using regex\n",
    "                threshold_match = re.search(r\"Best Threshold: (.+)\", line)\n",
    "                if threshold_match:\n",
    "                    current_threshold = int(threshold_match.group(1).strip())\n",
    "\n",
    "            elif \"Min error\" in line:\n",
    "                # Extract Min Error using regex\n",
    "                min_error_match = re.search(r\"Min error: (.+)\", line)\n",
    "                if min_error_match:\n",
    "                    current_min_error = float(min_error_match.group(1).strip())\n",
    "\n",
    "            elif \"Confidence\" in line:\n",
    "                # Extract Confidence using regex\n",
    "                confidence_match = re.search(r\"Confidence: (.+)\", line)\n",
    "                if confidence_match:\n",
    "                    current_confidence = float(confidence_match.group(1).strip())\n",
    "\n",
    "                    # Once we have all values, create a tuple and add it to the data list\n",
    "                    data.append(\n",
    "                        (\n",
    "                            current_filter,\n",
    "                            current_threshold,\n",
    "                            current_min_error,\n",
    "                            current_confidence,\n",
    "                        )\n",
    "                    )\n",
    "\n",
    "                    # Reset current values for the next entry\n",
    "                    current_filter = None\n",
    "                    current_threshold = None\n",
    "                    current_min_error = None\n",
    "                    current_confidence = None\n",
    "\n",
    "    # Convert the list of tuples into a DataFrame\n",
    "    df = pd.DataFrame(\n",
    "        data, columns=[\"Best Filter\", \"Best Threshold\", \"Min Error\", \"Confidence\"]\n",
    "    )\n",
    "\n",
    "    return df"
   ]
  },
  {
   "cell_type": "code",
   "execution_count": 180,
   "metadata": {},
   "outputs": [],
   "source": [
    "# Usage example:\n",
    "filename = \"../../reports/best_config\"\n",
    "best_configs_df = parse_log_file(filename)"
   ]
  },
  {
   "cell_type": "code",
   "execution_count": 181,
   "metadata": {},
   "outputs": [
    {
     "data": {
      "text/html": [
       "<div>\n",
       "<style scoped>\n",
       "    .dataframe tbody tr th:only-of-type {\n",
       "        vertical-align: middle;\n",
       "    }\n",
       "\n",
       "    .dataframe tbody tr th {\n",
       "        vertical-align: top;\n",
       "    }\n",
       "\n",
       "    .dataframe thead th {\n",
       "        text-align: right;\n",
       "    }\n",
       "</style>\n",
       "<table border=\"1\" class=\"dataframe\">\n",
       "  <thead>\n",
       "    <tr style=\"text-align: right;\">\n",
       "      <th></th>\n",
       "      <th>Best Filter</th>\n",
       "      <th>Best Threshold</th>\n",
       "      <th>Min Error</th>\n",
       "      <th>Confidence</th>\n",
       "    </tr>\n",
       "  </thead>\n",
       "  <tbody>\n",
       "    <tr>\n",
       "      <th>0</th>\n",
       "      <td>0[304] 🀆🀆🀆🀆🀆🀆🀆🀆🀫🀫🀫🀫🀫🀫🀫🀫 0[1464]</td>\n",
       "      <td>1</td>\n",
       "      <td>0.453672</td>\n",
       "      <td>0.185844</td>\n",
       "    </tr>\n",
       "    <tr>\n",
       "      <th>1</th>\n",
       "      <td>0[1752] 🀆🀆🀆🀆🀫🀫🀫🀫 0[24]</td>\n",
       "      <td>1</td>\n",
       "      <td>0.459875</td>\n",
       "      <td>0.160845</td>\n",
       "    </tr>\n",
       "    <tr>\n",
       "      <th>2</th>\n",
       "      <td>0[328] 🀫🀫🀫🀫🀆🀆🀆🀆 0[1448]</td>\n",
       "      <td>1</td>\n",
       "      <td>0.460774</td>\n",
       "      <td>0.157226</td>\n",
       "    </tr>\n",
       "    <tr>\n",
       "      <th>3</th>\n",
       "      <td>0[304] 🀫🀫🀫🀫🀫🀫🀫🀫🀫🀫🀫🀫🀫🀫🀫🀫 0[1464]</td>\n",
       "      <td>2</td>\n",
       "      <td>0.461820</td>\n",
       "      <td>0.153019</td>\n",
       "    </tr>\n",
       "  </tbody>\n",
       "</table>\n",
       "</div>"
      ],
      "text/plain": [
       "                       Best Filter  Best Threshold  Min Error  Confidence\n",
       "0  0[304] 🀆🀆🀆🀆🀆🀆🀆🀆🀫🀫🀫🀫🀫🀫🀫🀫 0[1464]               1   0.453672    0.185844\n",
       "1           0[1752] 🀆🀆🀆🀆🀫🀫🀫🀫 0[24]               1   0.459875    0.160845\n",
       "2          0[328] 🀫🀫🀫🀫🀆🀆🀆🀆 0[1448]               1   0.460774    0.157226\n",
       "3  0[304] 🀫🀫🀫🀫🀫🀫🀫🀫🀫🀫🀫🀫🀫🀫🀫🀫 0[1464]               2   0.461820    0.153019"
      ]
     },
     "execution_count": 181,
     "metadata": {},
     "output_type": "execute_result"
    }
   ],
   "source": [
    "best_configs_df"
   ]
  },
  {
   "cell_type": "code",
   "execution_count": 182,
   "metadata": {},
   "outputs": [],
   "source": [
    "# best_configs_df = best_configs_df.head(2)"
   ]
  },
  {
   "cell_type": "code",
   "execution_count": 183,
   "metadata": {},
   "outputs": [
    {
     "data": {
      "text/plain": [
       "1784"
      ]
     },
     "execution_count": 183,
     "metadata": {},
     "output_type": "execute_result"
    }
   ],
   "source": [
    "len(string_df[\"concatenated\"][0])"
   ]
  },
  {
   "cell_type": "code",
   "execution_count": 184,
   "metadata": {},
   "outputs": [
    {
     "name": "stdout",
     "output_type": "stream",
     "text": [
      "Compression Rate: 446.0\n"
     ]
    }
   ],
   "source": [
    "compression_rate = len(string_df[\"concatenated\"][0]) / best_configs_df.shape[0]\n",
    "\n",
    "print(\"Compression Rate:\", compression_rate)"
   ]
  },
  {
   "cell_type": "markdown",
   "metadata": {},
   "source": [
    "## Generate Matrix"
   ]
  },
  {
   "cell_type": "code",
   "execution_count": 185,
   "metadata": {},
   "outputs": [],
   "source": [
    "def convertColumntoArray(df: pd.DataFrame, column_name: str) -> np.array:\n",
    "    return np.array([list(bstr) for bstr in df[column_name]])"
   ]
  },
  {
   "cell_type": "code",
   "execution_count": 186,
   "metadata": {},
   "outputs": [],
   "source": [
    "def generateStringPairDf(pairs_df: pd.DataFrame, dataset: pd.DataFrame) -> pd.DataFrame:\n",
    "    # Convert the Probes column to a numpy array\n",
    "    dataset_array = convertColumntoArray(dataset, \"concatenated\")\n",
    "\n",
    "    return_df = pd.DataFrame()\n",
    "\n",
    "    # Import the Probes into the pairs_df dataframe\n",
    "    return_df[\"Item 1\"] = pairs_df[\"Item 1\"].apply(lambda index: dataset_array[index])\n",
    "    return_df[\"Item 2\"] = pairs_df[\"Item 2\"].apply(lambda index: dataset_array[index])\n",
    "    return_df[\"Equality\"] = pairs_df[\"Equality\"]\n",
    "\n",
    "    return return_df"
   ]
  },
  {
   "cell_type": "code",
   "execution_count": 187,
   "metadata": {},
   "outputs": [],
   "source": [
    "matrix_pairs_df = generateStringPairDf(balanced_pairs_df, string_df)\n",
    "matrix_pairs_df.reset_index(inplace=True, drop=True)"
   ]
  },
  {
   "cell_type": "markdown",
   "metadata": {},
   "source": [
    "## Filters Parser"
   ]
  },
  {
   "cell_type": "code",
   "execution_count": 188,
   "metadata": {},
   "outputs": [],
   "source": [
    "def filter_parser(input_string: str) -> list:\n",
    "    # Split the string into its parts\n",
    "    parts = input_string.split()\n",
    "\n",
    "    # Initialize the final array\n",
    "    result = []\n",
    "\n",
    "    # Process each part\n",
    "    for part in parts:\n",
    "        if part.startswith(\"0[\"):\n",
    "            # Extract the number inside the brackets\n",
    "            count = int(part[2:-1])\n",
    "            # Append the corresponding number of zeros to the result\n",
    "            result.extend([0] * count)\n",
    "        else:\n",
    "            # Translate the tiles to their respective values\n",
    "            for char in part:\n",
    "                if char == \"🀆\":\n",
    "                    result.append(-1)\n",
    "                elif char == \"🀫\":\n",
    "                    result.append(1)\n",
    "\n",
    "    return result"
   ]
  },
  {
   "cell_type": "code",
   "execution_count": 189,
   "metadata": {},
   "outputs": [],
   "source": [
    "# import time\n",
    "\n",
    "# time.sleep(100)"
   ]
  },
  {
   "cell_type": "markdown",
   "metadata": {},
   "source": [
    "## Apply Filters"
   ]
  },
  {
   "cell_type": "code",
   "execution_count": 190,
   "metadata": {},
   "outputs": [],
   "source": [
    "def apply_filter(item, filter):\n",
    "    # item = np.array(list(item)).astype(int)\n",
    "    item = item.astype(int)\n",
    "    filter = filter_parser(filter)\n",
    "    return np.sum(np.multiply(item, filter))"
   ]
  },
  {
   "cell_type": "code",
   "execution_count": 191,
   "metadata": {},
   "outputs": [],
   "source": [
    "def apply_filter_threshold(item, filter, threshold) -> int:\n",
    "    if apply_filter(item, filter) > threshold:\n",
    "        return 1\n",
    "    else:\n",
    "        return -1"
   ]
  },
  {
   "cell_type": "code",
   "execution_count": 192,
   "metadata": {},
   "outputs": [],
   "source": [
    "def apply_filter_threshold_pair(item_1, item_2, filter, threshold) -> int:\n",
    "    if apply_filter_threshold(item_1, filter, threshold) == apply_filter_threshold(\n",
    "        item_2, filter, threshold\n",
    "    ):\n",
    "        return 1\n",
    "    else:\n",
    "        return -1"
   ]
  },
  {
   "cell_type": "markdown",
   "metadata": {},
   "source": [
    "## Calculate Fingerprint"
   ]
  },
  {
   "cell_type": "code",
   "execution_count": 193,
   "metadata": {},
   "outputs": [],
   "source": [
    "def hamming_distance(array1, array2, confidence):\n",
    "    # Check if arrays have the same length\n",
    "    if len(array1) != len(array2):\n",
    "        raise ValueError(\"Arrays must have the same length\")\n",
    "\n",
    "    # Initialize distance counter\n",
    "    distance = 0\n",
    "\n",
    "    # Iterate through arrays and count differences\n",
    "    for i in range(len(array1)):\n",
    "        if array1[i] != array2[i]:\n",
    "            distance += confidence[i]\n",
    "\n",
    "    distance = (distance / sum(confidence)) * len(confidence)\n",
    "\n",
    "    return distance"
   ]
  },
  {
   "cell_type": "code",
   "execution_count": 194,
   "metadata": {},
   "outputs": [],
   "source": [
    "def calculate_fingerprint(item_1, item_2, best_filters, best_thresholds, confidence):\n",
    "    fingerprint_1 = []\n",
    "    fingerprint_2 = []\n",
    "\n",
    "    for best_filter, best_threshold in zip(best_filters, best_thresholds):\n",
    "        filtered_1 = np.sum(np.multiply(item_1.astype(int), filter_parser(best_filter)))\n",
    "        filtered_2 = np.sum(np.multiply(item_2.astype(int), filter_parser(best_filter)))\n",
    "\n",
    "        if filtered_1 > best_threshold:\n",
    "            filtered_1 = 1\n",
    "        else:\n",
    "            filtered_1 = -1\n",
    "\n",
    "        if filtered_2 > best_threshold:\n",
    "            filtered_2 = 1\n",
    "        else:\n",
    "            filtered_2 = -1\n",
    "\n",
    "        fingerprint_1.append(filtered_1)\n",
    "        fingerprint_2.append(filtered_2)\n",
    "\n",
    "        distance = hamming_distance(fingerprint_1, fingerprint_2, confidence)\n",
    "\n",
    "    return distance"
   ]
  },
  {
   "cell_type": "code",
   "execution_count": 195,
   "metadata": {},
   "outputs": [
    {
     "data": {
      "application/vnd.jupyter.widget-view+json": {
       "model_id": "3c56f478b3a043dda0e681f72321b1a2",
       "version_major": 2,
       "version_minor": 0
      },
      "text/plain": [
       "  0%|          | 0/2000 [00:00<?, ?it/s]"
      ]
     },
     "metadata": {},
     "output_type": "display_data"
    }
   ],
   "source": [
    "for i, row in tqdm(matrix_pairs_df.iterrows(), total=matrix_pairs_df.shape[0]):\n",
    "    # Extracting best filters and thresholds from the main DataFrame (assuming same filters and thresholds for simplicity)\n",
    "    best_filters = best_configs_df[\"Best Filter\"].tolist()\n",
    "    best_thresholds = best_configs_df[\"Best Threshold\"].tolist()\n",
    "    confidence = best_configs_df[\"Confidence\"].tolist()\n",
    "\n",
    "    # Calculate the fingerprint using the relevant best filters and thresholds\n",
    "    fingerprint = calculate_fingerprint(\n",
    "        row[\"Item 1\"], row[\"Item 2\"], best_filters, best_thresholds, confidence\n",
    "    )\n",
    "\n",
    "    # Store the result in the 'distance' column (or any other processing you need)\n",
    "    matrix_pairs_df.at[i, \"h_distance\"] = fingerprint"
   ]
  },
  {
   "cell_type": "markdown",
   "metadata": {},
   "source": [
    "## Thresholding w/ $\\tau$"
   ]
  },
  {
   "cell_type": "code",
   "execution_count": 196,
   "metadata": {},
   "outputs": [],
   "source": [
    "taus = range(1, len(best_configs_df) + 1, 1)"
   ]
  },
  {
   "cell_type": "code",
   "execution_count": 197,
   "metadata": {},
   "outputs": [],
   "source": [
    "for tau in taus:\n",
    "    matrix_pairs_df[f\"tau_{tau}\"] = np.where(matrix_pairs_df[\"h_distance\"] < tau, 1, -1)"
   ]
  },
  {
   "cell_type": "code",
   "execution_count": 198,
   "metadata": {},
   "outputs": [
    {
     "data": {
      "text/html": [
       "<div>\n",
       "<style scoped>\n",
       "    .dataframe tbody tr th:only-of-type {\n",
       "        vertical-align: middle;\n",
       "    }\n",
       "\n",
       "    .dataframe tbody tr th {\n",
       "        vertical-align: top;\n",
       "    }\n",
       "\n",
       "    .dataframe thead th {\n",
       "        text-align: right;\n",
       "    }\n",
       "</style>\n",
       "<table border=\"1\" class=\"dataframe\">\n",
       "  <thead>\n",
       "    <tr style=\"text-align: right;\">\n",
       "      <th></th>\n",
       "      <th>Item 1</th>\n",
       "      <th>Item 2</th>\n",
       "      <th>Equality</th>\n",
       "      <th>h_distance</th>\n",
       "      <th>tau_1</th>\n",
       "      <th>tau_2</th>\n",
       "      <th>tau_3</th>\n",
       "      <th>tau_4</th>\n",
       "    </tr>\n",
       "  </thead>\n",
       "  <tbody>\n",
       "    <tr>\n",
       "      <th>0</th>\n",
       "      <td>[0, 0, 0, 1, 1, 0, 1, 0, 0, 1, 1, 0, 1, 1, 1, ...</td>\n",
       "      <td>[0, 0, 0, 1, 1, 0, 1, 0, 0, 1, 1, 0, 1, 1, 1, ...</td>\n",
       "      <td>1</td>\n",
       "      <td>0.979367</td>\n",
       "      <td>1</td>\n",
       "      <td>1</td>\n",
       "      <td>1</td>\n",
       "      <td>1</td>\n",
       "    </tr>\n",
       "    <tr>\n",
       "      <th>1</th>\n",
       "      <td>[0, 0, 0, 1, 1, 0, 1, 0, 0, 1, 1, 0, 0, 0, 1, ...</td>\n",
       "      <td>[0, 0, 0, 1, 1, 0, 1, 0, 0, 1, 1, 0, 0, 0, 1, ...</td>\n",
       "      <td>1</td>\n",
       "      <td>0.000000</td>\n",
       "      <td>1</td>\n",
       "      <td>1</td>\n",
       "      <td>1</td>\n",
       "      <td>1</td>\n",
       "    </tr>\n",
       "    <tr>\n",
       "      <th>2</th>\n",
       "      <td>[0, 0, 0, 0, 0, 0, 0, 0, 0, 0, 0, 0, 0, 0, 0, ...</td>\n",
       "      <td>[0, 0, 0, 0, 0, 0, 0, 0, 0, 0, 0, 0, 0, 0, 0, ...</td>\n",
       "      <td>1</td>\n",
       "      <td>0.957331</td>\n",
       "      <td>1</td>\n",
       "      <td>1</td>\n",
       "      <td>1</td>\n",
       "      <td>1</td>\n",
       "    </tr>\n",
       "    <tr>\n",
       "      <th>3</th>\n",
       "      <td>[0, 0, 0, 1, 1, 0, 1, 0, 0, 1, 1, 0, 1, 1, 1, ...</td>\n",
       "      <td>[0, 0, 0, 1, 1, 0, 1, 0, 0, 1, 1, 0, 1, 1, 1, ...</td>\n",
       "      <td>1</td>\n",
       "      <td>0.000000</td>\n",
       "      <td>1</td>\n",
       "      <td>1</td>\n",
       "      <td>1</td>\n",
       "      <td>1</td>\n",
       "    </tr>\n",
       "    <tr>\n",
       "      <th>4</th>\n",
       "      <td>[0, 0, 0, 1, 1, 0, 1, 0, 0, 1, 1, 0, 1, 1, 1, ...</td>\n",
       "      <td>[0, 0, 0, 1, 1, 0, 1, 0, 0, 1, 1, 0, 1, 1, 1, ...</td>\n",
       "      <td>1</td>\n",
       "      <td>0.000000</td>\n",
       "      <td>1</td>\n",
       "      <td>1</td>\n",
       "      <td>1</td>\n",
       "      <td>1</td>\n",
       "    </tr>\n",
       "    <tr>\n",
       "      <th>...</th>\n",
       "      <td>...</td>\n",
       "      <td>...</td>\n",
       "      <td>...</td>\n",
       "      <td>...</td>\n",
       "      <td>...</td>\n",
       "      <td>...</td>\n",
       "      <td>...</td>\n",
       "      <td>...</td>\n",
       "    </tr>\n",
       "    <tr>\n",
       "      <th>1995</th>\n",
       "      <td>[0, 0, 0, 1, 1, 0, 1, 0, 1, 0, 1, 0, 1, 1, 0, ...</td>\n",
       "      <td>[0, 0, 0, 1, 1, 0, 1, 0, 0, 0, 1, 0, 1, 1, 0, ...</td>\n",
       "      <td>-1</td>\n",
       "      <td>1.936697</td>\n",
       "      <td>-1</td>\n",
       "      <td>1</td>\n",
       "      <td>1</td>\n",
       "      <td>1</td>\n",
       "    </tr>\n",
       "    <tr>\n",
       "      <th>1996</th>\n",
       "      <td>[0, 0, 0, 1, 1, 0, 1, 0, 1, 0, 1, 0, 1, 1, 0, ...</td>\n",
       "      <td>[0, 0, 0, 1, 1, 0, 1, 0, 0, 1, 1, 0, 1, 1, 1, ...</td>\n",
       "      <td>-1</td>\n",
       "      <td>3.042669</td>\n",
       "      <td>-1</td>\n",
       "      <td>-1</td>\n",
       "      <td>-1</td>\n",
       "      <td>1</td>\n",
       "    </tr>\n",
       "    <tr>\n",
       "      <th>1997</th>\n",
       "      <td>[0, 0, 0, 1, 1, 0, 1, 0, 0, 0, 1, 0, 1, 1, 0, ...</td>\n",
       "      <td>[0, 0, 0, 1, 1, 0, 1, 0, 0, 1, 1, 0, 1, 1, 1, ...</td>\n",
       "      <td>-1</td>\n",
       "      <td>3.020633</td>\n",
       "      <td>-1</td>\n",
       "      <td>-1</td>\n",
       "      <td>-1</td>\n",
       "      <td>1</td>\n",
       "    </tr>\n",
       "    <tr>\n",
       "      <th>1998</th>\n",
       "      <td>[0, 0, 0, 1, 1, 0, 1, 0, 0, 1, 1, 0, 1, 1, 1, ...</td>\n",
       "      <td>[0, 0, 0, 1, 1, 0, 1, 0, 0, 0, 1, 0, 1, 1, 0, ...</td>\n",
       "      <td>-1</td>\n",
       "      <td>4.000000</td>\n",
       "      <td>-1</td>\n",
       "      <td>-1</td>\n",
       "      <td>-1</td>\n",
       "      <td>-1</td>\n",
       "    </tr>\n",
       "    <tr>\n",
       "      <th>1999</th>\n",
       "      <td>[0, 0, 0, 1, 1, 0, 1, 0, 0, 0, 1, 0, 0, 0, 0, ...</td>\n",
       "      <td>[0, 0, 0, 1, 1, 0, 1, 0, 0, 1, 1, 0, 1, 1, 1, ...</td>\n",
       "      <td>-1</td>\n",
       "      <td>2.868416</td>\n",
       "      <td>-1</td>\n",
       "      <td>-1</td>\n",
       "      <td>1</td>\n",
       "      <td>1</td>\n",
       "    </tr>\n",
       "  </tbody>\n",
       "</table>\n",
       "<p>2000 rows × 8 columns</p>\n",
       "</div>"
      ],
      "text/plain": [
       "                                                 Item 1  \\\n",
       "0     [0, 0, 0, 1, 1, 0, 1, 0, 0, 1, 1, 0, 1, 1, 1, ...   \n",
       "1     [0, 0, 0, 1, 1, 0, 1, 0, 0, 1, 1, 0, 0, 0, 1, ...   \n",
       "2     [0, 0, 0, 0, 0, 0, 0, 0, 0, 0, 0, 0, 0, 0, 0, ...   \n",
       "3     [0, 0, 0, 1, 1, 0, 1, 0, 0, 1, 1, 0, 1, 1, 1, ...   \n",
       "4     [0, 0, 0, 1, 1, 0, 1, 0, 0, 1, 1, 0, 1, 1, 1, ...   \n",
       "...                                                 ...   \n",
       "1995  [0, 0, 0, 1, 1, 0, 1, 0, 1, 0, 1, 0, 1, 1, 0, ...   \n",
       "1996  [0, 0, 0, 1, 1, 0, 1, 0, 1, 0, 1, 0, 1, 1, 0, ...   \n",
       "1997  [0, 0, 0, 1, 1, 0, 1, 0, 0, 0, 1, 0, 1, 1, 0, ...   \n",
       "1998  [0, 0, 0, 1, 1, 0, 1, 0, 0, 1, 1, 0, 1, 1, 1, ...   \n",
       "1999  [0, 0, 0, 1, 1, 0, 1, 0, 0, 0, 1, 0, 0, 0, 0, ...   \n",
       "\n",
       "                                                 Item 2  Equality  h_distance  \\\n",
       "0     [0, 0, 0, 1, 1, 0, 1, 0, 0, 1, 1, 0, 1, 1, 1, ...         1    0.979367   \n",
       "1     [0, 0, 0, 1, 1, 0, 1, 0, 0, 1, 1, 0, 0, 0, 1, ...         1    0.000000   \n",
       "2     [0, 0, 0, 0, 0, 0, 0, 0, 0, 0, 0, 0, 0, 0, 0, ...         1    0.957331   \n",
       "3     [0, 0, 0, 1, 1, 0, 1, 0, 0, 1, 1, 0, 1, 1, 1, ...         1    0.000000   \n",
       "4     [0, 0, 0, 1, 1, 0, 1, 0, 0, 1, 1, 0, 1, 1, 1, ...         1    0.000000   \n",
       "...                                                 ...       ...         ...   \n",
       "1995  [0, 0, 0, 1, 1, 0, 1, 0, 0, 0, 1, 0, 1, 1, 0, ...        -1    1.936697   \n",
       "1996  [0, 0, 0, 1, 1, 0, 1, 0, 0, 1, 1, 0, 1, 1, 1, ...        -1    3.042669   \n",
       "1997  [0, 0, 0, 1, 1, 0, 1, 0, 0, 1, 1, 0, 1, 1, 1, ...        -1    3.020633   \n",
       "1998  [0, 0, 0, 1, 1, 0, 1, 0, 0, 0, 1, 0, 1, 1, 0, ...        -1    4.000000   \n",
       "1999  [0, 0, 0, 1, 1, 0, 1, 0, 0, 1, 1, 0, 1, 1, 1, ...        -1    2.868416   \n",
       "\n",
       "      tau_1  tau_2  tau_3  tau_4  \n",
       "0         1      1      1      1  \n",
       "1         1      1      1      1  \n",
       "2         1      1      1      1  \n",
       "3         1      1      1      1  \n",
       "4         1      1      1      1  \n",
       "...     ...    ...    ...    ...  \n",
       "1995     -1      1      1      1  \n",
       "1996     -1     -1     -1      1  \n",
       "1997     -1     -1     -1      1  \n",
       "1998     -1     -1     -1     -1  \n",
       "1999     -1     -1      1      1  \n",
       "\n",
       "[2000 rows x 8 columns]"
      ]
     },
     "execution_count": 198,
     "metadata": {},
     "output_type": "execute_result"
    }
   ],
   "source": [
    "matrix_pairs_df"
   ]
  },
  {
   "cell_type": "markdown",
   "metadata": {},
   "source": [
    "## ROC"
   ]
  },
  {
   "cell_type": "code",
   "execution_count": 199,
   "metadata": {},
   "outputs": [
    {
     "data": {
      "image/png": "[encoded data removed]",
      "text/plain": [
       "<Figure size 1000x600 with 1 Axes>"
      ]
     },
     "metadata": {},
     "output_type": "display_data"
    }
   ],
   "source": [
    "import pandas as pd\n",
    "from sklearn.metrics import roc_curve, roc_auc_score\n",
    "import matplotlib.pyplot as plt\n",
    "import numpy as np\n",
    "from scipy.interpolate import interp1d\n",
    "\n",
    "# Assuming matrix_pairs_df is your DataFrame\n",
    "# True labels\n",
    "y_true = matrix_pairs_df[\"Equality\"]\n",
    "\n",
    "plt.figure(figsize=(10, 6))\n",
    "\n",
    "# Loop through each prediction column\n",
    "for column in matrix_pairs_df.columns:\n",
    "    if column.startswith(\"tau_\"):\n",
    "        # Predicted scores\n",
    "        y_scores = matrix_pairs_df[column]\n",
    "\n",
    "        # Compute ROC curve and ROC area\n",
    "        fpr, tpr, thresholds = roc_curve(y_true, y_scores)\n",
    "        roc_auc = roc_auc_score(y_true, y_scores)\n",
    "\n",
    "        # Smooth the ROC curve using linear interpolation\n",
    "        x_new = np.linspace(\n",
    "            fpr.min(), fpr.max(), 300\n",
    "        )  # Increase the number of points for smooth curve\n",
    "        f = interp1d(fpr, tpr, kind=\"linear\")  # Linear interpolation\n",
    "        tpr_smooth = f(x_new)\n",
    "\n",
    "        # Plot ROC curve\n",
    "        plt.plot(x_new, tpr_smooth, lw=2, label=f\"{column} (area = %0.2f)\" % roc_auc)\n",
    "\n",
    "# Plot the diagonal line\n",
    "plt.plot([0, 1], [0, 1], color=\"grey\", lw=2, linestyle=\"--\")\n",
    "\n",
    "# Customize the plot\n",
    "plt.xlim([0.0, 1.0])\n",
    "plt.ylim([0.0, 1.05])\n",
    "plt.xlabel(\"False Positive Rate\")\n",
    "plt.ylabel(\"True Positive Rate\")\n",
    "plt.title(\"Receiver Operating Characteristic (ROC) Curve\")\n",
    "plt.legend(loc=\"lower right\")\n",
    "plt.grid(True)  # Add grid\n",
    "plt.show()"
   ]
  },
  {
   "cell_type": "code",
   "execution_count": 212,
   "metadata": {},
   "outputs": [],
   "source": [
    "smoothness = 7"
   ]
  },
  {
   "cell_type": "code",
   "execution_count": 213,
   "metadata": {},
   "outputs": [
    {
     "data": {
      "image/png": "[encoded data removed]",
      "text/plain": [
       "<Figure size 1000x600 with 1 Axes>"
      ]
     },
     "metadata": {},
     "output_type": "display_data"
    }
   ],
   "source": [
    "from scipy.ndimage import gaussian_filter1d\n",
    "\n",
    "# Smooth the average TPR curve by averaging across columns\n",
    "smooth_avg_tpr = np.mean(tpr_list, axis=0)\n",
    "\n",
    "# Apply Gaussian filter to smooth the average TPR curve\n",
    "smooth_avg_tpr_smooth = gaussian_filter1d(smooth_avg_tpr, sigma=smoothness)\n",
    "\n",
    "# Apply Gaussian filter to smooth the min and max TPR curves\n",
    "min_tpr_smooth_smooth = gaussian_filter1d(min_tpr_smooth, sigma=smoothness)\n",
    "max_tpr_smooth_smooth = gaussian_filter1d(max_tpr_smooth, sigma=smoothness)\n",
    "\n",
    "# Plot the average ROC curve with seaborn\n",
    "plt.figure(figsize=(10, 6))\n",
    "\n",
    "sns.lineplot(\n",
    "    x=fpr_list[0],\n",
    "    y=smooth_avg_tpr_smooth,\n",
    "    label=f\"Average ROC Curve (area = {avg_auc:.2f})\",\n",
    "    color=\"blue\",\n",
    "    linestyle=\"--\",\n",
    ")\n",
    "\n",
    "# Plot the filled area between min and max TPR\n",
    "plt.fill_between(\n",
    "    x_new_max,\n",
    "    min_tpr_smooth_smooth,\n",
    "    max_tpr_smooth_smooth,\n",
    "    color=\"blue\",\n",
    "    alpha=0.2,\n",
    "    label=\"Min/Max TPR range\",\n",
    ")\n",
    "\n",
    "# Plot the maximum ROC curve\n",
    "sns.lineplot(\n",
    "    x=x_new_max,\n",
    "    y=max_tpr_smooth_smooth,\n",
    "    label=f\"Max ROC Curve {max_column} (area = {max_auc:.2f})\",\n",
    "    color=\"red\",\n",
    ")\n",
    "\n",
    "# Plot the diagonal line\n",
    "plt.plot([0, 1], [0, 1], color=\"grey\", lw=2, linestyle=\"dotted\")\n",
    "\n",
    "# Customize the plot\n",
    "plt.xlim([0.0, 1.0])\n",
    "plt.ylim([0.0, 1.0])\n",
    "plt.xlabel(\"False Positive Rate\")\n",
    "plt.ylabel(\"True Positive Rate\")\n",
    "plt.title(\"Receiver Operating Characteristic (ROC) Curve\")\n",
    "plt.legend(loc=\"lower right\")\n",
    "plt.grid(True)\n",
    "plt.show()"
   ]
  },
  {
   "cell_type": "code",
   "execution_count": null,
   "metadata": {},
   "outputs": [],
   "source": []
  }
 ],
 "metadata": {
  "kernelspec": {
   "display_name": ".venv",
   "language": "python",
   "name": "python3"
  },
  "language_info": {
   "codemirror_mode": {
    "name": "ipython",
    "version": 3
   },
   "file_extension": ".py",
   "mimetype": "text/x-python",
   "name": "python",
   "nbconvert_exporter": "python",
   "pygments_lexer": "ipython3",
   "version": "3.11.9"
  }
 },
 "nbformat": 4,
 "nbformat_minor": 2
}
