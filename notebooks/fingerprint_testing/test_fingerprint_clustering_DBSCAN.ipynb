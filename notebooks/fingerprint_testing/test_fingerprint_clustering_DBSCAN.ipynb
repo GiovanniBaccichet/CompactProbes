{
 "cells": [
  {
   "cell_type": "code",
   "execution_count": 28,
   "metadata": {},
   "outputs": [],
   "source": [
    "M = 16"
   ]
  },
  {
   "cell_type": "code",
   "execution_count": 29,
   "metadata": {},
   "outputs": [],
   "source": [
    "import re\n",
    "\n",
    "import numpy as np\n",
    "import pandas as pd"
   ]
  },
  {
   "cell_type": "code",
   "execution_count": 30,
   "metadata": {},
   "outputs": [],
   "source": [
    "from tqdm.autonotebook import tqdm"
   ]
  },
  {
   "cell_type": "markdown",
   "metadata": {},
   "source": [
    "## Importing Datasets"
   ]
  },
  {
   "cell_type": "code",
   "execution_count": 31,
   "metadata": {},
   "outputs": [],
   "source": [
    "string_df = pd.read_csv(\"../../data/interim/string_df.csv\", index_col=0)\n",
    "\n",
    "balanced_pairs_df = pd.read_csv(\"../../data/train_test/test_pairs.csv\", index_col=0)\n",
    "\n",
    "balanced_pairs_df.drop_duplicates(inplace=True)\n",
    "balanced_pairs_df.reset_index(drop=True, inplace=True)"
   ]
  },
  {
   "cell_type": "code",
   "execution_count": 32,
   "metadata": {},
   "outputs": [
    {
     "data": {
      "text/html": [
       "<div>\n",
       "<style scoped>\n",
       "    .dataframe tbody tr th:only-of-type {\n",
       "        vertical-align: middle;\n",
       "    }\n",
       "\n",
       "    .dataframe tbody tr th {\n",
       "        vertical-align: top;\n",
       "    }\n",
       "\n",
       "    .dataframe thead th {\n",
       "        text-align: right;\n",
       "    }\n",
       "</style>\n",
       "<table border=\"1\" class=\"dataframe\">\n",
       "  <thead>\n",
       "    <tr style=\"text-align: right;\">\n",
       "      <th></th>\n",
       "      <th>concatenated</th>\n",
       "    </tr>\n",
       "    <tr>\n",
       "      <th>label</th>\n",
       "      <th></th>\n",
       "    </tr>\n",
       "  </thead>\n",
       "  <tbody>\n",
       "    <tr>\n",
       "      <th>GooglePixel3A_L</th>\n",
       "      <td>0000000000000000000000000000000000000000000000...</td>\n",
       "    </tr>\n",
       "    <tr>\n",
       "      <th>GooglePixel3A_L</th>\n",
       "      <td>0000000000000000000000000000000000000000000000...</td>\n",
       "    </tr>\n",
       "    <tr>\n",
       "      <th>GooglePixel3A_L</th>\n",
       "      <td>0000000000000000000000000000000000000000000000...</td>\n",
       "    </tr>\n",
       "    <tr>\n",
       "      <th>GooglePixel3A_L</th>\n",
       "      <td>0000000000000000000000000000000000000000000000...</td>\n",
       "    </tr>\n",
       "    <tr>\n",
       "      <th>GooglePixel3A_L</th>\n",
       "      <td>0000000000000000000000000000000000000000000000...</td>\n",
       "    </tr>\n",
       "    <tr>\n",
       "      <th>...</th>\n",
       "      <td>...</td>\n",
       "    </tr>\n",
       "    <tr>\n",
       "      <th>iPhoneXSMax_M</th>\n",
       "      <td>0001101000101101000000000001101111111111000000...</td>\n",
       "    </tr>\n",
       "    <tr>\n",
       "      <th>iPhoneXSMax_M</th>\n",
       "      <td>0001101000101101010000000001101111111111000000...</td>\n",
       "    </tr>\n",
       "    <tr>\n",
       "      <th>iPhoneXSMax_M</th>\n",
       "      <td>0001101000101101000000000001101111111111000000...</td>\n",
       "    </tr>\n",
       "    <tr>\n",
       "      <th>iPhoneXSMax_M</th>\n",
       "      <td>0001101000101101010000000001101111111111000000...</td>\n",
       "    </tr>\n",
       "    <tr>\n",
       "      <th>iPhoneXSMax_M</th>\n",
       "      <td>0001101000101101010000000001101111111111000000...</td>\n",
       "    </tr>\n",
       "  </tbody>\n",
       "</table>\n",
       "<p>956 rows × 1 columns</p>\n",
       "</div>"
      ],
      "text/plain": [
       "                                                      concatenated\n",
       "label                                                             \n",
       "GooglePixel3A_L  0000000000000000000000000000000000000000000000...\n",
       "GooglePixel3A_L  0000000000000000000000000000000000000000000000...\n",
       "GooglePixel3A_L  0000000000000000000000000000000000000000000000...\n",
       "GooglePixel3A_L  0000000000000000000000000000000000000000000000...\n",
       "GooglePixel3A_L  0000000000000000000000000000000000000000000000...\n",
       "...                                                            ...\n",
       "iPhoneXSMax_M    0001101000101101000000000001101111111111000000...\n",
       "iPhoneXSMax_M    0001101000101101010000000001101111111111000000...\n",
       "iPhoneXSMax_M    0001101000101101000000000001101111111111000000...\n",
       "iPhoneXSMax_M    0001101000101101010000000001101111111111000000...\n",
       "iPhoneXSMax_M    0001101000101101010000000001101111111111000000...\n",
       "\n",
       "[956 rows x 1 columns]"
      ]
     },
     "execution_count": 32,
     "metadata": {},
     "output_type": "execute_result"
    }
   ],
   "source": [
    "string_df"
   ]
  },
  {
   "cell_type": "code",
   "execution_count": 33,
   "metadata": {},
   "outputs": [],
   "source": [
    "string_df[\"concatenated\"] = string_df[\"concatenated\"].apply(\n",
    "    lambda x: np.array(list(x)).astype(int)\n",
    ")"
   ]
  },
  {
   "cell_type": "markdown",
   "metadata": {},
   "source": [
    "## Importing Best Configurations"
   ]
  },
  {
   "cell_type": "code",
   "execution_count": 34,
   "metadata": {},
   "outputs": [],
   "source": [
    "import re\n",
    "import pandas as pd\n",
    "\n",
    "\n",
    "def parse_log_file(filename):\n",
    "    data = []\n",
    "\n",
    "    with open(filename, \"r\") as file:\n",
    "        lines = file.readlines()\n",
    "\n",
    "        current_filter = None\n",
    "        current_threshold = None\n",
    "        current_min_error = None\n",
    "        current_confidence = None\n",
    "\n",
    "        for line in lines:\n",
    "            if \"Best Filter\" in line:\n",
    "                # Extract Best Filter using regex\n",
    "                filter_match = re.search(r\"Best Filter: (.+)\", line)\n",
    "                if filter_match:\n",
    "                    current_filter = filter_match.group(1).strip()\n",
    "\n",
    "            elif \"Best Threshold\" in line:\n",
    "                # Extract Best Threshold using regex\n",
    "                threshold_match = re.search(r\"Best Threshold: (.+)\", line)\n",
    "                if threshold_match:\n",
    "                    current_threshold = int(threshold_match.group(1).strip())\n",
    "\n",
    "            elif \"Min error\" in line:\n",
    "                # Extract Min Error using regex\n",
    "                min_error_match = re.search(r\"Min error: (.+)\", line)\n",
    "                if min_error_match:\n",
    "                    current_min_error = float(min_error_match.group(1).strip())\n",
    "\n",
    "            elif \"Confidence\" in line:\n",
    "                # Extract Confidence using regex\n",
    "                confidence_match = re.search(r\"Confidence: (.+)\", line)\n",
    "                if confidence_match:\n",
    "                    current_confidence = float(confidence_match.group(1).strip())\n",
    "\n",
    "                    # Once we have all values, create a tuple and add it to the data list\n",
    "                    data.append(\n",
    "                        (\n",
    "                            current_filter,\n",
    "                            current_threshold,\n",
    "                            current_min_error,\n",
    "                            current_confidence,\n",
    "                        )\n",
    "                    )\n",
    "\n",
    "                    # Reset current values for the next entry\n",
    "                    current_filter = None\n",
    "                    current_threshold = None\n",
    "                    current_min_error = None\n",
    "                    current_confidence = None\n",
    "\n",
    "    # Convert the list of tuples into a DataFrame\n",
    "    df = pd.DataFrame(\n",
    "        data, columns=[\"Best Filter\", \"Best Threshold\", \"Min Error\", \"Confidence\"]\n",
    "    )\n",
    "\n",
    "    return df"
   ]
  },
  {
   "cell_type": "code",
   "execution_count": 35,
   "metadata": {},
   "outputs": [],
   "source": [
    "# Usage example:\n",
    "filename = \"../../reports/best_config\"\n",
    "best_configs_df = parse_log_file(filename)"
   ]
  },
  {
   "cell_type": "code",
   "execution_count": 36,
   "metadata": {},
   "outputs": [
    {
     "data": {
      "text/html": [
       "<div>\n",
       "<style scoped>\n",
       "    .dataframe tbody tr th:only-of-type {\n",
       "        vertical-align: middle;\n",
       "    }\n",
       "\n",
       "    .dataframe tbody tr th {\n",
       "        vertical-align: top;\n",
       "    }\n",
       "\n",
       "    .dataframe thead th {\n",
       "        text-align: right;\n",
       "    }\n",
       "</style>\n",
       "<table border=\"1\" class=\"dataframe\">\n",
       "  <thead>\n",
       "    <tr style=\"text-align: right;\">\n",
       "      <th></th>\n",
       "      <th>Best Filter</th>\n",
       "      <th>Best Threshold</th>\n",
       "      <th>Min Error</th>\n",
       "      <th>Confidence</th>\n",
       "    </tr>\n",
       "  </thead>\n",
       "  <tbody>\n",
       "    <tr>\n",
       "      <th>0</th>\n",
       "      <td>0[304] 🀆🀆🀆🀆🀆🀆🀆🀆🀫🀫🀫🀫🀫🀫🀫🀫 0[1464]</td>\n",
       "      <td>1</td>\n",
       "      <td>0.453672</td>\n",
       "      <td>0.185844</td>\n",
       "    </tr>\n",
       "    <tr>\n",
       "      <th>1</th>\n",
       "      <td>0[1752] 🀆🀆🀆🀆🀫🀫🀫🀫 0[24]</td>\n",
       "      <td>1</td>\n",
       "      <td>0.459875</td>\n",
       "      <td>0.160845</td>\n",
       "    </tr>\n",
       "    <tr>\n",
       "      <th>2</th>\n",
       "      <td>0[328] 🀫🀫🀫🀫🀆🀆🀆🀆 0[1448]</td>\n",
       "      <td>1</td>\n",
       "      <td>0.460774</td>\n",
       "      <td>0.157226</td>\n",
       "    </tr>\n",
       "    <tr>\n",
       "      <th>3</th>\n",
       "      <td>0[304] 🀫🀫🀫🀫🀫🀫🀫🀫🀫🀫🀫🀫🀫🀫🀫🀫 0[1464]</td>\n",
       "      <td>2</td>\n",
       "      <td>0.461820</td>\n",
       "      <td>0.153019</td>\n",
       "    </tr>\n",
       "    <tr>\n",
       "      <th>4</th>\n",
       "      <td>0[1664] 🀫🀫🀫🀫🀫🀫🀫🀫🀫🀫🀫🀫🀫🀫🀫🀫 0[104]</td>\n",
       "      <td>1</td>\n",
       "      <td>0.459515</td>\n",
       "      <td>0.162296</td>\n",
       "    </tr>\n",
       "    <tr>\n",
       "      <th>...</th>\n",
       "      <td>...</td>\n",
       "      <td>...</td>\n",
       "      <td>...</td>\n",
       "      <td>...</td>\n",
       "    </tr>\n",
       "    <tr>\n",
       "      <th>203</th>\n",
       "      <td>0[808] 🀫🀫🀫🀫🀫🀫🀫🀫 0[968]</td>\n",
       "      <td>1</td>\n",
       "      <td>0.288404</td>\n",
       "      <td>0.903146</td>\n",
       "    </tr>\n",
       "    <tr>\n",
       "      <th>204</th>\n",
       "      <td>0[1696] 🀫🀫🀫🀫🀆🀆🀆🀆 0[80]</td>\n",
       "      <td>1</td>\n",
       "      <td>0.288404</td>\n",
       "      <td>0.903146</td>\n",
       "    </tr>\n",
       "    <tr>\n",
       "      <th>205</th>\n",
       "      <td>0[1424] 🀫🀫🀫🀫🀆🀆🀆🀆 0[352]</td>\n",
       "      <td>1</td>\n",
       "      <td>0.288404</td>\n",
       "      <td>0.903146</td>\n",
       "    </tr>\n",
       "    <tr>\n",
       "      <th>206</th>\n",
       "      <td>0[72] 🀫🀫🀫🀫🀫🀫🀫🀫 0[1704]</td>\n",
       "      <td>1</td>\n",
       "      <td>0.288404</td>\n",
       "      <td>0.903146</td>\n",
       "    </tr>\n",
       "    <tr>\n",
       "      <th>207</th>\n",
       "      <td>0[208] 🀆🀆🀆🀆🀫🀫🀫🀫 0[1568]</td>\n",
       "      <td>1</td>\n",
       "      <td>0.288404</td>\n",
       "      <td>0.903146</td>\n",
       "    </tr>\n",
       "  </tbody>\n",
       "</table>\n",
       "<p>208 rows × 4 columns</p>\n",
       "</div>"
      ],
      "text/plain": [
       "                         Best Filter  Best Threshold  Min Error  Confidence\n",
       "0    0[304] 🀆🀆🀆🀆🀆🀆🀆🀆🀫🀫🀫🀫🀫🀫🀫🀫 0[1464]               1   0.453672    0.185844\n",
       "1             0[1752] 🀆🀆🀆🀆🀫🀫🀫🀫 0[24]               1   0.459875    0.160845\n",
       "2            0[328] 🀫🀫🀫🀫🀆🀆🀆🀆 0[1448]               1   0.460774    0.157226\n",
       "3    0[304] 🀫🀫🀫🀫🀫🀫🀫🀫🀫🀫🀫🀫🀫🀫🀫🀫 0[1464]               2   0.461820    0.153019\n",
       "4    0[1664] 🀫🀫🀫🀫🀫🀫🀫🀫🀫🀫🀫🀫🀫🀫🀫🀫 0[104]               1   0.459515    0.162296\n",
       "..                               ...             ...        ...         ...\n",
       "203           0[808] 🀫🀫🀫🀫🀫🀫🀫🀫 0[968]               1   0.288404    0.903146\n",
       "204           0[1696] 🀫🀫🀫🀫🀆🀆🀆🀆 0[80]               1   0.288404    0.903146\n",
       "205          0[1424] 🀫🀫🀫🀫🀆🀆🀆🀆 0[352]               1   0.288404    0.903146\n",
       "206           0[72] 🀫🀫🀫🀫🀫🀫🀫🀫 0[1704]               1   0.288404    0.903146\n",
       "207          0[208] 🀆🀆🀆🀆🀫🀫🀫🀫 0[1568]               1   0.288404    0.903146\n",
       "\n",
       "[208 rows x 4 columns]"
      ]
     },
     "execution_count": 36,
     "metadata": {},
     "output_type": "execute_result"
    }
   ],
   "source": [
    "best_configs_df"
   ]
  },
  {
   "cell_type": "code",
   "execution_count": 37,
   "metadata": {},
   "outputs": [],
   "source": [
    "if M != 0:\n",
    "    best_configs_df = best_configs_df.head(M)\n",
    "\n",
    "if M == 0:\n",
    "    M = len(best_configs_df)"
   ]
  },
  {
   "cell_type": "code",
   "execution_count": 38,
   "metadata": {},
   "outputs": [
    {
     "name": "stdout",
     "output_type": "stream",
     "text": [
      "Compression Rate: 111.5\n"
     ]
    }
   ],
   "source": [
    "compression_rate = len(string_df[\"concatenated\"].iloc[0]) / best_configs_df.shape[0]\n",
    "\n",
    "print(\"Compression Rate:\", compression_rate)"
   ]
  },
  {
   "cell_type": "markdown",
   "metadata": {},
   "source": [
    "## Generate Matrix"
   ]
  },
  {
   "cell_type": "markdown",
   "metadata": {},
   "source": [
    "## Filters Parser"
   ]
  },
  {
   "cell_type": "code",
   "execution_count": 39,
   "metadata": {},
   "outputs": [],
   "source": [
    "def filter_parser(input_string: str) -> list:\n",
    "    # Split the string into its parts\n",
    "    parts = input_string.split()\n",
    "\n",
    "    # Initialize the final array\n",
    "    result = []\n",
    "\n",
    "    # Process each part\n",
    "    for part in parts:\n",
    "        if part.startswith(\"0[\"):\n",
    "            # Extract the number inside the brackets\n",
    "            count = int(part[2:-1])\n",
    "            # Append the corresponding number of zeros to the result\n",
    "            result.extend([0] * count)\n",
    "        else:\n",
    "            # Translate the tiles to their respective values\n",
    "            for char in part:\n",
    "                if char == \"🀆\":\n",
    "                    result.append(-1)\n",
    "                elif char == \"🀫\":\n",
    "                    result.append(1)\n",
    "\n",
    "    return result"
   ]
  },
  {
   "cell_type": "code",
   "execution_count": 40,
   "metadata": {},
   "outputs": [],
   "source": [
    "# import time\n",
    "\n",
    "# time.sleep(100)"
   ]
  },
  {
   "cell_type": "markdown",
   "metadata": {},
   "source": [
    "## Apply Filters"
   ]
  },
  {
   "cell_type": "code",
   "execution_count": 41,
   "metadata": {},
   "outputs": [],
   "source": [
    "def apply_filter(item, filter):\n",
    "    # item = np.array(list(item)).astype(int)\n",
    "    item = item.astype(int)\n",
    "    filter = filter_parser(filter)\n",
    "    return np.sum(np.multiply(item, filter))"
   ]
  },
  {
   "cell_type": "code",
   "execution_count": 42,
   "metadata": {},
   "outputs": [],
   "source": [
    "def apply_filter_threshold(item, filter, threshold) -> int:\n",
    "    if apply_filter(item, filter) > threshold:\n",
    "        return 1\n",
    "    else:\n",
    "        return -1"
   ]
  },
  {
   "cell_type": "code",
   "execution_count": 43,
   "metadata": {},
   "outputs": [],
   "source": [
    "def apply_filter_threshold_pair(item_1, item_2, filter, threshold) -> int:\n",
    "    if apply_filter_threshold(item_1, filter, threshold) == apply_filter_threshold(\n",
    "        item_2, filter, threshold\n",
    "    ):\n",
    "        return 1\n",
    "    else:\n",
    "        return -1"
   ]
  },
  {
   "cell_type": "markdown",
   "metadata": {},
   "source": [
    "## Calculate Fingerprint"
   ]
  },
  {
   "cell_type": "code",
   "execution_count": 44,
   "metadata": {},
   "outputs": [],
   "source": [
    "def hamming_distance(array1, array2, confidence):\n",
    "    # Check if arrays have the same length\n",
    "    if len(array1) != len(array2):\n",
    "        raise ValueError(\"Arrays must have the same length\")\n",
    "\n",
    "    # Initialize distance counter\n",
    "    distance = 0\n",
    "\n",
    "    # Iterate through arrays and count differences\n",
    "    for i in range(len(array1)):\n",
    "        if array1[i] != array2[i]:\n",
    "            distance += confidence[i]\n",
    "\n",
    "    distance = (distance / sum(confidence)) * len(confidence)\n",
    "\n",
    "    return distance"
   ]
  },
  {
   "cell_type": "code",
   "execution_count": 45,
   "metadata": {},
   "outputs": [],
   "source": [
    "def calculate_fingerprint(item, best_filters, best_thresholds, confidence):\n",
    "    fingerprint = []\n",
    "\n",
    "    for best_filter, best_threshold in zip(best_filters, best_thresholds):\n",
    "        filtered = np.sum(np.multiply(item.astype(int), filter_parser(best_filter)))\n",
    "\n",
    "        if filtered > best_threshold:\n",
    "            filtered = 1\n",
    "        else:\n",
    "            filtered = -1\n",
    "\n",
    "        fingerprint.append(filtered)\n",
    "\n",
    "    return fingerprint"
   ]
  },
  {
   "cell_type": "code",
   "execution_count": 46,
   "metadata": {},
   "outputs": [],
   "source": [
    "fingerprints = []"
   ]
  },
  {
   "cell_type": "code",
   "execution_count": 47,
   "metadata": {},
   "outputs": [
    {
     "data": {
      "application/vnd.jupyter.widget-view+json": {
       "model_id": "e225a073c169417f94452d372f48d2e2",
       "version_major": 2,
       "version_minor": 0
      },
      "text/plain": [
       "  0%|          | 0/956 [00:00<?, ?it/s]"
      ]
     },
     "metadata": {},
     "output_type": "display_data"
    }
   ],
   "source": [
    "for i, row in tqdm(string_df.iterrows(), total=string_df.shape[0]):\n",
    "    # Extracting best filters and thresholds from the main DataFrame\n",
    "    best_filters = best_configs_df[\"Best Filter\"].tolist()\n",
    "    best_thresholds = best_configs_df[\"Best Threshold\"].tolist()\n",
    "    confidence = best_configs_df[\"Confidence\"].tolist()\n",
    "\n",
    "    # Calculate the fingerprint using the relevant best filters and thresholds\n",
    "    fingerprint = calculate_fingerprint(\n",
    "        row[\"concatenated\"], best_filters, best_thresholds, confidence\n",
    "    )\n",
    "\n",
    "    # Store the result in the 'fprint' column\n",
    "    # string_df.at[i, \"fprint\"] = fingerprint\n",
    "    fingerprints.append(fingerprint)"
   ]
  },
  {
   "cell_type": "code",
   "execution_count": 48,
   "metadata": {},
   "outputs": [],
   "source": [
    "string_df[\"fprint\"] = fingerprints"
   ]
  },
  {
   "cell_type": "markdown",
   "metadata": {},
   "source": [
    "## Clustering"
   ]
  },
  {
   "cell_type": "code",
   "execution_count": 49,
   "metadata": {},
   "outputs": [],
   "source": [
    "string_df = string_df.reset_index()"
   ]
  },
  {
   "cell_type": "code",
   "execution_count": 50,
   "metadata": {},
   "outputs": [
    {
     "data": {
      "text/html": [
       "<div>\n",
       "<style scoped>\n",
       "    .dataframe tbody tr th:only-of-type {\n",
       "        vertical-align: middle;\n",
       "    }\n",
       "\n",
       "    .dataframe tbody tr th {\n",
       "        vertical-align: top;\n",
       "    }\n",
       "\n",
       "    .dataframe thead th {\n",
       "        text-align: right;\n",
       "    }\n",
       "</style>\n",
       "<table border=\"1\" class=\"dataframe\">\n",
       "  <thead>\n",
       "    <tr style=\"text-align: right;\">\n",
       "      <th></th>\n",
       "      <th>label</th>\n",
       "      <th>concatenated</th>\n",
       "      <th>fprint</th>\n",
       "    </tr>\n",
       "  </thead>\n",
       "  <tbody>\n",
       "    <tr>\n",
       "      <th>0</th>\n",
       "      <td>GooglePixel3A_L</td>\n",
       "      <td>[0, 0, 0, 0, 0, 0, 0, 0, 0, 0, 0, 0, 0, 0, 0, ...</td>\n",
       "      <td>[1, 1, 1, 1, -1, 1, 1, -1, 1, 1, -1, -1, 1, -1...</td>\n",
       "    </tr>\n",
       "    <tr>\n",
       "      <th>1</th>\n",
       "      <td>GooglePixel3A_L</td>\n",
       "      <td>[0, 0, 0, 0, 0, 0, 0, 0, 0, 0, 0, 0, 0, 0, 0, ...</td>\n",
       "      <td>[1, 1, 1, 1, 1, 1, 1, -1, 1, 1, -1, -1, 1, -1,...</td>\n",
       "    </tr>\n",
       "    <tr>\n",
       "      <th>2</th>\n",
       "      <td>GooglePixel3A_L</td>\n",
       "      <td>[0, 0, 0, 0, 0, 0, 0, 0, 0, 0, 0, 0, 0, 0, 0, ...</td>\n",
       "      <td>[1, 1, -1, 1, -1, 1, 1, -1, 1, 1, -1, -1, 1, -...</td>\n",
       "    </tr>\n",
       "    <tr>\n",
       "      <th>3</th>\n",
       "      <td>GooglePixel3A_L</td>\n",
       "      <td>[0, 0, 0, 0, 0, 0, 0, 0, 0, 0, 0, 0, 0, 0, 0, ...</td>\n",
       "      <td>[1, 1, 1, 1, 1, 1, 1, -1, 1, 1, -1, -1, 1, -1,...</td>\n",
       "    </tr>\n",
       "    <tr>\n",
       "      <th>4</th>\n",
       "      <td>GooglePixel3A_L</td>\n",
       "      <td>[0, 0, 0, 0, 0, 0, 0, 0, 0, 0, 0, 0, 0, 0, 0, ...</td>\n",
       "      <td>[1, 1, 1, 1, -1, 1, 1, -1, 1, 1, -1, -1, 1, -1...</td>\n",
       "    </tr>\n",
       "    <tr>\n",
       "      <th>...</th>\n",
       "      <td>...</td>\n",
       "      <td>...</td>\n",
       "      <td>...</td>\n",
       "    </tr>\n",
       "    <tr>\n",
       "      <th>951</th>\n",
       "      <td>iPhoneXSMax_M</td>\n",
       "      <td>[0, 0, 0, 1, 1, 0, 1, 0, 0, 0, 1, 0, 1, 1, 0, ...</td>\n",
       "      <td>[-1, 1, -1, -1, -1, -1, 1, -1, 1, 1, 1, -1, -1...</td>\n",
       "    </tr>\n",
       "    <tr>\n",
       "      <th>952</th>\n",
       "      <td>iPhoneXSMax_M</td>\n",
       "      <td>[0, 0, 0, 1, 1, 0, 1, 0, 0, 0, 1, 0, 1, 1, 0, ...</td>\n",
       "      <td>[-1, -1, -1, -1, -1, -1, -1, 1, -1, -1, 1, -1,...</td>\n",
       "    </tr>\n",
       "    <tr>\n",
       "      <th>953</th>\n",
       "      <td>iPhoneXSMax_M</td>\n",
       "      <td>[0, 0, 0, 1, 1, 0, 1, 0, 0, 0, 1, 0, 1, 1, 0, ...</td>\n",
       "      <td>[-1, -1, -1, -1, -1, -1, 1, -1, -1, 1, 1, -1, ...</td>\n",
       "    </tr>\n",
       "    <tr>\n",
       "      <th>954</th>\n",
       "      <td>iPhoneXSMax_M</td>\n",
       "      <td>[0, 0, 0, 1, 1, 0, 1, 0, 0, 0, 1, 0, 1, 1, 0, ...</td>\n",
       "      <td>[-1, 1, -1, -1, 1, -1, 1, 1, 1, 1, 1, -1, -1, ...</td>\n",
       "    </tr>\n",
       "    <tr>\n",
       "      <th>955</th>\n",
       "      <td>iPhoneXSMax_M</td>\n",
       "      <td>[0, 0, 0, 1, 1, 0, 1, 0, 0, 0, 1, 0, 1, 1, 0, ...</td>\n",
       "      <td>[-1, 1, -1, -1, 1, -1, 1, 1, 1, 1, 1, -1, -1, ...</td>\n",
       "    </tr>\n",
       "  </tbody>\n",
       "</table>\n",
       "<p>956 rows × 3 columns</p>\n",
       "</div>"
      ],
      "text/plain": [
       "               label                                       concatenated  \\\n",
       "0    GooglePixel3A_L  [0, 0, 0, 0, 0, 0, 0, 0, 0, 0, 0, 0, 0, 0, 0, ...   \n",
       "1    GooglePixel3A_L  [0, 0, 0, 0, 0, 0, 0, 0, 0, 0, 0, 0, 0, 0, 0, ...   \n",
       "2    GooglePixel3A_L  [0, 0, 0, 0, 0, 0, 0, 0, 0, 0, 0, 0, 0, 0, 0, ...   \n",
       "3    GooglePixel3A_L  [0, 0, 0, 0, 0, 0, 0, 0, 0, 0, 0, 0, 0, 0, 0, ...   \n",
       "4    GooglePixel3A_L  [0, 0, 0, 0, 0, 0, 0, 0, 0, 0, 0, 0, 0, 0, 0, ...   \n",
       "..               ...                                                ...   \n",
       "951    iPhoneXSMax_M  [0, 0, 0, 1, 1, 0, 1, 0, 0, 0, 1, 0, 1, 1, 0, ...   \n",
       "952    iPhoneXSMax_M  [0, 0, 0, 1, 1, 0, 1, 0, 0, 0, 1, 0, 1, 1, 0, ...   \n",
       "953    iPhoneXSMax_M  [0, 0, 0, 1, 1, 0, 1, 0, 0, 0, 1, 0, 1, 1, 0, ...   \n",
       "954    iPhoneXSMax_M  [0, 0, 0, 1, 1, 0, 1, 0, 0, 0, 1, 0, 1, 1, 0, ...   \n",
       "955    iPhoneXSMax_M  [0, 0, 0, 1, 1, 0, 1, 0, 0, 0, 1, 0, 1, 1, 0, ...   \n",
       "\n",
       "                                                fprint  \n",
       "0    [1, 1, 1, 1, -1, 1, 1, -1, 1, 1, -1, -1, 1, -1...  \n",
       "1    [1, 1, 1, 1, 1, 1, 1, -1, 1, 1, -1, -1, 1, -1,...  \n",
       "2    [1, 1, -1, 1, -1, 1, 1, -1, 1, 1, -1, -1, 1, -...  \n",
       "3    [1, 1, 1, 1, 1, 1, 1, -1, 1, 1, -1, -1, 1, -1,...  \n",
       "4    [1, 1, 1, 1, -1, 1, 1, -1, 1, 1, -1, -1, 1, -1...  \n",
       "..                                                 ...  \n",
       "951  [-1, 1, -1, -1, -1, -1, 1, -1, 1, 1, 1, -1, -1...  \n",
       "952  [-1, -1, -1, -1, -1, -1, -1, 1, -1, -1, 1, -1,...  \n",
       "953  [-1, -1, -1, -1, -1, -1, 1, -1, -1, 1, 1, -1, ...  \n",
       "954  [-1, 1, -1, -1, 1, -1, 1, 1, 1, 1, 1, -1, -1, ...  \n",
       "955  [-1, 1, -1, -1, 1, -1, 1, 1, 1, 1, 1, -1, -1, ...  \n",
       "\n",
       "[956 rows x 3 columns]"
      ]
     },
     "execution_count": 50,
     "metadata": {},
     "output_type": "execute_result"
    }
   ],
   "source": [
    "string_df"
   ]
  },
  {
   "cell_type": "code",
   "execution_count": 51,
   "metadata": {},
   "outputs": [
    {
     "data": {
      "text/plain": [
       "16"
      ]
     },
     "execution_count": 51,
     "metadata": {},
     "output_type": "execute_result"
    }
   ],
   "source": [
    "len(string_df[\"fprint\"].iloc[0])"
   ]
  },
  {
   "cell_type": "markdown",
   "metadata": {},
   "source": [
    "### DBSCAN"
   ]
  },
  {
   "cell_type": "code",
   "execution_count": 52,
   "metadata": {},
   "outputs": [
    {
     "name": "stdout",
     "output_type": "stream",
     "text": [
      "               label                                       concatenated  \\\n",
      "0    GooglePixel3A_L  [0, 0, 0, 0, 0, 0, 0, 0, 0, 0, 0, 0, 0, 0, 0, ...   \n",
      "1    GooglePixel3A_L  [0, 0, 0, 0, 0, 0, 0, 0, 0, 0, 0, 0, 0, 0, 0, ...   \n",
      "2    GooglePixel3A_L  [0, 0, 0, 0, 0, 0, 0, 0, 0, 0, 0, 0, 0, 0, 0, ...   \n",
      "3    GooglePixel3A_L  [0, 0, 0, 0, 0, 0, 0, 0, 0, 0, 0, 0, 0, 0, 0, ...   \n",
      "4    GooglePixel3A_L  [0, 0, 0, 0, 0, 0, 0, 0, 0, 0, 0, 0, 0, 0, 0, ...   \n",
      "..               ...                                                ...   \n",
      "951    iPhoneXSMax_M  [0, 0, 0, 1, 1, 0, 1, 0, 0, 0, 1, 0, 1, 1, 0, ...   \n",
      "952    iPhoneXSMax_M  [0, 0, 0, 1, 1, 0, 1, 0, 0, 0, 1, 0, 1, 1, 0, ...   \n",
      "953    iPhoneXSMax_M  [0, 0, 0, 1, 1, 0, 1, 0, 0, 0, 1, 0, 1, 1, 0, ...   \n",
      "954    iPhoneXSMax_M  [0, 0, 0, 1, 1, 0, 1, 0, 0, 0, 1, 0, 1, 1, 0, ...   \n",
      "955    iPhoneXSMax_M  [0, 0, 0, 1, 1, 0, 1, 0, 0, 0, 1, 0, 1, 1, 0, ...   \n",
      "\n",
      "                                                fprint  cluster  \n",
      "0    [1, 1, 1, 1, -1, 1, 1, -1, 1, 1, -1, -1, 1, -1...        0  \n",
      "1    [1, 1, 1, 1, 1, 1, 1, -1, 1, 1, -1, -1, 1, -1,...        1  \n",
      "2    [1, 1, -1, 1, -1, 1, 1, -1, 1, 1, -1, -1, 1, -...        2  \n",
      "3    [1, 1, 1, 1, 1, 1, 1, -1, 1, 1, -1, -1, 1, -1,...        1  \n",
      "4    [1, 1, 1, 1, -1, 1, 1, -1, 1, 1, -1, -1, 1, -1...        0  \n",
      "..                                                 ...      ...  \n",
      "951  [-1, 1, -1, -1, -1, -1, 1, -1, 1, 1, 1, -1, -1...       -1  \n",
      "952  [-1, -1, -1, -1, -1, -1, -1, 1, -1, -1, 1, -1,...       20  \n",
      "953  [-1, -1, -1, -1, -1, -1, 1, -1, -1, 1, 1, -1, ...       -1  \n",
      "954  [-1, 1, -1, -1, 1, -1, 1, 1, 1, 1, 1, -1, -1, ...       29  \n",
      "955  [-1, 1, -1, -1, 1, -1, 1, 1, 1, 1, 1, -1, -1, ...       29  \n",
      "\n",
      "[956 rows x 4 columns]\n"
     ]
    }
   ],
   "source": [
    "import pandas as pd\n",
    "from sklearn.cluster import DBSCAN\n",
    "import numpy as np\n",
    "\n",
    "# Example dataframe\n",
    "# string_df = pd.DataFrame({'fprint': [[1, 1, 1, 1, -1, 1, 1, -1, 1, 1, -1, -1, 1, -1], [1, -1, 1, 1, -1, 1, 1, -1, 1, 1, -1, -1, 1, -1], ...]})\n",
    "\n",
    "# Convert the 'fprint' column to a numpy array (2D array)\n",
    "feature_matrix = np.array(string_df[\"fprint\"].tolist())\n",
    "\n",
    "# Initialize DBSCAN\n",
    "dbscan = DBSCAN(eps=0.05, min_samples=15)\n",
    "\n",
    "# Fit DBSCAN\n",
    "dbscan.fit(feature_matrix)\n",
    "\n",
    "# Get the cluster labels\n",
    "cluster_labels = dbscan.labels_\n",
    "\n",
    "# Add the cluster labels to the original dataframe\n",
    "string_df[\"cluster\"] = cluster_labels\n",
    "\n",
    "# Display the dataframe with cluster labels\n",
    "print(string_df)"
   ]
  },
  {
   "cell_type": "code",
   "execution_count": 53,
   "metadata": {},
   "outputs": [],
   "source": [
    "from sklearn.metrics import homogeneity_score, completeness_score, v_measure_score"
   ]
  },
  {
   "cell_type": "code",
   "execution_count": 54,
   "metadata": {},
   "outputs": [
    {
     "name": "stdout",
     "output_type": "stream",
     "text": [
      "Homogeneity: 0.702\n",
      "Completeness: 0.675\n",
      "V-measure: 0.688\n"
     ]
    }
   ],
   "source": [
    "# Add the cluster labels to the original dataframe\n",
    "string_df[\"cluster\"] = cluster_labels\n",
    "\n",
    "# Assuming 'true_labels' column contains the true labels\n",
    "true_labels = string_df[\"label\"]\n",
    "\n",
    "# Calculate the evaluation metrics\n",
    "homogeneity = homogeneity_score(true_labels, cluster_labels)\n",
    "completeness = completeness_score(true_labels, cluster_labels)\n",
    "v_measure = v_measure_score(true_labels, cluster_labels)\n",
    "\n",
    "# Print the evaluation metrics\n",
    "print(f\"Homogeneity: {homogeneity:.3f}\")\n",
    "print(f\"Completeness: {completeness:.3f}\")\n",
    "print(f\"V-measure: {v_measure:.3f}\")"
   ]
  },
  {
   "cell_type": "code",
   "execution_count": 59,
   "metadata": {},
   "outputs": [
    {
     "name": "stdout",
     "output_type": "stream",
     "text": [
      "RMSE: -2\n"
     ]
    }
   ],
   "source": [
    "print(\"RMSE:\", string_df[\"cluster\"].nunique() - 1 - string_df[\"label\"].nunique())"
   ]
  },
  {
   "cell_type": "code",
   "execution_count": null,
   "metadata": {},
   "outputs": [],
   "source": []
  }
 ],
 "metadata": {
  "kernelspec": {
   "display_name": ".venv",
   "language": "python",
   "name": "python3"
  },
  "language_info": {
   "codemirror_mode": {
    "name": "ipython",
    "version": 3
   },
   "file_extension": ".py",
   "mimetype": "text/x-python",
   "name": "python",
   "nbconvert_exporter": "python",
   "pygments_lexer": "ipython3",
   "version": "3.11.9"
  }
 },
 "nbformat": 4,
 "nbformat_minor": 2
}
