{
 "cells": [
  {
   "cell_type": "markdown",
   "metadata": {},
   "source": [
    "# Generate Device Subsets"
   ]
  },
  {
   "cell_type": "markdown",
   "metadata": {},
   "source": [
    "Different from the subset, the purpose of this notebook is to generate 5-10 combinations of different devices (considering the totality of the rows from each one of them) for each cardinality from 2 to `len(devices)`."
   ]
  },
  {
   "cell_type": "code",
   "execution_count": 5,
   "metadata": {},
   "outputs": [
    {
     "name": "stderr",
     "output_type": "stream",
     "text": [
      "C:\\Users\\fabio\\AppData\\Local\\Temp\\ipykernel_14456\\3308109721.py:5: TqdmWarning: IProgress not found. Please update jupyter and ipywidgets. See https://ipywidgets.readthedocs.io/en/stable/user_install.html\n",
      "  from tqdm.autonotebook import tqdm\n"
     ]
    }
   ],
   "source": [
    "import random\n",
    "from itertools import combinations\n",
    "\n",
    "import pandas as pd\n",
    "from tqdm.autonotebook import tqdm"
   ]
  },
  {
   "cell_type": "code",
   "execution_count": 6,
   "metadata": {},
   "outputs": [],
   "source": [
    "string_df = pd.read_csv(\"C:/Users/fabio/Documents/GitHub/CompactProbes/data/train_test/bin_test.csv\")"
   ]
  },
  {
   "cell_type": "code",
   "execution_count": 7,
   "metadata": {},
   "outputs": [
    {
     "data": {
      "text/html": [
       "<div>\n",
       "<style scoped>\n",
       "    .dataframe tbody tr th:only-of-type {\n",
       "        vertical-align: middle;\n",
       "    }\n",
       "\n",
       "    .dataframe tbody tr th {\n",
       "        vertical-align: top;\n",
       "    }\n",
       "\n",
       "    .dataframe thead th {\n",
       "        text-align: right;\n",
       "    }\n",
       "</style>\n",
       "<table border=\"1\" class=\"dataframe\">\n",
       "  <thead>\n",
       "    <tr style=\"text-align: right;\">\n",
       "      <th></th>\n",
       "      <th>label</th>\n",
       "      <th>concatenated</th>\n",
       "    </tr>\n",
       "  </thead>\n",
       "  <tbody>\n",
       "    <tr>\n",
       "      <th>0</th>\n",
       "      <td>GooglePixel3A_L</td>\n",
       "      <td>UUUUUUUUUUUUUUUUUUUUUUUUUUUUUUUUUUUUUUUUUUUUUU...</td>\n",
       "    </tr>\n",
       "    <tr>\n",
       "      <th>1</th>\n",
       "      <td>GooglePixel3A_L</td>\n",
       "      <td>UUUUUUUUUUUUUUUUUUUUUUUUUUUUUUUUUUUUUUUUUUUUUU...</td>\n",
       "    </tr>\n",
       "    <tr>\n",
       "      <th>2</th>\n",
       "      <td>GooglePixel3A_L</td>\n",
       "      <td>UUUUUUUUUUUUUUUUUUUUUUUUUUUUUUUUUUUUUUUUUUUUUU...</td>\n",
       "    </tr>\n",
       "    <tr>\n",
       "      <th>3</th>\n",
       "      <td>GooglePixel3A_L</td>\n",
       "      <td>UUUUUUUUUUUUUUUUUUUUUUUUUUUUUUUUUUUUUUUUUUUUUU...</td>\n",
       "    </tr>\n",
       "    <tr>\n",
       "      <th>4</th>\n",
       "      <td>GooglePixel3A_L</td>\n",
       "      <td>UUUUUUUUUUUUUUUUUUUUUUUUUUUUUUUUUUUUUUUUUUUUUU...</td>\n",
       "    </tr>\n",
       "    <tr>\n",
       "      <th>...</th>\n",
       "      <td>...</td>\n",
       "      <td>...</td>\n",
       "    </tr>\n",
       "    <tr>\n",
       "      <th>502</th>\n",
       "      <td>iPhoneXR_U</td>\n",
       "      <td>0001101000101101010000000001011111111111000000...</td>\n",
       "    </tr>\n",
       "    <tr>\n",
       "      <th>503</th>\n",
       "      <td>iPhoneXR_U</td>\n",
       "      <td>0001101000101101000000000001011111111111000000...</td>\n",
       "    </tr>\n",
       "    <tr>\n",
       "      <th>504</th>\n",
       "      <td>iPhoneXR_U</td>\n",
       "      <td>0001101000101101010000000001011111111111000000...</td>\n",
       "    </tr>\n",
       "    <tr>\n",
       "      <th>505</th>\n",
       "      <td>iPhoneXR_U</td>\n",
       "      <td>0001101000101101000000000001011111111111000000...</td>\n",
       "    </tr>\n",
       "    <tr>\n",
       "      <th>506</th>\n",
       "      <td>iPhoneXR_U</td>\n",
       "      <td>0001101000101101010000000001011111111111000000...</td>\n",
       "    </tr>\n",
       "  </tbody>\n",
       "</table>\n",
       "<p>507 rows × 2 columns</p>\n",
       "</div>"
      ],
      "text/plain": [
       "               label                                       concatenated\n",
       "0    GooglePixel3A_L  UUUUUUUUUUUUUUUUUUUUUUUUUUUUUUUUUUUUUUUUUUUUUU...\n",
       "1    GooglePixel3A_L  UUUUUUUUUUUUUUUUUUUUUUUUUUUUUUUUUUUUUUUUUUUUUU...\n",
       "2    GooglePixel3A_L  UUUUUUUUUUUUUUUUUUUUUUUUUUUUUUUUUUUUUUUUUUUUUU...\n",
       "3    GooglePixel3A_L  UUUUUUUUUUUUUUUUUUUUUUUUUUUUUUUUUUUUUUUUUUUUUU...\n",
       "4    GooglePixel3A_L  UUUUUUUUUUUUUUUUUUUUUUUUUUUUUUUUUUUUUUUUUUUUUU...\n",
       "..               ...                                                ...\n",
       "502       iPhoneXR_U  0001101000101101010000000001011111111111000000...\n",
       "503       iPhoneXR_U  0001101000101101000000000001011111111111000000...\n",
       "504       iPhoneXR_U  0001101000101101010000000001011111111111000000...\n",
       "505       iPhoneXR_U  0001101000101101000000000001011111111111000000...\n",
       "506       iPhoneXR_U  0001101000101101010000000001011111111111000000...\n",
       "\n",
       "[507 rows x 2 columns]"
      ]
     },
     "execution_count": 7,
     "metadata": {},
     "output_type": "execute_result"
    }
   ],
   "source": [
    "string_df"
   ]
  },
  {
   "cell_type": "code",
   "execution_count": 8,
   "metadata": {},
   "outputs": [],
   "source": [
    "labels = string_df[\"label\"].unique()"
   ]
  },
  {
   "cell_type": "code",
   "execution_count": 9,
   "metadata": {},
   "outputs": [
    {
     "data": {
      "text/plain": [
       "array(['GooglePixel3A_L', 'GooglePixel3A_V', 'HuaweiP20_G',\n",
       "       'OppoFindX3Neo_A', 'S21Ultra_M', 'SamsungJ6_K', 'SamsungM31_A',\n",
       "       'SamsungS4_C', 'SamsungS6_H', 'XiaomiRedmi4_B', 'XiaomiRedmi5_J',\n",
       "       'iPhone11_F', 'iPhone12Pro_C', 'iPhoneXR_A', 'iPhoneXR_U'],\n",
       "      dtype=object)"
      ]
     },
     "execution_count": 9,
     "metadata": {},
     "output_type": "execute_result"
    }
   ],
   "source": [
    "labels"
   ]
  },
  {
   "cell_type": "code",
   "execution_count": 10,
   "metadata": {},
   "outputs": [],
   "source": [
    "all_combinations_list = []"
   ]
  },
  {
   "cell_type": "code",
   "execution_count": 11,
   "metadata": {},
   "outputs": [
    {
     "name": "stderr",
     "output_type": "stream",
     "text": [
      "↘️ Batch #1: 100%|██████████| 14/14 [00:00<00:00, 7487.92it/s]"
     ]
    },
    {
     "name": "stderr",
     "output_type": "stream",
     "text": [
      "\n",
      "↘️ Batch #2: 100%|██████████| 14/14 [00:00<00:00, 10746.75it/s]\n",
      "↘️ Batch #3: 100%|██████████| 14/14 [00:00<00:00, 13306.20it/s]\n",
      "↘️ Batch #4: 100%|██████████| 14/14 [00:00<00:00, 12464.50it/s]\n",
      "↘️ Batch #5: 100%|██████████| 14/14 [00:00<00:00, 9025.55it/s]\n",
      "↘️ Batch #6: 100%|██████████| 14/14 [00:00<00:00, 23572.97it/s]\n",
      "↘️ Batch #7: 100%|██████████| 14/14 [00:00<00:00, 14149.46it/s]\n",
      "↘️ Batch #8: 100%|██████████| 14/14 [00:00<00:00, 14720.55it/s]\n",
      "↘️ Batch #9: 100%|██████████| 14/14 [00:00<00:00, 9760.68it/s]\n",
      "↘️ Batch #10: 100%|██████████| 14/14 [00:00<00:00, 7708.09it/s]\n",
      "⚠️ Batch Processing: 100%|██████████| 10/10 [00:00<00:00, 248.45it/s]\n"
     ]
    }
   ],
   "source": [
    "max_devices = len(labels)\n",
    "batches = 10\n",
    "\n",
    "num_iter = range(0, batches)\n",
    "i = 0\n",
    "\n",
    "random.seed(42)\n",
    "\n",
    "for i in tqdm(range(0, batches), desc=\"⚠️ Batch Processing\"):\n",
    "    for r in tqdm(range(2, max_devices + 1), desc=\"↘️ Batch #\" + str(i + 1)):\n",
    "        random_combinations = random.sample(string_df[\"label\"].unique().tolist(), r)\n",
    "        for labels_combination in combinations(random_combinations, r):\n",
    "            # Append each combination and its length to the list\n",
    "            all_combinations_list.append({\n",
    "                'combination': labels_combination,\n",
    "                'length': len(labels_combination)\n",
    "            })"
   ]
  },
  {
   "cell_type": "code",
   "execution_count": 12,
   "metadata": {},
   "outputs": [],
   "source": [
    "# Convert the list of dictionaries to a DataFrame\n",
    "all_combinations_df = pd.DataFrame(all_combinations_list)\n",
    "\n",
    "# Remove duplicates: keep rows where the set of devices is unique\n",
    "# Convert each combination to a set and drop duplicates\n",
    "all_combinations_df['combination_set'] = all_combinations_df['combination'].apply(set)\n",
    "all_combinations_df.drop_duplicates(subset='combination_set', keep='first', inplace=True)\n",
    "\n",
    "# Drop the helper column 'combination_set' as it's no longer needed\n",
    "all_combinations_df.drop(columns=['combination_set'], inplace=True)"
   ]
  },
  {
   "cell_type": "code",
   "execution_count": 17,
   "metadata": {},
   "outputs": [
    {
     "data": {
      "text/plain": [
       "length\n",
       "2     10\n",
       "3     10\n",
       "4     10\n",
       "5     10\n",
       "6     10\n",
       "7     10\n",
       "8     10\n",
       "9     10\n",
       "10    10\n",
       "11    10\n",
       "12    10\n",
       "13    10\n",
       "14     7\n",
       "15     1\n",
       "Name: count, dtype: int64"
      ]
     },
     "execution_count": 17,
     "metadata": {},
     "output_type": "execute_result"
    }
   ],
   "source": [
    "all_combinations_df[\"length\"].value_counts()"
   ]
  },
  {
   "cell_type": "code",
   "execution_count": 18,
   "metadata": {},
   "outputs": [],
   "source": [
    "all_combinations_df.to_csv(\"C:/Users/fabio/Documents/GitHub/CompactProbes/data/train_test/10_combinations_test.csv\", index=False)"
   ]
  }
 ],
 "metadata": {
  "kernelspec": {
   "display_name": "Python 3",
   "language": "python",
   "name": "python3"
  },
  "language_info": {
   "codemirror_mode": {
    "name": "ipython",
    "version": 3
   },
   "file_extension": ".py",
   "mimetype": "text/x-python",
   "name": "python",
   "nbconvert_exporter": "python",
   "pygments_lexer": "ipython3",
   "version": "3.13.1"
  }
 },
 "nbformat": 4,
 "nbformat_minor": 2
}
