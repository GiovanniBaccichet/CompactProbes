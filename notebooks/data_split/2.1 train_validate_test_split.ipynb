{
 "cells": [
  {
   "cell_type": "markdown",
   "metadata": {},
   "source": [
    "# Train Validation Test Set Split\n",
    "\n",
    "**Description**: Split the complete dataset into three sets: train, validation and test. The split is vertical, i.e. devices are unique to a subset and are not shared between the different phases of the model training, hyperparameter tuning and testing.\n",
    "\n",
    "**Inputs**: `data/binary/*`, `data/hex/*`\n",
    "\n",
    "**Outputs**: `data/train_test/binary_train.csv`, `data/train_test/binary_validate.csv`, `data/train_test/binary_test.csv`, `data/train_test/hex_train.csv`, `data/train_test/hex_validate.csv`, `data/train_test/hex_test.csv`"
   ]
  },
  {
   "cell_type": "markdown",
   "metadata": {},
   "source": [
    "| Train                         | Test                       |\n",
    "|-------------------------------|----------------------------|\n",
    "| iPhone7_X                      | iPhoneXR_U                 |\n",
    "| iPhone7_F                      | GooglePixel3A_L            |\n",
    "| OnePlusNord_O                  | GooglePixel3A_V            |\n",
    "| SamsungS7_I                    | XiaomiRedmi5_J             |\n",
    "| XiaomiRedmiNote7_S             | XiaomiRedmi4_B            |\n",
    "| iPhone6_N                      | iPhone12Pro_C              |\n",
    "| iPhoneXSMax_M                  | SamsungS6_H                |\n",
    "| XiaomiRedmiNote9S_T            | iPhone11_F                 |\n",
    "| XiaomiA2_E                     | S21Ultra_M                 |\n",
    "| iPhone12_M                     | HuaweiP20_G                |\n",
    "| iPhone11_C                     | SamsungS4_C                |\n",
    "| iPhone12_W                     |             |\n",
    "| iPhone11_B                     |                 |\n",
    "| iPhone11_M                     |                  |\n",
    "| HuaweiL21_D                    |             |\n",
    "| OppoFindX3Neo_A                |                 |\n",
    "| iPhoneXR_A                     |                |\n",
    "| iPhoneXR_L                     |                 |\n",
    "| HuaweiHonor9_R                 |                            |\n",
    "| SamsungJ6_K                    |                            |\n",
    "| SamsungM31_A                   |                            |\n",
    "| HuaweiP10_Q                    |                            |\n"
   ]
  },
  {
   "cell_type": "markdown",
   "metadata": {},
   "source": [
    "## Notebook Setup"
   ]
  },
  {
   "cell_type": "markdown",
   "metadata": {},
   "source": [
    "### Libraries"
   ]
  },
  {
   "cell_type": "code",
   "execution_count": 1,
   "metadata": {},
   "outputs": [],
   "source": [
    "import sys\n",
    "sys.path.append('C:/Users/fabio/Documents/GitHub/CompactProbes/notebooks')\n",
    "from modules import fancyData\n",
    "from modules import fancyPlots\n",
    "import pandas as pd\n",
    "from rich import traceback\n",
    "from rich.progress import Progress"
   ]
  },
  {
   "cell_type": "code",
   "execution_count": 2,
   "metadata": {},
   "outputs": [
    {
     "data": {
      "text/plain": [
       "<bound method InteractiveShell.excepthook of <ipykernel.zmqshell.ZMQInteractiveShell object at 0x0000023C441EECF0>>"
      ]
     },
     "execution_count": 2,
     "metadata": {},
     "output_type": "execute_result"
    }
   ],
   "source": [
    "traceback.install()"
   ]
  },
  {
   "cell_type": "markdown",
   "metadata": {},
   "source": [
    "### Configurations"
   ]
  },
  {
   "cell_type": "code",
   "execution_count": 3,
   "metadata": {},
   "outputs": [
    {
     "data": {
      "text/plain": [
       "['../config.ini']"
      ]
     },
     "execution_count": 3,
     "metadata": {},
     "output_type": "execute_result"
    }
   ],
   "source": [
    "from configparser import ConfigParser\n",
    "\n",
    "config = ConfigParser()\n",
    "config.read(\"../config.ini\")"
   ]
  },
  {
   "cell_type": "markdown",
   "metadata": {},
   "source": [
    "## Device Sets"
   ]
  },
  {
   "cell_type": "code",
   "execution_count": 4,
   "metadata": {},
   "outputs": [],
   "source": [
    "train_devices = [\n",
    "    \"iPhone7_X\",\n",
    "    \"iPhone7_F\",\n",
    "    \"OnePlusNord_O\",\n",
    "    \"SamsungS7_I\",\n",
    "    \"XiaomiRedmiNote7_S\",\n",
    "    \"iPhone6_N\",\n",
    "    \"iPhoneXSMax_M\",\n",
    "    \"XiaomiRedmiNote9S_T\",\n",
    "    \"XiaomiA2_E\",\n",
    "    \"iPhone12_M\",\n",
    "    \"iPhone11_C\",\n",
    "    \"iPhone12_W\",\n",
    "    \"iPhone11_B\",\n",
    "    \"iPhone11_M\",\n",
    "    \"HuaweiL21_D\",\n",
    "    \"iPhoneXR_L\",\n",
    "    \"HuaweiHonor9_R\",\n",
    "    \"HuaweiP10_Q\",\n",
    "]\n",
    "\n",
    "test_devices = [\n",
    "    \"iPhoneXR_U\",\n",
    "    \"GooglePixel3A_L\",\n",
    "    \"GooglePixel3A_V\",\n",
    "    \"XiaomiRedmi5_J\",\n",
    "    \"XiaomiRedmi4_B\",\n",
    "    \"iPhone12Pro_C\",\n",
    "    \"SamsungS6_H\",\n",
    "    \"iPhone11_F\",\n",
    "    \"S21Ultra_M\",\n",
    "    \"HuaweiP20_G\",\n",
    "    \"SamsungS4_C\",\n",
    "    \"OppoFindX3Neo_A\",\n",
    "    \"iPhoneXR_A\",\n",
    "    \"SamsungJ6_K\",\n",
    "    \"SamsungM31_A\"\n",
    "]\n"
   ]
  },
  {
   "cell_type": "markdown",
   "metadata": {},
   "source": [
    "## HEX Data"
   ]
  },
  {
   "cell_type": "code",
   "execution_count": 5,
   "metadata": {},
   "outputs": [],
   "source": [
    "hex_path = config[\"DEFAULT\"][\"hex_path\"]\n",
    "df_hex = fancyData.load_and_concat_csv(hex_path)\n",
    "df_hex = df_hex[df_hex[\"MAC Address\"] != \"00:0f:00:6a:68:8b\"]"
   ]
  },
  {
   "cell_type": "code",
   "execution_count": 6,
   "metadata": {},
   "outputs": [
    {
     "data": {
      "text/html": [
       "<div>\n",
       "<style scoped>\n",
       "    .dataframe tbody tr th:only-of-type {\n",
       "        vertical-align: middle;\n",
       "    }\n",
       "\n",
       "    .dataframe tbody tr th {\n",
       "        vertical-align: top;\n",
       "    }\n",
       "\n",
       "    .dataframe thead th {\n",
       "        text-align: right;\n",
       "    }\n",
       "</style>\n",
       "<table border=\"1\" class=\"dataframe\">\n",
       "  <thead>\n",
       "    <tr style=\"text-align: right;\">\n",
       "      <th></th>\n",
       "      <th>Timestamp</th>\n",
       "      <th>MAC Address</th>\n",
       "      <th>Channel</th>\n",
       "      <th>DS Channel</th>\n",
       "      <th>HT Capabilities</th>\n",
       "      <th>Extended Capabilities</th>\n",
       "      <th>Vendor Specific Tags</th>\n",
       "      <th>SSID</th>\n",
       "      <th>Supported Rates</th>\n",
       "      <th>Extended Supported Rates</th>\n",
       "      <th>VHT Capabilities</th>\n",
       "      <th>HE Capabilities</th>\n",
       "      <th>Length</th>\n",
       "      <th>Label</th>\n",
       "    </tr>\n",
       "  </thead>\n",
       "  <tbody>\n",
       "    <tr>\n",
       "      <th>0</th>\n",
       "      <td>1697147353.854776423</td>\n",
       "      <td>22:3b:0c:d1:04:00</td>\n",
       "      <td>11</td>\n",
       "      <td>9</td>\n",
       "      <td>2d401bff00000000000000000000000000000000000000...</td>\n",
       "      <td>0000080400000040</td>\n",
       "      <td>NaN</td>\n",
       "      <td>NaN</td>\n",
       "      <td>82848b96</td>\n",
       "      <td>0c1218243048606c</td>\n",
       "      <td>NaN</td>\n",
       "      <td>23010808180080203002000d009f08000000fdfffdff39...</td>\n",
       "      <td>132</td>\n",
       "      <td>iPhone11_B</td>\n",
       "    </tr>\n",
       "    <tr>\n",
       "      <th>1</th>\n",
       "      <td>1697147353.877196756</td>\n",
       "      <td>22:3b:0c:d1:04:00</td>\n",
       "      <td>11</td>\n",
       "      <td>9</td>\n",
       "      <td>2d401bff00000000000000000000000000000000000000...</td>\n",
       "      <td>0000080400000040</td>\n",
       "      <td>NaN</td>\n",
       "      <td>NaN</td>\n",
       "      <td>82848b96</td>\n",
       "      <td>0c1218243048606c</td>\n",
       "      <td>NaN</td>\n",
       "      <td>23010808180080203002000d009f08000000fdfffdff39...</td>\n",
       "      <td>132</td>\n",
       "      <td>iPhone11_B</td>\n",
       "    </tr>\n",
       "    <tr>\n",
       "      <th>2</th>\n",
       "      <td>1697147353.84198058</td>\n",
       "      <td>a2:46:52:98:69:ef</td>\n",
       "      <td>1</td>\n",
       "      <td>3</td>\n",
       "      <td>2d401bff00000000000000000000000000000000000000...</td>\n",
       "      <td>0000080400000040</td>\n",
       "      <td>NaN</td>\n",
       "      <td>NaN</td>\n",
       "      <td>82848b96</td>\n",
       "      <td>0c1218243048606c</td>\n",
       "      <td>NaN</td>\n",
       "      <td>23010808180080203002000d009f08000000fdfffdff39...</td>\n",
       "      <td>132</td>\n",
       "      <td>iPhone11_B</td>\n",
       "    </tr>\n",
       "    <tr>\n",
       "      <th>3</th>\n",
       "      <td>1697147353.843195064</td>\n",
       "      <td>a2:46:52:98:69:ef</td>\n",
       "      <td>1</td>\n",
       "      <td>3</td>\n",
       "      <td>2d401bff00000000000000000000000000000000000000...</td>\n",
       "      <td>0000080400000040</td>\n",
       "      <td>NaN</td>\n",
       "      <td>NaN</td>\n",
       "      <td>82848b96</td>\n",
       "      <td>0c1218243048606c</td>\n",
       "      <td>NaN</td>\n",
       "      <td>23010808180080203002000d009f08000000fdfffdff39...</td>\n",
       "      <td>132</td>\n",
       "      <td>iPhone11_B</td>\n",
       "    </tr>\n",
       "    <tr>\n",
       "      <th>4</th>\n",
       "      <td>1697147353.989248318</td>\n",
       "      <td>56:f0:59:c1:2b:71</td>\n",
       "      <td>1</td>\n",
       "      <td>2</td>\n",
       "      <td>2d401bff00000000000000000000000000000000000000...</td>\n",
       "      <td>0000080400000040</td>\n",
       "      <td>NaN</td>\n",
       "      <td>NaN</td>\n",
       "      <td>82848b96</td>\n",
       "      <td>0c1218243048606c</td>\n",
       "      <td>NaN</td>\n",
       "      <td>23010808180080203002000d009f08000000fdfffdff39...</td>\n",
       "      <td>132</td>\n",
       "      <td>iPhone11_B</td>\n",
       "    </tr>\n",
       "    <tr>\n",
       "      <th>...</th>\n",
       "      <td>...</td>\n",
       "      <td>...</td>\n",
       "      <td>...</td>\n",
       "      <td>...</td>\n",
       "      <td>...</td>\n",
       "      <td>...</td>\n",
       "      <td>...</td>\n",
       "      <td>...</td>\n",
       "      <td>...</td>\n",
       "      <td>...</td>\n",
       "      <td>...</td>\n",
       "      <td>...</td>\n",
       "      <td>...</td>\n",
       "      <td>...</td>\n",
       "    </tr>\n",
       "    <tr>\n",
       "      <th>76699</th>\n",
       "      <td>1626775271.075259</td>\n",
       "      <td>42:b1:98:56:e4:02</td>\n",
       "      <td>6</td>\n",
       "      <td>6</td>\n",
       "      <td>ad0113ffff000000000000000000000000000000000000...</td>\n",
       "      <td>00000a82004000000001</td>\n",
       "      <td>0050f208002700</td>\n",
       "      <td>NaN</td>\n",
       "      <td>02040b16</td>\n",
       "      <td>0c1218243048606c</td>\n",
       "      <td>92f99133faff6203faff6203</td>\n",
       "      <td>02000b</td>\n",
       "      <td>165</td>\n",
       "      <td>XiaomiRedmiNote9S_T</td>\n",
       "    </tr>\n",
       "    <tr>\n",
       "      <th>76700</th>\n",
       "      <td>1626775271.118583</td>\n",
       "      <td>42:b1:98:56:e4:02</td>\n",
       "      <td>6</td>\n",
       "      <td>7</td>\n",
       "      <td>ad0113ffff000000000000000000000000000000000000...</td>\n",
       "      <td>00000a82004000000001</td>\n",
       "      <td>0050f208002700</td>\n",
       "      <td>NaN</td>\n",
       "      <td>02040b16</td>\n",
       "      <td>0c1218243048606c</td>\n",
       "      <td>92f99133faff6203faff6203</td>\n",
       "      <td>02000b</td>\n",
       "      <td>165</td>\n",
       "      <td>XiaomiRedmiNote9S_T</td>\n",
       "    </tr>\n",
       "    <tr>\n",
       "      <th>76701</th>\n",
       "      <td>1626775271.161272</td>\n",
       "      <td>42:b1:98:56:e4:02</td>\n",
       "      <td>6</td>\n",
       "      <td>8</td>\n",
       "      <td>ad0113ffff000000000000000000000000000000000000...</td>\n",
       "      <td>00000a82004000000001</td>\n",
       "      <td>0050f208002700</td>\n",
       "      <td>NaN</td>\n",
       "      <td>02040b16</td>\n",
       "      <td>0c1218243048606c</td>\n",
       "      <td>92f99133faff6203faff6203</td>\n",
       "      <td>02000b</td>\n",
       "      <td>165</td>\n",
       "      <td>XiaomiRedmiNote9S_T</td>\n",
       "    </tr>\n",
       "    <tr>\n",
       "      <th>76702</th>\n",
       "      <td>1626775271.271423</td>\n",
       "      <td>42:b1:98:56:e4:02</td>\n",
       "      <td>11</td>\n",
       "      <td>11</td>\n",
       "      <td>ad0113ffff000000000000000000000000000000000000...</td>\n",
       "      <td>00000a82004000000001</td>\n",
       "      <td>0050f208002700</td>\n",
       "      <td>NaN</td>\n",
       "      <td>02040b16</td>\n",
       "      <td>0c1218243048606c</td>\n",
       "      <td>92f99133faff6203faff6203</td>\n",
       "      <td>02001d</td>\n",
       "      <td>153</td>\n",
       "      <td>XiaomiRedmiNote9S_T</td>\n",
       "    </tr>\n",
       "    <tr>\n",
       "      <th>76703</th>\n",
       "      <td>1626775271.292468</td>\n",
       "      <td>42:b1:98:56:e4:02</td>\n",
       "      <td>11</td>\n",
       "      <td>11</td>\n",
       "      <td>ad0113ffff000000000000000000000000000000000000...</td>\n",
       "      <td>00000a82004000000001</td>\n",
       "      <td>0050f208002700</td>\n",
       "      <td>NaN</td>\n",
       "      <td>02040b16</td>\n",
       "      <td>0c1218243048606c</td>\n",
       "      <td>92f99133faff6203faff6203</td>\n",
       "      <td>020009</td>\n",
       "      <td>153</td>\n",
       "      <td>XiaomiRedmiNote9S_T</td>\n",
       "    </tr>\n",
       "  </tbody>\n",
       "</table>\n",
       "<p>76675 rows × 14 columns</p>\n",
       "</div>"
      ],
      "text/plain": [
       "                  Timestamp        MAC Address Channel DS Channel  \\\n",
       "0      1697147353.854776423  22:3b:0c:d1:04:00      11          9   \n",
       "1      1697147353.877196756  22:3b:0c:d1:04:00      11          9   \n",
       "2       1697147353.84198058  a2:46:52:98:69:ef       1          3   \n",
       "3      1697147353.843195064  a2:46:52:98:69:ef       1          3   \n",
       "4      1697147353.989248318  56:f0:59:c1:2b:71       1          2   \n",
       "...                     ...                ...     ...        ...   \n",
       "76699     1626775271.075259  42:b1:98:56:e4:02       6          6   \n",
       "76700     1626775271.118583  42:b1:98:56:e4:02       6          7   \n",
       "76701     1626775271.161272  42:b1:98:56:e4:02       6          8   \n",
       "76702     1626775271.271423  42:b1:98:56:e4:02      11         11   \n",
       "76703     1626775271.292468  42:b1:98:56:e4:02      11         11   \n",
       "\n",
       "                                         HT Capabilities  \\\n",
       "0      2d401bff00000000000000000000000000000000000000...   \n",
       "1      2d401bff00000000000000000000000000000000000000...   \n",
       "2      2d401bff00000000000000000000000000000000000000...   \n",
       "3      2d401bff00000000000000000000000000000000000000...   \n",
       "4      2d401bff00000000000000000000000000000000000000...   \n",
       "...                                                  ...   \n",
       "76699  ad0113ffff000000000000000000000000000000000000...   \n",
       "76700  ad0113ffff000000000000000000000000000000000000...   \n",
       "76701  ad0113ffff000000000000000000000000000000000000...   \n",
       "76702  ad0113ffff000000000000000000000000000000000000...   \n",
       "76703  ad0113ffff000000000000000000000000000000000000...   \n",
       "\n",
       "      Extended Capabilities Vendor Specific Tags SSID Supported Rates  \\\n",
       "0          0000080400000040                  NaN  NaN        82848b96   \n",
       "1          0000080400000040                  NaN  NaN        82848b96   \n",
       "2          0000080400000040                  NaN  NaN        82848b96   \n",
       "3          0000080400000040                  NaN  NaN        82848b96   \n",
       "4          0000080400000040                  NaN  NaN        82848b96   \n",
       "...                     ...                  ...  ...             ...   \n",
       "76699  00000a82004000000001       0050f208002700  NaN        02040b16   \n",
       "76700  00000a82004000000001       0050f208002700  NaN        02040b16   \n",
       "76701  00000a82004000000001       0050f208002700  NaN        02040b16   \n",
       "76702  00000a82004000000001       0050f208002700  NaN        02040b16   \n",
       "76703  00000a82004000000001       0050f208002700  NaN        02040b16   \n",
       "\n",
       "      Extended Supported Rates          VHT Capabilities  \\\n",
       "0             0c1218243048606c                       NaN   \n",
       "1             0c1218243048606c                       NaN   \n",
       "2             0c1218243048606c                       NaN   \n",
       "3             0c1218243048606c                       NaN   \n",
       "4             0c1218243048606c                       NaN   \n",
       "...                        ...                       ...   \n",
       "76699         0c1218243048606c  92f99133faff6203faff6203   \n",
       "76700         0c1218243048606c  92f99133faff6203faff6203   \n",
       "76701         0c1218243048606c  92f99133faff6203faff6203   \n",
       "76702         0c1218243048606c  92f99133faff6203faff6203   \n",
       "76703         0c1218243048606c  92f99133faff6203faff6203   \n",
       "\n",
       "                                         HE Capabilities Length  \\\n",
       "0      23010808180080203002000d009f08000000fdfffdff39...    132   \n",
       "1      23010808180080203002000d009f08000000fdfffdff39...    132   \n",
       "2      23010808180080203002000d009f08000000fdfffdff39...    132   \n",
       "3      23010808180080203002000d009f08000000fdfffdff39...    132   \n",
       "4      23010808180080203002000d009f08000000fdfffdff39...    132   \n",
       "...                                                  ...    ...   \n",
       "76699                                             02000b    165   \n",
       "76700                                             02000b    165   \n",
       "76701                                             02000b    165   \n",
       "76702                                             02001d    153   \n",
       "76703                                             020009    153   \n",
       "\n",
       "                     Label  \n",
       "0               iPhone11_B  \n",
       "1               iPhone11_B  \n",
       "2               iPhone11_B  \n",
       "3               iPhone11_B  \n",
       "4               iPhone11_B  \n",
       "...                    ...  \n",
       "76699  XiaomiRedmiNote9S_T  \n",
       "76700  XiaomiRedmiNote9S_T  \n",
       "76701  XiaomiRedmiNote9S_T  \n",
       "76702  XiaomiRedmiNote9S_T  \n",
       "76703  XiaomiRedmiNote9S_T  \n",
       "\n",
       "[76675 rows x 14 columns]"
      ]
     },
     "execution_count": 6,
     "metadata": {},
     "output_type": "execute_result"
    }
   ],
   "source": [
    "df_hex"
   ]
  },
  {
   "cell_type": "code",
   "execution_count": 7,
   "metadata": {},
   "outputs": [],
   "source": [
    "df_train_hex = df_hex[df_hex[\"Label\"].isin(train_devices)]\n",
    "df_test_hex = df_hex[df_hex[\"Label\"].isin(test_devices)]"
   ]
  },
  {
   "cell_type": "code",
   "execution_count": 8,
   "metadata": {},
   "outputs": [],
   "source": [
    "from sklearn.utils import resample\n",
    "\n",
    "# Separate the entries with label 'XiaomiRedmiNote7_S'\n",
    "df_xiaomi = df_train_hex[df_train_hex[\"Label\"] == \"XiaomiRedmiNote7_S\"]\n",
    "\n",
    "# Undersample to 2000 entries\n",
    "df_xiaomi_undersampled = resample(\n",
    "    df_xiaomi, replace=False, n_samples=2000, random_state=42\n",
    ")\n",
    "\n",
    "# Combine with the rest of the data\n",
    "df_train_hex = pd.concat(\n",
    "    [\n",
    "        df_train_hex[df_train_hex[\"Label\"] != \"XiaomiRedmiNote7_S\"],\n",
    "        df_xiaomi_undersampled,\n",
    "    ]\n",
    ")"
   ]
  },
  {
   "cell_type": "code",
   "execution_count": 9,
   "metadata": {},
   "outputs": [
    {
     "data": {
      "image/png": "[encoded data removed]",
      "text/plain": [
       "<Figure size 1000x600 with 1 Axes>"
      ]
     },
     "metadata": {},
     "output_type": "display_data"
    }
   ],
   "source": [
    "fancyPlots.plot_label_distribution(df_train_hex, \"Label\")"
   ]
  },
  {
   "cell_type": "code",
   "execution_count": 10,
   "metadata": {},
   "outputs": [
    {
     "name": "stdout",
     "output_type": "stream",
     "text": [
      "12104\n",
      "4123\n"
     ]
    }
   ],
   "source": [
    "drop1 = \"XiaomiRedmi4_B\"  # specify the label\n",
    "n_drop = df_test_hex.loc[df_test_hex[\"Label\"]== drop1].shape[0] - 10000\n",
    "print(n_drop)\n",
    "# Get the indices of the last k entries with label x\n",
    "indices_to_drop = df_test_hex[df_test_hex[\"Label\"] == drop1].tail(n_drop).index\n",
    "\n",
    "# Drop the entries\n",
    "df_test_hex = df_test_hex.drop(indices_to_drop)\n",
    "\n",
    "\n",
    "drop2 = \"SamsungS4_C\"  # specify the label\n",
    "n_drop = df_test_hex.loc[df_test_hex[\"Label\"]== drop2].shape[0] - 10000\n",
    "print(n_drop)\n",
    "# Get the indices of the last k entries with label x\n",
    "indices_to_drop = df_test_hex[df_test_hex[\"Label\"] == drop2].tail(n_drop).index\n",
    "\n",
    "# Drop the entries\n",
    "df_test_hex = df_test_hex.drop(indices_to_drop)"
   ]
  },
  {
   "cell_type": "code",
   "execution_count": 11,
   "metadata": {},
   "outputs": [
    {
     "data": {
      "image/png": "[encoded data removed]",
      "text/plain": [
       "<Figure size 1000x600 with 1 Axes>"
      ]
     },
     "metadata": {},
     "output_type": "display_data"
    }
   ],
   "source": [
    "\n",
    "fancyPlots.plot_label_distribution(df_test_hex, \"Label\")"
   ]
  },
  {
   "cell_type": "code",
   "execution_count": 12,
   "metadata": {},
   "outputs": [],
   "source": [
    "df_train_hex.to_csv(config[\"DEFAULT\"][\"train_test_path\"] + \"hex_train.csv\", index=False)"
   ]
  },
  {
   "cell_type": "code",
   "execution_count": 13,
   "metadata": {},
   "outputs": [],
   "source": [
    "df_test_hex.to_csv(config[\"DEFAULT\"][\"train_test_path\"] + \"hex_test.csv\", index=False)"
   ]
  },
  {
   "cell_type": "markdown",
   "metadata": {},
   "source": [
    "## Binary Data"
   ]
  },
  {
   "cell_type": "code",
   "execution_count": 14,
   "metadata": {},
   "outputs": [],
   "source": [
    "binary_path = config[\"DEFAULT\"][\"interim_path\"] + \"binary_U_random.csv\"\n",
    "df_binary = pd.read_csv(binary_path)"
   ]
  },
  {
   "cell_type": "code",
   "execution_count": 15,
   "metadata": {},
   "outputs": [
    {
     "data": {
      "text/html": [
       "<div>\n",
       "<style scoped>\n",
       "    .dataframe tbody tr th:only-of-type {\n",
       "        vertical-align: middle;\n",
       "    }\n",
       "\n",
       "    .dataframe tbody tr th {\n",
       "        vertical-align: top;\n",
       "    }\n",
       "\n",
       "    .dataframe thead th {\n",
       "        text-align: right;\n",
       "    }\n",
       "</style>\n",
       "<table border=\"1\" class=\"dataframe\">\n",
       "  <thead>\n",
       "    <tr style=\"text-align: right;\">\n",
       "      <th></th>\n",
       "      <th>label</th>\n",
       "      <th>concatenated</th>\n",
       "    </tr>\n",
       "  </thead>\n",
       "  <tbody>\n",
       "    <tr>\n",
       "      <th>0</th>\n",
       "      <td>GooglePixel3A_L</td>\n",
       "      <td>UUUUUUUUUUUUUUUUUUUUUUUUUUUUUUUUUUUUUUUUUUUUUU...</td>\n",
       "    </tr>\n",
       "    <tr>\n",
       "      <th>1</th>\n",
       "      <td>GooglePixel3A_L</td>\n",
       "      <td>UUUUUUUUUUUUUUUUUUUUUUUUUUUUUUUUUUUUUUUUUUUUUU...</td>\n",
       "    </tr>\n",
       "    <tr>\n",
       "      <th>2</th>\n",
       "      <td>GooglePixel3A_L</td>\n",
       "      <td>UUUUUUUUUUUUUUUUUUUUUUUUUUUUUUUUUUUUUUUUUUUUUU...</td>\n",
       "    </tr>\n",
       "    <tr>\n",
       "      <th>3</th>\n",
       "      <td>GooglePixel3A_L</td>\n",
       "      <td>UUUUUUUUUUUUUUUUUUUUUUUUUUUUUUUUUUUUUUUUUUUUUU...</td>\n",
       "    </tr>\n",
       "    <tr>\n",
       "      <th>4</th>\n",
       "      <td>GooglePixel3A_L</td>\n",
       "      <td>UUUUUUUUUUUUUUUUUUUUUUUUUUUUUUUUUUUUUUUUUUUUUU...</td>\n",
       "    </tr>\n",
       "    <tr>\n",
       "      <th>...</th>\n",
       "      <td>...</td>\n",
       "      <td>...</td>\n",
       "    </tr>\n",
       "    <tr>\n",
       "      <th>1294</th>\n",
       "      <td>iPhoneXSMax_M</td>\n",
       "      <td>0001101000101101000000000001101111111111000000...</td>\n",
       "    </tr>\n",
       "    <tr>\n",
       "      <th>1295</th>\n",
       "      <td>iPhoneXSMax_M</td>\n",
       "      <td>0001101000101101010000000001101111111111000000...</td>\n",
       "    </tr>\n",
       "    <tr>\n",
       "      <th>1296</th>\n",
       "      <td>iPhoneXSMax_M</td>\n",
       "      <td>0001101000101101000000000001101111111111000000...</td>\n",
       "    </tr>\n",
       "    <tr>\n",
       "      <th>1297</th>\n",
       "      <td>iPhoneXSMax_M</td>\n",
       "      <td>0001101000101101010000000001101111111111000000...</td>\n",
       "    </tr>\n",
       "    <tr>\n",
       "      <th>1298</th>\n",
       "      <td>iPhoneXSMax_M</td>\n",
       "      <td>0001101000101101010000000001101111111111000000...</td>\n",
       "    </tr>\n",
       "  </tbody>\n",
       "</table>\n",
       "<p>1299 rows × 2 columns</p>\n",
       "</div>"
      ],
      "text/plain": [
       "                label                                       concatenated\n",
       "0     GooglePixel3A_L  UUUUUUUUUUUUUUUUUUUUUUUUUUUUUUUUUUUUUUUUUUUUUU...\n",
       "1     GooglePixel3A_L  UUUUUUUUUUUUUUUUUUUUUUUUUUUUUUUUUUUUUUUUUUUUUU...\n",
       "2     GooglePixel3A_L  UUUUUUUUUUUUUUUUUUUUUUUUUUUUUUUUUUUUUUUUUUUUUU...\n",
       "3     GooglePixel3A_L  UUUUUUUUUUUUUUUUUUUUUUUUUUUUUUUUUUUUUUUUUUUUUU...\n",
       "4     GooglePixel3A_L  UUUUUUUUUUUUUUUUUUUUUUUUUUUUUUUUUUUUUUUUUUUUUU...\n",
       "...               ...                                                ...\n",
       "1294    iPhoneXSMax_M  0001101000101101000000000001101111111111000000...\n",
       "1295    iPhoneXSMax_M  0001101000101101010000000001101111111111000000...\n",
       "1296    iPhoneXSMax_M  0001101000101101000000000001101111111111000000...\n",
       "1297    iPhoneXSMax_M  0001101000101101010000000001101111111111000000...\n",
       "1298    iPhoneXSMax_M  0001101000101101010000000001101111111111000000...\n",
       "\n",
       "[1299 rows x 2 columns]"
      ]
     },
     "execution_count": 15,
     "metadata": {},
     "output_type": "execute_result"
    }
   ],
   "source": [
    "df_binary"
   ]
  },
  {
   "cell_type": "code",
   "execution_count": 16,
   "metadata": {},
   "outputs": [
    {
     "name": "stdout",
     "output_type": "stream",
     "text": [
      "(690, 2)\n",
      "(609, 2)\n"
     ]
    }
   ],
   "source": [
    "df_train_bin = df_binary[df_binary[\"label\"].isin(train_devices)]\n",
    "df_test_bin = df_binary[df_binary[\"label\"].isin(test_devices)]\n",
    "print(df_train_bin.shape)\n",
    "print(df_test_bin.shape)"
   ]
  },
  {
   "cell_type": "code",
   "execution_count": 17,
   "metadata": {},
   "outputs": [],
   "source": [
    "# # Separate the entries with label 'SamsungS4_C'\n",
    "# df_samsung = df_train_bin[df_train_bin[\"label\"] == \"SamsungS4_C\"]\n",
    "\n",
    "# # Undersample to 2000 entries\n",
    "# df_samsung_undersampled = resample(\n",
    "#     df_samsung, replace=False, n_samples=60, random_state=42\n",
    "# )\n",
    "\n",
    "# # Combine with the rest of the data\n",
    "# df_train_bin = pd.concat(\n",
    "#     [\n",
    "#         df_train_bin[df_train_bin[\"label\"] != \"SamsungS4_C\"],\n",
    "#         df_samsung_undersampled,\n",
    "#     ]\n",
    "# )"
   ]
  },
  {
   "cell_type": "code",
   "execution_count": 18,
   "metadata": {},
   "outputs": [
    {
     "name": "stdout",
     "output_type": "stream",
     "text": [
      "102\n"
     ]
    }
   ],
   "source": [
    "drop1 = \"SamsungS4_C\"  # specify the label\n",
    "n_drop = df_test_bin.loc[df_test_bin[\"label\"]== drop1].shape[0] - 150\n",
    "print(n_drop)\n",
    "# Get the indices of the last k entries with label x\n",
    "indices_to_drop = df_test_bin[df_test_bin[\"label\"] == drop1].tail(n_drop).index\n",
    "\n",
    "# Drop the entries\n",
    "df_test_bin = df_test_bin.drop(indices_to_drop)\n"
   ]
  },
  {
   "cell_type": "code",
   "execution_count": 19,
   "metadata": {},
   "outputs": [
    {
     "data": {
      "image/png": "[encoded data removed]",
      "text/plain": [
       "<Figure size 1000x600 with 1 Axes>"
      ]
     },
     "metadata": {},
     "output_type": "display_data"
    }
   ],
   "source": [
    "fancyPlots.plot_label_distribution(df_train_bin, \"label\")"
   ]
  },
  {
   "cell_type": "code",
   "execution_count": 20,
   "metadata": {},
   "outputs": [
    {
     "data": {
      "image/png": "[encoded data removed]",
      "text/plain": [
       "<Figure size 1000x600 with 1 Axes>"
      ]
     },
     "metadata": {},
     "output_type": "display_data"
    }
   ],
   "source": [
    "fancyPlots.plot_label_distribution(df_test_bin, \"label\")"
   ]
  },
  {
   "cell_type": "code",
   "execution_count": 38,
   "metadata": {},
   "outputs": [],
   "source": [
    "df_train_bin.to_csv(config[\"DEFAULT\"][\"train_test_path\"] + \"bin_train.csv\",index=False)\n",
    "df_test_bin.to_csv(config[\"DEFAULT\"][\"train_test_path\"] + \"bin_test.csv\",index=False)"
   ]
  },
  {
   "cell_type": "markdown",
   "metadata": {},
   "source": [
    "### Train and Test Pair Sets"
   ]
  },
  {
   "cell_type": "code",
   "execution_count": 25,
   "metadata": {},
   "outputs": [],
   "source": [
    "from itertools import combinations, product\n",
    "import random"
   ]
  },
  {
   "cell_type": "code",
   "execution_count": 39,
   "metadata": {},
   "outputs": [],
   "source": [
    "df_train_bin.reset_index(drop=True, inplace=True)\n",
    "df_test_bin.reset_index(drop=True, inplace=True)"
   ]
  },
  {
   "cell_type": "code",
   "execution_count": 40,
   "metadata": {},
   "outputs": [],
   "source": [
    "# Function to create balanced train and test sets\n",
    "def create_balanced_sets(df, test_size=0.8):\n",
    "    labels = df[\"label\"].unique()\n",
    "    train_indices = []\n",
    "    test_indices = []\n",
    "\n",
    "    for label in labels:\n",
    "        label_indices = df[df[\"label\"] == label].index.tolist()\n",
    "        split_index = int(len(label_indices) * (1 - test_size))\n",
    "        train_indices.extend(label_indices[:split_index])\n",
    "        test_indices.extend(label_indices[split_index:])\n",
    "\n",
    "    train_df = df.loc[train_indices].reset_index(drop=True)\n",
    "    test_df = df.loc[test_indices].reset_index(drop=True)\n",
    "\n",
    "    return train_df, test_df"
   ]
  },
  {
   "cell_type": "code",
   "execution_count": 41,
   "metadata": {},
   "outputs": [],
   "source": [
    "# Function to create matching and non-matching pairs\n",
    "def create_pairs(df, num_pairs):\n",
    "    pairs = []\n",
    "    labels = df[\"label\"].unique()\n",
    "\n",
    "    # Create matching pairs\n",
    "    matching_pairs = []\n",
    "    for label in labels:\n",
    "        label_indices = df[df[\"label\"] == label].index.tolist()\n",
    "        label_combinations = list(combinations(label_indices, 2))\n",
    "        matching_pairs.extend([(i, j, 1, label, label) for i, j in label_combinations])\n",
    "\n",
    "    # Sample matching pairs\n",
    "    matching_pairs = random.sample(matching_pairs, num_pairs // 2)\n",
    "\n",
    "    # Create non-matching pairs\n",
    "    non_matching_pairs = []\n",
    "    for label1, label2 in combinations(labels, 2):\n",
    "        label1_indices = df[df[\"label\"] == label1].index.tolist()\n",
    "        label2_indices = df[df[\"label\"] == label2].index.tolist()\n",
    "        non_matching_pairs.extend(product(label1_indices, label2_indices))\n",
    "\n",
    "    # Sample non-matching pairs\n",
    "    non_matching_pairs = random.sample(non_matching_pairs, num_pairs // 2)\n",
    "\n",
    "    # Combine pairs\n",
    "    pairs = matching_pairs + [\n",
    "        (i, j, -1, df.loc[i, \"label\"], df.loc[j, \"label\"])\n",
    "        for i, j in non_matching_pairs\n",
    "    ]\n",
    "\n",
    "    pairs_df = pd.DataFrame(\n",
    "        pairs, columns=[\"Item 1\", \"Item 2\", \"Equality\", \"device1\", \"device2\"]\n",
    "    )\n",
    "    return pairs_df"
   ]
  },
  {
   "cell_type": "code",
   "execution_count": 42,
   "metadata": {},
   "outputs": [],
   "source": [
    "# Determine the number of pairs to create\n",
    "num_pairs = min(\n",
    "    len(df_train_bin) * (len(df_train_bin) - 1) // 2,\n",
    "    len(df_test_bin) * (len(df_test_bin) - 1) // 2,\n",
    "    10000,\n",
    ")  # Adjust 2000 to your preferred number\n",
    "\n",
    "# Create pairs for train and test sets with the same number of entries\n",
    "train_pairs = create_pairs(df_train_bin, num_pairs)\n",
    "test_pairs = create_pairs(df_test_bin, num_pairs)"
   ]
  },
  {
   "cell_type": "code",
   "execution_count": 43,
   "metadata": {},
   "outputs": [
    {
     "data": {
      "text/html": [
       "<div>\n",
       "<style scoped>\n",
       "    .dataframe tbody tr th:only-of-type {\n",
       "        vertical-align: middle;\n",
       "    }\n",
       "\n",
       "    .dataframe tbody tr th {\n",
       "        vertical-align: top;\n",
       "    }\n",
       "\n",
       "    .dataframe thead th {\n",
       "        text-align: right;\n",
       "    }\n",
       "</style>\n",
       "<table border=\"1\" class=\"dataframe\">\n",
       "  <thead>\n",
       "    <tr style=\"text-align: right;\">\n",
       "      <th></th>\n",
       "      <th>Item 1</th>\n",
       "      <th>Item 2</th>\n",
       "      <th>Equality</th>\n",
       "      <th>device1</th>\n",
       "      <th>device2</th>\n",
       "    </tr>\n",
       "  </thead>\n",
       "  <tbody>\n",
       "    <tr>\n",
       "      <th>0</th>\n",
       "      <td>665</td>\n",
       "      <td>678</td>\n",
       "      <td>1</td>\n",
       "      <td>iPhoneXSMax_M</td>\n",
       "      <td>iPhoneXSMax_M</td>\n",
       "    </tr>\n",
       "    <tr>\n",
       "      <th>1</th>\n",
       "      <td>265</td>\n",
       "      <td>303</td>\n",
       "      <td>1</td>\n",
       "      <td>XiaomiRedmiNote7_S</td>\n",
       "      <td>XiaomiRedmiNote7_S</td>\n",
       "    </tr>\n",
       "    <tr>\n",
       "      <th>2</th>\n",
       "      <td>367</td>\n",
       "      <td>406</td>\n",
       "      <td>1</td>\n",
       "      <td>XiaomiRedmiNote9S_T</td>\n",
       "      <td>XiaomiRedmiNote9S_T</td>\n",
       "    </tr>\n",
       "    <tr>\n",
       "      <th>3</th>\n",
       "      <td>89</td>\n",
       "      <td>114</td>\n",
       "      <td>1</td>\n",
       "      <td>HuaweiL21_D</td>\n",
       "      <td>HuaweiL21_D</td>\n",
       "    </tr>\n",
       "    <tr>\n",
       "      <th>4</th>\n",
       "      <td>455</td>\n",
       "      <td>466</td>\n",
       "      <td>1</td>\n",
       "      <td>iPhone11_M</td>\n",
       "      <td>iPhone11_M</td>\n",
       "    </tr>\n",
       "    <tr>\n",
       "      <th>...</th>\n",
       "      <td>...</td>\n",
       "      <td>...</td>\n",
       "      <td>...</td>\n",
       "      <td>...</td>\n",
       "      <td>...</td>\n",
       "    </tr>\n",
       "    <tr>\n",
       "      <th>9995</th>\n",
       "      <td>249</td>\n",
       "      <td>381</td>\n",
       "      <td>-1</td>\n",
       "      <td>XiaomiA2_E</td>\n",
       "      <td>XiaomiRedmiNote9S_T</td>\n",
       "    </tr>\n",
       "    <tr>\n",
       "      <th>9996</th>\n",
       "      <td>62</td>\n",
       "      <td>338</td>\n",
       "      <td>-1</td>\n",
       "      <td>HuaweiL21_D</td>\n",
       "      <td>XiaomiRedmiNote7_S</td>\n",
       "    </tr>\n",
       "    <tr>\n",
       "      <th>9997</th>\n",
       "      <td>390</td>\n",
       "      <td>572</td>\n",
       "      <td>-1</td>\n",
       "      <td>XiaomiRedmiNote9S_T</td>\n",
       "      <td>iPhone7_F</td>\n",
       "    </tr>\n",
       "    <tr>\n",
       "      <th>9998</th>\n",
       "      <td>409</td>\n",
       "      <td>633</td>\n",
       "      <td>-1</td>\n",
       "      <td>XiaomiRedmiNote9S_T</td>\n",
       "      <td>iPhoneXR_L</td>\n",
       "    </tr>\n",
       "    <tr>\n",
       "      <th>9999</th>\n",
       "      <td>315</td>\n",
       "      <td>569</td>\n",
       "      <td>-1</td>\n",
       "      <td>XiaomiRedmiNote7_S</td>\n",
       "      <td>iPhone7_F</td>\n",
       "    </tr>\n",
       "  </tbody>\n",
       "</table>\n",
       "<p>10000 rows × 5 columns</p>\n",
       "</div>"
      ],
      "text/plain": [
       "      Item 1  Item 2  Equality              device1              device2\n",
       "0        665     678         1        iPhoneXSMax_M        iPhoneXSMax_M\n",
       "1        265     303         1   XiaomiRedmiNote7_S   XiaomiRedmiNote7_S\n",
       "2        367     406         1  XiaomiRedmiNote9S_T  XiaomiRedmiNote9S_T\n",
       "3         89     114         1          HuaweiL21_D          HuaweiL21_D\n",
       "4        455     466         1           iPhone11_M           iPhone11_M\n",
       "...      ...     ...       ...                  ...                  ...\n",
       "9995     249     381        -1           XiaomiA2_E  XiaomiRedmiNote9S_T\n",
       "9996      62     338        -1          HuaweiL21_D   XiaomiRedmiNote7_S\n",
       "9997     390     572        -1  XiaomiRedmiNote9S_T            iPhone7_F\n",
       "9998     409     633        -1  XiaomiRedmiNote9S_T           iPhoneXR_L\n",
       "9999     315     569        -1   XiaomiRedmiNote7_S            iPhone7_F\n",
       "\n",
       "[10000 rows x 5 columns]"
      ]
     },
     "execution_count": 43,
     "metadata": {},
     "output_type": "execute_result"
    }
   ],
   "source": [
    "train_pairs"
   ]
  },
  {
   "cell_type": "code",
   "execution_count": 44,
   "metadata": {},
   "outputs": [],
   "source": [
    "train_pairs.to_csv(\n",
    "    config[\"DEFAULT\"][\"train_test_path\"] + \"bin_train_pairs.csv\"\n",
    ")"
   ]
  },
  {
   "cell_type": "code",
   "execution_count": 45,
   "metadata": {},
   "outputs": [
    {
     "data": {
      "text/html": [
       "<div>\n",
       "<style scoped>\n",
       "    .dataframe tbody tr th:only-of-type {\n",
       "        vertical-align: middle;\n",
       "    }\n",
       "\n",
       "    .dataframe tbody tr th {\n",
       "        vertical-align: top;\n",
       "    }\n",
       "\n",
       "    .dataframe thead th {\n",
       "        text-align: right;\n",
       "    }\n",
       "</style>\n",
       "<table border=\"1\" class=\"dataframe\">\n",
       "  <thead>\n",
       "    <tr style=\"text-align: right;\">\n",
       "      <th></th>\n",
       "      <th>Item 1</th>\n",
       "      <th>Item 2</th>\n",
       "      <th>Equality</th>\n",
       "      <th>device1</th>\n",
       "      <th>device2</th>\n",
       "    </tr>\n",
       "  </thead>\n",
       "  <tbody>\n",
       "    <tr>\n",
       "      <th>0</th>\n",
       "      <td>183</td>\n",
       "      <td>194</td>\n",
       "      <td>1</td>\n",
       "      <td>SamsungS4_C</td>\n",
       "      <td>SamsungS4_C</td>\n",
       "    </tr>\n",
       "    <tr>\n",
       "      <th>1</th>\n",
       "      <td>208</td>\n",
       "      <td>235</td>\n",
       "      <td>1</td>\n",
       "      <td>SamsungS4_C</td>\n",
       "      <td>SamsungS4_C</td>\n",
       "    </tr>\n",
       "    <tr>\n",
       "      <th>2</th>\n",
       "      <td>189</td>\n",
       "      <td>258</td>\n",
       "      <td>1</td>\n",
       "      <td>SamsungS4_C</td>\n",
       "      <td>SamsungS4_C</td>\n",
       "    </tr>\n",
       "    <tr>\n",
       "      <th>3</th>\n",
       "      <td>282</td>\n",
       "      <td>286</td>\n",
       "      <td>1</td>\n",
       "      <td>SamsungS4_C</td>\n",
       "      <td>SamsungS4_C</td>\n",
       "    </tr>\n",
       "    <tr>\n",
       "      <th>4</th>\n",
       "      <td>253</td>\n",
       "      <td>304</td>\n",
       "      <td>1</td>\n",
       "      <td>SamsungS4_C</td>\n",
       "      <td>SamsungS4_C</td>\n",
       "    </tr>\n",
       "    <tr>\n",
       "      <th>...</th>\n",
       "      <td>...</td>\n",
       "      <td>...</td>\n",
       "      <td>...</td>\n",
       "      <td>...</td>\n",
       "      <td>...</td>\n",
       "    </tr>\n",
       "    <tr>\n",
       "      <th>9995</th>\n",
       "      <td>106</td>\n",
       "      <td>243</td>\n",
       "      <td>-1</td>\n",
       "      <td>HuaweiP20_G</td>\n",
       "      <td>SamsungS4_C</td>\n",
       "    </tr>\n",
       "    <tr>\n",
       "      <th>9996</th>\n",
       "      <td>116</td>\n",
       "      <td>187</td>\n",
       "      <td>-1</td>\n",
       "      <td>HuaweiP20_G</td>\n",
       "      <td>SamsungS4_C</td>\n",
       "    </tr>\n",
       "    <tr>\n",
       "      <th>9997</th>\n",
       "      <td>3</td>\n",
       "      <td>283</td>\n",
       "      <td>-1</td>\n",
       "      <td>GooglePixel3A_L</td>\n",
       "      <td>SamsungS4_C</td>\n",
       "    </tr>\n",
       "    <tr>\n",
       "      <th>9998</th>\n",
       "      <td>148</td>\n",
       "      <td>183</td>\n",
       "      <td>-1</td>\n",
       "      <td>SamsungJ6_K</td>\n",
       "      <td>SamsungS4_C</td>\n",
       "    </tr>\n",
       "    <tr>\n",
       "      <th>9999</th>\n",
       "      <td>37</td>\n",
       "      <td>403</td>\n",
       "      <td>-1</td>\n",
       "      <td>GooglePixel3A_L</td>\n",
       "      <td>XiaomiRedmi5_J</td>\n",
       "    </tr>\n",
       "  </tbody>\n",
       "</table>\n",
       "<p>10000 rows × 5 columns</p>\n",
       "</div>"
      ],
      "text/plain": [
       "      Item 1  Item 2  Equality          device1         device2\n",
       "0        183     194         1      SamsungS4_C     SamsungS4_C\n",
       "1        208     235         1      SamsungS4_C     SamsungS4_C\n",
       "2        189     258         1      SamsungS4_C     SamsungS4_C\n",
       "3        282     286         1      SamsungS4_C     SamsungS4_C\n",
       "4        253     304         1      SamsungS4_C     SamsungS4_C\n",
       "...      ...     ...       ...              ...             ...\n",
       "9995     106     243        -1      HuaweiP20_G     SamsungS4_C\n",
       "9996     116     187        -1      HuaweiP20_G     SamsungS4_C\n",
       "9997       3     283        -1  GooglePixel3A_L     SamsungS4_C\n",
       "9998     148     183        -1      SamsungJ6_K     SamsungS4_C\n",
       "9999      37     403        -1  GooglePixel3A_L  XiaomiRedmi5_J\n",
       "\n",
       "[10000 rows x 5 columns]"
      ]
     },
     "execution_count": 45,
     "metadata": {},
     "output_type": "execute_result"
    }
   ],
   "source": [
    "test_pairs"
   ]
  },
  {
   "cell_type": "code",
   "execution_count": 47,
   "metadata": {},
   "outputs": [],
   "source": [
    "test_pairs.to_csv(\n",
    "    config[\"DEFAULT\"][\"train_test_path\"] + \"bin_test_pairs.csv\"\n",
    ")"
   ]
  },
  {
   "cell_type": "code",
   "execution_count": null,
   "metadata": {},
   "outputs": [],
   "source": []
  },
  {
   "cell_type": "code",
   "execution_count": null,
   "metadata": {},
   "outputs": [],
   "source": []
  },
  {
   "cell_type": "code",
   "execution_count": null,
   "metadata": {},
   "outputs": [],
   "source": []
  }
 ],
 "metadata": {
  "kernelspec": {
   "display_name": "Python 3",
   "language": "python",
   "name": "python3"
  },
  "language_info": {
   "codemirror_mode": {
    "name": "ipython",
    "version": 3
   },
   "file_extension": ".py",
   "mimetype": "text/x-python",
   "name": "python",
   "nbconvert_exporter": "python",
   "pygments_lexer": "ipython3",
   "version": "3.13.1"
  }
 },
 "nbformat": 4,
 "nbformat_minor": 2
}
