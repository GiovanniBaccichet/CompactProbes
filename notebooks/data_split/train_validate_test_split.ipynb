{
 "cells": [
  {
   "cell_type": "markdown",
   "metadata": {},
   "source": [
    "# Train Validation Test Set Split\n",
    "\n",
    "**Description**: Split the complete dataset into three sets: train, validation and test. The split is vertical, i.e. devices are unique to a subset and are not shared between the different phases of the model training, hyperparameter tuning and testing.\n",
    "\n",
    "**Inputs**: `data/binary/*`, `data/hex/*`\n",
    "\n",
    "**Outputs**: `data/train_test/binary_train.csv`, `data/train_test/binary_validate.csv`, `data/train_test/binary_test.csv`, `data/train_test/hex_train.csv`, `data/train_test/hex_validate.csv`, `data/train_test/hex_test.csv`"
   ]
  },
  {
   "cell_type": "markdown",
   "metadata": {},
   "source": [
    "| Train                         | Test                       |\n",
    "|-------------------------------|----------------------------|\n",
    "| iPhone7_X                      | iPhoneXR_U                 |\n",
    "| iPhone7_F                      | GooglePixel3A_L            |\n",
    "| OnePlusNord_O                  | GooglePixel3A_V            |\n",
    "| SamsungS7_I                    | XiaomiRedmi5_J             |\n",
    "| XiaomiRedmiNote7_S             | XiaomiRedmi4_B            |\n",
    "| iPhone6_N                      | iPhone12Pro_C              |\n",
    "| iPhoneXSMax_M                  | SamsungS6_H                |\n",
    "| XiaomiRedmiNote9S_T            | iPhone11_F                 |\n",
    "| XiaomiA2_E                     | S21Ultra_M                 |\n",
    "| iPhone12_M                     | HuaweiP20_G                |\n",
    "| iPhone11_C                     | SamsungS4_C                |\n",
    "| iPhone12_W                     |             |\n",
    "| iPhone11_B                     |                 |\n",
    "| iPhone11_M                     |                  |\n",
    "| HuaweiL21_D                    |             |\n",
    "| OppoFindX3Neo_A                |                 |\n",
    "| iPhoneXR_A                     |                |\n",
    "| iPhoneXR_L                     |                 |\n",
    "| HuaweiHonor9_R                 |                            |\n",
    "| SamsungJ6_K                    |                            |\n",
    "| SamsungM31_A                   |                            |\n",
    "| HuaweiP10_Q                    |                            |\n"
   ]
  },
  {
   "cell_type": "markdown",
   "metadata": {},
   "source": [
    "## Notebook Setup"
   ]
  },
  {
   "cell_type": "markdown",
   "metadata": {},
   "source": [
    "### Libraries"
   ]
  },
  {
   "cell_type": "code",
   "execution_count": 1,
   "metadata": {},
   "outputs": [],
   "source": [
    "import fancyData\n",
    "import fancyPlots\n",
    "import pandas as pd\n",
    "from rich import traceback\n",
    "from rich.progress import Progress"
   ]
  },
  {
   "cell_type": "code",
   "execution_count": 2,
   "metadata": {},
   "outputs": [
    {
     "data": {
      "text/plain": [
       "<bound method InteractiveShell.excepthook of <ipykernel.zmqshell.ZMQInteractiveShell object at 0x111a596d0>>"
      ]
     },
     "execution_count": 2,
     "metadata": {},
     "output_type": "execute_result"
    }
   ],
   "source": [
    "traceback.install()"
   ]
  },
  {
   "cell_type": "markdown",
   "metadata": {},
   "source": [
    "### Configurations"
   ]
  },
  {
   "cell_type": "code",
   "execution_count": 3,
   "metadata": {},
   "outputs": [
    {
     "data": {
      "text/plain": [
       "['../config.ini']"
      ]
     },
     "execution_count": 3,
     "metadata": {},
     "output_type": "execute_result"
    }
   ],
   "source": [
    "from configparser import ConfigParser\n",
    "\n",
    "config = ConfigParser()\n",
    "config.read(\"../config.ini\")"
   ]
  },
  {
   "cell_type": "markdown",
   "metadata": {},
   "source": [
    "## Device Sets"
   ]
  },
  {
   "cell_type": "code",
   "execution_count": 4,
   "metadata": {},
   "outputs": [],
   "source": [
    "train_devices = [\n",
    "    \"iPhone7_X\",\n",
    "    \"iPhone7_F\",\n",
    "    \"OnePlusNord_O\",\n",
    "    \"SamsungS7_I\",\n",
    "    \"XiaomiRedmiNote7_S\",\n",
    "    \"iPhone6_N\",\n",
    "    \"iPhoneXSMax_M\",\n",
    "    \"XiaomiRedmiNote9S_T\",\n",
    "    \"XiaomiA2_E\",\n",
    "    \"iPhone12_M\",\n",
    "    \"iPhone11_C\",\n",
    "    \"iPhone12_W\",\n",
    "    \"iPhone11_B\",\n",
    "    \"iPhone11_M\",\n",
    "    \"HuaweiL21_D\",\n",
    "    \"OppoFindX3Neo_A\",\n",
    "    \"iPhoneXR_A\",\n",
    "    \"iPhoneXR_L\",\n",
    "    \"HuaweiHonor9_R\",\n",
    "    \"SamsungJ6_K\",\n",
    "    \"SamsungM31_A\",\n",
    "    \"HuaweiP10_Q\",\n",
    "]\n",
    "\n",
    "test_devices = [\n",
    "    \"iPhoneXR_U\",\n",
    "    \"GooglePixel3A_L\",\n",
    "    \"GooglePixel3A_V\",\n",
    "    \"XiaomiRedmi5_J\",\n",
    "    \"XiaomiRedmi4_B\",\n",
    "    \"iPhone12Pro_C\",\n",
    "    \"SamsungS6_H\",\n",
    "    \"iPhone11_F\",\n",
    "    \"S21Ultra_M\",\n",
    "    \"HuaweiP20_G\",\n",
    "    \"SamsungS4_C\",\n",
    "    \"OppoFindX3Neo_A\",\n",
    "    \"iPhoneXR_A\",\n",
    "    \"iPhoneXR_L\",\n",
    "    \"HuaweiHonor9_R\",\n",
    "    \"SamsungJ6_K\",\n",
    "    \"SamsungM31_A\",\n",
    "    \"HuaweiP10_Q\",\n",
    "]\n"
   ]
  },
  {
   "cell_type": "markdown",
   "metadata": {},
   "source": [
    "## HEX Data"
   ]
  },
  {
   "cell_type": "code",
   "execution_count": 5,
   "metadata": {},
   "outputs": [],
   "source": [
    "hex_path = config[\"DEFAULT\"][\"hex_path\"]\n",
    "df_hex = fancyData.load_and_concat_csv(hex_path)"
   ]
  },
  {
   "cell_type": "code",
   "execution_count": 6,
   "metadata": {},
   "outputs": [
    {
     "data": {
      "text/html": [
       "<div>\n",
       "<style scoped>\n",
       "    .dataframe tbody tr th:only-of-type {\n",
       "        vertical-align: middle;\n",
       "    }\n",
       "\n",
       "    .dataframe tbody tr th {\n",
       "        vertical-align: top;\n",
       "    }\n",
       "\n",
       "    .dataframe thead th {\n",
       "        text-align: right;\n",
       "    }\n",
       "</style>\n",
       "<table border=\"1\" class=\"dataframe\">\n",
       "  <thead>\n",
       "    <tr style=\"text-align: right;\">\n",
       "      <th></th>\n",
       "      <th>Timestamp</th>\n",
       "      <th>MAC Address</th>\n",
       "      <th>Channel</th>\n",
       "      <th>DS Channel</th>\n",
       "      <th>HT Capabilities</th>\n",
       "      <th>Extended Capabilities</th>\n",
       "      <th>Vendor Specific Tags</th>\n",
       "      <th>SSID</th>\n",
       "      <th>Supported Rates</th>\n",
       "      <th>Extended Supported Rates</th>\n",
       "      <th>VHT Capabilities</th>\n",
       "      <th>HE Capabilities</th>\n",
       "      <th>Length</th>\n",
       "      <th>Label</th>\n",
       "    </tr>\n",
       "  </thead>\n",
       "  <tbody>\n",
       "    <tr>\n",
       "      <th>0</th>\n",
       "      <td>1684590721.864466</td>\n",
       "      <td>d2:6b:aa:b5:fb:ed</td>\n",
       "      <td>1</td>\n",
       "      <td>1</td>\n",
       "      <td>2d001bff00000000000000000000000000000000000000...</td>\n",
       "      <td>0000080000000040000020</td>\n",
       "      <td>NaN</td>\n",
       "      <td>NaN</td>\n",
       "      <td>82848b96</td>\n",
       "      <td>0c1218243048606c</td>\n",
       "      <td>NaN</td>\n",
       "      <td>23010808180080203002000d009f08000000fdfffdff39...</td>\n",
       "      <td>135</td>\n",
       "      <td>iPhone12Pro_C</td>\n",
       "    </tr>\n",
       "    <tr>\n",
       "      <th>1</th>\n",
       "      <td>1684590721.884716</td>\n",
       "      <td>d2:6b:aa:b5:fb:ed</td>\n",
       "      <td>1</td>\n",
       "      <td>1</td>\n",
       "      <td>2d001bff00000000000000000000000000000000000000...</td>\n",
       "      <td>0000080000000040000020</td>\n",
       "      <td>NaN</td>\n",
       "      <td>NaN</td>\n",
       "      <td>82848b96</td>\n",
       "      <td>0c1218243048606c</td>\n",
       "      <td>NaN</td>\n",
       "      <td>23010808180080203002000d009f08000000fdfffdff39...</td>\n",
       "      <td>135</td>\n",
       "      <td>iPhone12Pro_C</td>\n",
       "    </tr>\n",
       "    <tr>\n",
       "      <th>2</th>\n",
       "      <td>1684590721.910542</td>\n",
       "      <td>d2:6b:aa:b5:fb:ed</td>\n",
       "      <td>6</td>\n",
       "      <td>6</td>\n",
       "      <td>2d001bff00000000000000000000000000000000000000...</td>\n",
       "      <td>0000080000000040000020</td>\n",
       "      <td>NaN</td>\n",
       "      <td>NaN</td>\n",
       "      <td>82848b96</td>\n",
       "      <td>0c1218243048606c</td>\n",
       "      <td>NaN</td>\n",
       "      <td>23010808180080203002000d009f08000000fdfffdff39...</td>\n",
       "      <td>135</td>\n",
       "      <td>iPhone12Pro_C</td>\n",
       "    </tr>\n",
       "    <tr>\n",
       "      <th>3</th>\n",
       "      <td>1684590721.930789</td>\n",
       "      <td>d2:6b:aa:b5:fb:ed</td>\n",
       "      <td>6</td>\n",
       "      <td>6</td>\n",
       "      <td>2d001bff00000000000000000000000000000000000000...</td>\n",
       "      <td>0000080000000040000020</td>\n",
       "      <td>NaN</td>\n",
       "      <td>NaN</td>\n",
       "      <td>82848b96</td>\n",
       "      <td>0c1218243048606c</td>\n",
       "      <td>NaN</td>\n",
       "      <td>23010808180080203002000d009f08000000fdfffdff39...</td>\n",
       "      <td>135</td>\n",
       "      <td>iPhone12Pro_C</td>\n",
       "    </tr>\n",
       "    <tr>\n",
       "      <th>4</th>\n",
       "      <td>1684590721.968746</td>\n",
       "      <td>d2:6b:aa:b5:fb:ed</td>\n",
       "      <td>11</td>\n",
       "      <td>11</td>\n",
       "      <td>2d001bff00000000000000000000000000000000000000...</td>\n",
       "      <td>0000080000000040000020</td>\n",
       "      <td>NaN</td>\n",
       "      <td>NaN</td>\n",
       "      <td>82848b96</td>\n",
       "      <td>0c1218243048606c</td>\n",
       "      <td>NaN</td>\n",
       "      <td>23010808180080203002000d009f08000000fdfffdff39...</td>\n",
       "      <td>135</td>\n",
       "      <td>iPhone12Pro_C</td>\n",
       "    </tr>\n",
       "    <tr>\n",
       "      <th>...</th>\n",
       "      <td>...</td>\n",
       "      <td>...</td>\n",
       "      <td>...</td>\n",
       "      <td>...</td>\n",
       "      <td>...</td>\n",
       "      <td>...</td>\n",
       "      <td>...</td>\n",
       "      <td>...</td>\n",
       "      <td>...</td>\n",
       "      <td>...</td>\n",
       "      <td>...</td>\n",
       "      <td>...</td>\n",
       "      <td>...</td>\n",
       "      <td>...</td>\n",
       "    </tr>\n",
       "    <tr>\n",
       "      <th>76699</th>\n",
       "      <td>1623847860.708628</td>\n",
       "      <td>ec:9b:f3:75:8e:40</td>\n",
       "      <td>11</td>\n",
       "      <td>9</td>\n",
       "      <td>631117ffff000000000000000000000000000000000000...</td>\n",
       "      <td>0000088001400040</td>\n",
       "      <td>506f9a1010</td>\n",
       "      <td>NaN</td>\n",
       "      <td>02040b16</td>\n",
       "      <td>0c1218243048606c</td>\n",
       "      <td>NaN</td>\n",
       "      <td>NaN</td>\n",
       "      <td>162</td>\n",
       "      <td>SamsungS6_H</td>\n",
       "    </tr>\n",
       "    <tr>\n",
       "      <th>76700</th>\n",
       "      <td>1623847860.732495</td>\n",
       "      <td>ec:9b:f3:75:8e:40</td>\n",
       "      <td>11</td>\n",
       "      <td>10</td>\n",
       "      <td>631117ffff000000000000000000000000000000000000...</td>\n",
       "      <td>0000088001400040</td>\n",
       "      <td>506f9a1010</td>\n",
       "      <td>NaN</td>\n",
       "      <td>02040b16</td>\n",
       "      <td>0c1218243048606c</td>\n",
       "      <td>NaN</td>\n",
       "      <td>NaN</td>\n",
       "      <td>162</td>\n",
       "      <td>SamsungS6_H</td>\n",
       "    </tr>\n",
       "    <tr>\n",
       "      <th>76701</th>\n",
       "      <td>1623847860.752909</td>\n",
       "      <td>ec:9b:f3:75:8e:40</td>\n",
       "      <td>11</td>\n",
       "      <td>10</td>\n",
       "      <td>631117ffff000000000000000000000000000000000000...</td>\n",
       "      <td>0000088001400040</td>\n",
       "      <td>506f9a1010</td>\n",
       "      <td>NaN</td>\n",
       "      <td>02040b16</td>\n",
       "      <td>0c1218243048606c</td>\n",
       "      <td>NaN</td>\n",
       "      <td>NaN</td>\n",
       "      <td>162</td>\n",
       "      <td>SamsungS6_H</td>\n",
       "    </tr>\n",
       "    <tr>\n",
       "      <th>76702</th>\n",
       "      <td>1623847860.776777</td>\n",
       "      <td>ec:9b:f3:75:8e:40</td>\n",
       "      <td>11</td>\n",
       "      <td>11</td>\n",
       "      <td>631117ffff000000000000000000000000000000000000...</td>\n",
       "      <td>0000088001400040</td>\n",
       "      <td>506f9a1010</td>\n",
       "      <td>NaN</td>\n",
       "      <td>02040b16</td>\n",
       "      <td>0c1218243048606c</td>\n",
       "      <td>NaN</td>\n",
       "      <td>NaN</td>\n",
       "      <td>162</td>\n",
       "      <td>SamsungS6_H</td>\n",
       "    </tr>\n",
       "    <tr>\n",
       "      <th>76703</th>\n",
       "      <td>1623847860.797083</td>\n",
       "      <td>ec:9b:f3:75:8e:40</td>\n",
       "      <td>11</td>\n",
       "      <td>11</td>\n",
       "      <td>631117ffff000000000000000000000000000000000000...</td>\n",
       "      <td>0000088001400040</td>\n",
       "      <td>506f9a1010</td>\n",
       "      <td>NaN</td>\n",
       "      <td>02040b16</td>\n",
       "      <td>0c1218243048606c</td>\n",
       "      <td>NaN</td>\n",
       "      <td>NaN</td>\n",
       "      <td>162</td>\n",
       "      <td>SamsungS6_H</td>\n",
       "    </tr>\n",
       "  </tbody>\n",
       "</table>\n",
       "<p>76704 rows × 14 columns</p>\n",
       "</div>"
      ],
      "text/plain": [
       "               Timestamp        MAC Address Channel DS Channel  \\\n",
       "0      1684590721.864466  d2:6b:aa:b5:fb:ed       1          1   \n",
       "1      1684590721.884716  d2:6b:aa:b5:fb:ed       1          1   \n",
       "2      1684590721.910542  d2:6b:aa:b5:fb:ed       6          6   \n",
       "3      1684590721.930789  d2:6b:aa:b5:fb:ed       6          6   \n",
       "4      1684590721.968746  d2:6b:aa:b5:fb:ed      11         11   \n",
       "...                  ...                ...     ...        ...   \n",
       "76699  1623847860.708628  ec:9b:f3:75:8e:40      11          9   \n",
       "76700  1623847860.732495  ec:9b:f3:75:8e:40      11         10   \n",
       "76701  1623847860.752909  ec:9b:f3:75:8e:40      11         10   \n",
       "76702  1623847860.776777  ec:9b:f3:75:8e:40      11         11   \n",
       "76703  1623847860.797083  ec:9b:f3:75:8e:40      11         11   \n",
       "\n",
       "                                         HT Capabilities  \\\n",
       "0      2d001bff00000000000000000000000000000000000000...   \n",
       "1      2d001bff00000000000000000000000000000000000000...   \n",
       "2      2d001bff00000000000000000000000000000000000000...   \n",
       "3      2d001bff00000000000000000000000000000000000000...   \n",
       "4      2d001bff00000000000000000000000000000000000000...   \n",
       "...                                                  ...   \n",
       "76699  631117ffff000000000000000000000000000000000000...   \n",
       "76700  631117ffff000000000000000000000000000000000000...   \n",
       "76701  631117ffff000000000000000000000000000000000000...   \n",
       "76702  631117ffff000000000000000000000000000000000000...   \n",
       "76703  631117ffff000000000000000000000000000000000000...   \n",
       "\n",
       "        Extended Capabilities Vendor Specific Tags SSID Supported Rates  \\\n",
       "0      0000080000000040000020                  NaN  NaN        82848b96   \n",
       "1      0000080000000040000020                  NaN  NaN        82848b96   \n",
       "2      0000080000000040000020                  NaN  NaN        82848b96   \n",
       "3      0000080000000040000020                  NaN  NaN        82848b96   \n",
       "4      0000080000000040000020                  NaN  NaN        82848b96   \n",
       "...                       ...                  ...  ...             ...   \n",
       "76699        0000088001400040           506f9a1010  NaN        02040b16   \n",
       "76700        0000088001400040           506f9a1010  NaN        02040b16   \n",
       "76701        0000088001400040           506f9a1010  NaN        02040b16   \n",
       "76702        0000088001400040           506f9a1010  NaN        02040b16   \n",
       "76703        0000088001400040           506f9a1010  NaN        02040b16   \n",
       "\n",
       "      Extended Supported Rates VHT Capabilities  \\\n",
       "0             0c1218243048606c              NaN   \n",
       "1             0c1218243048606c              NaN   \n",
       "2             0c1218243048606c              NaN   \n",
       "3             0c1218243048606c              NaN   \n",
       "4             0c1218243048606c              NaN   \n",
       "...                        ...              ...   \n",
       "76699         0c1218243048606c              NaN   \n",
       "76700         0c1218243048606c              NaN   \n",
       "76701         0c1218243048606c              NaN   \n",
       "76702         0c1218243048606c              NaN   \n",
       "76703         0c1218243048606c              NaN   \n",
       "\n",
       "                                         HE Capabilities Length          Label  \n",
       "0      23010808180080203002000d009f08000000fdfffdff39...    135  iPhone12Pro_C  \n",
       "1      23010808180080203002000d009f08000000fdfffdff39...    135  iPhone12Pro_C  \n",
       "2      23010808180080203002000d009f08000000fdfffdff39...    135  iPhone12Pro_C  \n",
       "3      23010808180080203002000d009f08000000fdfffdff39...    135  iPhone12Pro_C  \n",
       "4      23010808180080203002000d009f08000000fdfffdff39...    135  iPhone12Pro_C  \n",
       "...                                                  ...    ...            ...  \n",
       "76699                                                NaN    162    SamsungS6_H  \n",
       "76700                                                NaN    162    SamsungS6_H  \n",
       "76701                                                NaN    162    SamsungS6_H  \n",
       "76702                                                NaN    162    SamsungS6_H  \n",
       "76703                                                NaN    162    SamsungS6_H  \n",
       "\n",
       "[76704 rows x 14 columns]"
      ]
     },
     "execution_count": 6,
     "metadata": {},
     "output_type": "execute_result"
    }
   ],
   "source": [
    "df_hex"
   ]
  },
  {
   "cell_type": "code",
   "execution_count": 7,
   "metadata": {},
   "outputs": [],
   "source": [
    "df_train_hex = df_hex[df_hex[\"Label\"].isin(train_devices)]\n",
    "df_test_hex = df_hex[df_hex[\"Label\"].isin(test_devices)]"
   ]
  },
  {
   "cell_type": "code",
   "execution_count": 8,
   "metadata": {},
   "outputs": [],
   "source": [
    "from sklearn.utils import resample\n",
    "\n",
    "# Separate the entries with label 'XiaomiRedmiNote7_S'\n",
    "df_xiaomi = df_train_hex[df_train_hex[\"Label\"] == \"XiaomiRedmiNote7_S\"]\n",
    "\n",
    "# Undersample to 2000 entries\n",
    "df_xiaomi_undersampled = resample(\n",
    "    df_xiaomi, replace=False, n_samples=2000, random_state=42\n",
    ")\n",
    "\n",
    "# Combine with the rest of the data\n",
    "df_train_hex = pd.concat(\n",
    "    [\n",
    "        df_train_hex[df_train_hex[\"Label\"] != \"XiaomiRedmiNote7_S\"],\n",
    "        df_xiaomi_undersampled,\n",
    "    ]\n",
    ")"
   ]
  },
  {
   "cell_type": "code",
   "execution_count": 9,
   "metadata": {},
   "outputs": [
    {
     "data": {
      "image/png": "[encoded data removed]",
      "text/plain": [
       "<Figure size 1000x600 with 1 Axes>"
      ]
     },
     "metadata": {},
     "output_type": "display_data"
    }
   ],
   "source": [
    "fancyPlots.plot_label_distribution(df_train_hex, \"Label\")"
   ]
  },
  {
   "cell_type": "code",
   "execution_count": 10,
   "metadata": {},
   "outputs": [],
   "source": [
    "df_train_hex.to_csv(config[\"DEFAULT\"][\"train_test_path\"] + \"hex_train.csv\", index=False)"
   ]
  },
  {
   "cell_type": "code",
   "execution_count": 11,
   "metadata": {},
   "outputs": [],
   "source": [
    "df_test_hex.to_csv(config[\"DEFAULT\"][\"train_test_path\"] + \"hex_test.csv\", index=False)"
   ]
  },
  {
   "cell_type": "markdown",
   "metadata": {},
   "source": [
    "## Binary Data"
   ]
  },
  {
   "cell_type": "code",
   "execution_count": 12,
   "metadata": {},
   "outputs": [],
   "source": [
    "binary_path = config[\"DEFAULT\"][\"interim_path\"] + \"binary_U_random.csv\"\n",
    "df_binary = pd.read_csv(binary_path)"
   ]
  },
  {
   "cell_type": "code",
   "execution_count": 13,
   "metadata": {},
   "outputs": [
    {
     "data": {
      "text/html": [
       "<div>\n",
       "<style scoped>\n",
       "    .dataframe tbody tr th:only-of-type {\n",
       "        vertical-align: middle;\n",
       "    }\n",
       "\n",
       "    .dataframe tbody tr th {\n",
       "        vertical-align: top;\n",
       "    }\n",
       "\n",
       "    .dataframe thead th {\n",
       "        text-align: right;\n",
       "    }\n",
       "</style>\n",
       "<table border=\"1\" class=\"dataframe\">\n",
       "  <thead>\n",
       "    <tr style=\"text-align: right;\">\n",
       "      <th></th>\n",
       "      <th>label</th>\n",
       "      <th>concatenated</th>\n",
       "    </tr>\n",
       "  </thead>\n",
       "  <tbody>\n",
       "    <tr>\n",
       "      <th>0</th>\n",
       "      <td>GooglePixel3A_L</td>\n",
       "      <td>UUUUUUUUUUUUUUUUUUUUUUUUUUUUUUUUUUUUUUUUUUUUUU...</td>\n",
       "    </tr>\n",
       "    <tr>\n",
       "      <th>1</th>\n",
       "      <td>GooglePixel3A_L</td>\n",
       "      <td>UUUUUUUUUUUUUUUUUUUUUUUUUUUUUUUUUUUUUUUUUUUUUU...</td>\n",
       "    </tr>\n",
       "    <tr>\n",
       "      <th>2</th>\n",
       "      <td>GooglePixel3A_L</td>\n",
       "      <td>UUUUUUUUUUUUUUUUUUUUUUUUUUUUUUUUUUUUUUUUUUUUUU...</td>\n",
       "    </tr>\n",
       "    <tr>\n",
       "      <th>3</th>\n",
       "      <td>GooglePixel3A_L</td>\n",
       "      <td>UUUUUUUUUUUUUUUUUUUUUUUUUUUUUUUUUUUUUUUUUUUUUU...</td>\n",
       "    </tr>\n",
       "    <tr>\n",
       "      <th>4</th>\n",
       "      <td>GooglePixel3A_L</td>\n",
       "      <td>UUUUUUUUUUUUUUUUUUUUUUUUUUUUUUUUUUUUUUUUUUUUUU...</td>\n",
       "    </tr>\n",
       "    <tr>\n",
       "      <th>...</th>\n",
       "      <td>...</td>\n",
       "      <td>...</td>\n",
       "    </tr>\n",
       "    <tr>\n",
       "      <th>1294</th>\n",
       "      <td>iPhoneXSMax_M</td>\n",
       "      <td>0001101000101101000000000001101111111111000000...</td>\n",
       "    </tr>\n",
       "    <tr>\n",
       "      <th>1295</th>\n",
       "      <td>iPhoneXSMax_M</td>\n",
       "      <td>0001101000101101010000000001101111111111000000...</td>\n",
       "    </tr>\n",
       "    <tr>\n",
       "      <th>1296</th>\n",
       "      <td>iPhoneXSMax_M</td>\n",
       "      <td>0001101000101101010000000001101111111111000000...</td>\n",
       "    </tr>\n",
       "    <tr>\n",
       "      <th>1297</th>\n",
       "      <td>iPhoneXSMax_M</td>\n",
       "      <td>0001101000101101010000000001101111111111000000...</td>\n",
       "    </tr>\n",
       "    <tr>\n",
       "      <th>1298</th>\n",
       "      <td>iPhoneXSMax_M</td>\n",
       "      <td>0001101000101101010000000001101111111111000000...</td>\n",
       "    </tr>\n",
       "  </tbody>\n",
       "</table>\n",
       "<p>1299 rows × 2 columns</p>\n",
       "</div>"
      ],
      "text/plain": [
       "                label                                       concatenated\n",
       "0     GooglePixel3A_L  UUUUUUUUUUUUUUUUUUUUUUUUUUUUUUUUUUUUUUUUUUUUUU...\n",
       "1     GooglePixel3A_L  UUUUUUUUUUUUUUUUUUUUUUUUUUUUUUUUUUUUUUUUUUUUUU...\n",
       "2     GooglePixel3A_L  UUUUUUUUUUUUUUUUUUUUUUUUUUUUUUUUUUUUUUUUUUUUUU...\n",
       "3     GooglePixel3A_L  UUUUUUUUUUUUUUUUUUUUUUUUUUUUUUUUUUUUUUUUUUUUUU...\n",
       "4     GooglePixel3A_L  UUUUUUUUUUUUUUUUUUUUUUUUUUUUUUUUUUUUUUUUUUUUUU...\n",
       "...               ...                                                ...\n",
       "1294    iPhoneXSMax_M  0001101000101101000000000001101111111111000000...\n",
       "1295    iPhoneXSMax_M  0001101000101101010000000001101111111111000000...\n",
       "1296    iPhoneXSMax_M  0001101000101101010000000001101111111111000000...\n",
       "1297    iPhoneXSMax_M  0001101000101101010000000001101111111111000000...\n",
       "1298    iPhoneXSMax_M  0001101000101101010000000001101111111111000000...\n",
       "\n",
       "[1299 rows x 2 columns]"
      ]
     },
     "execution_count": 13,
     "metadata": {},
     "output_type": "execute_result"
    }
   ],
   "source": [
    "df_binary"
   ]
  },
  {
   "cell_type": "code",
   "execution_count": 14,
   "metadata": {},
   "outputs": [
    {
     "name": "stderr",
     "output_type": "stream",
     "text": [
      "/var/folders/lm/412tcw7x3p38drhs1zgsz2x00000gn/T/ipykernel_10405/248239652.py:1: UserWarning: Boolean Series key will be reindexed to match DataFrame index.\n",
      "  df_train_bin = df_binary[df_hex[\"Label\"].isin(train_devices)]\n",
      "/var/folders/lm/412tcw7x3p38drhs1zgsz2x00000gn/T/ipykernel_10405/248239652.py:2: UserWarning: Boolean Series key will be reindexed to match DataFrame index.\n",
      "  df_test_bin = df_binary[df_hex[\"Label\"].isin(test_devices)]\n"
     ]
    }
   ],
   "source": [
    "df_train_bin = df_binary[df_hex[\"Label\"].isin(train_devices)]\n",
    "df_test_bin = df_binary[df_hex[\"Label\"].isin(test_devices)]"
   ]
  },
  {
   "cell_type": "code",
   "execution_count": 16,
   "metadata": {},
   "outputs": [],
   "source": [
    "# Separate the entries with label 'SamsungS4_C'\n",
    "df_samsung = df_train_bin[df_train_bin[\"label\"] == \"SamsungS4_C\"]\n",
    "\n",
    "# Undersample to 2000 entries\n",
    "df_samsung_undersampled = resample(\n",
    "    df_samsung, replace=False, n_samples=60, random_state=42\n",
    ")\n",
    "\n",
    "# Combine with the rest of the data\n",
    "df_train_bin = pd.concat(\n",
    "    [\n",
    "        df_train_bin[df_train_bin[\"label\"] != \"SamsungS4_C\"],\n",
    "        df_samsung_undersampled,\n",
    "    ]\n",
    ")"
   ]
  },
  {
   "cell_type": "code",
   "execution_count": 18,
   "metadata": {},
   "outputs": [
    {
     "data": {
      "image/png": "[encoded data removed]",
      "text/plain": [
       "<Figure size 1000x600 with 1 Axes>"
      ]
     },
     "metadata": {},
     "output_type": "display_data"
    }
   ],
   "source": [
    "fancyPlots.plot_label_distribution(df_train_bin, \"label\")"
   ]
  },
  {
   "cell_type": "code",
   "execution_count": 20,
   "metadata": {},
   "outputs": [],
   "source": [
    "df_train_bin.to_csv(config[\"DEFAULT\"][\"train_test_path\"] + \"bin_train.csv\", index=False)\n",
    "df_test_bin.to_csv(config[\"DEFAULT\"][\"train_test_path\"] + \"bin_test.csv\", index=False)"
   ]
  },
  {
   "cell_type": "code",
   "execution_count": null,
   "metadata": {},
   "outputs": [],
   "source": []
  }
 ],
 "metadata": {
  "kernelspec": {
   "display_name": ".venv",
   "language": "python",
   "name": "python3"
  },
  "language_info": {
   "codemirror_mode": {
    "name": "ipython",
    "version": 3
   },
   "file_extension": ".py",
   "mimetype": "text/x-python",
   "name": "python",
   "nbconvert_exporter": "python",
   "pygments_lexer": "ipython3",
   "version": "3.12.8"
  }
 },
 "nbformat": 4,
 "nbformat_minor": 2
}
