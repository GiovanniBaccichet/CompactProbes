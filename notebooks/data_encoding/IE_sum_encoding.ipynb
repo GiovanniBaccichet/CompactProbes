{
 "cells": [
  {
   "cell_type": "markdown",
   "metadata": {},
   "source": [
    "# Information Elements Sum Encoding"
   ]
  },
  {
   "cell_type": "markdown",
   "metadata": {},
   "source": [
    "## Libraries and Configurations"
   ]
  },
  {
   "cell_type": "markdown",
   "metadata": {},
   "source": [
    "Import configuration files"
   ]
  },
  {
   "cell_type": "code",
   "execution_count": 1,
   "metadata": {},
   "outputs": [
    {
     "data": {
      "text/plain": [
       "['../config.ini']"
      ]
     },
     "execution_count": 1,
     "metadata": {},
     "output_type": "execute_result"
    }
   ],
   "source": [
    "from configparser import ConfigParser\n",
    "\n",
    "config = ConfigParser()\n",
    "config.read(\"../config.ini\")"
   ]
  },
  {
   "cell_type": "markdown",
   "metadata": {},
   "source": [
    "Import **data libraries**"
   ]
  },
  {
   "cell_type": "code",
   "execution_count": 2,
   "metadata": {},
   "outputs": [],
   "source": [
    "import pandas as pd"
   ]
  },
  {
   "cell_type": "markdown",
   "metadata": {},
   "source": [
    "Import **other libraries**"
   ]
  },
  {
   "cell_type": "code",
   "execution_count": 3,
   "metadata": {},
   "outputs": [
    {
     "data": {
      "text/plain": [
       "<bound method InteractiveShell.excepthook of <ipykernel.zmqshell.ZMQInteractiveShell object at 0x108168d90>>"
      ]
     },
     "execution_count": 3,
     "metadata": {},
     "output_type": "execute_result"
    }
   ],
   "source": [
    "from rich.progress import Progress\n",
    "from rich import traceback\n",
    "\n",
    "traceback.install()"
   ]
  },
  {
   "cell_type": "markdown",
   "metadata": {},
   "source": [
    "Custom helper scripts"
   ]
  },
  {
   "cell_type": "code",
   "execution_count": 4,
   "metadata": {},
   "outputs": [
    {
     "name": "stdout",
     "output_type": "stream",
     "text": [
      "/Users/bacci/Library/CloudStorage/SynologyDrive-giovanni/Research 🌱/Repositories/COMPACT/notebooks\n",
      "/Users/bacci/Library/CloudStorage/SynologyDrive-giovanni/Research 🌱/Repositories/COMPACT/notebooks/data_exploration_cleaning\n"
     ]
    }
   ],
   "source": [
    "%cd ..\n",
    "from scripts import plotHelper, encodingHelper\n",
    "%cd data_exploration_cleaning"
   ]
  },
  {
   "cell_type": "markdown",
   "metadata": {},
   "source": [
    "## Import Data"
   ]
  },
  {
   "cell_type": "code",
   "execution_count": 5,
   "metadata": {},
   "outputs": [],
   "source": [
    "# Combined dataframe\n",
    "combined_df_csv = config[\"DEFAULT\"][\"interim_path\"] + \"combined_df_raw_balanced.csv\""
   ]
  },
  {
   "cell_type": "code",
   "execution_count": 6,
   "metadata": {},
   "outputs": [],
   "source": [
    "df = pd.read_csv(combined_df_csv, index_col=0)\n",
    "\n",
    "df.Timestamp = pd.to_datetime(df.Timestamp)"
   ]
  },
  {
   "cell_type": "markdown",
   "metadata": {},
   "source": [
    "Filling empty fields with `-1`"
   ]
  },
  {
   "cell_type": "code",
   "execution_count": 7,
   "metadata": {},
   "outputs": [],
   "source": [
    "df.fillna(-1, inplace=True)"
   ]
  },
  {
   "cell_type": "code",
   "execution_count": 8,
   "metadata": {},
   "outputs": [
    {
     "data": {
      "text/html": [
       "<div>\n",
       "<style scoped>\n",
       "    .dataframe tbody tr th:only-of-type {\n",
       "        vertical-align: middle;\n",
       "    }\n",
       "\n",
       "    .dataframe tbody tr th {\n",
       "        vertical-align: top;\n",
       "    }\n",
       "\n",
       "    .dataframe thead th {\n",
       "        text-align: right;\n",
       "    }\n",
       "</style>\n",
       "<table border=\"1\" class=\"dataframe\">\n",
       "  <thead>\n",
       "    <tr style=\"text-align: right;\">\n",
       "      <th></th>\n",
       "      <th>Timestamp</th>\n",
       "      <th>MAC Address</th>\n",
       "      <th>Channel</th>\n",
       "      <th>DS Channel</th>\n",
       "      <th>HT Capabilities</th>\n",
       "      <th>Extended Capabilities</th>\n",
       "      <th>Vendor Specific Tags</th>\n",
       "      <th>SSID</th>\n",
       "      <th>Supported Rates</th>\n",
       "      <th>Extended Supported Rates</th>\n",
       "      <th>VHT Capabilities</th>\n",
       "      <th>HE Capabilities</th>\n",
       "      <th>Length</th>\n",
       "      <th>Label</th>\n",
       "    </tr>\n",
       "  </thead>\n",
       "  <tbody>\n",
       "    <tr>\n",
       "      <th>0</th>\n",
       "      <td>2023-05-20 13:52:01.864465952</td>\n",
       "      <td>d2:6b:aa:b5:fb:ed</td>\n",
       "      <td>1</td>\n",
       "      <td>1.0</td>\n",
       "      <td>2d001bff00000000000000000000000000000000000000...</td>\n",
       "      <td>80000000040000020</td>\n",
       "      <td>-1</td>\n",
       "      <td>-1</td>\n",
       "      <td>82848b96</td>\n",
       "      <td>0c1218243048606c</td>\n",
       "      <td>-1</td>\n",
       "      <td>23010808180080203002000d009f08000000fdfffdff39...</td>\n",
       "      <td>135</td>\n",
       "      <td>iPhone12Pro_C</td>\n",
       "    </tr>\n",
       "    <tr>\n",
       "      <th>1</th>\n",
       "      <td>2023-05-20 13:52:01.884716034</td>\n",
       "      <td>d2:6b:aa:b5:fb:ed</td>\n",
       "      <td>1</td>\n",
       "      <td>1.0</td>\n",
       "      <td>2d001bff00000000000000000000000000000000000000...</td>\n",
       "      <td>80000000040000020</td>\n",
       "      <td>-1</td>\n",
       "      <td>-1</td>\n",
       "      <td>82848b96</td>\n",
       "      <td>0c1218243048606c</td>\n",
       "      <td>-1</td>\n",
       "      <td>23010808180080203002000d009f08000000fdfffdff39...</td>\n",
       "      <td>135</td>\n",
       "      <td>iPhone12Pro_C</td>\n",
       "    </tr>\n",
       "    <tr>\n",
       "      <th>2</th>\n",
       "      <td>2023-05-20 13:52:01.910542011</td>\n",
       "      <td>d2:6b:aa:b5:fb:ed</td>\n",
       "      <td>6</td>\n",
       "      <td>6.0</td>\n",
       "      <td>2d001bff00000000000000000000000000000000000000...</td>\n",
       "      <td>80000000040000020</td>\n",
       "      <td>-1</td>\n",
       "      <td>-1</td>\n",
       "      <td>82848b96</td>\n",
       "      <td>0c1218243048606c</td>\n",
       "      <td>-1</td>\n",
       "      <td>23010808180080203002000d009f08000000fdfffdff39...</td>\n",
       "      <td>135</td>\n",
       "      <td>iPhone12Pro_C</td>\n",
       "    </tr>\n",
       "    <tr>\n",
       "      <th>3</th>\n",
       "      <td>2023-05-20 13:52:01.930788994</td>\n",
       "      <td>d2:6b:aa:b5:fb:ed</td>\n",
       "      <td>6</td>\n",
       "      <td>6.0</td>\n",
       "      <td>2d001bff00000000000000000000000000000000000000...</td>\n",
       "      <td>80000000040000020</td>\n",
       "      <td>-1</td>\n",
       "      <td>-1</td>\n",
       "      <td>82848b96</td>\n",
       "      <td>0c1218243048606c</td>\n",
       "      <td>-1</td>\n",
       "      <td>23010808180080203002000d009f08000000fdfffdff39...</td>\n",
       "      <td>135</td>\n",
       "      <td>iPhone12Pro_C</td>\n",
       "    </tr>\n",
       "    <tr>\n",
       "      <th>4</th>\n",
       "      <td>2023-05-20 13:52:01.968745947</td>\n",
       "      <td>d2:6b:aa:b5:fb:ed</td>\n",
       "      <td>11</td>\n",
       "      <td>11.0</td>\n",
       "      <td>2d001bff00000000000000000000000000000000000000...</td>\n",
       "      <td>80000000040000020</td>\n",
       "      <td>-1</td>\n",
       "      <td>-1</td>\n",
       "      <td>82848b96</td>\n",
       "      <td>0c1218243048606c</td>\n",
       "      <td>-1</td>\n",
       "      <td>23010808180080203002000d009f08000000fdfffdff39...</td>\n",
       "      <td>135</td>\n",
       "      <td>iPhone12Pro_C</td>\n",
       "    </tr>\n",
       "    <tr>\n",
       "      <th>...</th>\n",
       "      <td>...</td>\n",
       "      <td>...</td>\n",
       "      <td>...</td>\n",
       "      <td>...</td>\n",
       "      <td>...</td>\n",
       "      <td>...</td>\n",
       "      <td>...</td>\n",
       "      <td>...</td>\n",
       "      <td>...</td>\n",
       "      <td>...</td>\n",
       "      <td>...</td>\n",
       "      <td>...</td>\n",
       "      <td>...</td>\n",
       "      <td>...</td>\n",
       "    </tr>\n",
       "    <tr>\n",
       "      <th>13939</th>\n",
       "      <td>2021-07-07 12:02:57.579541922</td>\n",
       "      <td>da:a1:19:00:17:f9</td>\n",
       "      <td>6</td>\n",
       "      <td>1.0</td>\n",
       "      <td>2d0113ff00000000000000000000000000000000000000...</td>\n",
       "      <td>04000a02004000408001</td>\n",
       "      <td>0050f208002400</td>\n",
       "      <td>-1</td>\n",
       "      <td>02040b16</td>\n",
       "      <td>0c1218243048606c</td>\n",
       "      <td>92719033feff8601feff8601</td>\n",
       "      <td>02000f</td>\n",
       "      <td>182</td>\n",
       "      <td>XiaomiRedmiNote7_S</td>\n",
       "    </tr>\n",
       "    <tr>\n",
       "      <th>13940</th>\n",
       "      <td>2021-07-07 11:32:04.533828019</td>\n",
       "      <td>da:a1:19:1a:cc:8f</td>\n",
       "      <td>6</td>\n",
       "      <td>8.0</td>\n",
       "      <td>2d0113ff00000000000000000000000000000000000000...</td>\n",
       "      <td>04000a02004000408001</td>\n",
       "      <td>0050f208002400</td>\n",
       "      <td>Wind3 HUB-6D1619</td>\n",
       "      <td>02040b16</td>\n",
       "      <td>0c1218243048606c</td>\n",
       "      <td>92719033feff8601feff8601</td>\n",
       "      <td>020010</td>\n",
       "      <td>198</td>\n",
       "      <td>XiaomiRedmiNote7_S</td>\n",
       "    </tr>\n",
       "    <tr>\n",
       "      <th>13941</th>\n",
       "      <td>2021-07-07 11:46:50.089955091</td>\n",
       "      <td>da:a1:19:41:c9:b1</td>\n",
       "      <td>11</td>\n",
       "      <td>5.0</td>\n",
       "      <td>2d0113ff00000000000000000000000000000000000000...</td>\n",
       "      <td>04000a02004000408001</td>\n",
       "      <td>0050f208002400</td>\n",
       "      <td>-1</td>\n",
       "      <td>02040b16</td>\n",
       "      <td>0c1218243048606c</td>\n",
       "      <td>92719033feff8601feff8601</td>\n",
       "      <td>020025</td>\n",
       "      <td>143</td>\n",
       "      <td>XiaomiRedmiNote7_S</td>\n",
       "    </tr>\n",
       "    <tr>\n",
       "      <th>13942</th>\n",
       "      <td>2021-07-07 12:16:31.309731960</td>\n",
       "      <td>da:a1:19:c7:24:b1</td>\n",
       "      <td>1</td>\n",
       "      <td>3.0</td>\n",
       "      <td>2d0113ff00000000000000000000000000000000000000...</td>\n",
       "      <td>04000a02004000408001</td>\n",
       "      <td>0050f208002400</td>\n",
       "      <td>-1</td>\n",
       "      <td>02040b16</td>\n",
       "      <td>0c1218243048606c</td>\n",
       "      <td>92719033feff8601feff8601</td>\n",
       "      <td>020010</td>\n",
       "      <td>182</td>\n",
       "      <td>XiaomiRedmiNote7_S</td>\n",
       "    </tr>\n",
       "    <tr>\n",
       "      <th>13943</th>\n",
       "      <td>2021-07-07 11:19:07.014556885</td>\n",
       "      <td>da:a1:19:05:11:80</td>\n",
       "      <td>1</td>\n",
       "      <td>5.0</td>\n",
       "      <td>2d0113ff00000000000000000000000000000000000000...</td>\n",
       "      <td>04000a02004000408001</td>\n",
       "      <td>0050f208002400</td>\n",
       "      <td>Wind3 HUB-6D1619</td>\n",
       "      <td>02040b16</td>\n",
       "      <td>0c1218243048606c</td>\n",
       "      <td>92719033feff8601feff8601</td>\n",
       "      <td>020010</td>\n",
       "      <td>198</td>\n",
       "      <td>XiaomiRedmiNote7_S</td>\n",
       "    </tr>\n",
       "  </tbody>\n",
       "</table>\n",
       "<p>36046 rows × 14 columns</p>\n",
       "</div>"
      ],
      "text/plain": [
       "                          Timestamp        MAC Address  Channel  DS Channel  \\\n",
       "0     2023-05-20 13:52:01.864465952  d2:6b:aa:b5:fb:ed        1         1.0   \n",
       "1     2023-05-20 13:52:01.884716034  d2:6b:aa:b5:fb:ed        1         1.0   \n",
       "2     2023-05-20 13:52:01.910542011  d2:6b:aa:b5:fb:ed        6         6.0   \n",
       "3     2023-05-20 13:52:01.930788994  d2:6b:aa:b5:fb:ed        6         6.0   \n",
       "4     2023-05-20 13:52:01.968745947  d2:6b:aa:b5:fb:ed       11        11.0   \n",
       "...                             ...                ...      ...         ...   \n",
       "13939 2021-07-07 12:02:57.579541922  da:a1:19:00:17:f9        6         1.0   \n",
       "13940 2021-07-07 11:32:04.533828019  da:a1:19:1a:cc:8f        6         8.0   \n",
       "13941 2021-07-07 11:46:50.089955091  da:a1:19:41:c9:b1       11         5.0   \n",
       "13942 2021-07-07 12:16:31.309731960  da:a1:19:c7:24:b1        1         3.0   \n",
       "13943 2021-07-07 11:19:07.014556885  da:a1:19:05:11:80        1         5.0   \n",
       "\n",
       "                                         HT Capabilities  \\\n",
       "0      2d001bff00000000000000000000000000000000000000...   \n",
       "1      2d001bff00000000000000000000000000000000000000...   \n",
       "2      2d001bff00000000000000000000000000000000000000...   \n",
       "3      2d001bff00000000000000000000000000000000000000...   \n",
       "4      2d001bff00000000000000000000000000000000000000...   \n",
       "...                                                  ...   \n",
       "13939  2d0113ff00000000000000000000000000000000000000...   \n",
       "13940  2d0113ff00000000000000000000000000000000000000...   \n",
       "13941  2d0113ff00000000000000000000000000000000000000...   \n",
       "13942  2d0113ff00000000000000000000000000000000000000...   \n",
       "13943  2d0113ff00000000000000000000000000000000000000...   \n",
       "\n",
       "      Extended Capabilities Vendor Specific Tags              SSID  \\\n",
       "0         80000000040000020                   -1                -1   \n",
       "1         80000000040000020                   -1                -1   \n",
       "2         80000000040000020                   -1                -1   \n",
       "3         80000000040000020                   -1                -1   \n",
       "4         80000000040000020                   -1                -1   \n",
       "...                     ...                  ...               ...   \n",
       "13939  04000a02004000408001       0050f208002400                -1   \n",
       "13940  04000a02004000408001       0050f208002400  Wind3 HUB-6D1619   \n",
       "13941  04000a02004000408001       0050f208002400                -1   \n",
       "13942  04000a02004000408001       0050f208002400                -1   \n",
       "13943  04000a02004000408001       0050f208002400  Wind3 HUB-6D1619   \n",
       "\n",
       "      Supported Rates Extended Supported Rates          VHT Capabilities  \\\n",
       "0            82848b96         0c1218243048606c                        -1   \n",
       "1            82848b96         0c1218243048606c                        -1   \n",
       "2            82848b96         0c1218243048606c                        -1   \n",
       "3            82848b96         0c1218243048606c                        -1   \n",
       "4            82848b96         0c1218243048606c                        -1   \n",
       "...               ...                      ...                       ...   \n",
       "13939        02040b16         0c1218243048606c  92719033feff8601feff8601   \n",
       "13940        02040b16         0c1218243048606c  92719033feff8601feff8601   \n",
       "13941        02040b16         0c1218243048606c  92719033feff8601feff8601   \n",
       "13942        02040b16         0c1218243048606c  92719033feff8601feff8601   \n",
       "13943        02040b16         0c1218243048606c  92719033feff8601feff8601   \n",
       "\n",
       "                                         HE Capabilities  Length  \\\n",
       "0      23010808180080203002000d009f08000000fdfffdff39...     135   \n",
       "1      23010808180080203002000d009f08000000fdfffdff39...     135   \n",
       "2      23010808180080203002000d009f08000000fdfffdff39...     135   \n",
       "3      23010808180080203002000d009f08000000fdfffdff39...     135   \n",
       "4      23010808180080203002000d009f08000000fdfffdff39...     135   \n",
       "...                                                  ...     ...   \n",
       "13939                                             02000f     182   \n",
       "13940                                             020010     198   \n",
       "13941                                             020025     143   \n",
       "13942                                             020010     182   \n",
       "13943                                             020010     198   \n",
       "\n",
       "                    Label  \n",
       "0           iPhone12Pro_C  \n",
       "1           iPhone12Pro_C  \n",
       "2           iPhone12Pro_C  \n",
       "3           iPhone12Pro_C  \n",
       "4           iPhone12Pro_C  \n",
       "...                   ...  \n",
       "13939  XiaomiRedmiNote7_S  \n",
       "13940  XiaomiRedmiNote7_S  \n",
       "13941  XiaomiRedmiNote7_S  \n",
       "13942  XiaomiRedmiNote7_S  \n",
       "13943  XiaomiRedmiNote7_S  \n",
       "\n",
       "[36046 rows x 14 columns]"
      ]
     },
     "execution_count": 8,
     "metadata": {},
     "output_type": "execute_result"
    }
   ],
   "source": [
    "df"
   ]
  },
  {
   "cell_type": "markdown",
   "metadata": {},
   "source": [
    "Dropping columns that are used only by a small percentage of devices, based on the `data_visualization_statistics.ipynb`"
   ]
  },
  {
   "cell_type": "code",
   "execution_count": 9,
   "metadata": {},
   "outputs": [],
   "source": [
    "df.drop(columns=[\"SSID\", \"HE Capabilities\", \"VHT Capabilities\"], inplace=True)"
   ]
  },
  {
   "cell_type": "code",
   "execution_count": 10,
   "metadata": {},
   "outputs": [
    {
     "data": {
      "text/html": [
       "<div>\n",
       "<style scoped>\n",
       "    .dataframe tbody tr th:only-of-type {\n",
       "        vertical-align: middle;\n",
       "    }\n",
       "\n",
       "    .dataframe tbody tr th {\n",
       "        vertical-align: top;\n",
       "    }\n",
       "\n",
       "    .dataframe thead th {\n",
       "        text-align: right;\n",
       "    }\n",
       "</style>\n",
       "<table border=\"1\" class=\"dataframe\">\n",
       "  <thead>\n",
       "    <tr style=\"text-align: right;\">\n",
       "      <th></th>\n",
       "      <th>Timestamp</th>\n",
       "      <th>MAC Address</th>\n",
       "      <th>Channel</th>\n",
       "      <th>DS Channel</th>\n",
       "      <th>HT Capabilities</th>\n",
       "      <th>Extended Capabilities</th>\n",
       "      <th>Vendor Specific Tags</th>\n",
       "      <th>Supported Rates</th>\n",
       "      <th>Extended Supported Rates</th>\n",
       "      <th>Length</th>\n",
       "      <th>Label</th>\n",
       "    </tr>\n",
       "  </thead>\n",
       "  <tbody>\n",
       "    <tr>\n",
       "      <th>0</th>\n",
       "      <td>2023-05-20 13:52:01.864465952</td>\n",
       "      <td>d2:6b:aa:b5:fb:ed</td>\n",
       "      <td>1</td>\n",
       "      <td>1.0</td>\n",
       "      <td>2d001bff00000000000000000000000000000000000000...</td>\n",
       "      <td>80000000040000020</td>\n",
       "      <td>-1</td>\n",
       "      <td>82848b96</td>\n",
       "      <td>0c1218243048606c</td>\n",
       "      <td>135</td>\n",
       "      <td>iPhone12Pro_C</td>\n",
       "    </tr>\n",
       "    <tr>\n",
       "      <th>1</th>\n",
       "      <td>2023-05-20 13:52:01.884716034</td>\n",
       "      <td>d2:6b:aa:b5:fb:ed</td>\n",
       "      <td>1</td>\n",
       "      <td>1.0</td>\n",
       "      <td>2d001bff00000000000000000000000000000000000000...</td>\n",
       "      <td>80000000040000020</td>\n",
       "      <td>-1</td>\n",
       "      <td>82848b96</td>\n",
       "      <td>0c1218243048606c</td>\n",
       "      <td>135</td>\n",
       "      <td>iPhone12Pro_C</td>\n",
       "    </tr>\n",
       "    <tr>\n",
       "      <th>2</th>\n",
       "      <td>2023-05-20 13:52:01.910542011</td>\n",
       "      <td>d2:6b:aa:b5:fb:ed</td>\n",
       "      <td>6</td>\n",
       "      <td>6.0</td>\n",
       "      <td>2d001bff00000000000000000000000000000000000000...</td>\n",
       "      <td>80000000040000020</td>\n",
       "      <td>-1</td>\n",
       "      <td>82848b96</td>\n",
       "      <td>0c1218243048606c</td>\n",
       "      <td>135</td>\n",
       "      <td>iPhone12Pro_C</td>\n",
       "    </tr>\n",
       "    <tr>\n",
       "      <th>3</th>\n",
       "      <td>2023-05-20 13:52:01.930788994</td>\n",
       "      <td>d2:6b:aa:b5:fb:ed</td>\n",
       "      <td>6</td>\n",
       "      <td>6.0</td>\n",
       "      <td>2d001bff00000000000000000000000000000000000000...</td>\n",
       "      <td>80000000040000020</td>\n",
       "      <td>-1</td>\n",
       "      <td>82848b96</td>\n",
       "      <td>0c1218243048606c</td>\n",
       "      <td>135</td>\n",
       "      <td>iPhone12Pro_C</td>\n",
       "    </tr>\n",
       "    <tr>\n",
       "      <th>4</th>\n",
       "      <td>2023-05-20 13:52:01.968745947</td>\n",
       "      <td>d2:6b:aa:b5:fb:ed</td>\n",
       "      <td>11</td>\n",
       "      <td>11.0</td>\n",
       "      <td>2d001bff00000000000000000000000000000000000000...</td>\n",
       "      <td>80000000040000020</td>\n",
       "      <td>-1</td>\n",
       "      <td>82848b96</td>\n",
       "      <td>0c1218243048606c</td>\n",
       "      <td>135</td>\n",
       "      <td>iPhone12Pro_C</td>\n",
       "    </tr>\n",
       "    <tr>\n",
       "      <th>...</th>\n",
       "      <td>...</td>\n",
       "      <td>...</td>\n",
       "      <td>...</td>\n",
       "      <td>...</td>\n",
       "      <td>...</td>\n",
       "      <td>...</td>\n",
       "      <td>...</td>\n",
       "      <td>...</td>\n",
       "      <td>...</td>\n",
       "      <td>...</td>\n",
       "      <td>...</td>\n",
       "    </tr>\n",
       "    <tr>\n",
       "      <th>13939</th>\n",
       "      <td>2021-07-07 12:02:57.579541922</td>\n",
       "      <td>da:a1:19:00:17:f9</td>\n",
       "      <td>6</td>\n",
       "      <td>1.0</td>\n",
       "      <td>2d0113ff00000000000000000000000000000000000000...</td>\n",
       "      <td>04000a02004000408001</td>\n",
       "      <td>0050f208002400</td>\n",
       "      <td>02040b16</td>\n",
       "      <td>0c1218243048606c</td>\n",
       "      <td>182</td>\n",
       "      <td>XiaomiRedmiNote7_S</td>\n",
       "    </tr>\n",
       "    <tr>\n",
       "      <th>13940</th>\n",
       "      <td>2021-07-07 11:32:04.533828019</td>\n",
       "      <td>da:a1:19:1a:cc:8f</td>\n",
       "      <td>6</td>\n",
       "      <td>8.0</td>\n",
       "      <td>2d0113ff00000000000000000000000000000000000000...</td>\n",
       "      <td>04000a02004000408001</td>\n",
       "      <td>0050f208002400</td>\n",
       "      <td>02040b16</td>\n",
       "      <td>0c1218243048606c</td>\n",
       "      <td>198</td>\n",
       "      <td>XiaomiRedmiNote7_S</td>\n",
       "    </tr>\n",
       "    <tr>\n",
       "      <th>13941</th>\n",
       "      <td>2021-07-07 11:46:50.089955091</td>\n",
       "      <td>da:a1:19:41:c9:b1</td>\n",
       "      <td>11</td>\n",
       "      <td>5.0</td>\n",
       "      <td>2d0113ff00000000000000000000000000000000000000...</td>\n",
       "      <td>04000a02004000408001</td>\n",
       "      <td>0050f208002400</td>\n",
       "      <td>02040b16</td>\n",
       "      <td>0c1218243048606c</td>\n",
       "      <td>143</td>\n",
       "      <td>XiaomiRedmiNote7_S</td>\n",
       "    </tr>\n",
       "    <tr>\n",
       "      <th>13942</th>\n",
       "      <td>2021-07-07 12:16:31.309731960</td>\n",
       "      <td>da:a1:19:c7:24:b1</td>\n",
       "      <td>1</td>\n",
       "      <td>3.0</td>\n",
       "      <td>2d0113ff00000000000000000000000000000000000000...</td>\n",
       "      <td>04000a02004000408001</td>\n",
       "      <td>0050f208002400</td>\n",
       "      <td>02040b16</td>\n",
       "      <td>0c1218243048606c</td>\n",
       "      <td>182</td>\n",
       "      <td>XiaomiRedmiNote7_S</td>\n",
       "    </tr>\n",
       "    <tr>\n",
       "      <th>13943</th>\n",
       "      <td>2021-07-07 11:19:07.014556885</td>\n",
       "      <td>da:a1:19:05:11:80</td>\n",
       "      <td>1</td>\n",
       "      <td>5.0</td>\n",
       "      <td>2d0113ff00000000000000000000000000000000000000...</td>\n",
       "      <td>04000a02004000408001</td>\n",
       "      <td>0050f208002400</td>\n",
       "      <td>02040b16</td>\n",
       "      <td>0c1218243048606c</td>\n",
       "      <td>198</td>\n",
       "      <td>XiaomiRedmiNote7_S</td>\n",
       "    </tr>\n",
       "  </tbody>\n",
       "</table>\n",
       "<p>36046 rows × 11 columns</p>\n",
       "</div>"
      ],
      "text/plain": [
       "                          Timestamp        MAC Address  Channel  DS Channel  \\\n",
       "0     2023-05-20 13:52:01.864465952  d2:6b:aa:b5:fb:ed        1         1.0   \n",
       "1     2023-05-20 13:52:01.884716034  d2:6b:aa:b5:fb:ed        1         1.0   \n",
       "2     2023-05-20 13:52:01.910542011  d2:6b:aa:b5:fb:ed        6         6.0   \n",
       "3     2023-05-20 13:52:01.930788994  d2:6b:aa:b5:fb:ed        6         6.0   \n",
       "4     2023-05-20 13:52:01.968745947  d2:6b:aa:b5:fb:ed       11        11.0   \n",
       "...                             ...                ...      ...         ...   \n",
       "13939 2021-07-07 12:02:57.579541922  da:a1:19:00:17:f9        6         1.0   \n",
       "13940 2021-07-07 11:32:04.533828019  da:a1:19:1a:cc:8f        6         8.0   \n",
       "13941 2021-07-07 11:46:50.089955091  da:a1:19:41:c9:b1       11         5.0   \n",
       "13942 2021-07-07 12:16:31.309731960  da:a1:19:c7:24:b1        1         3.0   \n",
       "13943 2021-07-07 11:19:07.014556885  da:a1:19:05:11:80        1         5.0   \n",
       "\n",
       "                                         HT Capabilities  \\\n",
       "0      2d001bff00000000000000000000000000000000000000...   \n",
       "1      2d001bff00000000000000000000000000000000000000...   \n",
       "2      2d001bff00000000000000000000000000000000000000...   \n",
       "3      2d001bff00000000000000000000000000000000000000...   \n",
       "4      2d001bff00000000000000000000000000000000000000...   \n",
       "...                                                  ...   \n",
       "13939  2d0113ff00000000000000000000000000000000000000...   \n",
       "13940  2d0113ff00000000000000000000000000000000000000...   \n",
       "13941  2d0113ff00000000000000000000000000000000000000...   \n",
       "13942  2d0113ff00000000000000000000000000000000000000...   \n",
       "13943  2d0113ff00000000000000000000000000000000000000...   \n",
       "\n",
       "      Extended Capabilities Vendor Specific Tags Supported Rates  \\\n",
       "0         80000000040000020                   -1        82848b96   \n",
       "1         80000000040000020                   -1        82848b96   \n",
       "2         80000000040000020                   -1        82848b96   \n",
       "3         80000000040000020                   -1        82848b96   \n",
       "4         80000000040000020                   -1        82848b96   \n",
       "...                     ...                  ...             ...   \n",
       "13939  04000a02004000408001       0050f208002400        02040b16   \n",
       "13940  04000a02004000408001       0050f208002400        02040b16   \n",
       "13941  04000a02004000408001       0050f208002400        02040b16   \n",
       "13942  04000a02004000408001       0050f208002400        02040b16   \n",
       "13943  04000a02004000408001       0050f208002400        02040b16   \n",
       "\n",
       "      Extended Supported Rates  Length               Label  \n",
       "0             0c1218243048606c     135       iPhone12Pro_C  \n",
       "1             0c1218243048606c     135       iPhone12Pro_C  \n",
       "2             0c1218243048606c     135       iPhone12Pro_C  \n",
       "3             0c1218243048606c     135       iPhone12Pro_C  \n",
       "4             0c1218243048606c     135       iPhone12Pro_C  \n",
       "...                        ...     ...                 ...  \n",
       "13939         0c1218243048606c     182  XiaomiRedmiNote7_S  \n",
       "13940         0c1218243048606c     198  XiaomiRedmiNote7_S  \n",
       "13941         0c1218243048606c     143  XiaomiRedmiNote7_S  \n",
       "13942         0c1218243048606c     182  XiaomiRedmiNote7_S  \n",
       "13943         0c1218243048606c     198  XiaomiRedmiNote7_S  \n",
       "\n",
       "[36046 rows x 11 columns]"
      ]
     },
     "execution_count": 10,
     "metadata": {},
     "output_type": "execute_result"
    }
   ],
   "source": [
    "df"
   ]
  },
  {
   "cell_type": "markdown",
   "metadata": {},
   "source": [
    "## Hashing Columns using SUM function"
   ]
  },
  {
   "cell_type": "markdown",
   "metadata": {},
   "source": [
    "### HT Capabilities"
   ]
  },
  {
   "cell_type": "markdown",
   "metadata": {},
   "source": [
    "Number of unique `HT Capabilities`"
   ]
  },
  {
   "cell_type": "code",
   "execution_count": 11,
   "metadata": {},
   "outputs": [
    {
     "name": "stdout",
     "output_type": "stream",
     "text": [
      "Unique HT Capabilities: 23\n"
     ]
    }
   ],
   "source": [
    "print(\"Unique HT Capabilities:\", df[\"HT Capabilities\"].nunique())"
   ]
  },
  {
   "cell_type": "code",
   "execution_count": 12,
   "metadata": {},
   "outputs": [
    {
     "data": {
      "text/plain": [
       "HT Capabilities\n",
       "6e0103ff00000000000000000000000000000000000000000000    6232\n",
       "2d401bff00000000000000000000000000000000000000000000    5362\n",
       "2d4017ff00000000000000000000000000000000000000000000    3366\n",
       "2d0113ff00000000000000000000000000000000000000000000    2324\n",
       "2d1017ff00000000000000000000000000000000000000000000    2324\n",
       "21011bffff000000000000000000000000000000000000000000    2324\n",
       "210017ff00000000000000000080010000000000000000000000    2324\n",
       "ad0113ffff000000000000000000000000000000000000000000    2177\n",
       "2c101dff00000001000000000000000000000000000000000000    1541\n",
       "-1                                                      1502\n",
       "ef0113ffff000000000000000000000000000000000000000100    1184\n",
       "631117ffff000000000000000000000000000000000000000000    1156\n",
       "ad011bffff000000000000000000000000000000000000000000     861\n",
       "214017ff00000000000000000000000000000000000000000000     787\n",
       "2d4017ffff000000000000000000000000000000000000000000     754\n",
       "21001fff00000000000000000000000000000000000000000000     699\n",
       "2d0117ff00000000000000000000000000000000000000000000     485\n",
       "2d001bff00000000000000000000000000000000000000000000     350\n",
       "2d001bffff000000000000000000000000000000000000000000     143\n",
       "2d0017ff00000000000000000000000000000000000000000000     120\n",
       "6e0102ff000000000000000000000000000000000e0000000000      28\n",
       "2d401bffff000000000000000000000000000000000000000000       2\n",
       "e70917ffff000000000000000000000000000000000000000000       1\n",
       "Name: count, dtype: int64"
      ]
     },
     "execution_count": 12,
     "metadata": {},
     "output_type": "execute_result"
    }
   ],
   "source": [
    "df[\"HT Capabilities\"].value_counts()"
   ]
  },
  {
   "cell_type": "markdown",
   "metadata": {},
   "source": [
    "Hashing"
   ]
  },
  {
   "cell_type": "code",
   "execution_count": 13,
   "metadata": {},
   "outputs": [],
   "source": [
    "df[\"HT Capabilities SUM\"] = df[\"HT Capabilities\"].apply(\n",
    "    lambda x: -1 if x == -1 else sum([ord(c) for c in x])\n",
    ")"
   ]
  },
  {
   "cell_type": "markdown",
   "metadata": {},
   "source": [
    "Checking for collisions"
   ]
  },
  {
   "cell_type": "code",
   "execution_count": 14,
   "metadata": {},
   "outputs": [
    {
     "name": "stdout",
     "output_type": "stream",
     "text": [
      "[!] Collision Detected 21 < 23\n"
     ]
    }
   ],
   "source": [
    "if df[\"HT Capabilities SUM\"].nunique() < df[\"HT Capabilities\"].nunique():\n",
    "    print(\n",
    "        \"[!] Collision Detected\",\n",
    "        df[\"HT Capabilities SUM\"].nunique(),\n",
    "        \"<\",\n",
    "        df[\"HT Capabilities\"].nunique(),\n",
    "    )"
   ]
  },
  {
   "cell_type": "markdown",
   "metadata": {},
   "source": [
    "Looking for colliding items"
   ]
  },
  {
   "cell_type": "code",
   "execution_count": 16,
   "metadata": {},
   "outputs": [],
   "source": [
    "collisions = df.groupby(\"HT Capabilities SUM\")[\"HT Capabilities\"].unique()"
   ]
  },
  {
   "cell_type": "markdown",
   "metadata": {},
   "source": [
    "Printing colliding elements"
   ]
  },
  {
   "cell_type": "code",
   "execution_count": 39,
   "metadata": {},
   "outputs": [
    {
     "name": "stdout",
     "output_type": "stream",
     "text": [
      "2667 : \t 6e0103ff00000000000000000000000000000000000000000000 ['XiaomiA2_E' 'XiaomiRedmi4_B' 'XiaomiRedmi5_J']\n",
      "\t 2d0117ff00000000000000000000000000000000000000000000 ['SamsungM31_A']\n",
      "\t 2d1017ff00000000000000000000000000000000000000000000 ['SamsungS4_C']\n",
      "\n"
     ]
    }
   ],
   "source": [
    "# if the HT Capabilities column has more than one element in collisions, then print the elements\n",
    "for k, v in collisions.items():\n",
    "    if len(v) > 1:\n",
    "        print(k, \":\", end=\" \")\n",
    "        for x in v:\n",
    "            print(\"\\t\", x, df[df[\"HT Capabilities\"] == x][\"Label\"].unique())\n",
    "        print()"
   ]
  },
  {
   "cell_type": "markdown",
   "metadata": {},
   "source": [
    "From this we can see that several devices fall under the same hash of the `HT Capabilties` column: `XiaomiA2_E`, `XiaomiRedmi4_B`, `XiaomiRedmi5_J`, `SamsungM31_A`, `SamsungS4_C`. We can conclude that SUM is not a good function for hashing this particular kind of information elements."
   ]
  }
 ],
 "metadata": {
  "kernelspec": {
   "display_name": ".venv",
   "language": "python",
   "name": "python3"
  },
  "language_info": {
   "codemirror_mode": {
    "name": "ipython",
    "version": 3
   },
   "file_extension": ".py",
   "mimetype": "text/x-python",
   "name": "python",
   "nbconvert_exporter": "python",
   "pygments_lexer": "ipython3",
   "version": "3.11.7"
  }
 },
 "nbformat": 4,
 "nbformat_minor": 2
}
