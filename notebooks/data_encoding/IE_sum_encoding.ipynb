{
 "cells": [
  {
   "cell_type": "markdown",
   "metadata": {},
   "source": [
    "# Information Elements Sum Encoding"
   ]
  },
  {
   "cell_type": "markdown",
   "metadata": {},
   "source": [
    "## Libraries and Configurations"
   ]
  },
  {
   "cell_type": "markdown",
   "metadata": {},
   "source": [
    "Import configuration files"
   ]
  },
  {
   "cell_type": "code",
   "execution_count": 85,
   "metadata": {},
   "outputs": [
    {
     "data": {
      "text/plain": [
       "['../config.ini']"
      ]
     },
     "execution_count": 85,
     "metadata": {},
     "output_type": "execute_result"
    }
   ],
   "source": [
    "from configparser import ConfigParser\n",
    "\n",
    "config = ConfigParser()\n",
    "config.read(\"../config.ini\")"
   ]
  },
  {
   "cell_type": "markdown",
   "metadata": {},
   "source": [
    "Import **data libraries**"
   ]
  },
  {
   "cell_type": "code",
   "execution_count": 86,
   "metadata": {},
   "outputs": [],
   "source": [
    "import pandas as pd"
   ]
  },
  {
   "cell_type": "markdown",
   "metadata": {},
   "source": [
    "Import **other libraries**"
   ]
  },
  {
   "cell_type": "code",
   "execution_count": 87,
   "metadata": {},
   "outputs": [
    {
     "data": {
      "text/plain": [
       "<bound method InteractiveShell.excepthook of <ipykernel.zmqshell.ZMQInteractiveShell object at 0x111908a10>>"
      ]
     },
     "execution_count": 87,
     "metadata": {},
     "output_type": "execute_result"
    }
   ],
   "source": [
    "from rich.progress import Progress\n",
    "from rich import traceback\n",
    "\n",
    "traceback.install()"
   ]
  },
  {
   "cell_type": "markdown",
   "metadata": {},
   "source": [
    "Custom helper scripts"
   ]
  },
  {
   "cell_type": "code",
   "execution_count": 88,
   "metadata": {},
   "outputs": [
    {
     "name": "stdout",
     "output_type": "stream",
     "text": [
      "/Users/bacci/Library/CloudStorage/SynologyDrive-giovanni/Research 🌱/Repositories/COMPACT/notebooks\n",
      "/Users/bacci/Library/CloudStorage/SynologyDrive-giovanni/Research 🌱/Repositories/COMPACT/notebooks/data_exploration_cleaning\n"
     ]
    }
   ],
   "source": [
    "%cd ..\n",
    "from scripts import plotHelper, encodingHelper\n",
    "%cd data_exploration_cleaning"
   ]
  },
  {
   "cell_type": "markdown",
   "metadata": {},
   "source": [
    "## Import Data"
   ]
  },
  {
   "cell_type": "code",
   "execution_count": 89,
   "metadata": {},
   "outputs": [],
   "source": [
    "# Combined dataframe\n",
    "combined_df_csv = config[\"DEFAULT\"][\"interim_path\"] + \"balanced_df_raw.csv\""
   ]
  },
  {
   "cell_type": "code",
   "execution_count": 90,
   "metadata": {},
   "outputs": [],
   "source": [
    "df = pd.read_csv(combined_df_csv, index_col=0)\n",
    "\n",
    "df.Timestamp = pd.to_datetime(df.Timestamp)"
   ]
  },
  {
   "cell_type": "markdown",
   "metadata": {},
   "source": [
    "Filling empty fields with `-1`"
   ]
  },
  {
   "cell_type": "code",
   "execution_count": 91,
   "metadata": {},
   "outputs": [],
   "source": [
    "df.fillna(-1, inplace=True)"
   ]
  },
  {
   "cell_type": "code",
   "execution_count": 92,
   "metadata": {},
   "outputs": [
    {
     "data": {
      "text/html": [
       "<div>\n",
       "<style scoped>\n",
       "    .dataframe tbody tr th:only-of-type {\n",
       "        vertical-align: middle;\n",
       "    }\n",
       "\n",
       "    .dataframe tbody tr th {\n",
       "        vertical-align: top;\n",
       "    }\n",
       "\n",
       "    .dataframe thead th {\n",
       "        text-align: right;\n",
       "    }\n",
       "</style>\n",
       "<table border=\"1\" class=\"dataframe\">\n",
       "  <thead>\n",
       "    <tr style=\"text-align: right;\">\n",
       "      <th></th>\n",
       "      <th>Timestamp</th>\n",
       "      <th>MAC Address</th>\n",
       "      <th>Channel</th>\n",
       "      <th>DS Channel</th>\n",
       "      <th>HT Capabilities</th>\n",
       "      <th>Extended Capabilities</th>\n",
       "      <th>Vendor Specific Tags</th>\n",
       "      <th>SSID</th>\n",
       "      <th>Supported Rates</th>\n",
       "      <th>Extended Supported Rates</th>\n",
       "      <th>VHT Capabilities</th>\n",
       "      <th>HE Capabilities</th>\n",
       "      <th>Length</th>\n",
       "      <th>Label</th>\n",
       "    </tr>\n",
       "  </thead>\n",
       "  <tbody>\n",
       "    <tr>\n",
       "      <th>0</th>\n",
       "      <td>2023-05-20 13:52:01.864465952</td>\n",
       "      <td>d2:6b:aa:b5:fb:ed</td>\n",
       "      <td>1</td>\n",
       "      <td>1.0</td>\n",
       "      <td>2d001bff00000000000000000000000000000000000000...</td>\n",
       "      <td>80000000040000020</td>\n",
       "      <td>-1</td>\n",
       "      <td>-1</td>\n",
       "      <td>82848b96</td>\n",
       "      <td>0c1218243048606c</td>\n",
       "      <td>-1</td>\n",
       "      <td>23010808180080203002000d009f08000000fdfffdff39...</td>\n",
       "      <td>135</td>\n",
       "      <td>iPhone12Pro_C</td>\n",
       "    </tr>\n",
       "    <tr>\n",
       "      <th>1</th>\n",
       "      <td>2023-05-20 13:52:01.884716034</td>\n",
       "      <td>d2:6b:aa:b5:fb:ed</td>\n",
       "      <td>1</td>\n",
       "      <td>1.0</td>\n",
       "      <td>2d001bff00000000000000000000000000000000000000...</td>\n",
       "      <td>80000000040000020</td>\n",
       "      <td>-1</td>\n",
       "      <td>-1</td>\n",
       "      <td>82848b96</td>\n",
       "      <td>0c1218243048606c</td>\n",
       "      <td>-1</td>\n",
       "      <td>23010808180080203002000d009f08000000fdfffdff39...</td>\n",
       "      <td>135</td>\n",
       "      <td>iPhone12Pro_C</td>\n",
       "    </tr>\n",
       "    <tr>\n",
       "      <th>2</th>\n",
       "      <td>2023-05-20 13:52:01.910542011</td>\n",
       "      <td>d2:6b:aa:b5:fb:ed</td>\n",
       "      <td>6</td>\n",
       "      <td>6.0</td>\n",
       "      <td>2d001bff00000000000000000000000000000000000000...</td>\n",
       "      <td>80000000040000020</td>\n",
       "      <td>-1</td>\n",
       "      <td>-1</td>\n",
       "      <td>82848b96</td>\n",
       "      <td>0c1218243048606c</td>\n",
       "      <td>-1</td>\n",
       "      <td>23010808180080203002000d009f08000000fdfffdff39...</td>\n",
       "      <td>135</td>\n",
       "      <td>iPhone12Pro_C</td>\n",
       "    </tr>\n",
       "    <tr>\n",
       "      <th>3</th>\n",
       "      <td>2023-05-20 13:52:01.930788994</td>\n",
       "      <td>d2:6b:aa:b5:fb:ed</td>\n",
       "      <td>6</td>\n",
       "      <td>6.0</td>\n",
       "      <td>2d001bff00000000000000000000000000000000000000...</td>\n",
       "      <td>80000000040000020</td>\n",
       "      <td>-1</td>\n",
       "      <td>-1</td>\n",
       "      <td>82848b96</td>\n",
       "      <td>0c1218243048606c</td>\n",
       "      <td>-1</td>\n",
       "      <td>23010808180080203002000d009f08000000fdfffdff39...</td>\n",
       "      <td>135</td>\n",
       "      <td>iPhone12Pro_C</td>\n",
       "    </tr>\n",
       "    <tr>\n",
       "      <th>4</th>\n",
       "      <td>2023-05-20 13:52:01.968745947</td>\n",
       "      <td>d2:6b:aa:b5:fb:ed</td>\n",
       "      <td>11</td>\n",
       "      <td>11.0</td>\n",
       "      <td>2d001bff00000000000000000000000000000000000000...</td>\n",
       "      <td>80000000040000020</td>\n",
       "      <td>-1</td>\n",
       "      <td>-1</td>\n",
       "      <td>82848b96</td>\n",
       "      <td>0c1218243048606c</td>\n",
       "      <td>-1</td>\n",
       "      <td>23010808180080203002000d009f08000000fdfffdff39...</td>\n",
       "      <td>135</td>\n",
       "      <td>iPhone12Pro_C</td>\n",
       "    </tr>\n",
       "    <tr>\n",
       "      <th>...</th>\n",
       "      <td>...</td>\n",
       "      <td>...</td>\n",
       "      <td>...</td>\n",
       "      <td>...</td>\n",
       "      <td>...</td>\n",
       "      <td>...</td>\n",
       "      <td>...</td>\n",
       "      <td>...</td>\n",
       "      <td>...</td>\n",
       "      <td>...</td>\n",
       "      <td>...</td>\n",
       "      <td>...</td>\n",
       "      <td>...</td>\n",
       "      <td>...</td>\n",
       "    </tr>\n",
       "    <tr>\n",
       "      <th>13939</th>\n",
       "      <td>2021-07-07 12:02:57.579541922</td>\n",
       "      <td>da:a1:19:00:17:f9</td>\n",
       "      <td>6</td>\n",
       "      <td>1.0</td>\n",
       "      <td>2d0113ff00000000000000000000000000000000000000...</td>\n",
       "      <td>04000a02004000408001</td>\n",
       "      <td>0050f208002400</td>\n",
       "      <td>-1</td>\n",
       "      <td>02040b16</td>\n",
       "      <td>0c1218243048606c</td>\n",
       "      <td>92719033feff8601feff8601</td>\n",
       "      <td>02000f</td>\n",
       "      <td>182</td>\n",
       "      <td>XiaomiRedmiNote7_S</td>\n",
       "    </tr>\n",
       "    <tr>\n",
       "      <th>13940</th>\n",
       "      <td>2021-07-07 11:32:04.533828019</td>\n",
       "      <td>da:a1:19:1a:cc:8f</td>\n",
       "      <td>6</td>\n",
       "      <td>8.0</td>\n",
       "      <td>2d0113ff00000000000000000000000000000000000000...</td>\n",
       "      <td>04000a02004000408001</td>\n",
       "      <td>0050f208002400</td>\n",
       "      <td>Wind3 HUB-6D1619</td>\n",
       "      <td>02040b16</td>\n",
       "      <td>0c1218243048606c</td>\n",
       "      <td>92719033feff8601feff8601</td>\n",
       "      <td>020010</td>\n",
       "      <td>198</td>\n",
       "      <td>XiaomiRedmiNote7_S</td>\n",
       "    </tr>\n",
       "    <tr>\n",
       "      <th>13941</th>\n",
       "      <td>2021-07-07 11:46:50.089955091</td>\n",
       "      <td>da:a1:19:41:c9:b1</td>\n",
       "      <td>11</td>\n",
       "      <td>5.0</td>\n",
       "      <td>2d0113ff00000000000000000000000000000000000000...</td>\n",
       "      <td>04000a02004000408001</td>\n",
       "      <td>0050f208002400</td>\n",
       "      <td>-1</td>\n",
       "      <td>02040b16</td>\n",
       "      <td>0c1218243048606c</td>\n",
       "      <td>92719033feff8601feff8601</td>\n",
       "      <td>020025</td>\n",
       "      <td>143</td>\n",
       "      <td>XiaomiRedmiNote7_S</td>\n",
       "    </tr>\n",
       "    <tr>\n",
       "      <th>13942</th>\n",
       "      <td>2021-07-07 12:16:31.309731960</td>\n",
       "      <td>da:a1:19:c7:24:b1</td>\n",
       "      <td>1</td>\n",
       "      <td>3.0</td>\n",
       "      <td>2d0113ff00000000000000000000000000000000000000...</td>\n",
       "      <td>04000a02004000408001</td>\n",
       "      <td>0050f208002400</td>\n",
       "      <td>-1</td>\n",
       "      <td>02040b16</td>\n",
       "      <td>0c1218243048606c</td>\n",
       "      <td>92719033feff8601feff8601</td>\n",
       "      <td>020010</td>\n",
       "      <td>182</td>\n",
       "      <td>XiaomiRedmiNote7_S</td>\n",
       "    </tr>\n",
       "    <tr>\n",
       "      <th>13943</th>\n",
       "      <td>2021-07-07 11:19:07.014556885</td>\n",
       "      <td>da:a1:19:05:11:80</td>\n",
       "      <td>1</td>\n",
       "      <td>5.0</td>\n",
       "      <td>2d0113ff00000000000000000000000000000000000000...</td>\n",
       "      <td>04000a02004000408001</td>\n",
       "      <td>0050f208002400</td>\n",
       "      <td>Wind3 HUB-6D1619</td>\n",
       "      <td>02040b16</td>\n",
       "      <td>0c1218243048606c</td>\n",
       "      <td>92719033feff8601feff8601</td>\n",
       "      <td>020010</td>\n",
       "      <td>198</td>\n",
       "      <td>XiaomiRedmiNote7_S</td>\n",
       "    </tr>\n",
       "  </tbody>\n",
       "</table>\n",
       "<p>36046 rows × 14 columns</p>\n",
       "</div>"
      ],
      "text/plain": [
       "                          Timestamp        MAC Address  Channel  DS Channel  \\\n",
       "0     2023-05-20 13:52:01.864465952  d2:6b:aa:b5:fb:ed        1         1.0   \n",
       "1     2023-05-20 13:52:01.884716034  d2:6b:aa:b5:fb:ed        1         1.0   \n",
       "2     2023-05-20 13:52:01.910542011  d2:6b:aa:b5:fb:ed        6         6.0   \n",
       "3     2023-05-20 13:52:01.930788994  d2:6b:aa:b5:fb:ed        6         6.0   \n",
       "4     2023-05-20 13:52:01.968745947  d2:6b:aa:b5:fb:ed       11        11.0   \n",
       "...                             ...                ...      ...         ...   \n",
       "13939 2021-07-07 12:02:57.579541922  da:a1:19:00:17:f9        6         1.0   \n",
       "13940 2021-07-07 11:32:04.533828019  da:a1:19:1a:cc:8f        6         8.0   \n",
       "13941 2021-07-07 11:46:50.089955091  da:a1:19:41:c9:b1       11         5.0   \n",
       "13942 2021-07-07 12:16:31.309731960  da:a1:19:c7:24:b1        1         3.0   \n",
       "13943 2021-07-07 11:19:07.014556885  da:a1:19:05:11:80        1         5.0   \n",
       "\n",
       "                                         HT Capabilities  \\\n",
       "0      2d001bff00000000000000000000000000000000000000...   \n",
       "1      2d001bff00000000000000000000000000000000000000...   \n",
       "2      2d001bff00000000000000000000000000000000000000...   \n",
       "3      2d001bff00000000000000000000000000000000000000...   \n",
       "4      2d001bff00000000000000000000000000000000000000...   \n",
       "...                                                  ...   \n",
       "13939  2d0113ff00000000000000000000000000000000000000...   \n",
       "13940  2d0113ff00000000000000000000000000000000000000...   \n",
       "13941  2d0113ff00000000000000000000000000000000000000...   \n",
       "13942  2d0113ff00000000000000000000000000000000000000...   \n",
       "13943  2d0113ff00000000000000000000000000000000000000...   \n",
       "\n",
       "      Extended Capabilities Vendor Specific Tags              SSID  \\\n",
       "0         80000000040000020                   -1                -1   \n",
       "1         80000000040000020                   -1                -1   \n",
       "2         80000000040000020                   -1                -1   \n",
       "3         80000000040000020                   -1                -1   \n",
       "4         80000000040000020                   -1                -1   \n",
       "...                     ...                  ...               ...   \n",
       "13939  04000a02004000408001       0050f208002400                -1   \n",
       "13940  04000a02004000408001       0050f208002400  Wind3 HUB-6D1619   \n",
       "13941  04000a02004000408001       0050f208002400                -1   \n",
       "13942  04000a02004000408001       0050f208002400                -1   \n",
       "13943  04000a02004000408001       0050f208002400  Wind3 HUB-6D1619   \n",
       "\n",
       "      Supported Rates Extended Supported Rates          VHT Capabilities  \\\n",
       "0            82848b96         0c1218243048606c                        -1   \n",
       "1            82848b96         0c1218243048606c                        -1   \n",
       "2            82848b96         0c1218243048606c                        -1   \n",
       "3            82848b96         0c1218243048606c                        -1   \n",
       "4            82848b96         0c1218243048606c                        -1   \n",
       "...               ...                      ...                       ...   \n",
       "13939        02040b16         0c1218243048606c  92719033feff8601feff8601   \n",
       "13940        02040b16         0c1218243048606c  92719033feff8601feff8601   \n",
       "13941        02040b16         0c1218243048606c  92719033feff8601feff8601   \n",
       "13942        02040b16         0c1218243048606c  92719033feff8601feff8601   \n",
       "13943        02040b16         0c1218243048606c  92719033feff8601feff8601   \n",
       "\n",
       "                                         HE Capabilities  Length  \\\n",
       "0      23010808180080203002000d009f08000000fdfffdff39...     135   \n",
       "1      23010808180080203002000d009f08000000fdfffdff39...     135   \n",
       "2      23010808180080203002000d009f08000000fdfffdff39...     135   \n",
       "3      23010808180080203002000d009f08000000fdfffdff39...     135   \n",
       "4      23010808180080203002000d009f08000000fdfffdff39...     135   \n",
       "...                                                  ...     ...   \n",
       "13939                                             02000f     182   \n",
       "13940                                             020010     198   \n",
       "13941                                             020025     143   \n",
       "13942                                             020010     182   \n",
       "13943                                             020010     198   \n",
       "\n",
       "                    Label  \n",
       "0           iPhone12Pro_C  \n",
       "1           iPhone12Pro_C  \n",
       "2           iPhone12Pro_C  \n",
       "3           iPhone12Pro_C  \n",
       "4           iPhone12Pro_C  \n",
       "...                   ...  \n",
       "13939  XiaomiRedmiNote7_S  \n",
       "13940  XiaomiRedmiNote7_S  \n",
       "13941  XiaomiRedmiNote7_S  \n",
       "13942  XiaomiRedmiNote7_S  \n",
       "13943  XiaomiRedmiNote7_S  \n",
       "\n",
       "[36046 rows x 14 columns]"
      ]
     },
     "execution_count": 92,
     "metadata": {},
     "output_type": "execute_result"
    }
   ],
   "source": [
    "df"
   ]
  },
  {
   "cell_type": "markdown",
   "metadata": {},
   "source": [
    "Dropping columns that are used only by a small percentage of devices, based on the `data_visualization_statistics.ipynb`"
   ]
  },
  {
   "cell_type": "code",
   "execution_count": 93,
   "metadata": {},
   "outputs": [],
   "source": [
    "df.drop(columns=[\"SSID\", \"HE Capabilities\", \"VHT Capabilities\"], inplace=True)"
   ]
  },
  {
   "cell_type": "markdown",
   "metadata": {},
   "source": [
    "## Hashing Columns using SUM function"
   ]
  },
  {
   "cell_type": "markdown",
   "metadata": {},
   "source": [
    "### HT Capabilities"
   ]
  },
  {
   "cell_type": "markdown",
   "metadata": {},
   "source": [
    "Number of unique `HT Capabilities`"
   ]
  },
  {
   "cell_type": "code",
   "execution_count": 94,
   "metadata": {},
   "outputs": [
    {
     "name": "stdout",
     "output_type": "stream",
     "text": [
      "Unique HT Capabilities: 23\n"
     ]
    }
   ],
   "source": [
    "print(\"Unique HT Capabilities:\", df[\"HT Capabilities\"].nunique())"
   ]
  },
  {
   "cell_type": "markdown",
   "metadata": {},
   "source": [
    "Hashing"
   ]
  },
  {
   "cell_type": "code",
   "execution_count": 95,
   "metadata": {},
   "outputs": [],
   "source": [
    "df[\"HT Capabilities SUM\"] = df[\"HT Capabilities\"].apply(\n",
    "    lambda x: -1 if x == -1 else sum([ord(c) for c in x])\n",
    ")"
   ]
  },
  {
   "cell_type": "markdown",
   "metadata": {},
   "source": [
    "Checking collisions"
   ]
  },
  {
   "cell_type": "code",
   "execution_count": 96,
   "metadata": {},
   "outputs": [
    {
     "name": "stdout",
     "output_type": "stream",
     "text": [
      "2667 : \t 6e0103ff00000000000000000000000000000000000000000000 ['XiaomiA2_E' 'XiaomiRedmi4_B' 'XiaomiRedmi5_J']\n",
      "\t 2d0117ff00000000000000000000000000000000000000000000 ['SamsungM31_A']\n",
      "\t 2d1017ff00000000000000000000000000000000000000000000 ['SamsungS4_C']\n",
      "\n"
     ]
    }
   ],
   "source": [
    "encodingHelper.check_collisions(df, \"HT Capabilities\")"
   ]
  },
  {
   "cell_type": "markdown",
   "metadata": {},
   "source": [
    "From this we can see that several devices fall under the same hash of the `HT Capabilties` column: `XiaomiA2_E`, `XiaomiRedmi4_B`, `XiaomiRedmi5_J`, `SamsungM31_A`, `SamsungS4_C`. We can conclude that SUM is not a good function for hashing this particular kind of information elements."
   ]
  },
  {
   "cell_type": "markdown",
   "metadata": {},
   "source": [
    "### Extended Capabilities"
   ]
  },
  {
   "cell_type": "code",
   "execution_count": 97,
   "metadata": {},
   "outputs": [
    {
     "name": "stdout",
     "output_type": "stream",
     "text": [
      "Unique Extended Capabilities: 26\n"
     ]
    }
   ],
   "source": [
    "print(\"Unique Extended Capabilities:\", df[\"Extended Capabilities\"].nunique())"
   ]
  },
  {
   "cell_type": "code",
   "execution_count": 98,
   "metadata": {},
   "outputs": [],
   "source": [
    "df[\"Extended Capabilities SUM\"] = df[\"Extended Capabilities\"].apply(\n",
    "    lambda x: -1 if x == -1 else sum([ord(c) for c in x])\n",
    ")"
   ]
  },
  {
   "cell_type": "markdown",
   "metadata": {},
   "source": [
    "Checking for collisions"
   ]
  },
  {
   "cell_type": "code",
   "execution_count": 99,
   "metadata": {},
   "outputs": [
    {
     "name": "stdout",
     "output_type": "stream",
     "text": [
      "No collision detected\n"
     ]
    }
   ],
   "source": [
    "encodingHelper.check_collisions(df, \"Extended Capabilities\")"
   ]
  },
  {
   "cell_type": "markdown",
   "metadata": {},
   "source": [
    "### Vendor Specific Tags"
   ]
  },
  {
   "cell_type": "code",
   "execution_count": 100,
   "metadata": {},
   "outputs": [
    {
     "name": "stdout",
     "output_type": "stream",
     "text": [
      "Unique Vendor Specific Tags: 63\n"
     ]
    }
   ],
   "source": [
    "print(\"Unique Vendor Specific Tags:\", df[\"Vendor Specific Tags\"].nunique())"
   ]
  },
  {
   "cell_type": "code",
   "execution_count": 101,
   "metadata": {},
   "outputs": [],
   "source": [
    "df[\"Vendor Specific Tags SUM\"] = df[\"Vendor Specific Tags\"].apply(\n",
    "    lambda x: -1 if x == -1 else sum([ord(c) for c in x])\n",
    ")"
   ]
  },
  {
   "cell_type": "markdown",
   "metadata": {},
   "source": [
    "Check collisions"
   ]
  },
  {
   "cell_type": "code",
   "execution_count": 102,
   "metadata": {},
   "outputs": [
    {
     "name": "stdout",
     "output_type": "stream",
     "text": [
      "742 : \t 0050f208000100 ['XiaomiRedmi4_B' 'XiaomiRedmi5_J']\n",
      "\t 0050f208001000 ['XiaomiRedmi4_B' 'XiaomiRedmi5_J']\n",
      "\n",
      "743 : \t 0050f208001100 ['SamsungM31_A' 'XiaomiRedmi5_J']\n",
      "\t 0050f208000200 ['XiaomiRedmi4_B' 'XiaomiRedmi5_J']\n",
      "\n",
      "749 : \t 0050f208006200 ['XiaomiRedmi4_B' 'XiaomiRedmi5_J']\n",
      "\t 0050f208008000 ['XiaomiRedmi4_B' 'XiaomiRedmi5_J']\n",
      "\t 0050f208000800 ['XiaomiRedmi4_B' 'XiaomiRedmi5_J']\n",
      "\n",
      "750 : \t 0050f208002700 ['GooglePixel3A_V' 'XiaomiRedmiNote9S_T' 'GooglePixel3A_L']\n",
      "\t 0050f208007200 ['XiaomiRedmi4_B']\n",
      "\t 0050f208006300 ['XiaomiRedmi4_B' 'XiaomiRedmi5_J']\n",
      "\t 0050f208009000 ['XiaomiRedmi5_J']\n",
      "\n",
      "751 : \t 0050f208002800 ['OppoFindX3Neo_A']\n",
      "\t 0050f208006400 ['XiaomiRedmi4_B']\n",
      "\t 0050f208009100 ['XiaomiRedmi5_J']\n",
      "\n",
      "794 : \t 0050f208000e00 ['XiaomiRedmi4_B']\n",
      "\t 0050f208001d00 ['XiaomiRedmi4_B']\n",
      "\t 0050f208002c00 ['XiaomiRedmi5_J']\n",
      "\n",
      "842 : \t 0050f20800120011 ['HuaweiP10_Q']\n",
      "\t 0050f20800120002 ['HuaweiP10_Q']\n",
      "\n",
      "844 : \t 0050f20800120040 ['HuaweiP10_Q']\n",
      "\t 0050f20800dc00 ['XiaomiRedmi4_B']\n",
      "\n",
      "845 : \t 0050f20800120014 ['HuaweiP10_Q']\n",
      "\t 0050f20800120005 ['HuaweiP10_Q']\n",
      "\t 0050f20800fb00 ['XiaomiRedmi4_B']\n",
      "\n"
     ]
    }
   ],
   "source": [
    "encodingHelper.check_collisions(df, \"Vendor Specific Tags\")"
   ]
  },
  {
   "cell_type": "markdown",
   "metadata": {},
   "source": [
    "### Supported Rates"
   ]
  },
  {
   "cell_type": "code",
   "execution_count": 103,
   "metadata": {},
   "outputs": [
    {
     "name": "stdout",
     "output_type": "stream",
     "text": [
      "Unique Supported Rates: 6\n"
     ]
    }
   ],
   "source": [
    "print(\"Unique Supported Rates:\", df[\"Supported Rates\"].nunique())"
   ]
  },
  {
   "cell_type": "markdown",
   "metadata": {},
   "source": [
    "Hashing"
   ]
  },
  {
   "cell_type": "code",
   "execution_count": 104,
   "metadata": {},
   "outputs": [],
   "source": [
    "df[\"Supported Rates SUM\"] = df[\"Supported Rates\"].apply(\n",
    "    lambda x: -1 if x == -1 else sum([ord(c) for c in x])\n",
    ")"
   ]
  },
  {
   "cell_type": "markdown",
   "metadata": {},
   "source": [
    "Checking collisions"
   ]
  },
  {
   "cell_type": "code",
   "execution_count": 105,
   "metadata": {},
   "outputs": [
    {
     "name": "stdout",
     "output_type": "stream",
     "text": [
      "No collision detected\n"
     ]
    }
   ],
   "source": [
    "encodingHelper.check_collisions(df, \"Supported Rates\")"
   ]
  },
  {
   "cell_type": "markdown",
   "metadata": {},
   "source": [
    "### Extended Supported Rates"
   ]
  },
  {
   "cell_type": "code",
   "execution_count": 106,
   "metadata": {},
   "outputs": [
    {
     "name": "stdout",
     "output_type": "stream",
     "text": [
      "Unique Extended Supported Rates: 4\n"
     ]
    }
   ],
   "source": [
    "print(\"Unique Extended Supported Rates:\", df[\"Extended Supported Rates\"].nunique())"
   ]
  },
  {
   "cell_type": "markdown",
   "metadata": {},
   "source": [
    "Hashing"
   ]
  },
  {
   "cell_type": "code",
   "execution_count": 107,
   "metadata": {},
   "outputs": [],
   "source": [
    "df[\"Extended Supported Rates SUM\"] = df[\"Extended Supported Rates\"].apply(\n",
    "    lambda x: -1 if x == -1 else sum([ord(c) for c in x])\n",
    ")"
   ]
  },
  {
   "cell_type": "markdown",
   "metadata": {},
   "source": [
    "Checking collisions"
   ]
  },
  {
   "cell_type": "code",
   "execution_count": 108,
   "metadata": {},
   "outputs": [
    {
     "name": "stdout",
     "output_type": "stream",
     "text": [
      "No collision detected\n"
     ]
    }
   ],
   "source": [
    "encodingHelper.check_collisions(df, \"Extended Supported Rates\")"
   ]
  },
  {
   "cell_type": "markdown",
   "metadata": {},
   "source": [
    "## Saving encoded dataframe"
   ]
  },
  {
   "cell_type": "markdown",
   "metadata": {},
   "source": [
    "Remove original columns"
   ]
  },
  {
   "cell_type": "code",
   "execution_count": 109,
   "metadata": {},
   "outputs": [],
   "source": [
    "df = df[\n",
    "    [\n",
    "        \"Timestamp\",\n",
    "        \"MAC Address\",\n",
    "        \"Channel\",\n",
    "        \"DS Channel\",\n",
    "        \"HT Capabilities SUM\",\n",
    "        \"Extended Capabilities SUM\",\n",
    "        \"Vendor Specific Tags SUM\",\n",
    "        \"Supported Rates SUM\",\n",
    "        \"Extended Supported Rates SUM\",\n",
    "        \"Length\",\n",
    "        \"Label\",\n",
    "    ]\n",
    "]"
   ]
  },
  {
   "cell_type": "code",
   "execution_count": 110,
   "metadata": {},
   "outputs": [],
   "source": [
    "df.to_csv(config[\"DEFAULT\"][\"interim_path\"] + \"encoded_SUM_balanced_df.csv\")"
   ]
  }
 ],
 "metadata": {
  "kernelspec": {
   "display_name": ".venv",
   "language": "python",
   "name": "python3"
  },
  "language_info": {
   "codemirror_mode": {
    "name": "ipython",
    "version": 3
   },
   "file_extension": ".py",
   "mimetype": "text/x-python",
   "name": "python",
   "nbconvert_exporter": "python",
   "pygments_lexer": "ipython3",
   "version": "3.11.7"
  }
 },
 "nbformat": 4,
 "nbformat_minor": 2
}
