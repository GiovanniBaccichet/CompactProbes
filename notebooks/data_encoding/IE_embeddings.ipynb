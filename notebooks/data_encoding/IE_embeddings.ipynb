{
 "cells": [
  {
   "cell_type": "markdown",
   "metadata": {},
   "source": [
    "# Information Elements Categorical Embeddings"
   ]
  },
  {
   "cell_type": "markdown",
   "metadata": {},
   "source": [
    "## Libraries and Configurations"
   ]
  },
  {
   "cell_type": "markdown",
   "metadata": {},
   "source": [
    "Import configuration files"
   ]
  },
  {
   "cell_type": "code",
   "execution_count": 111,
   "metadata": {},
   "outputs": [
    {
     "data": {
      "text/plain": [
       "['../config.ini']"
      ]
     },
     "execution_count": 111,
     "metadata": {},
     "output_type": "execute_result"
    }
   ],
   "source": [
    "from configparser import ConfigParser\n",
    "\n",
    "config = ConfigParser()\n",
    "config.read(\"../config.ini\")"
   ]
  },
  {
   "cell_type": "markdown",
   "metadata": {},
   "source": [
    "Import **data libraries**"
   ]
  },
  {
   "cell_type": "code",
   "execution_count": 112,
   "metadata": {},
   "outputs": [],
   "source": [
    "import pandas as pd"
   ]
  },
  {
   "cell_type": "markdown",
   "metadata": {},
   "source": [
    "Import **ML libraries**"
   ]
  },
  {
   "cell_type": "code",
   "execution_count": 113,
   "metadata": {},
   "outputs": [],
   "source": [
    "from sklearn import preprocessing\n",
    "from sklearn import model_selection\n",
    "import tensorflow as tf\n",
    "from tensorflow.keras import layers, optimizers, models"
   ]
  },
  {
   "cell_type": "markdown",
   "metadata": {},
   "source": [
    "Import **other libraries**"
   ]
  },
  {
   "cell_type": "code",
   "execution_count": 114,
   "metadata": {},
   "outputs": [
    {
     "data": {
      "text/plain": [
       "<bound method InteractiveShell.excepthook of <ipykernel.zmqshell.ZMQInteractiveShell object at 0x10e990c50>>"
      ]
     },
     "execution_count": 114,
     "metadata": {},
     "output_type": "execute_result"
    }
   ],
   "source": [
    "import numpy as np\n",
    "\n",
    "from rich.progress import Progress\n",
    "from rich import traceback\n",
    "\n",
    "traceback.install()"
   ]
  },
  {
   "cell_type": "markdown",
   "metadata": {},
   "source": [
    "Custom helper scripts"
   ]
  },
  {
   "cell_type": "code",
   "execution_count": 115,
   "metadata": {},
   "outputs": [
    {
     "name": "stdout",
     "output_type": "stream",
     "text": [
      "/Users/bacci/Library/CloudStorage/SynologyDrive-giovanni/Research 🌱/Repositories/COMPACT/notebooks\n",
      "/Users/bacci/Library/CloudStorage/SynologyDrive-giovanni/Research 🌱/Repositories/COMPACT/notebooks/data_exploration_cleaning\n"
     ]
    }
   ],
   "source": [
    "%cd ..\n",
    "from scripts import plotHelper, encodingHelper\n",
    "%cd data_exploration_cleaning"
   ]
  },
  {
   "cell_type": "markdown",
   "metadata": {},
   "source": [
    "## Import Data"
   ]
  },
  {
   "cell_type": "code",
   "execution_count": 116,
   "metadata": {},
   "outputs": [],
   "source": [
    "# Combined dataframe\n",
    "combined_df_csv = config[\"DEFAULT\"][\"interim_path\"] + \"balanced_df_raw.csv\""
   ]
  },
  {
   "cell_type": "code",
   "execution_count": 117,
   "metadata": {},
   "outputs": [],
   "source": [
    "df = pd.read_csv(combined_df_csv, index_col=0)"
   ]
  },
  {
   "cell_type": "markdown",
   "metadata": {},
   "source": [
    "Keeping only categorical columns to be encoded"
   ]
  },
  {
   "cell_type": "code",
   "execution_count": 118,
   "metadata": {},
   "outputs": [],
   "source": [
    "df = df[[\"HT Capabilities\", \"Extended Capabilities\", \"Vendor Specific Tags\", \"Label\"]]"
   ]
  },
  {
   "cell_type": "code",
   "execution_count": 119,
   "metadata": {},
   "outputs": [
    {
     "data": {
      "text/html": [
       "<div>\n",
       "<style scoped>\n",
       "    .dataframe tbody tr th:only-of-type {\n",
       "        vertical-align: middle;\n",
       "    }\n",
       "\n",
       "    .dataframe tbody tr th {\n",
       "        vertical-align: top;\n",
       "    }\n",
       "\n",
       "    .dataframe thead th {\n",
       "        text-align: right;\n",
       "    }\n",
       "</style>\n",
       "<table border=\"1\" class=\"dataframe\">\n",
       "  <thead>\n",
       "    <tr style=\"text-align: right;\">\n",
       "      <th></th>\n",
       "      <th>HT Capabilities</th>\n",
       "      <th>Extended Capabilities</th>\n",
       "      <th>Vendor Specific Tags</th>\n",
       "      <th>Label</th>\n",
       "    </tr>\n",
       "  </thead>\n",
       "  <tbody>\n",
       "    <tr>\n",
       "      <th>0</th>\n",
       "      <td>2d001bff00000000000000000000000000000000000000...</td>\n",
       "      <td>80000000040000020</td>\n",
       "      <td>NaN</td>\n",
       "      <td>iPhone12Pro_C</td>\n",
       "    </tr>\n",
       "    <tr>\n",
       "      <th>1</th>\n",
       "      <td>2d001bff00000000000000000000000000000000000000...</td>\n",
       "      <td>80000000040000020</td>\n",
       "      <td>NaN</td>\n",
       "      <td>iPhone12Pro_C</td>\n",
       "    </tr>\n",
       "    <tr>\n",
       "      <th>2</th>\n",
       "      <td>2d001bff00000000000000000000000000000000000000...</td>\n",
       "      <td>80000000040000020</td>\n",
       "      <td>NaN</td>\n",
       "      <td>iPhone12Pro_C</td>\n",
       "    </tr>\n",
       "    <tr>\n",
       "      <th>3</th>\n",
       "      <td>2d001bff00000000000000000000000000000000000000...</td>\n",
       "      <td>80000000040000020</td>\n",
       "      <td>NaN</td>\n",
       "      <td>iPhone12Pro_C</td>\n",
       "    </tr>\n",
       "    <tr>\n",
       "      <th>4</th>\n",
       "      <td>2d001bff00000000000000000000000000000000000000...</td>\n",
       "      <td>80000000040000020</td>\n",
       "      <td>NaN</td>\n",
       "      <td>iPhone12Pro_C</td>\n",
       "    </tr>\n",
       "    <tr>\n",
       "      <th>...</th>\n",
       "      <td>...</td>\n",
       "      <td>...</td>\n",
       "      <td>...</td>\n",
       "      <td>...</td>\n",
       "    </tr>\n",
       "    <tr>\n",
       "      <th>13939</th>\n",
       "      <td>2d0113ff00000000000000000000000000000000000000...</td>\n",
       "      <td>04000a02004000408001</td>\n",
       "      <td>0050f208002400</td>\n",
       "      <td>XiaomiRedmiNote7_S</td>\n",
       "    </tr>\n",
       "    <tr>\n",
       "      <th>13940</th>\n",
       "      <td>2d0113ff00000000000000000000000000000000000000...</td>\n",
       "      <td>04000a02004000408001</td>\n",
       "      <td>0050f208002400</td>\n",
       "      <td>XiaomiRedmiNote7_S</td>\n",
       "    </tr>\n",
       "    <tr>\n",
       "      <th>13941</th>\n",
       "      <td>2d0113ff00000000000000000000000000000000000000...</td>\n",
       "      <td>04000a02004000408001</td>\n",
       "      <td>0050f208002400</td>\n",
       "      <td>XiaomiRedmiNote7_S</td>\n",
       "    </tr>\n",
       "    <tr>\n",
       "      <th>13942</th>\n",
       "      <td>2d0113ff00000000000000000000000000000000000000...</td>\n",
       "      <td>04000a02004000408001</td>\n",
       "      <td>0050f208002400</td>\n",
       "      <td>XiaomiRedmiNote7_S</td>\n",
       "    </tr>\n",
       "    <tr>\n",
       "      <th>13943</th>\n",
       "      <td>2d0113ff00000000000000000000000000000000000000...</td>\n",
       "      <td>04000a02004000408001</td>\n",
       "      <td>0050f208002400</td>\n",
       "      <td>XiaomiRedmiNote7_S</td>\n",
       "    </tr>\n",
       "  </tbody>\n",
       "</table>\n",
       "<p>36046 rows × 4 columns</p>\n",
       "</div>"
      ],
      "text/plain": [
       "                                         HT Capabilities  \\\n",
       "0      2d001bff00000000000000000000000000000000000000...   \n",
       "1      2d001bff00000000000000000000000000000000000000...   \n",
       "2      2d001bff00000000000000000000000000000000000000...   \n",
       "3      2d001bff00000000000000000000000000000000000000...   \n",
       "4      2d001bff00000000000000000000000000000000000000...   \n",
       "...                                                  ...   \n",
       "13939  2d0113ff00000000000000000000000000000000000000...   \n",
       "13940  2d0113ff00000000000000000000000000000000000000...   \n",
       "13941  2d0113ff00000000000000000000000000000000000000...   \n",
       "13942  2d0113ff00000000000000000000000000000000000000...   \n",
       "13943  2d0113ff00000000000000000000000000000000000000...   \n",
       "\n",
       "      Extended Capabilities Vendor Specific Tags               Label  \n",
       "0         80000000040000020                  NaN       iPhone12Pro_C  \n",
       "1         80000000040000020                  NaN       iPhone12Pro_C  \n",
       "2         80000000040000020                  NaN       iPhone12Pro_C  \n",
       "3         80000000040000020                  NaN       iPhone12Pro_C  \n",
       "4         80000000040000020                  NaN       iPhone12Pro_C  \n",
       "...                     ...                  ...                 ...  \n",
       "13939  04000a02004000408001       0050f208002400  XiaomiRedmiNote7_S  \n",
       "13940  04000a02004000408001       0050f208002400  XiaomiRedmiNote7_S  \n",
       "13941  04000a02004000408001       0050f208002400  XiaomiRedmiNote7_S  \n",
       "13942  04000a02004000408001       0050f208002400  XiaomiRedmiNote7_S  \n",
       "13943  04000a02004000408001       0050f208002400  XiaomiRedmiNote7_S  \n",
       "\n",
       "[36046 rows x 4 columns]"
      ]
     },
     "execution_count": 119,
     "metadata": {},
     "output_type": "execute_result"
    }
   ],
   "source": [
    "df"
   ]
  },
  {
   "cell_type": "code",
   "execution_count": 120,
   "metadata": {},
   "outputs": [],
   "source": [
    "df = df.rename(\n",
    "    columns={\n",
    "        \"HT Capabilities\": \"HT_Capabilities\",\n",
    "        \"Extended Capabilities\": \"Extended_Capabilities\",\n",
    "        \"Vendor Specific Tags\": \"Vendor_Specific_Tags\",\n",
    "    }\n",
    ")"
   ]
  },
  {
   "cell_type": "code",
   "execution_count": 121,
   "metadata": {},
   "outputs": [],
   "source": [
    "label_encoder = preprocessing.LabelEncoder()\n",
    "df[\"Label\"] = label_encoder.fit_transform(df[\"Label\"])"
   ]
  },
  {
   "cell_type": "markdown",
   "metadata": {},
   "source": [
    "Selecting categorical features"
   ]
  },
  {
   "cell_type": "code",
   "execution_count": 122,
   "metadata": {},
   "outputs": [],
   "source": [
    "features = [f for f in df.columns if f != \"Label\"]"
   ]
  },
  {
   "cell_type": "code",
   "execution_count": 123,
   "metadata": {},
   "outputs": [
    {
     "data": {
      "text/plain": [
       "['HT_Capabilities', 'Extended_Capabilities', 'Vendor_Specific_Tags']"
      ]
     },
     "execution_count": 123,
     "metadata": {},
     "output_type": "execute_result"
    }
   ],
   "source": [
    "features"
   ]
  },
  {
   "cell_type": "markdown",
   "metadata": {},
   "source": [
    "## Label Encoding"
   ]
  },
  {
   "cell_type": "code",
   "execution_count": 124,
   "metadata": {},
   "outputs": [],
   "source": [
    "for feat in features:\n",
    "    encoder = preprocessing.LabelEncoder()\n",
    "    df.loc[:, feat] = encoder.fit_transform(df[feat].astype(str).fillna(\"-1\").values)"
   ]
  },
  {
   "cell_type": "code",
   "execution_count": 125,
   "metadata": {},
   "outputs": [
    {
     "data": {
      "text/html": [
       "<div>\n",
       "<style scoped>\n",
       "    .dataframe tbody tr th:only-of-type {\n",
       "        vertical-align: middle;\n",
       "    }\n",
       "\n",
       "    .dataframe tbody tr th {\n",
       "        vertical-align: top;\n",
       "    }\n",
       "\n",
       "    .dataframe thead th {\n",
       "        text-align: right;\n",
       "    }\n",
       "</style>\n",
       "<table border=\"1\" class=\"dataframe\">\n",
       "  <thead>\n",
       "    <tr style=\"text-align: right;\">\n",
       "      <th></th>\n",
       "      <th>HT_Capabilities</th>\n",
       "      <th>Extended_Capabilities</th>\n",
       "      <th>Vendor_Specific_Tags</th>\n",
       "      <th>Label</th>\n",
       "    </tr>\n",
       "  </thead>\n",
       "  <tbody>\n",
       "    <tr>\n",
       "      <th>0</th>\n",
       "      <td>6</td>\n",
       "      <td>17</td>\n",
       "      <td>62</td>\n",
       "      <td>23</td>\n",
       "    </tr>\n",
       "    <tr>\n",
       "      <th>1</th>\n",
       "      <td>6</td>\n",
       "      <td>17</td>\n",
       "      <td>62</td>\n",
       "      <td>23</td>\n",
       "    </tr>\n",
       "    <tr>\n",
       "      <th>2</th>\n",
       "      <td>6</td>\n",
       "      <td>17</td>\n",
       "      <td>62</td>\n",
       "      <td>23</td>\n",
       "    </tr>\n",
       "    <tr>\n",
       "      <th>3</th>\n",
       "      <td>6</td>\n",
       "      <td>17</td>\n",
       "      <td>62</td>\n",
       "      <td>23</td>\n",
       "    </tr>\n",
       "    <tr>\n",
       "      <th>4</th>\n",
       "      <td>6</td>\n",
       "      <td>17</td>\n",
       "      <td>62</td>\n",
       "      <td>23</td>\n",
       "    </tr>\n",
       "    <tr>\n",
       "      <th>...</th>\n",
       "      <td>...</td>\n",
       "      <td>...</td>\n",
       "      <td>...</td>\n",
       "      <td>...</td>\n",
       "    </tr>\n",
       "    <tr>\n",
       "      <th>13939</th>\n",
       "      <td>8</td>\n",
       "      <td>7</td>\n",
       "      <td>25</td>\n",
       "      <td>17</td>\n",
       "    </tr>\n",
       "    <tr>\n",
       "      <th>13940</th>\n",
       "      <td>8</td>\n",
       "      <td>7</td>\n",
       "      <td>25</td>\n",
       "      <td>17</td>\n",
       "    </tr>\n",
       "    <tr>\n",
       "      <th>13941</th>\n",
       "      <td>8</td>\n",
       "      <td>7</td>\n",
       "      <td>25</td>\n",
       "      <td>17</td>\n",
       "    </tr>\n",
       "    <tr>\n",
       "      <th>13942</th>\n",
       "      <td>8</td>\n",
       "      <td>7</td>\n",
       "      <td>25</td>\n",
       "      <td>17</td>\n",
       "    </tr>\n",
       "    <tr>\n",
       "      <th>13943</th>\n",
       "      <td>8</td>\n",
       "      <td>7</td>\n",
       "      <td>25</td>\n",
       "      <td>17</td>\n",
       "    </tr>\n",
       "  </tbody>\n",
       "</table>\n",
       "<p>36046 rows × 4 columns</p>\n",
       "</div>"
      ],
      "text/plain": [
       "      HT_Capabilities Extended_Capabilities Vendor_Specific_Tags  Label\n",
       "0                   6                    17                   62     23\n",
       "1                   6                    17                   62     23\n",
       "2                   6                    17                   62     23\n",
       "3                   6                    17                   62     23\n",
       "4                   6                    17                   62     23\n",
       "...               ...                   ...                  ...    ...\n",
       "13939               8                     7                   25     17\n",
       "13940               8                     7                   25     17\n",
       "13941               8                     7                   25     17\n",
       "13942               8                     7                   25     17\n",
       "13943               8                     7                   25     17\n",
       "\n",
       "[36046 rows x 4 columns]"
      ]
     },
     "execution_count": 125,
     "metadata": {},
     "output_type": "execute_result"
    }
   ],
   "source": [
    "df"
   ]
  },
  {
   "cell_type": "code",
   "execution_count": 126,
   "metadata": {},
   "outputs": [
    {
     "data": {
      "text/html": [
       "<div>\n",
       "<style scoped>\n",
       "    .dataframe tbody tr th:only-of-type {\n",
       "        vertical-align: middle;\n",
       "    }\n",
       "\n",
       "    .dataframe tbody tr th {\n",
       "        vertical-align: top;\n",
       "    }\n",
       "\n",
       "    .dataframe thead th {\n",
       "        text-align: right;\n",
       "    }\n",
       "</style>\n",
       "<table border=\"1\" class=\"dataframe\">\n",
       "  <thead>\n",
       "    <tr style=\"text-align: right;\">\n",
       "      <th></th>\n",
       "      <th>HT_Capabilities</th>\n",
       "      <th>Extended_Capabilities</th>\n",
       "      <th>Vendor_Specific_Tags</th>\n",
       "      <th>Label</th>\n",
       "    </tr>\n",
       "  </thead>\n",
       "  <tbody>\n",
       "    <tr>\n",
       "      <th>0</th>\n",
       "      <td>6</td>\n",
       "      <td>17</td>\n",
       "      <td>62</td>\n",
       "      <td>23</td>\n",
       "    </tr>\n",
       "    <tr>\n",
       "      <th>1</th>\n",
       "      <td>6</td>\n",
       "      <td>17</td>\n",
       "      <td>62</td>\n",
       "      <td>23</td>\n",
       "    </tr>\n",
       "    <tr>\n",
       "      <th>2</th>\n",
       "      <td>6</td>\n",
       "      <td>17</td>\n",
       "      <td>62</td>\n",
       "      <td>23</td>\n",
       "    </tr>\n",
       "    <tr>\n",
       "      <th>3</th>\n",
       "      <td>6</td>\n",
       "      <td>17</td>\n",
       "      <td>62</td>\n",
       "      <td>23</td>\n",
       "    </tr>\n",
       "    <tr>\n",
       "      <th>4</th>\n",
       "      <td>6</td>\n",
       "      <td>17</td>\n",
       "      <td>62</td>\n",
       "      <td>23</td>\n",
       "    </tr>\n",
       "    <tr>\n",
       "      <th>...</th>\n",
       "      <td>...</td>\n",
       "      <td>...</td>\n",
       "      <td>...</td>\n",
       "      <td>...</td>\n",
       "    </tr>\n",
       "    <tr>\n",
       "      <th>13939</th>\n",
       "      <td>8</td>\n",
       "      <td>7</td>\n",
       "      <td>25</td>\n",
       "      <td>17</td>\n",
       "    </tr>\n",
       "    <tr>\n",
       "      <th>13940</th>\n",
       "      <td>8</td>\n",
       "      <td>7</td>\n",
       "      <td>25</td>\n",
       "      <td>17</td>\n",
       "    </tr>\n",
       "    <tr>\n",
       "      <th>13941</th>\n",
       "      <td>8</td>\n",
       "      <td>7</td>\n",
       "      <td>25</td>\n",
       "      <td>17</td>\n",
       "    </tr>\n",
       "    <tr>\n",
       "      <th>13942</th>\n",
       "      <td>8</td>\n",
       "      <td>7</td>\n",
       "      <td>25</td>\n",
       "      <td>17</td>\n",
       "    </tr>\n",
       "    <tr>\n",
       "      <th>13943</th>\n",
       "      <td>8</td>\n",
       "      <td>7</td>\n",
       "      <td>25</td>\n",
       "      <td>17</td>\n",
       "    </tr>\n",
       "  </tbody>\n",
       "</table>\n",
       "<p>36046 rows × 4 columns</p>\n",
       "</div>"
      ],
      "text/plain": [
       "      HT_Capabilities Extended_Capabilities Vendor_Specific_Tags  Label\n",
       "0                   6                    17                   62     23\n",
       "1                   6                    17                   62     23\n",
       "2                   6                    17                   62     23\n",
       "3                   6                    17                   62     23\n",
       "4                   6                    17                   62     23\n",
       "...               ...                   ...                  ...    ...\n",
       "13939               8                     7                   25     17\n",
       "13940               8                     7                   25     17\n",
       "13941               8                     7                   25     17\n",
       "13942               8                     7                   25     17\n",
       "13943               8                     7                   25     17\n",
       "\n",
       "[36046 rows x 4 columns]"
      ]
     },
     "execution_count": 126,
     "metadata": {},
     "output_type": "execute_result"
    }
   ],
   "source": [
    "df"
   ]
  },
  {
   "cell_type": "markdown",
   "metadata": {},
   "source": [
    "## Entity Embedding"
   ]
  },
  {
   "cell_type": "markdown",
   "metadata": {},
   "source": [
    "Splitting `df` into train and test set"
   ]
  },
  {
   "cell_type": "code",
   "execution_count": 127,
   "metadata": {},
   "outputs": [],
   "source": [
    "X = df.drop(columns=[\"Label\"])\n",
    "y = df[\"Label\"]\n",
    "\n",
    "X_train, X_test, y_train, y_test = model_selection.train_test_split(\n",
    "    X, y, test_size=0.2, random_state=42\n",
    ")"
   ]
  },
  {
   "cell_type": "code",
   "execution_count": 128,
   "metadata": {},
   "outputs": [
    {
     "data": {
      "text/plain": [
       "((28836, 3), (7210, 3))"
      ]
     },
     "execution_count": 128,
     "metadata": {},
     "output_type": "execute_result"
    }
   ],
   "source": [
    "X_train.shape, X_test.shape"
   ]
  },
  {
   "cell_type": "code",
   "execution_count": 129,
   "metadata": {},
   "outputs": [],
   "source": [
    "def get_model(df: pd.DataFrame, categorical_columns: str) -> models.Model:\n",
    "    inputs = []\n",
    "    outputs = []\n",
    "\n",
    "    for c in categorical_columns:\n",
    "        num_unique_values = int(df[c].nunique())\n",
    "        # embed_dim = int(min(np.ceil((num_unique_values) / 2), 50))\n",
    "        embed_dim = 3\n",
    "        inp = layers.Input(shape=(1,))\n",
    "        out = layers.Embedding(num_unique_values + 1, embed_dim, name=c)(inp)\n",
    "        out = layers.Reshape(target_shape=(embed_dim,))(out)\n",
    "        inputs.append(inp)\n",
    "        outputs.append(out)\n",
    "\n",
    "    x = layers.Concatenate()(outputs)\n",
    "    x = layers.Dense(300, activation=\"relu\")(x)\n",
    "    x = layers.Dropout(0.3)(x)\n",
    "    x = layers.Dense(100, activation=\"relu\")(x)\n",
    "    x = layers.Dropout(0.3)(x)\n",
    "    y = layers.Dense(1, activation=\"sigmoid\")(x)\n",
    "\n",
    "    model = models.Model(inputs=inputs, outputs=y)\n",
    "\n",
    "    return model"
   ]
  },
  {
   "cell_type": "code",
   "execution_count": 130,
   "metadata": {},
   "outputs": [],
   "source": [
    "model = get_model(X_train, features)\n",
    "model.compile(\n",
    "    loss=\"binary_crossentropy\", optimizer=optimizers.Adam(0.001), metrics=[\"mae\"]\n",
    ")"
   ]
  },
  {
   "cell_type": "code",
   "execution_count": 131,
   "metadata": {},
   "outputs": [
    {
     "name": "stdout",
     "output_type": "stream",
     "text": [
      "Model: \"model_3\"\n",
      "__________________________________________________________________________________________________\n",
      " Layer (type)                Output Shape                 Param #   Connected to                  \n",
      "==================================================================================================\n",
      " input_10 (InputLayer)       [(None, 1)]                  0         []                            \n",
      "                                                                                                  \n",
      " input_11 (InputLayer)       [(None, 1)]                  0         []                            \n",
      "                                                                                                  \n",
      " input_12 (InputLayer)       [(None, 1)]                  0         []                            \n",
      "                                                                                                  \n",
      " HT_Capabilities (Embedding  (None, 1, 3)                 72        ['input_10[0][0]']            \n",
      " )                                                                                                \n",
      "                                                                                                  \n",
      " Extended_Capabilities (Emb  (None, 1, 3)                 81        ['input_11[0][0]']            \n",
      " edding)                                                                                          \n",
      "                                                                                                  \n",
      " Vendor_Specific_Tags (Embe  (None, 1, 3)                 192       ['input_12[0][0]']            \n",
      " dding)                                                                                           \n",
      "                                                                                                  \n",
      " reshape_9 (Reshape)         (None, 3)                    0         ['HT_Capabilities[0][0]']     \n",
      "                                                                                                  \n",
      " reshape_10 (Reshape)        (None, 3)                    0         ['Extended_Capabilities[0][0]'\n",
      "                                                                    ]                             \n",
      "                                                                                                  \n",
      " reshape_11 (Reshape)        (None, 3)                    0         ['Vendor_Specific_Tags[0][0]']\n",
      "                                                                                                  \n",
      " concatenate_3 (Concatenate  (None, 9)                    0         ['reshape_9[0][0]',           \n",
      " )                                                                   'reshape_10[0][0]',          \n",
      "                                                                     'reshape_11[0][0]']          \n",
      "                                                                                                  \n",
      " dense_9 (Dense)             (None, 300)                  3000      ['concatenate_3[0][0]']       \n",
      "                                                                                                  \n",
      " dropout_6 (Dropout)         (None, 300)                  0         ['dense_9[0][0]']             \n",
      "                                                                                                  \n",
      " dense_10 (Dense)            (None, 100)                  30100     ['dropout_6[0][0]']           \n",
      "                                                                                                  \n",
      " dropout_7 (Dropout)         (None, 100)                  0         ['dense_10[0][0]']            \n",
      "                                                                                                  \n",
      " dense_11 (Dense)            (None, 1)                    101       ['dropout_7[0][0]']           \n",
      "                                                                                                  \n",
      "==================================================================================================\n",
      "Total params: 33546 (131.04 KB)\n",
      "Trainable params: 33546 (131.04 KB)\n",
      "Non-trainable params: 0 (0.00 Byte)\n",
      "__________________________________________________________________________________________________\n"
     ]
    }
   ],
   "source": [
    "model.summary()"
   ]
  },
  {
   "cell_type": "code",
   "execution_count": 132,
   "metadata": {},
   "outputs": [
    {
     "data": {
      "text/plain": [
       "[array([13., 19., 22., ..., 12., 11., 13.], dtype=float32),\n",
       " array([19.,  5., 25., ..., 23., 19., 19.], dtype=float32),\n",
       " array([62., 18., 26., ...,  1., 62., 62.], dtype=float32)]"
      ]
     },
     "execution_count": 132,
     "metadata": {},
     "output_type": "execute_result"
    }
   ],
   "source": [
    "x = [X_train.loc[:, f].values for f in features]\n",
    "\n",
    "x = [np.asarray(x[i]).astype(\"float32\") for i in range(len(x))]\n",
    "\n",
    "x"
   ]
  },
  {
   "cell_type": "code",
   "execution_count": 133,
   "metadata": {},
   "outputs": [
    {
     "data": {
      "text/plain": [
       "[array([ 4.,  8., 12., ..., 13., 17., 11.], dtype=float32),\n",
       " array([11.,  7., 23., ..., 19.,  0., 19.], dtype=float32),\n",
       " array([62., 25.,  1., ..., 62.,  3., 62.], dtype=float32)]"
      ]
     },
     "execution_count": 133,
     "metadata": {},
     "output_type": "execute_result"
    }
   ],
   "source": [
    "xt = [X_test.loc[:, f].values for f in features]\n",
    "\n",
    "xt = [np.asarray(xt[i]).astype(\"float32\") for i in range(len(xt))]\n",
    "\n",
    "xt"
   ]
  },
  {
   "cell_type": "code",
   "execution_count": 134,
   "metadata": {},
   "outputs": [
    {
     "name": "stdout",
     "output_type": "stream",
     "text": [
      "Epoch 1/5\n"
     ]
    },
    {
     "name": "stdout",
     "output_type": "stream",
     "text": [
      "902/902 [==============================] - 7s 5ms/step - loss: -4317668.5000 - mae: 14.0417 - val_loss: -21794854.0000 - val_mae: 14.1226\n",
      "Epoch 2/5\n",
      "902/902 [==============================] - 3s 4ms/step - loss: -117820504.0000 - mae: 14.0289 - val_loss: -286552032.0000 - val_mae: 14.1226\n",
      "Epoch 3/5\n",
      "902/902 [==============================] - 2s 3ms/step - loss: -653507584.0000 - mae: 14.0289 - val_loss: -1164035072.0000 - val_mae: 14.1226\n",
      "Epoch 4/5\n",
      "902/902 [==============================] - 3s 3ms/step - loss: -1973326208.0000 - mae: 14.0289 - val_loss: -3008684288.0000 - val_mae: 14.1226\n",
      "Epoch 5/5\n",
      "902/902 [==============================] - 3s 3ms/step - loss: -4421915648.0000 - mae: 14.0289 - val_loss: -6164849664.0000 - val_mae: 14.1226\n"
     ]
    }
   ],
   "source": [
    "ie_fit = model.fit(\n",
    "    x,\n",
    "    y_train,\n",
    "    epochs=5,\n",
    "    batch_size=32,\n",
    "    validation_data=(xt, y_test),\n",
    ")"
   ]
  },
  {
   "cell_type": "code",
   "execution_count": 135,
   "metadata": {},
   "outputs": [
    {
     "name": "stderr",
     "output_type": "stream",
     "text": [
      "/Users/bacci/Library/CloudStorage/SynologyDrive-giovanni/Research 🌱/Repositories/COMPACT/.venv/lib/python3.11/site-packages/keras/src/engine/training.py:3103: UserWarning: You are saving your model as an HDF5 file via `model.save()`. This file format is considered legacy. We recommend using instead the native Keras format, e.g. `model.save('my_model.keras')`.\n",
      "  saving_api.save_model(\n"
     ]
    }
   ],
   "source": [
    "model.save(config[\"DEFAULT\"][\"models_path\"] + \"IE_embeddings.h5\")"
   ]
  },
  {
   "cell_type": "code",
   "execution_count": 136,
   "metadata": {},
   "outputs": [],
   "source": [
    "import matplotlib.pyplot as plt"
   ]
  },
  {
   "cell_type": "code",
   "execution_count": 137,
   "metadata": {},
   "outputs": [
    {
     "data": {
      "text/plain": [
       "{'loss': [-4317668.5,\n",
       "  -117820504.0,\n",
       "  -653507584.0,\n",
       "  -1973326208.0,\n",
       "  -4421915648.0],\n",
       " 'mae': [14.04166030883789,\n",
       "  14.028887748718262,\n",
       "  14.028887748718262,\n",
       "  14.028887748718262,\n",
       "  14.028887748718262],\n",
       " 'val_loss': [-21794854.0,\n",
       "  -286552032.0,\n",
       "  -1164035072.0,\n",
       "  -3008684288.0,\n",
       "  -6164849664.0],\n",
       " 'val_mae': [14.122607231140137,\n",
       "  14.122607231140137,\n",
       "  14.122607231140137,\n",
       "  14.122607231140137,\n",
       "  14.122607231140137]}"
      ]
     },
     "execution_count": 137,
     "metadata": {},
     "output_type": "execute_result"
    }
   ],
   "source": [
    "ie_fit.history"
   ]
  },
  {
   "cell_type": "code",
   "execution_count": 138,
   "metadata": {},
   "outputs": [
    {
     "data": {
      "text/plain": [
       "<matplotlib.legend.Legend at 0x14738d690>"
      ]
     },
     "execution_count": 138,
     "metadata": {},
     "output_type": "execute_result"
    },
    {
     "data": {
      "image/png": "[encoded data removed]",
      "text/plain": [
       "<Figure size 640x480 with 1 Axes>"
      ]
     },
     "metadata": {},
     "output_type": "display_data"
    }
   ],
   "source": [
    "# summarize history for loss\n",
    "plt.plot(ie_fit.history[\"loss\"])\n",
    "plt.plot(ie_fit.history[\"val_loss\"])\n",
    "plt.title(\"loss\")\n",
    "plt.ylabel(\"loss\")\n",
    "plt.xlabel(\"epoch\")\n",
    "plt.legend([\"train\", \"val\"], loc=\"upper right\")"
   ]
  },
  {
   "cell_type": "code",
   "execution_count": 139,
   "metadata": {},
   "outputs": [
    {
     "data": {
      "image/png": "[encoded data removed]",
      "text/plain": [
       "<Figure size 640x480 with 1 Axes>"
      ]
     },
     "metadata": {},
     "output_type": "display_data"
    }
   ],
   "source": [
    "# summarize history for mae\n",
    "plt.plot(ie_fit.history[\"mae\"])\n",
    "plt.plot(ie_fit.history[\"val_mae\"])\n",
    "plt.title(\"Mean Absolute Error (MAE)\")\n",
    "plt.ylabel(\"Mean Absolute Error (MAE)\")\n",
    "plt.xlabel(\"epoch\")\n",
    "plt.legend([\"train\", \"val\"], loc=\"lower right\")\n",
    "plt.show()"
   ]
  },
  {
   "cell_type": "code",
   "execution_count": 140,
   "metadata": {},
   "outputs": [],
   "source": [
    "import seaborn as sns"
   ]
  },
  {
   "cell_type": "code",
   "execution_count": 141,
   "metadata": {},
   "outputs": [
    {
     "name": "stdout",
     "output_type": "stream",
     "text": [
      "226/226 [==============================] - 0s 1ms/step\n"
     ]
    },
    {
     "data": {
      "image/png": "[encoded data removed]",
      "text/plain": [
       "<Figure size 640x480 with 1 Axes>"
      ]
     },
     "metadata": {},
     "output_type": "display_data"
    }
   ],
   "source": [
    "# Make prediction\n",
    "y_test_predict = model.predict(xt)\n",
    "\n",
    "# Change the predictions from 2-d to 1-d\n",
    "y_test_predict = y_test_predict.flatten()\n",
    "\n",
    "# Visualization\n",
    "ax = sns.scatterplot(y_test)"
   ]
  },
  {
   "cell_type": "code",
   "execution_count": 142,
   "metadata": {},
   "outputs": [
    {
     "name": "stdout",
     "output_type": "stream",
     "text": [
      "The MSE for the model is 278.55\n",
      "The RMSE for the model is 16.69.\n",
      "The MAE for the model is 14.12.\n",
      "The R-squared for the model is -2.49.\n",
      "The MAPE for the model is 61838607920899.50.\n"
     ]
    }
   ],
   "source": [
    "# Import library\n",
    "from sklearn.metrics import (\n",
    "    r2_score,\n",
    "    mean_absolute_error,\n",
    "    mean_squared_error,\n",
    "    mean_absolute_percentage_error,\n",
    ")\n",
    "\n",
    "# Mean squared error\n",
    "MSE = mean_squared_error(y_test, y_test_predict)\n",
    "# Root mean squared error\n",
    "RMSE = np.sqrt(MSE)\n",
    "# Mean absolute error\n",
    "MAE = mean_absolute_error(y_test, y_test_predict)\n",
    "\n",
    "R2 = r2_score(y_test, y_test_predict)\n",
    "MAPE = mean_absolute_percentage_error(y_test, y_test_predict)\n",
    "\n",
    "print(f\"The MSE for the model is {MSE:.2f}\")\n",
    "print(f\"The RMSE for the model is {RMSE:.2f}.\")\n",
    "print(f\"The MAE for the model is {MAE:.2f}.\")\n",
    "print(f\"The R-squared for the model is {R2:.2f}.\")\n",
    "print(f\"The MAPE for the model is {MAPE:.2f}.\")"
   ]
  },
  {
   "cell_type": "code",
   "execution_count": 143,
   "metadata": {},
   "outputs": [
    {
     "data": {
      "text/plain": [
       "[array([[ 5.18313265e+00, -5.15447187e+00, -5.16146517e+00],\n",
       "        [ 6.57904243e+00, -6.47832012e+00, -6.58623457e+00],\n",
       "        [ 1.22870624e+00, -1.19358015e+00, -1.16048694e+00],\n",
       "        [ 7.29449320e+00, -7.26394510e+00, -7.27845764e+00],\n",
       "        [ 4.08811140e+00, -4.08064747e+00, -4.09502506e+00],\n",
       "        [ 6.12620068e+00, -6.11948538e+00, -6.18024635e+00],\n",
       "        [ 2.18274212e+00, -2.22761703e+00, -2.20659828e+00],\n",
       "        [ 1.26304150e+00, -1.30896521e+00, -1.35236323e+00],\n",
       "        [ 1.19741046e+00, -1.20125997e+00, -1.24298584e+00],\n",
       "        [ 7.54500687e-01, -7.56005466e-01, -8.10482562e-01],\n",
       "        [ 2.50306934e-01, -2.58525491e-01, -2.40427122e-01],\n",
       "        [ 4.63669586e+00, -4.61801386e+00, -4.62241888e+00],\n",
       "        [ 1.44965482e+00, -1.53180003e+00, -1.47941172e+00],\n",
       "        [ 3.69408727e-01, -3.72106731e-01, -4.07116413e-01],\n",
       "        [ 2.28282750e-01, -2.28107110e-01, -2.35668033e-01],\n",
       "        [ 8.79006803e-01, -8.47002447e-01, -9.20449317e-01],\n",
       "        [ 1.30671990e+00, -1.31144750e+00, -1.33110404e+00],\n",
       "        [ 4.53670561e-01, -5.03436506e-01, -4.68086183e-01],\n",
       "        [ 5.04355288e+00, -5.00399542e+00, -5.01888227e+00],\n",
       "        [ 8.63803923e-01, -8.63599360e-01, -8.81582379e-01],\n",
       "        [ 2.28567272e-01, -2.06463397e-01, -2.59930164e-01],\n",
       "        [ 1.27866432e-01, -1.41996235e-01, -1.01412393e-01],\n",
       "        [ 4.98315722e-01, -5.37807345e-01, -5.83474874e-01],\n",
       "        [ 9.33745742e-01, -8.91575158e-01, -9.23173606e-01],\n",
       "        [ 4.32245493e-01, -4.64015961e-01, -4.91659403e-01],\n",
       "        [ 6.81436110e+00, -6.80886221e+00, -6.79494715e+00],\n",
       "        [ 6.20032406e+00, -6.18220043e+00, -6.14872789e+00],\n",
       "        [ 5.88236904e+00, -5.85012293e+00, -5.93600702e+00],\n",
       "        [ 5.26982164e+00, -5.25429296e+00, -5.19142675e+00],\n",
       "        [ 5.26995301e-01, -5.59993505e-01, -5.78255475e-01],\n",
       "        [ 1.49432868e-01, -1.02206707e-01, -9.43527147e-02],\n",
       "        [ 2.77303481e+00, -2.84354830e+00, -2.75494123e+00],\n",
       "        [ 9.71156597e-01, -8.89195204e-01, -9.30073500e-01],\n",
       "        [ 1.57429159e-01, -1.28172278e-01, -1.03602841e-01],\n",
       "        [ 4.15560186e-01, -4.30431128e-01, -4.38209295e-01],\n",
       "        [ 3.42054272e+00, -3.35663033e+00, -3.44562697e+00],\n",
       "        [ 5.05869210e-01, -4.96581972e-01, -4.45221156e-01],\n",
       "        [ 2.88876295e-01, -2.72649884e-01, -2.93466777e-01],\n",
       "        [ 1.87921628e-01, -2.02465370e-01, -2.71575093e-01],\n",
       "        [ 1.20341413e-01, -1.40581802e-01, -1.14552513e-01],\n",
       "        [ 9.33862865e-01, -9.72923636e-01, -9.52175081e-01],\n",
       "        [ 1.58527732e+00, -1.63657033e+00, -1.60440350e+00],\n",
       "        [ 4.49667394e-01, -4.37935799e-01, -4.67995018e-01],\n",
       "        [ 8.03612709e-01, -8.55640411e-01, -8.17900002e-01],\n",
       "        [ 1.27422726e+00, -1.24792254e+00, -1.25800765e+00],\n",
       "        [ 2.40438059e-01, -2.20919415e-01, -2.30213568e-01],\n",
       "        [ 1.83244869e-01, -9.99592245e-02, -1.20095246e-01],\n",
       "        [ 3.12415540e-01, -3.47232223e-01, -2.89794952e-01],\n",
       "        [ 3.45864892e-01, -3.86234552e-01, -3.60875726e-01],\n",
       "        [ 9.73763838e-02, -1.57818392e-01, -1.16484180e-01],\n",
       "        [ 1.64676666e-01, -1.75582066e-01, -1.08576678e-01],\n",
       "        [ 1.21618696e-01, -1.11306243e-01, -1.32804945e-01],\n",
       "        [ 5.09732962e+00, -5.07145500e+00, -4.99127102e+00],\n",
       "        [ 6.91062164e+00, -6.91653442e+00, -6.80421543e+00],\n",
       "        [ 6.90778828e+00, -6.90002918e+00, -6.89115429e+00],\n",
       "        [ 8.94265845e-02, -1.07026778e-01, -1.71524137e-01],\n",
       "        [ 2.69698954e+00, -2.73810267e+00, -2.70645213e+00],\n",
       "        [ 6.89696932e+00, -6.90436077e+00, -6.83216524e+00],\n",
       "        [ 4.49473476e+00, -4.55357599e+00, -4.52977753e+00],\n",
       "        [-2.88794708e+00,  2.85467076e+00,  2.85126162e+00],\n",
       "        [-1.71243250e-02,  4.49473178e-03,  2.69567152e-03],\n",
       "        [ 8.51448029e-02, -1.30432472e-01, -1.74668461e-01],\n",
       "        [ 7.94887781e+00, -8.00136948e+00, -7.97562504e+00],\n",
       "        [-2.03944091e-02,  5.48176840e-03, -3.57288606e-02]], dtype=float32)]"
      ]
     },
     "execution_count": 143,
     "metadata": {},
     "output_type": "execute_result"
    }
   ],
   "source": [
    "model.get_layer(\"Vendor_Specific_Tags\").get_weights()"
   ]
  },
  {
   "cell_type": "code",
   "execution_count": 144,
   "metadata": {},
   "outputs": [
    {
     "data": {
      "text/html": [
       "<div>\n",
       "<style scoped>\n",
       "    .dataframe tbody tr th:only-of-type {\n",
       "        vertical-align: middle;\n",
       "    }\n",
       "\n",
       "    .dataframe tbody tr th {\n",
       "        vertical-align: top;\n",
       "    }\n",
       "\n",
       "    .dataframe thead th {\n",
       "        text-align: right;\n",
       "    }\n",
       "</style>\n",
       "<table border=\"1\" class=\"dataframe\">\n",
       "  <thead>\n",
       "    <tr style=\"text-align: right;\">\n",
       "      <th></th>\n",
       "      <th>Vendor_Specific_Tags_index</th>\n",
       "      <th>Vendor_Specific_Tags_0</th>\n",
       "      <th>Vendor_Specific_Tags_1</th>\n",
       "      <th>Vendor_Specific_Tags_2</th>\n",
       "    </tr>\n",
       "  </thead>\n",
       "  <tbody>\n",
       "    <tr>\n",
       "      <th>0</th>\n",
       "      <td>0</td>\n",
       "      <td>5.183133</td>\n",
       "      <td>-5.154472</td>\n",
       "      <td>-5.161465</td>\n",
       "    </tr>\n",
       "    <tr>\n",
       "      <th>1</th>\n",
       "      <td>1</td>\n",
       "      <td>6.579042</td>\n",
       "      <td>-6.478320</td>\n",
       "      <td>-6.586235</td>\n",
       "    </tr>\n",
       "    <tr>\n",
       "      <th>2</th>\n",
       "      <td>2</td>\n",
       "      <td>1.228706</td>\n",
       "      <td>-1.193580</td>\n",
       "      <td>-1.160487</td>\n",
       "    </tr>\n",
       "    <tr>\n",
       "      <th>3</th>\n",
       "      <td>3</td>\n",
       "      <td>7.294493</td>\n",
       "      <td>-7.263945</td>\n",
       "      <td>-7.278458</td>\n",
       "    </tr>\n",
       "    <tr>\n",
       "      <th>4</th>\n",
       "      <td>4</td>\n",
       "      <td>4.088111</td>\n",
       "      <td>-4.080647</td>\n",
       "      <td>-4.095025</td>\n",
       "    </tr>\n",
       "    <tr>\n",
       "      <th>...</th>\n",
       "      <td>...</td>\n",
       "      <td>...</td>\n",
       "      <td>...</td>\n",
       "      <td>...</td>\n",
       "    </tr>\n",
       "    <tr>\n",
       "      <th>59</th>\n",
       "      <td>59</td>\n",
       "      <td>-2.887947</td>\n",
       "      <td>2.854671</td>\n",
       "      <td>2.851262</td>\n",
       "    </tr>\n",
       "    <tr>\n",
       "      <th>60</th>\n",
       "      <td>60</td>\n",
       "      <td>-0.017124</td>\n",
       "      <td>0.004495</td>\n",
       "      <td>0.002696</td>\n",
       "    </tr>\n",
       "    <tr>\n",
       "      <th>61</th>\n",
       "      <td>61</td>\n",
       "      <td>0.085145</td>\n",
       "      <td>-0.130432</td>\n",
       "      <td>-0.174668</td>\n",
       "    </tr>\n",
       "    <tr>\n",
       "      <th>62</th>\n",
       "      <td>62</td>\n",
       "      <td>7.948878</td>\n",
       "      <td>-8.001369</td>\n",
       "      <td>-7.975625</td>\n",
       "    </tr>\n",
       "    <tr>\n",
       "      <th>63</th>\n",
       "      <td>63</td>\n",
       "      <td>-0.020394</td>\n",
       "      <td>0.005482</td>\n",
       "      <td>-0.035729</td>\n",
       "    </tr>\n",
       "  </tbody>\n",
       "</table>\n",
       "<p>64 rows × 4 columns</p>\n",
       "</div>"
      ],
      "text/plain": [
       "    Vendor_Specific_Tags_index  Vendor_Specific_Tags_0  \\\n",
       "0                            0                5.183133   \n",
       "1                            1                6.579042   \n",
       "2                            2                1.228706   \n",
       "3                            3                7.294493   \n",
       "4                            4                4.088111   \n",
       "..                         ...                     ...   \n",
       "59                          59               -2.887947   \n",
       "60                          60               -0.017124   \n",
       "61                          61                0.085145   \n",
       "62                          62                7.948878   \n",
       "63                          63               -0.020394   \n",
       "\n",
       "    Vendor_Specific_Tags_1  Vendor_Specific_Tags_2  \n",
       "0                -5.154472               -5.161465  \n",
       "1                -6.478320               -6.586235  \n",
       "2                -1.193580               -1.160487  \n",
       "3                -7.263945               -7.278458  \n",
       "4                -4.080647               -4.095025  \n",
       "..                     ...                     ...  \n",
       "59                2.854671                2.851262  \n",
       "60                0.004495                0.002696  \n",
       "61               -0.130432               -0.174668  \n",
       "62               -8.001369               -7.975625  \n",
       "63                0.005482               -0.035729  \n",
       "\n",
       "[64 rows x 4 columns]"
      ]
     },
     "execution_count": 144,
     "metadata": {},
     "output_type": "execute_result"
    }
   ],
   "source": [
    "# Get weights from the embedding layer\n",
    "cat_emb_df = pd.DataFrame(\n",
    "    model.get_layer(\"Vendor_Specific_Tags\").get_weights()[0]\n",
    ").reset_index()\n",
    "\n",
    "# Add prefix to the embedding names\n",
    "cat_emb_df = cat_emb_df.add_prefix(\"Vendor_Specific_Tags_\")\n",
    "\n",
    "# Take a look at the data\n",
    "cat_emb_df"
   ]
  }
 ],
 "metadata": {
  "kernelspec": {
   "display_name": ".venv",
   "language": "python",
   "name": "python3"
  },
  "language_info": {
   "codemirror_mode": {
    "name": "ipython",
    "version": 3
   },
   "file_extension": ".py",
   "mimetype": "text/x-python",
   "name": "python",
   "nbconvert_exporter": "python",
   "pygments_lexer": "ipython3",
   "version": "3.11.7"
  }
 },
 "nbformat": 4,
 "nbformat_minor": 2
}
